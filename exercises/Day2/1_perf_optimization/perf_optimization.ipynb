{
 "cells": [
  {
   "cell_type": "markdown",
   "metadata": {},
   "source": [
    "# Exercise: Performance Optimization"
   ]
  },
  {
   "cell_type": "markdown",
   "metadata": {},
   "source": [
    "Optimize the following function."
   ]
  },
  {
   "cell_type": "code",
   "execution_count": null,
   "metadata": {
    "tags": []
   },
   "outputs": [],
   "source": [
    "function work!(A, B, v)\n",
    "    val = zero(eltype(v))\n",
    "    for i in 1:N\n",
    "        val = mod(v[i],256)\n",
    "        A[i,1:N] = B[i,1:N] * (sin(val) * sin(val) - cos(val) * cos(val))\n",
    "    end\n",
    "    A = A/2\n",
    "    return A\n",
    "end"
   ]
  },
  {
   "cell_type": "markdown",
   "metadata": {},
   "source": [
    "The following data is **fixed** and **not supposed to be modified**!"
   ]
  },
  {
   "cell_type": "code",
   "execution_count": null,
   "metadata": {
    "tags": []
   },
   "outputs": [],
   "source": [
    "# do not modify this cell!\n",
    "\n",
    "using Random\n",
    "Random.seed!(42)\n",
    "\n",
    "N = 8000\n",
    "B = rand(N,N)\n",
    "v = rand(Int, N);\n",
    "\n",
    "const result = work!(zeros(N,N), B, v);\n",
    "\n",
    "# do not modify this cell!"
   ]
  },
  {
   "cell_type": "markdown",
   "metadata": {},
   "source": [
    "You can compare against `A_result` to test your implementation(s):"
   ]
  },
  {
   "cell_type": "code",
   "execution_count": null,
   "metadata": {
    "tags": []
   },
   "outputs": [],
   "source": [
    "using Test\n",
    "\n",
    "@test work!(zeros(N,N), B, v) ≈ result"
   ]
  },
  {
   "cell_type": "markdown",
   "metadata": {},
   "source": [
    "You can benchmark as follows:"
   ]
  },
  {
   "cell_type": "code",
   "execution_count": null,
   "metadata": {
    "tags": []
   },
   "outputs": [],
   "source": [
    "using BenchmarkTools\n",
    "\n",
    "@btime work!(A, $B, $v) setup=(A=zeros(N,N)); # or use @benchmark for more information"
   ]
  },
  {
   "cell_type": "markdown",
   "metadata": {},
   "source": [
    "## Your Optimizations"
   ]
  },
  {
   "cell_type": "markdown",
   "metadata": {},
   "source": [
    "Your optimized variants go here!\n",
    "\n",
    "**Comments:**\n",
    "\n",
    "* Improving the code doesn't necessarily give a noticable speedup immediately but it will enable further optimization.\n",
    "* On my machine, I could reach a ~30x speedup.\n",
    "\n",
    "<details>\n",
    "\n",
    "<summary><b>Hints</b> (click to unfold)</summary>\n",
    "\n",
    "* Try to look for type instabilities (with `@code_warntype`).\n",
    "* Try to avoid unnecessary allocations (keyword: slicing).\n",
    "* Try to optimize the memory access (keyword: column-major order).\n",
    "* Bonus: Simplify the algebra by using a trigonometric identity.\n",
    "\n",
    "</details>"
   ]
  },
  {
   "cell_type": "code",
   "execution_count": null,
   "metadata": {},
   "outputs": [],
   "source": [
    "# Your variants go here..."
   ]
  },
  {
   "cell_type": "code",
   "execution_count": null,
   "metadata": {},
   "outputs": [],
   "source": []
  },
  {
   "cell_type": "code",
   "execution_count": null,
   "metadata": {},
   "outputs": [],
   "source": []
  },
  {
   "cell_type": "code",
   "execution_count": null,
   "metadata": {},
   "outputs": [],
   "source": []
  },
  {
   "cell_type": "markdown",
   "metadata": {},
   "source": [
    "## Bonus Question: Performance limit?\n",
    "\n",
    "Look at your final optimized version of `work!`.\n",
    "\n",
    "* In the limit of larger `A` and `B`, what is conceptually limiting the performance, the compute capability or memory transfer (i.e. reading and writing `A` and `B`)?"
   ]
  },
  {
   "cell_type": "markdown",
   "metadata": {},
   "source": [
    "Let's try to quickly estimate the maximal memory bandwidth that a single-CPU core can achieve on the given computer:"
   ]
  },
  {
   "cell_type": "code",
   "execution_count": null,
   "metadata": {},
   "outputs": [],
   "source": [
    "using STREAMBenchmark\n",
    "membw = memory_bandwidth(; nthreads=1).median / 1000 # memory bandwidth in GB /s"
   ]
  },
  {
   "cell_type": "markdown",
   "metadata": {},
   "source": [
    "For references, a single CPU-core in [Noctua 2](https://pc2.uni-paderborn.de/systems-and-services/noctua-2) can achieve a **maximal memory bandwidth of ~45 GB/s**."
   ]
  },
  {
   "cell_type": "markdown",
   "metadata": {},
   "source": [
    "* Given the maximal memory bandwidth, can you give a performance bound estimate, i.e. the minimal runtime that we could possibly hope to achieve?\n",
    "  * Hint: how many flops are performed per iteration and how many bytes are transferred?\n",
    "* How far off is your implementation from achieving the limit (in percent)?"
   ]
  },
  {
   "cell_type": "code",
   "execution_count": null,
   "metadata": {},
   "outputs": [],
   "source": [
    "# Your computation goes here..."
   ]
  }
 ],
 "metadata": {
  "@webio": {
   "lastCommId": null,
   "lastKernelId": null
  },
  "kernelspec": {
   "display_name": "Julia 1.10.5",
   "language": "julia",
   "name": "julia-1.10"
  },
  "language_info": {
   "file_extension": ".jl",
   "mimetype": "application/julia",
   "name": "julia",
   "version": "1.10.5"
  }
 },
 "nbformat": 4,
 "nbformat_minor": 4
}
