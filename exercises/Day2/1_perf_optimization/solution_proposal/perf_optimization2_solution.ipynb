{
 "cells": [
  {
   "cell_type": "markdown",
   "metadata": {},
   "source": [
    "# Exercise: Performance Optimization 2"
   ]
  },
  {
   "cell_type": "markdown",
   "metadata": {},
   "source": [
    "Optimize the following function."
   ]
  },
  {
   "cell_type": "code",
   "execution_count": 1,
   "metadata": {
    "tags": []
   },
   "outputs": [
    {
     "data": {
      "text/plain": [
       "work! (generic function with 1 method)"
      ]
     },
     "execution_count": 1,
     "metadata": {},
     "output_type": "execute_result"
    }
   ],
   "source": [
    "function work!(A, B, v, N)\n",
    "    val = zero(eltype(v))\n",
    "    for i in 1:N\n",
    "        for j in 1:N\n",
    "            val = mod(v[i],256)\n",
    "            A[i,j] = B[i,j] * (sin(val) * sin(val) - cos(val) * cos(val))\n",
    "        end\n",
    "    end\n",
    "    return A\n",
    "end"
   ]
  },
  {
   "cell_type": "markdown",
   "metadata": {},
   "source": [
    "The following data is **fixed** and **not supposed to be modified**!"
   ]
  },
  {
   "cell_type": "code",
   "execution_count": 2,
   "metadata": {
    "tags": []
   },
   "outputs": [],
   "source": [
    "using Random\n",
    "Random.seed!(42)\n",
    "\n",
    "const N = 4000\n",
    "const A = zeros(N,N)\n",
    "const B = rand(N,N)\n",
    "const v = rand(Int, N);\n",
    "\n",
    "const A_result = work!(A,B,v,N);"
   ]
  },
  {
   "cell_type": "markdown",
   "metadata": {},
   "source": [
    "You can compare against `A_result` to test your implementation(s):"
   ]
  },
  {
   "cell_type": "code",
   "execution_count": 3,
   "metadata": {
    "tags": []
   },
   "outputs": [
    {
     "data": {
      "text/plain": [
       "\u001b[32m\u001b[1mTest Passed\u001b[22m\u001b[39m"
      ]
     },
     "execution_count": 3,
     "metadata": {},
     "output_type": "execute_result"
    }
   ],
   "source": [
    "using Test\n",
    "\n",
    "@test work!(A,B,v,N) ≈ A_result"
   ]
  },
  {
   "cell_type": "markdown",
   "metadata": {},
   "source": [
    "You can benchmark as follows:"
   ]
  },
  {
   "cell_type": "code",
   "execution_count": 4,
   "metadata": {
    "tags": []
   },
   "outputs": [
    {
     "name": "stdout",
     "output_type": "stream",
     "text": [
      "  462.066 ms (0 allocations: 0 bytes)\n"
     ]
    }
   ],
   "source": [
    "using BenchmarkTools\n",
    "\n",
    "@btime work!($A, $B, $v, $N); # or use @benchmark for more information"
   ]
  },
  {
   "cell_type": "markdown",
   "metadata": {},
   "source": [
    "## Your Optimizations"
   ]
  },
  {
   "cell_type": "markdown",
   "metadata": {},
   "source": [
    "Your optimized variants go here!\n",
    "\n",
    "**Hints** (hopefully):\n",
    "* What is suboptimal about the code? What is it that you'd want to change (but can't directly)?\n",
    "* Sometimes writing the code in a different way doesn't give direct speedups but enables further optimization.\n",
    "* A >30x speedup should be possible on Noctua 2 😉"
   ]
  },
  {
   "cell_type": "markdown",
   "metadata": {},
   "source": [
    "### Analytic optimization"
   ]
  },
  {
   "cell_type": "markdown",
   "metadata": {},
   "source": [
    "Trigonometric identity"
   ]
  },
  {
   "cell_type": "code",
   "execution_count": 5,
   "metadata": {
    "tags": []
   },
   "outputs": [
    {
     "data": {
      "text/plain": [
       "\u001b[32m\u001b[1mTest Passed\u001b[22m\u001b[39m"
      ]
     },
     "execution_count": 5,
     "metadata": {},
     "output_type": "execute_result"
    }
   ],
   "source": [
    "x = rand()\n",
    "@test sin(x) * sin(x) - cos(x) * cos(x) ≈ -cos(2*x)"
   ]
  },
  {
   "cell_type": "code",
   "execution_count": 6,
   "metadata": {
    "tags": []
   },
   "outputs": [
    {
     "name": "stdout",
     "output_type": "stream",
     "text": [
      "  146.684 ms (0 allocations: 0 bytes)\n"
     ]
    },
    {
     "data": {
      "text/plain": [
       "\u001b[32m\u001b[1mTest Passed\u001b[22m\u001b[39m"
      ]
     },
     "execution_count": 6,
     "metadata": {},
     "output_type": "execute_result"
    }
   ],
   "source": [
    "function work2!(A, B, v, N)\n",
    "    val = zero(eltype(v))\n",
    "    for i in 1:N\n",
    "        for j in 1:N\n",
    "            val = mod(v[i],256)\n",
    "            A[i,j] = B[i,j] * (-cos(2*val))\n",
    "        end\n",
    "    end\n",
    "    return A\n",
    "end\n",
    "\n",
    "@btime work2!($A, $B, $v, $N)\n",
    "@test work2!(A, B, v, N) ≈ A_result"
   ]
  },
  {
   "cell_type": "markdown",
   "metadata": {},
   "source": [
    "### Moving `val` computation"
   ]
  },
  {
   "cell_type": "code",
   "execution_count": 7,
   "metadata": {
    "tags": []
   },
   "outputs": [
    {
     "name": "stdout",
     "output_type": "stream",
     "text": [
      "  55.109 ms (0 allocations: 0 bytes)\n"
     ]
    },
    {
     "data": {
      "text/plain": [
       "\u001b[32m\u001b[1mTest Passed\u001b[22m\u001b[39m"
      ]
     },
     "execution_count": 7,
     "metadata": {},
     "output_type": "execute_result"
    }
   ],
   "source": [
    "function work3!(A, B, v, N)\n",
    "    val = zero(eltype(B))\n",
    "    for i in 1:N\n",
    "        val = -cos(2*mod(v[i],256))\n",
    "        for j in 1:N\n",
    "            A[i,j] = B[i,j] * val\n",
    "        end\n",
    "    end\n",
    "    return A\n",
    "end\n",
    "\n",
    "@btime work3!($A, $B, $v, $N)\n",
    "@test work3!(A, B, v, N) ≈ A_result"
   ]
  },
  {
   "cell_type": "markdown",
   "metadata": {},
   "source": [
    "### Separating `val` computation"
   ]
  },
  {
   "cell_type": "code",
   "execution_count": 8,
   "metadata": {
    "tags": []
   },
   "outputs": [
    {
     "name": "stdout",
     "output_type": "stream",
     "text": [
      "  53.968 ms (2 allocations: 31.30 KiB)\n"
     ]
    },
    {
     "data": {
      "text/plain": [
       "\u001b[32m\u001b[1mTest Passed\u001b[22m\u001b[39m"
      ]
     },
     "execution_count": 8,
     "metadata": {},
     "output_type": "execute_result"
    }
   ],
   "source": [
    "function work4!(A, B, v, N)\n",
    "    val = [-cos(2*mod(x,256)) for x in v]\n",
    "    \n",
    "    for i in 1:N\n",
    "        for j in 1:N\n",
    "            A[i,j] = B[i,j] * val[i]\n",
    "        end\n",
    "    end\n",
    "    return A\n",
    "end\n",
    "\n",
    "@btime work4!($A, $B, $v, $N)\n",
    "@test work4!(A, B, v, N) ≈ A_result"
   ]
  },
  {
   "cell_type": "markdown",
   "metadata": {},
   "source": [
    "### Switch loop order"
   ]
  },
  {
   "cell_type": "code",
   "execution_count": 9,
   "metadata": {
    "tags": []
   },
   "outputs": [
    {
     "name": "stdout",
     "output_type": "stream",
     "text": [
      "  12.011 ms (2 allocations: 31.30 KiB)\n"
     ]
    },
    {
     "data": {
      "text/plain": [
       "\u001b[32m\u001b[1mTest Passed\u001b[22m\u001b[39m"
      ]
     },
     "execution_count": 9,
     "metadata": {},
     "output_type": "execute_result"
    }
   ],
   "source": [
    "function work5!(A, B, v, N)\n",
    "    val = [-cos(2*mod(x,256)) for x in v]\n",
    "    \n",
    "    for j in 1:N\n",
    "        for i in 1:N\n",
    "            A[i,j] = B[i,j] * val[i]\n",
    "        end\n",
    "    end\n",
    "    return A\n",
    "end\n",
    "\n",
    "@btime work5!($A, $B, $v, $N)\n",
    "@test work5!(A, B, v, N) ≈ A_result"
   ]
  },
  {
   "cell_type": "markdown",
   "metadata": {},
   "source": [
    "### `@inbounds`"
   ]
  },
  {
   "cell_type": "code",
   "execution_count": 10,
   "metadata": {
    "tags": []
   },
   "outputs": [
    {
     "name": "stdout",
     "output_type": "stream",
     "text": [
      "  9.308 ms (2 allocations: 31.30 KiB)\n"
     ]
    },
    {
     "data": {
      "text/plain": [
       "\u001b[32m\u001b[1mTest Passed\u001b[22m\u001b[39m"
      ]
     },
     "execution_count": 10,
     "metadata": {},
     "output_type": "execute_result"
    }
   ],
   "source": [
    "function work6!(A, B, v, N)\n",
    "    val = [-cos(2*mod(x,256)) for x in v]\n",
    "    \n",
    "    for j in 1:N\n",
    "        for i in 1:N\n",
    "            @inbounds A[i,j] = B[i,j] * val[i]\n",
    "        end\n",
    "    end\n",
    "    return A\n",
    "end\n",
    "\n",
    "@btime work6!($A, $B, $v, $N)\n",
    "@test work6!(A, B, v, N) ≈ A_result"
   ]
  },
  {
   "cell_type": "markdown",
   "metadata": {
    "tags": []
   },
   "source": [
    "### Preallocated buffer"
   ]
  },
  {
   "cell_type": "code",
   "execution_count": 11,
   "metadata": {
    "tags": []
   },
   "outputs": [
    {
     "name": "stdout",
     "output_type": "stream",
     "text": [
      "  9.313 ms (0 allocations: 0 bytes)\n"
     ]
    },
    {
     "data": {
      "text/plain": [
       "\u001b[32m\u001b[1mTest Passed\u001b[22m\u001b[39m"
      ]
     },
     "execution_count": 11,
     "metadata": {},
     "output_type": "execute_result"
    }
   ],
   "source": [
    "function work7!(A, B, v, N; valbuffer)\n",
    "    @assert length(v) == length(valbuffer)\n",
    "    \n",
    "    for i in eachindex(v)\n",
    "        @inbounds valbuffer[i] = -cos(2*mod(v[i],256))\n",
    "    end\n",
    "    \n",
    "    for j in 1:N\n",
    "        for i in 1:N\n",
    "            @inbounds A[i,j] = B[i,j] * valbuffer[i]\n",
    "        end\n",
    "    end\n",
    "    return A\n",
    "end\n",
    "\n",
    "@btime work7!($A, $B, $v, $N; valbuffer) setup = (valbuffer = zeros(length(v)))\n",
    "@test work7!(A, B, v, N; valbuffer=zeros(length(v))) ≈ A_result"
   ]
  },
  {
   "cell_type": "markdown",
   "metadata": {},
   "source": [
    "## Bonus Question: Performance limit?\n",
    "\n",
    "Look at your final optimized version of `work!`.\n",
    "\n",
    "* What is conceptually limiting the performance, the compute capability or memory transfer?\n",
    "* Assuming that a single CPU-core in Noctua 2 can achieve a **maximal memory bandwidth of ~45 GB/s**, can you give a performance bound estimate, i.e. the minimal runtime that we could possibly hope to achieve?\n",
    "  * Hint: how many flops are performed per iteration and how many bytes are transferred?\n",
    "* How far off is your implementation from achieving the limit (in percent)?"
   ]
  },
  {
   "cell_type": "code",
   "execution_count": 12,
   "metadata": {},
   "outputs": [
    {
     "name": "stdout",
     "output_type": "stream",
     "text": [
      "Performance bound: 1.88 GFLOP/s\n",
      "Runtime estimate: 8.53 ms\n"
     ]
    }
   ],
   "source": [
    "membw = 45 # GB/s\n",
    "flops = 1 # flops per iteration\n",
    "traffic = 3*8 # bytes per iteration\n",
    "I = flops / traffic # flops / byte\n",
    "\n",
    "perf_bound = I*membw # GFLOPS\n",
    "runtime_estimate = N^2 * 1e3 / (perf_bound * 1e9) # in ms\n",
    "\n",
    "println(\"Performance bound: \", round(perf_bound, digits=2), \" GFLOP/s\")\n",
    "println(\"Runtime estimate: \", round(runtime_estimate, digits=2), \" ms\")"
   ]
  },
  {
   "cell_type": "code",
   "execution_count": 13,
   "metadata": {},
   "outputs": [
    {
     "name": "stdout",
     "output_type": "stream",
     "text": [
      "My best version achieves 91.79% of the \"theoretical\" limit.\n"
     ]
    }
   ],
   "source": [
    "t_work7 = @belapsed work7!($A, $B, $v, $N; valbuffer) setup = (valbuffer = zeros(length(v)))\n",
    "ratio = runtime_estimate / (t_work7 * 1e3)\n",
    "println(\"My best version achieves \", round(ratio * 100, digits=2), \"% of the \\\"theoretical\\\" limit.\")"
   ]
  }
 ],
 "metadata": {
  "@webio": {
   "lastCommId": null,
   "lastKernelId": null
  },
  "kernelspec": {
   "display_name": "Julia (1 thread) 1.10.0",
   "language": "julia",
   "name": "julia-_1-thread_-1.10"
  },
  "language_info": {
   "file_extension": ".jl",
   "mimetype": "application/julia",
   "name": "julia",
   "version": "1.10.0"
  }
 },
 "nbformat": 4,
 "nbformat_minor": 4
}
