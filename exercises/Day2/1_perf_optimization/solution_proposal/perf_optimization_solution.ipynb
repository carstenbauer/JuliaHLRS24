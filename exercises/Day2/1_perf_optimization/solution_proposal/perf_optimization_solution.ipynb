{
 "cells": [
  {
   "cell_type": "markdown",
   "metadata": {},
   "source": [
    "# Exercise: Performance Optimization"
   ]
  },
  {
   "cell_type": "markdown",
   "metadata": {},
   "source": [
    "Optimize the following function."
   ]
  },
  {
   "cell_type": "code",
   "execution_count": 1,
   "metadata": {
    "tags": []
   },
   "outputs": [
    {
     "data": {
      "text/plain": [
       "work! (generic function with 1 method)"
      ]
     },
     "execution_count": 1,
     "metadata": {},
     "output_type": "execute_result"
    }
   ],
   "source": [
    "function work!(A, B, v)\n",
    "    val = zero(eltype(v))\n",
    "    for i in 1:N\n",
    "        val = mod(v[i],256)\n",
    "        A[i,1:N] = B[i,1:N] * (sin(val) * sin(val) - cos(val) * cos(val))\n",
    "    end\n",
    "    A = A/2\n",
    "    return A\n",
    "end"
   ]
  },
  {
   "cell_type": "markdown",
   "metadata": {},
   "source": [
    "The following data is **fixed** and **not supposed to be modified**!"
   ]
  },
  {
   "cell_type": "code",
   "execution_count": 2,
   "metadata": {
    "tags": []
   },
   "outputs": [],
   "source": [
    "# do not modify this cell!\n",
    "\n",
    "using Random\n",
    "Random.seed!(42)\n",
    "\n",
    "N = 8000\n",
    "B = rand(N,N)\n",
    "v = rand(Int, N);\n",
    "\n",
    "const result = work!(zeros(N,N), B, v);\n",
    "\n",
    "# do not modify this cell!"
   ]
  },
  {
   "cell_type": "markdown",
   "metadata": {},
   "source": [
    "You can compare against `A_result` to test your implementation(s):"
   ]
  },
  {
   "cell_type": "code",
   "execution_count": 3,
   "metadata": {
    "tags": []
   },
   "outputs": [
    {
     "data": {
      "text/plain": [
       "\u001b[32m\u001b[1mTest Passed\u001b[22m\u001b[39m"
      ]
     },
     "execution_count": 3,
     "metadata": {},
     "output_type": "execute_result"
    }
   ],
   "source": [
    "using Test\n",
    "\n",
    "@test work!(zeros(N,N), B, v) ≈ result"
   ]
  },
  {
   "cell_type": "markdown",
   "metadata": {},
   "source": [
    "You can benchmark as follows:"
   ]
  },
  {
   "cell_type": "code",
   "execution_count": 4,
   "metadata": {
    "tags": []
   },
   "outputs": [
    {
     "name": "stdout",
     "output_type": "stream",
     "text": [
      "  2.826 s (134981 allocations: 1.43 GiB)\n"
     ]
    }
   ],
   "source": [
    "using BenchmarkTools\n",
    "\n",
    "@btime work!(A, $B, $v) setup=(A=zeros(N,N)); # or use @benchmark for more information"
   ]
  },
  {
   "cell_type": "markdown",
   "metadata": {},
   "source": [
    "## Your Optimizations"
   ]
  },
  {
   "cell_type": "markdown",
   "metadata": {},
   "source": [
    "Your optimized variants go here!\n",
    "\n",
    "**Comments:**\n",
    "\n",
    "* Improving the code doesn't necessarily give a noticable speedup immediately but it will enable further optimization.\n",
    "* On my machine, I could reach a > 30x speedup.\n",
    "\n",
    "<details>\n",
    "\n",
    "<summary><b>Hints</b> (click to unfold)</summary>\n",
    "\n",
    "* Try to look for type instabilities (with `@code_warntype`).\n",
    "* Try to avoid unnecessary allocations (due to slicing and allocating array computations).\n",
    "* Try to optimize the memory access (keyword: column-major order).\n",
    "* Bonus: Simplify the algebra by using a trigonometric identity.\n",
    "\n",
    "</details>"
   ]
  },
  {
   "cell_type": "markdown",
   "metadata": {},
   "source": [
    "### Fixing the type instability (accessing global `N`)"
   ]
  },
  {
   "cell_type": "code",
   "execution_count": 5,
   "metadata": {},
   "outputs": [
    {
     "name": "stdout",
     "output_type": "stream",
     "text": [
      "MethodInstance for work!(::Matrix{Float64}, ::Matrix{Float64}, ::Vector{Int64})\n",
      "  from work!(\u001b[90mA\u001b[39m, \u001b[90mB\u001b[39m, \u001b[90mv\u001b[39m)\u001b[90m @\u001b[39m \u001b[90mMain\u001b[39m \u001b[90m\u001b[4mIn[1]:1\u001b[24m\u001b[39m\n",
      "Arguments\n",
      "  #self#\u001b[36m::Core.Const(work!)\u001b[39m\n",
      "  A@_2\u001b[36m::Matrix{Float64}\u001b[39m\n",
      "  B\u001b[36m::Matrix{Float64}\u001b[39m\n",
      "  v\u001b[36m::Vector{Int64}\u001b[39m\n",
      "Locals\n",
      "  @_5\u001b[91m\u001b[1m::Any\u001b[22m\u001b[39m\n",
      "  val\u001b[91m\u001b[1m::Any\u001b[22m\u001b[39m\n",
      "  i\u001b[91m\u001b[1m::Any\u001b[22m\u001b[39m\n",
      "  A@_8\u001b[36m::Matrix{Float64}\u001b[39m\n",
      "Body\u001b[36m::Matrix{Float64}\u001b[39m\n",
      "\u001b[90m1 ─\u001b[39m       (A@_8 = A@_2)\n",
      "\u001b[90m│  \u001b[39m %2  = Main.eltype(v)\u001b[36m::Core.Const(Int64)\u001b[39m\n",
      "\u001b[90m│  \u001b[39m       (val = Main.zero(%2))\n",
      "\u001b[90m│  \u001b[39m %4  = (1:Main.N)\u001b[91m\u001b[1m::Any\u001b[22m\u001b[39m\n",
      "\u001b[90m│  \u001b[39m       (@_5 = Base.iterate(%4))\n",
      "\u001b[90m│  \u001b[39m %6  = (@_5 === nothing)\u001b[36m::Bool\u001b[39m\n",
      "\u001b[90m│  \u001b[39m %7  = Base.not_int(%6)\u001b[36m::Bool\u001b[39m\n",
      "\u001b[90m└──\u001b[39m       goto #4 if not %7\n",
      "\u001b[90m2 ┄\u001b[39m %9  = @_5\u001b[91m\u001b[1m::Any\u001b[22m\u001b[39m\n",
      "\u001b[90m│  \u001b[39m       (i = Core.getfield(%9, 1))\n",
      "\u001b[90m│  \u001b[39m %11 = Core.getfield(%9, 2)\u001b[91m\u001b[1m::Any\u001b[22m\u001b[39m\n",
      "\u001b[90m│  \u001b[39m %12 = Base.getindex(v, i)\u001b[91m\u001b[1m::Any\u001b[22m\u001b[39m\n",
      "\u001b[90m│  \u001b[39m       (val = Main.mod(%12, 256))\n",
      "\u001b[90m│  \u001b[39m %14 = i\u001b[91m\u001b[1m::Any\u001b[22m\u001b[39m\n",
      "\u001b[90m│  \u001b[39m %15 = (1:Main.N)\u001b[91m\u001b[1m::Any\u001b[22m\u001b[39m\n",
      "\u001b[90m│  \u001b[39m %16 = Base.getindex(B, %14, %15)\u001b[91m\u001b[1m::Any\u001b[22m\u001b[39m\n",
      "\u001b[90m│  \u001b[39m %17 = Main.sin(val)\u001b[91m\u001b[1m::Any\u001b[22m\u001b[39m\n",
      "\u001b[90m│  \u001b[39m %18 = Main.sin(val)\u001b[91m\u001b[1m::Any\u001b[22m\u001b[39m\n",
      "\u001b[90m│  \u001b[39m %19 = (%17 * %18)\u001b[91m\u001b[1m::Any\u001b[22m\u001b[39m\n",
      "\u001b[90m│  \u001b[39m %20 = Main.cos(val)\u001b[91m\u001b[1m::Any\u001b[22m\u001b[39m\n",
      "\u001b[90m│  \u001b[39m %21 = Main.cos(val)\u001b[91m\u001b[1m::Any\u001b[22m\u001b[39m\n",
      "\u001b[90m│  \u001b[39m %22 = (%20 * %21)\u001b[91m\u001b[1m::Any\u001b[22m\u001b[39m\n",
      "\u001b[90m│  \u001b[39m %23 = (%19 - %22)\u001b[91m\u001b[1m::Any\u001b[22m\u001b[39m\n",
      "\u001b[90m│  \u001b[39m %24 = (%16 * %23)\u001b[91m\u001b[1m::Any\u001b[22m\u001b[39m\n",
      "\u001b[90m│  \u001b[39m %25 = A@_8\u001b[36m::Matrix{Float64}\u001b[39m\n",
      "\u001b[90m│  \u001b[39m %26 = i\u001b[91m\u001b[1m::Any\u001b[22m\u001b[39m\n",
      "\u001b[90m│  \u001b[39m %27 = (1:Main.N)\u001b[91m\u001b[1m::Any\u001b[22m\u001b[39m\n",
      "\u001b[90m│  \u001b[39m       Base.setindex!(%25, %24, %26, %27)\n",
      "\u001b[90m│  \u001b[39m       (@_5 = Base.iterate(%4, %11))\n",
      "\u001b[90m│  \u001b[39m %30 = (@_5 === nothing)\u001b[36m::Bool\u001b[39m\n",
      "\u001b[90m│  \u001b[39m %31 = Base.not_int(%30)\u001b[36m::Bool\u001b[39m\n",
      "\u001b[90m└──\u001b[39m       goto #4 if not %31\n",
      "\u001b[90m3 ─\u001b[39m       goto #2\n",
      "\u001b[90m4 ┄\u001b[39m       (A@_8 = A@_8 / 2)\n",
      "\u001b[90m└──\u001b[39m       return A@_8\n",
      "\n"
     ]
    }
   ],
   "source": [
    "@code_warntype work!(zeros(N,N), B, v)"
   ]
  },
  {
   "cell_type": "markdown",
   "metadata": {},
   "source": [
    "Get `N` from the size of `A` (or `B`) or add another function argument."
   ]
  },
  {
   "cell_type": "code",
   "execution_count": 6,
   "metadata": {},
   "outputs": [
    {
     "name": "stdout",
     "output_type": "stream",
     "text": [
      "  2.608 s (32002 allocations: 1.43 GiB)\n"
     ]
    },
    {
     "data": {
      "text/plain": [
       "\u001b[32m\u001b[1mTest Passed\u001b[22m\u001b[39m"
      ]
     },
     "execution_count": 6,
     "metadata": {},
     "output_type": "execute_result"
    }
   ],
   "source": [
    "function work1!(A, B, v)\n",
    "    N = size(A,1) # or additional function argument\n",
    "    val = zero(eltype(v))\n",
    "    for i in 1:N\n",
    "        val = -cos(2*mod(v[i],256))\n",
    "        A[i,1:N] = B[i,1:N] * val\n",
    "    end\n",
    "    A = A/2\n",
    "    return A\n",
    "end\n",
    "\n",
    "@btime work1!(A, $B, $v) setup=(A=zeros(N,N))\n",
    "@test work1!(zeros(N,N), B, v) ≈ result"
   ]
  },
  {
   "cell_type": "markdown",
   "metadata": {},
   "source": [
    "### Analytic optimization (style points 😉)"
   ]
  },
  {
   "cell_type": "markdown",
   "metadata": {},
   "source": [
    "Trigonometric identity"
   ]
  },
  {
   "cell_type": "code",
   "execution_count": 7,
   "metadata": {
    "tags": []
   },
   "outputs": [
    {
     "data": {
      "text/plain": [
       "\u001b[32m\u001b[1mTest Passed\u001b[22m\u001b[39m"
      ]
     },
     "execution_count": 7,
     "metadata": {},
     "output_type": "execute_result"
    }
   ],
   "source": [
    "x = rand()\n",
    "@test sin(x) * sin(x) - cos(x) * cos(x) ≈ -cos(2*x)"
   ]
  },
  {
   "cell_type": "code",
   "execution_count": 8,
   "metadata": {
    "tags": []
   },
   "outputs": [
    {
     "name": "stdout",
     "output_type": "stream",
     "text": [
      "  2.779 s (32002 allocations: 1.43 GiB)\n"
     ]
    },
    {
     "data": {
      "text/plain": [
       "\u001b[32m\u001b[1mTest Passed\u001b[22m\u001b[39m"
      ]
     },
     "execution_count": 8,
     "metadata": {},
     "output_type": "execute_result"
    }
   ],
   "source": [
    "function work2!(A, B, v)\n",
    "    N = size(A,1)\n",
    "    val = zero(eltype(v))\n",
    "    for i in 1:N\n",
    "        val = -cos(2*mod(v[i],256))\n",
    "        A[i,1:N] = B[i,1:N] * val\n",
    "    end\n",
    "    A = A/2\n",
    "    return A\n",
    "end\n",
    "\n",
    "@btime work2!(A, $B, $v) setup=(A=zeros(N,N))\n",
    "@test work2!(zeros(N,N), B, v) ≈ result"
   ]
  },
  {
   "cell_type": "markdown",
   "metadata": {},
   "source": [
    "### Avoid allocations due to slicing and allocating array arithmetic"
   ]
  },
  {
   "cell_type": "code",
   "execution_count": 9,
   "metadata": {},
   "outputs": [
    {
     "name": "stdout",
     "output_type": "stream",
     "text": [
      "  1.466 s (0 allocations: 0 bytes)\n"
     ]
    },
    {
     "data": {
      "text/plain": [
       "\u001b[32m\u001b[1mTest Passed\u001b[22m\u001b[39m"
      ]
     },
     "execution_count": 9,
     "metadata": {},
     "output_type": "execute_result"
    }
   ],
   "source": [
    "function work3_vectorized!(A, B, v)\n",
    "    N = size(A,1)\n",
    "    val = zero(eltype(v))\n",
    "    for i in 1:N\n",
    "        val = -cos(2*mod(v[i],256))*0.5 # moved the rescaling by 0.5 here\n",
    "        @views A[i,1:N] .= B[i,1:N] .* val # using @views and broadcasting here\n",
    "    end\n",
    "    return A\n",
    "end\n",
    "\n",
    "@btime work3_vectorized!(A, $B, $v) setup=(A=zeros(N,N))\n",
    "@test work3_vectorized!(zeros(N,N), B, v) ≈ result"
   ]
  },
  {
   "cell_type": "markdown",
   "metadata": {},
   "source": [
    "Same idea but explicit loop"
   ]
  },
  {
   "cell_type": "code",
   "execution_count": 10,
   "metadata": {},
   "outputs": [
    {
     "name": "stdout",
     "output_type": "stream",
     "text": [
      "  1.546 s (0 allocations: 0 bytes)\n"
     ]
    },
    {
     "data": {
      "text/plain": [
       "\u001b[32m\u001b[1mTest Passed\u001b[22m\u001b[39m"
      ]
     },
     "execution_count": 10,
     "metadata": {},
     "output_type": "execute_result"
    }
   ],
   "source": [
    "function work3_loop!(A, B, v)\n",
    "    N = size(A,1)\n",
    "    val = zero(eltype(v))\n",
    "    for i in 1:N\n",
    "        val = -cos(2*mod(v[i],256))*0.5\n",
    "        for j in 1:N\n",
    "            @inbounds A[i,j] = B[i,j] * val\n",
    "        end\n",
    "    end\n",
    "    return A\n",
    "end\n",
    "\n",
    "@btime work3_loop!(A, $B, $v) setup=(A=zeros(N,N))\n",
    "@test work3_loop!(zeros(N,N), B, v) ≈ result"
   ]
  },
  {
   "cell_type": "markdown",
   "metadata": {},
   "source": [
    "### Separating `val` computation"
   ]
  },
  {
   "cell_type": "code",
   "execution_count": 11,
   "metadata": {},
   "outputs": [
    {
     "name": "stdout",
     "output_type": "stream",
     "text": [
      "  1.721 s (2 allocations: 62.55 KiB)\n"
     ]
    },
    {
     "data": {
      "text/plain": [
       "\u001b[32m\u001b[1mTest Passed\u001b[22m\u001b[39m"
      ]
     },
     "execution_count": 11,
     "metadata": {},
     "output_type": "execute_result"
    }
   ],
   "source": [
    "function work4_vectorized!(A, B, v)\n",
    "    N = size(A,1)\n",
    "    val = @. -cos(2*mod(v,256))*0.5\n",
    "    \n",
    "    for i in 1:N\n",
    "        @views A[i,1:N] .= B[i,1:N] .* val[i]\n",
    "    end\n",
    "    return A\n",
    "end\n",
    "\n",
    "@btime work4_vectorized!(A, $B, $v) setup=(A=zeros(N,N))\n",
    "@test work4_vectorized!(zeros(N,N), B, v) ≈ result"
   ]
  },
  {
   "cell_type": "markdown",
   "metadata": {},
   "source": [
    "Same idea but explicit loop"
   ]
  },
  {
   "cell_type": "code",
   "execution_count": 12,
   "metadata": {
    "tags": []
   },
   "outputs": [
    {
     "name": "stdout",
     "output_type": "stream",
     "text": [
      "  1.533 s (2 allocations: 62.55 KiB)\n"
     ]
    },
    {
     "data": {
      "text/plain": [
       "\u001b[32m\u001b[1mTest Passed\u001b[22m\u001b[39m"
      ]
     },
     "execution_count": 12,
     "metadata": {},
     "output_type": "execute_result"
    }
   ],
   "source": [
    "function work4_loop!(A, B, v)\n",
    "    N = size(A,1)\n",
    "    val = @. -cos(2*mod(v,256))*0.5\n",
    "    \n",
    "    for i in 1:N\n",
    "        for j in 1:N\n",
    "            @inbounds A[i,j] = B[i,j] * val[i]\n",
    "        end\n",
    "    end\n",
    "    return A\n",
    "end\n",
    "\n",
    "@btime work4_loop!(A, $B, $v) setup=(A=zeros(N,N))\n",
    "@test work4_loop!(zeros(N,N), B, v) ≈ result"
   ]
  },
  {
   "cell_type": "markdown",
   "metadata": {},
   "source": [
    "### Switch loop order (!!!)"
   ]
  },
  {
   "cell_type": "code",
   "execution_count": 13,
   "metadata": {
    "tags": []
   },
   "outputs": [
    {
     "name": "stdout",
     "output_type": "stream",
     "text": [
      "  71.736 ms (2 allocations: 62.55 KiB)\n"
     ]
    },
    {
     "data": {
      "text/plain": [
       "\u001b[32m\u001b[1mTest Passed\u001b[22m\u001b[39m"
      ]
     },
     "execution_count": 13,
     "metadata": {},
     "output_type": "execute_result"
    }
   ],
   "source": [
    "function work5!(A, B, v)\n",
    "    N = size(A,1)\n",
    "    val = @. -cos(2*mod(v,256))*0.5\n",
    "    \n",
    "    for j in 1:N\n",
    "        for i in 1:N\n",
    "            @inbounds A[i,j] = B[i,j] * val[i]\n",
    "        end\n",
    "    end\n",
    "    return A\n",
    "end\n",
    "\n",
    "@btime work5!(A, $B, $v) setup=(A=zeros(N,N))\n",
    "@test work5!(zeros(N,N), B, v) ≈ result"
   ]
  },
  {
   "cell_type": "markdown",
   "metadata": {},
   "source": [
    "And here with broadcasting"
   ]
  },
  {
   "cell_type": "code",
   "execution_count": 14,
   "metadata": {},
   "outputs": [
    {
     "name": "stdout",
     "output_type": "stream",
     "text": [
      "  71.649 ms (2 allocations: 62.55 KiB)\n"
     ]
    },
    {
     "data": {
      "text/plain": [
       "\u001b[32m\u001b[1mTest Passed\u001b[22m\u001b[39m"
      ]
     },
     "execution_count": 14,
     "metadata": {},
     "output_type": "execute_result"
    }
   ],
   "source": [
    "function work5_broadcasting!(A, B, v)\n",
    "    val = @. -cos(2*mod(v,256))*0.5\n",
    "    @. A = B * val\n",
    "    return A\n",
    "end\n",
    "\n",
    "@btime work5_broadcasting!(A, $B, $v) setup=(A=zeros(N,N))\n",
    "@test work5_broadcasting!(zeros(N, N), B, v) ≈ result"
   ]
  },
  {
   "cell_type": "markdown",
   "metadata": {},
   "source": [
    "## Bonus Question: Performance limit?\n",
    "\n",
    "Look at your final optimized version of `work!`.\n",
    "\n",
    "* In the limit of larger `A` and `B`, what is conceptually limiting the performance, the compute capability or memory transfer (i.e. reading and writing `A` and `B`)?"
   ]
  },
  {
   "cell_type": "markdown",
   "metadata": {},
   "source": [
    "Let's try to quickly estimate the maximal memory bandwidth that a single-CPU core can achieve on the given computer:"
   ]
  },
  {
   "cell_type": "code",
   "execution_count": 15,
   "metadata": {},
   "outputs": [
    {
     "data": {
      "text/plain": [
       "31.524099999999997"
      ]
     },
     "execution_count": 15,
     "metadata": {},
     "output_type": "execute_result"
    }
   ],
   "source": [
    "using STREAMBenchmark\n",
    "membw = memory_bandwidth(; nthreads=1).median / 1000 # memory bandwidth in GB /s"
   ]
  },
  {
   "cell_type": "markdown",
   "metadata": {},
   "source": [
    "For references, a single CPU-core in [Noctua 2](https://pc2.uni-paderborn.de/systems-and-services/noctua-2) can achieve a **maximal memory bandwidth of ~45 GB/s**."
   ]
  },
  {
   "cell_type": "markdown",
   "metadata": {},
   "source": [
    "* Given the maximal memory bandwidth, can you give a performance bound estimate, i.e. the minimal runtime that we could possibly hope to achieve?\n",
    "  * Hint: how many flops are performed per iteration and how many bytes are transferred?\n",
    "* How far off is your implementation from achieving the limit (in percent)?"
   ]
  },
  {
   "cell_type": "code",
   "execution_count": 16,
   "metadata": {},
   "outputs": [
    {
     "name": "stdout",
     "output_type": "stream",
     "text": [
      "Performance bound: 1.31 GFLOP/s\n",
      "Runtime estimate: 48.72 ms\n"
     ]
    }
   ],
   "source": [
    "# membw = 45 # GB/s\n",
    "flops = 1 # flops per iteration\n",
    "traffic = 3*8 # bytes per iteration\n",
    "I = flops / traffic # flops / byte\n",
    "\n",
    "perf_bound = I*membw # GFLOPS\n",
    "runtime_estimate = N^2 * 1e3 / (perf_bound * 1e9) # in ms\n",
    "\n",
    "println(\"Performance bound: \", round(perf_bound, digits=2), \" GFLOP/s\")\n",
    "println(\"Runtime estimate: \", round(runtime_estimate, digits=2), \" ms\")"
   ]
  },
  {
   "cell_type": "code",
   "execution_count": 17,
   "metadata": {},
   "outputs": [
    {
     "name": "stdout",
     "output_type": "stream",
     "text": [
      "My best version achieves 69.03% of the limit.\n"
     ]
    }
   ],
   "source": [
    "t_work5 = @belapsed work5!(A, $B, $v) setup=(A=zeros(N,N))\n",
    "ratio = runtime_estimate / (t_work5 * 1e3)\n",
    "println(\"My best version achieves \", round(ratio * 100, digits=2), \"% of the limit.\")"
   ]
  }
 ],
 "metadata": {
  "@webio": {
   "lastCommId": null,
   "lastKernelId": null
  },
  "kernelspec": {
   "display_name": "Julia 1.10.5",
   "language": "julia",
   "name": "julia-1.10"
  },
  "language_info": {
   "file_extension": ".jl",
   "mimetype": "application/julia",
   "name": "julia",
   "version": "1.10.5"
  }
 },
 "nbformat": 4,
 "nbformat_minor": 4
}
