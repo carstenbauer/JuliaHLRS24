{
 "cells": [
  {
   "cell_type": "markdown",
   "id": "d062da1c-2716-4750-8f3c-95b0642f7cf1",
   "metadata": {},
   "source": [
    "## Exercise: Use LIKWID to Count FLOPs"
   ]
  },
  {
   "cell_type": "markdown",
   "id": "6cf6c652-bd6c-4a51-b834-a9e04190f74a",
   "metadata": {},
   "source": [
    "First, let's check that LIKWID is working. The following should work and print the supported LIKWID performance groups."
   ]
  },
  {
   "cell_type": "code",
   "execution_count": null,
   "id": "d85f0708-1d4e-4093-a58b-769caedac4cb",
   "metadata": {
    "tags": []
   },
   "outputs": [],
   "source": [
    "using LIKWID"
   ]
  },
  {
   "cell_type": "code",
   "execution_count": null,
   "id": "aa3cb648-787a-4eee-9342-e7a09fa432fd",
   "metadata": {
    "tags": []
   },
   "outputs": [],
   "source": [
    "PerfMon.supported_groups()"
   ]
  },
  {
   "cell_type": "markdown",
   "id": "1d4c6fdf-5b39-4dd8-894d-79e51cce7bee",
   "metadata": {
    "tags": []
   },
   "source": [
    "Great, you're set up!\n",
    "\n",
    "**You can find the instructions for this exercise/tutorial here:**   \n",
    "https://juliaperf.github.io/LIKWID.jl/dev/tutorials/counting_flops/"
   ]
  },
  {
   "cell_type": "code",
   "execution_count": null,
   "id": "6d13a52c-5252-48bb-b052-5d9b8614a82b",
   "metadata": {
    "tags": []
   },
   "outputs": [],
   "source": [
    "# ...Your code goes here..."
   ]
  }
 ],
 "metadata": {
  "kernelspec": {
   "display_name": "Julia 1.10.4",
   "language": "julia",
   "name": "julia-1.10"
  },
  "language_info": {
   "file_extension": ".jl",
   "mimetype": "application/julia",
   "name": "julia",
   "version": "1.10.4"
  }
 },
 "nbformat": 4,
 "nbformat_minor": 5
}
