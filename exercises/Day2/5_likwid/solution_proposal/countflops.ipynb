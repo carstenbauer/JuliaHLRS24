{
 "cells": [
  {
   "cell_type": "markdown",
   "id": "d062da1c-2716-4750-8f3c-95b0642f7cf1",
   "metadata": {},
   "source": [
    "## Exercise: Use LIKWID to Count FLOPs"
   ]
  },
  {
   "cell_type": "markdown",
   "id": "6cf6c652-bd6c-4a51-b834-a9e04190f74a",
   "metadata": {},
   "source": [
    "First, let's check that LIKWID is working. The following should work and print the supported LIKWID performance groups."
   ]
  },
  {
   "cell_type": "code",
   "execution_count": 3,
   "id": "d85f0708-1d4e-4093-a58b-769caedac4cb",
   "metadata": {
    "tags": []
   },
   "outputs": [],
   "source": [
    "using LIKWID"
   ]
  },
  {
   "cell_type": "code",
   "execution_count": 4,
   "id": "aa3cb648-787a-4eee-9342-e7a09fa432fd",
   "metadata": {
    "tags": []
   },
   "outputs": [
    {
     "data": {
      "text/plain": [
       "Dict{String, LIKWID.GroupInfoCompact} with 30 entries:\n",
       "  \"L2CACHE\"        => L2CACHE => L2 cache miss rate/ratio\n",
       "  \"NUMA\"           => NUMA => Local and remote memory accesses\n",
       "  \"QPI\"            => QPI => QPI traffic between sockets\n",
       "  \"MEM\"            => MEM => Main memory bandwidth in MBytes/s\n",
       "  \"CYCLE_ACTIVITY\" => CYCLE_ACTIVITY => Cycle Activities\n",
       "  \"BRANCH\"         => BRANCH => Branch prediction miss rate/ratio\n",
       "  \"FLOPS_SP\"       => FLOPS_SP => Single Precision MFLOP/s\n",
       "  \"RECOVERY\"       => RECOVERY => Recovery duration\n",
       "  \"DIVIDE\"         => DIVIDE => Divide unit information\n",
       "  \"L2\"             => L2 => L2 cache bandwidth in MBytes/s\n",
       "  \"FALSE_SHARE\"    => FALSE_SHARE => False sharing\n",
       "  \"L3\"             => L3 => L3 cache bandwidth in MBytes/s\n",
       "  \"L3CACHE\"        => L3CACHE => L3 cache miss rate/ratio\n",
       "  \"UOPS_EXEC\"      => UOPS_EXEC => UOPs execution\n",
       "  \"CYCLE_STALLS\"   => CYCLE_STALLS => Cycle Activities (Stalls)\n",
       "  \"ICACHE\"         => ICACHE => Instruction cache miss rate/ratio\n",
       "  \"CACHES\"         => CACHES => Some data from the CBOXes\n",
       "  \"TLB_INSTR\"      => TLB_INSTR => L1 Instruction TLB miss rate/ratio\n",
       "  \"MEM_DP\"         => MEM_DP => Overview of arithmetic and main memory performa…\n",
       "  ⋮                => ⋮"
      ]
     },
     "metadata": {},
     "output_type": "display_data"
    }
   ],
   "source": [
    "PerfMon.supported_groups()"
   ]
  },
  {
   "cell_type": "markdown",
   "id": "1d4c6fdf-5b39-4dd8-894d-79e51cce7bee",
   "metadata": {
    "tags": []
   },
   "source": [
    "Great, you're set up!\n",
    "\n",
    "**You can find the instructions for this exercise/tutorial here:**   \n",
    "https://juliaperf.github.io/LIKWID.jl/dev/tutorials/counting_flops/"
   ]
  },
  {
   "cell_type": "code",
   "execution_count": 3,
   "id": "6d13a52c-5252-48bb-b052-5d9b8614a82b",
   "metadata": {
    "tags": []
   },
   "outputs": [],
   "source": [
    "# ...Your code goes here..."
   ]
  },
  {
   "cell_type": "code",
   "execution_count": 5,
   "id": "339ea75c-6628-4ae7-b4c1-901434c6cd16",
   "metadata": {
    "tags": []
   },
   "outputs": [],
   "source": [
    "daxpy!(z, a, x, y) = z .= a .* x .+ y\n",
    "\n",
    "const N = 10_000\n",
    "const a = 3.141\n",
    "const x = rand(N)\n",
    "const y = rand(N)\n",
    "const z = zeros(N)\n",
    "\n",
    "daxpy!(z, a, x, y);"
   ]
  },
  {
   "cell_type": "code",
   "execution_count": 6,
   "id": "1b0ced33-78e7-49a7-8102-ea469e3783f5",
   "metadata": {
    "tags": []
   },
   "outputs": [
    {
     "name": "stdout",
     "output_type": "stream",
     "text": [
      "\n",
      "Group: \u001b[0m\u001b[1mFLOPS_DP\u001b[22m\n",
      "┌──────────────────────────────────────┬──────────┐\n",
      "│\u001b[1m                                Event \u001b[0m│\u001b[1m Thread 1 \u001b[0m│\n",
      "├──────────────────────────────────────┼──────────┤\n",
      "│                    INSTR_RETIRED_ANY │  23610.0 │\n",
      "│                CPU_CLK_UNHALTED_CORE │  85577.0 │\n",
      "│                 CPU_CLK_UNHALTED_REF │ 185328.0 │\n",
      "│ FP_COMP_OPS_EXE_SSE_FP_PACKED_DOUBLE │      0.0 │\n",
      "│ FP_COMP_OPS_EXE_SSE_FP_SCALAR_DOUBLE │      0.0 │\n",
      "│            SIMD_FP_256_PACKED_DOUBLE │   5229.0 │\n",
      "└──────────────────────────────────────┴──────────┘\n",
      "┌──────────────────────┬─────────────┐\n",
      "│\u001b[1m               Metric \u001b[0m│\u001b[1m    Thread 1 \u001b[0m│\n",
      "├──────────────────────┼─────────────┤\n",
      "│  Runtime (RDTSC) [s] │ 0.000201794 │\n",
      "│ Runtime unhalted [s] │  3.29132e-5 │\n",
      "│          Clock [MHz] │     1200.61 │\n",
      "│                  CPI │     3.62461 │\n",
      "│         DP [MFLOP/s] │      103.65 │\n",
      "│     AVX DP [MFLOP/s] │      103.65 │\n",
      "│     Packed [MUOPS/s] │     25.9126 │\n",
      "│     Scalar [MUOPS/s] │         0.0 │\n",
      "│  Vectorization ratio │       100.0 │\n",
      "└──────────────────────┴─────────────┘\n"
     ]
    }
   ],
   "source": [
    "metrics, events = @perfmon \"FLOPS_DP\" daxpy!(z, a, x, y);"
   ]
  },
  {
   "cell_type": "code",
   "execution_count": 7,
   "id": "cd079ebb-88ad-4744-8821-faf374a1f98a",
   "metadata": {
    "tags": []
   },
   "outputs": [
    {
     "data": {
      "text/plain": [
       "count_FLOPs (generic function with 1 method)"
      ]
     },
     "metadata": {},
     "output_type": "display_data"
    }
   ],
   "source": [
    "function count_FLOPs(N)\n",
    "    a = 3.141\n",
    "    x = rand(N)\n",
    "    y = rand(N)\n",
    "    z = zeros(N)\n",
    "    metrics, _ = perfmon(() -> daxpy!(z, a, x, y), \"FLOPS_DP\"; print=false)\n",
    "    flops_per_second = first(metrics[\"FLOPS_DP\"])[\"DP [MFLOP/s]\"] * 1e6\n",
    "    runtime = first(metrics[\"FLOPS_DP\"])[\"Runtime (RDTSC) [s]\"]\n",
    "    return round(Int, flops_per_second * runtime)\n",
    "end"
   ]
  },
  {
   "cell_type": "code",
   "execution_count": 8,
   "id": "b9d71364-ce56-4232-9f6b-29b113666dbc",
   "metadata": {
    "tags": []
   },
   "outputs": [
    {
     "data": {
      "text/plain": [
       "NFLOPs_expected (generic function with 1 method)"
      ]
     },
     "metadata": {},
     "output_type": "display_data"
    }
   ],
   "source": [
    "NFLOPs_expected(N) = 2 * N"
   ]
  },
  {
   "cell_type": "code",
   "execution_count": 9,
   "id": "3be7feac-4ed5-447d-af40-e5f1bb8407e9",
   "metadata": {
    "tags": []
   },
   "outputs": [
    {
     "data": {
      "text/plain": [
       "20000"
      ]
     },
     "metadata": {},
     "output_type": "display_data"
    }
   ],
   "source": [
    "count_FLOPs(N)"
   ]
  },
  {
   "cell_type": "code",
   "execution_count": 10,
   "id": "9b3c3fa4-f0bd-4d2a-8005-a93c149c35ea",
   "metadata": {
    "tags": []
   },
   "outputs": [
    {
     "data": {
      "text/plain": [
       "true"
      ]
     },
     "metadata": {},
     "output_type": "display_data"
    }
   ],
   "source": [
    "count_FLOPs(2 * N) == NFLOPs_expected(2 * N)"
   ]
  }
 ],
 "metadata": {
  "kernelspec": {
   "display_name": "Julia 1.10.4",
   "language": "julia",
   "name": "julia-1.10"
  },
  "language_info": {
   "file_extension": ".jl",
   "mimetype": "application/julia",
   "name": "julia",
   "version": "1.10.4"
  }
 },
 "nbformat": 4,
 "nbformat_minor": 5
}
