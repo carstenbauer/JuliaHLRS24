{
 "cells": [
  {
   "cell_type": "markdown",
   "id": "7ea477f3-ebbe-4c31-978c-bf5f6d06fa96",
   "metadata": {},
   "source": [
    "## Exercise: Write Allocates"
   ]
  },
  {
   "cell_type": "markdown",
   "id": "62fa0dcd-0c30-45d0-9215-211b8be55844",
   "metadata": {},
   "source": [
    "**Ideally, this example should be run on Noctua 1.**"
   ]
  },
  {
   "cell_type": "code",
   "execution_count": 14,
   "id": "33041a28-fdff-4e32-978c-67f9b77e7b74",
   "metadata": {
    "tags": []
   },
   "outputs": [],
   "source": [
    "function striad!(a, b, c, d)\n",
    "    for i in eachindex(a, b, c, d)\n",
    "        a[i] = b[i] + c[i] * d[i]\n",
    "    end\n",
    "    return nothing\n",
    "end\n",
    "\n",
    "N = 1_000_000\n",
    "a = rand(N)\n",
    "b = rand(N)\n",
    "c = rand(N)\n",
    "d = rand(N)\n",
    "\n",
    "striad!(a, b, c, d)"
   ]
  },
  {
   "cell_type": "markdown",
   "id": "b0f48b6f-39ed-4c52-ab5a-5c9cd4189826",
   "metadata": {
    "tags": []
   },
   "source": [
    "1) Looking at the Schoenhauer Triad kernel (i.e. the `striad!` function above),\n",
    "how many LOADs (data reads) and STOREs (data writes) to you expect to happen? Otherwise put, how many bytes do\n",
    "you think will need to be transferred to/from memory?\n",
    "\n",
    "**Answer:** Naively, one would expect 3 LOADs and 1 STORE per loop iteration."
   ]
  },
  {
   "cell_type": "markdown",
   "id": "5bf8fe2a-f803-46da-aba3-aa3b711d3372",
   "metadata": {
    "tags": []
   },
   "source": [
    "2) Use LIKWID.jl to empirically measure how much data has been read from / written to memory.\n",
    "  - Hint: Depending on availability, you want to measure the \"DATA\" or \"MEM\" performance group."
   ]
  },
  {
   "cell_type": "code",
   "execution_count": 3,
   "id": "5dd053cd-b081-48e8-a4f0-a0ecaf3003bb",
   "metadata": {
    "tags": []
   },
   "outputs": [],
   "source": [
    "using LIKWID"
   ]
  },
  {
   "cell_type": "code",
   "execution_count": 15,
   "id": "3ce3d98e-a1a8-4bac-8411-677be08d75a6",
   "metadata": {
    "tags": []
   },
   "outputs": [
    {
     "name": "stdout",
     "output_type": "stream",
     "text": [
      "\n",
      "Group: \u001b[0m\u001b[1mDATA\u001b[22m\n",
      "┌────────────────────────────┬───────────┐\n",
      "│\u001b[1m                      Event \u001b[0m│\u001b[1m  Thread 1 \u001b[0m│\n",
      "├────────────────────────────┼───────────┤\n",
      "│           ACTUAL_CPU_CLOCK │ 3.93956e6 │\n",
      "│              MAX_CPU_CLOCK │ 2.74326e6 │\n",
      "│       RETIRED_INSTRUCTIONS │ 1.02521e6 │\n",
      "│        CPU_CLOCKS_UNHALTED │ 3.82725e6 │\n",
      "│          LS_DISPATCH_LOADS │  802391.0 │\n",
      "│         LS_DISPATCH_STORES │  267408.0 │\n",
      "│ LS_DISPATCH_LOAD_OP_STORES │      42.0 │\n",
      "└────────────────────────────┴───────────┘\n",
      "┌──────────────────────┬────────────┐\n",
      "│\u001b[1m               Metric \u001b[0m│\u001b[1m   Thread 1 \u001b[0m│\n",
      "├──────────────────────┼────────────┤\n",
      "│  Runtime (RDTSC) [s] │ 0.00109885 │\n",
      "│ Runtime unhalted [s] │ 0.00160802 │\n",
      "│          Clock [MHz] │    3518.32 │\n",
      "│                  CPI │    3.73314 │\n",
      "│  Load to store ratio │    3.00031 │\n",
      "└──────────────────────┴────────────┘\n"
     ]
    }
   ],
   "source": [
    "@perfmon \"DATA\" striad!(a, b, c, d);\n",
    "# @perfmon \"MEM\" striad!(a, b, c, d);"
   ]
  },
  {
   "cell_type": "markdown",
   "id": "781bc63e-d60f-4c71-88cd-16ab5bd7596f",
   "metadata": {},
   "source": [
    "3) Which ratio of reads and writes do you find? How many LOADs and STOREs actually happen per iteration?\n",
    "\n",
    "**Answer:** We find that the ratio of load and store is ~4. We hence conclude that there are\n",
    "4 LOADs per 1 STORE, i.e. one more LOAD than expected. This is because `a` is also read\n",
    "before written to (\"write-allocate\")."
   ]
  },
  {
   "cell_type": "markdown",
   "id": "67b67559-465e-450a-a077-c09689807f9f",
   "metadata": {},
   "source": [
    "The reason you might see a higher load/store ratio are so-called \"write-allocates\": On some systems, to write to a piece of memory it has to be loaded to cache first (e.g. by reading from it first). Hence you get one extra LOAD."
   ]
  },
  {
   "cell_type": "markdown",
   "id": "2ef9b535-ac37-4c6d-907b-4c57ab271768",
   "metadata": {},
   "source": [
    "4) In the exercise \"cache_sizes\" we used SDAXPY rather than STRIAD.\n",
    "  * How would the bandwidth values for striad (qualitatively) compare to our\n",
    "    sdaxpy results assuming we didn't account for write-allocates?\n",
    "  * Focusing on data volume rather than data transfer,\n",
    "    how much data is hold for one iteration of sdaxpy and striad, respectively?\n",
    "    Does a factor of this data volume fit nicely into L1 cache (in either case)?\n",
    "\n",
    "**Answer:** The bandwidth values for STRIAD would be lower (and would thus underestimate the\n",
    "        maximal bandwidth for each memory level) because we would think that 32 bytes are\n",
    "        transferred whereas in reality it might be 40 bytes (not a power of 2).\n",
    "        As for data volume, for striad we need 4 x 8 bytes = 32 bytes whereas for\n",
    "        sdaxpy we need 3 x 8 bytes = 24 bytes (not a power of 2). Since L1 cache size\n",
    "        is usually a power of 2, we can nicely fit (parts of) the 4 vectors for striad\n",
    "        but generally not for sdaxpy."
   ]
  }
 ],
 "metadata": {
  "kernelspec": {
   "display_name": "Julia (1 thread) 1.10.0",
   "language": "julia",
   "name": "julia-_1-thread_-1.10"
  },
  "language_info": {
   "file_extension": ".jl",
   "mimetype": "application/julia",
   "name": "julia",
   "version": "1.10.0"
  }
 },
 "nbformat": 4,
 "nbformat_minor": 5
}
