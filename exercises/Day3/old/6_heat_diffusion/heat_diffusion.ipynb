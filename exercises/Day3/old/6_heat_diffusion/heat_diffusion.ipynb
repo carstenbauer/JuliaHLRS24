{
 "cells": [
  {
   "cell_type": "markdown",
   "id": "abbf7ac1-452a-44e6-a952-e6aca9f3631e",
   "metadata": {},
   "source": [
    "## Exercise: Heat diffusion on CPUs and GPU\n",
    "\n",
    "**NOTE: This notebook should be run with 2 Julia threads and a GPU must be available!**"
   ]
  },
  {
   "cell_type": "code",
   "execution_count": null,
   "id": "45c8ddb6-6d10-4788-b834-0753897ea7ce",
   "metadata": {
    "tags": []
   },
   "outputs": [],
   "source": [
    "using CUDA\n",
    "using Base.Threads\n",
    "using ThreadPinning\n",
    "pinthreads(:affinitymask)\n",
    "\n",
    "@assert Threads.nthreads() > 1\n",
    "@assert CUDA.functional()"
   ]
  },
  {
   "cell_type": "markdown",
   "id": "051c4950-c9c2-46c7-9dea-6bd79fd82c6e",
   "metadata": {},
   "source": [
    "![](./imgs/heat_diffusion_animation.gif)"
   ]
  },
  {
   "cell_type": "markdown",
   "id": "7ca9d4b9-faaa-4a44-885b-cdde2d3d4a28",
   "metadata": {},
   "source": [
    "## The heat equation\n",
    "We consider the heat equation, a partial differential equation (PDE) describing the diffusion of heat over time. The PDE reads\n",
    "\n",
    "$$ \\dfrac{\\partial T}{\\partial t} = \\alpha \\left( \\dfrac{\\partial^2 T}{\\partial x^2} + \\dfrac{\\partial^2 T}{\\partial y^2} \\right), $$\n",
    "\n",
    "where the temperature $T = T(x,y,t)$ is a function of space ($x,y$) and time ($t$) and $\\alpha$ is a scaling coefficient. Specifically, we'll consider a simple two-dimensional square geometry. As the initial condition - the starting distribution of temperature across the geometry - we choose a [\"Gaussian\"](https://en.wikipedia.org/wiki/Gaussian_function#:~:text=In%20mathematics%2C%20a%20Gaussian%20function,characteristic%20symmetric%20%22bell%20curve%22%20shape) positioned in the center.\n",
    "\n",
    "#### Numerical solver\n",
    "1) We discretize space (`dx`, `dy`) and time (`dt`) and evaluate everything on a grid.\n",
    "2) We use the basic [finite difference method](https://en.wikipedia.org/wiki/Finite_difference_method) to compute derivatives on the grid, e.g.\n",
    "$$\n",
    "\\dfrac{\\partial T}{\\partial x}(x_i) \\approx \\dfrac{f(x_{i+1}) - f(x_i)}{\\Delta x} \n",
    "$$\n",
    "3) We use a two-step process:\n",
    "    a) Compute the first-order spatial derivates.\n",
    "    b) Then, update the temperature field (Euler time integration).\n",
    "$$ \n",
    "\\begin{align}\n",
    "\\partial x &= \\dfrac{\\Delta T}{\\Delta x} \\\\\n",
    "\\partial y &= \\dfrac{\\Delta T}{\\Delta y} \\\\\n",
    "\\Delta T &= \\alpha\\Delta t \\left( \\dfrac{\\Delta (\\partial x)}{\\Delta x} + \\dfrac{(\\Delta \\partial y)}{\\Delta y} \\right)\n",
    "\\end{align}\n",
    "$$\n",
    "\n",
    "Note that the derivatives give our numerical solver the character of a [stencil](https://en.wikipedia.org/wiki/Iterative_Stencil_Loops). **Stencils are typically memory bound**, that is, data transfer is dominating over FLOPs and consequently performance is limited by the rate at which memory is transferred between memory and the arithmetic units. For this reason we will measure the performance in terms of an **effective memory bandwidth**."
   ]
  },
  {
   "cell_type": "markdown",
   "id": "95a894c1-0920-4338-ac96-6d1777406386",
   "metadata": {
    "tags": []
   },
   "source": [
    "## Preparation"
   ]
  },
  {
   "cell_type": "markdown",
   "id": "49af8af0-ea8c-470d-8888-fc68ff3737e4",
   "metadata": {},
   "source": [
    "The following code is setup code (initializing parameters and arrays etc.) that you don't have to modify."
   ]
  },
  {
   "cell_type": "code",
   "execution_count": null,
   "id": "efc05b7b-065e-498e-aa42-d3e513af022d",
   "metadata": {
    "tags": []
   },
   "outputs": [],
   "source": [
    "# ---- NO MODIFICATIONS HERE ----\n",
    "using Printf\n",
    "\n",
    "Base.@kwdef struct Parameters\n",
    "    Δ::Float64\n",
    "    Δt::Float64\n",
    "    ngrid::Int64\n",
    "end\n",
    "\n",
    "function preparation(; ngrid=2^10, kwargs...)\n",
    "    L = 10.0 # domain length\n",
    "    Δ = L / ngrid # domain discretization\n",
    "    Δt = Δ^2 / 4.1 # time discretization\n",
    "    pts = range(start=Δ / 2, stop=L - Δ / 2, length=ngrid)\n",
    "    p = Parameters(; Δt, Δ, ngrid)\n",
    "    \n",
    "    # temperature field - initial condition\n",
    "    T = exp.(.-(pts .- L ./ 2.0) .^ 2 .- (pts .- L ./ 2.0)' .^ 2)\n",
    "\n",
    "    # partial derivatives (preallocation)\n",
    "    ∂x = zeros(ngrid - 1, ngrid - 2)\n",
    "    ∂y = zeros(ngrid - 2, ngrid - 1)\n",
    "    return T, ∂x, ∂y, p\n",
    "end\n",
    "\n",
    "function analysis_and_printing(elapsed_time, p; timesteps, verbose=true, kwargs...)\n",
    "    membw_eff = 2 * p.ngrid^2 * sizeof(Float64) * timesteps * 1e-9 / elapsed_time\n",
    "    if verbose\n",
    "        @printf(\"\\tmembw_eff = %1.2f GB/s, time = %1.1e s \\n\", round(membw_eff; digits=2), elapsed_time)\n",
    "    end\n",
    "    return nothing\n",
    "end\n",
    "# ---- NO MODIFICATIONS HERE ----"
   ]
  },
  {
   "cell_type": "markdown",
   "id": "d7c2baf2",
   "metadata": {},
   "source": [
    "## CPU - Sequential\n",
    "\n",
    "Below you find a code snippet for the integration of the heat equation. \n",
    "\n",
    "**Task 1**\n",
    "\n",
    "1) Implement the missing piece, that is, the update of the temperature field.\n",
    "\n",
    "**Remarks**\n",
    "\n",
    "* Don't update the temperature `T` at the boundary of the 2D square geometry (because the stencil would lead you out of bounds). That is, only update the inner part `T[2:(end - 1), 2:(end - 1)]`."
   ]
  },
  {
   "cell_type": "code",
   "execution_count": null,
   "id": "cf68bfa1-6142-47fd-84cd-f5c018cb1be0",
   "metadata": {
    "tags": []
   },
   "outputs": [],
   "source": [
    "using Plots\n",
    "\n",
    "function compute_first_order_loop!(∂x, ∂y, T, p)\n",
    "    for j in 2:(p.ngrid-1)\n",
    "        for i in 1:(p.ngrid-1)\n",
    "            @inbounds ∂x[i, j-1] = (T[i+1, j] - T[i, j]) / p.Δ\n",
    "        end\n",
    "    end\n",
    "    for j in 1:(p.ngrid-1)\n",
    "        for i in 2:(p.ngrid-1)\n",
    "            @inbounds ∂y[i-1, j] = (T[i, j+1] - T[i, j]) / p.Δ\n",
    "        end\n",
    "    end\n",
    "    return nothing\n",
    "end\n",
    "\n",
    "function update_T_loop!(T, ∂x, ∂y, p)\n",
    "    #\n",
    "    # Task 1 TODO: Implement update of T with regular loops.\n",
    "    #              See `compute_first_order_loop!` for inspiration.\n",
    "    #\n",
    "    return nothing\n",
    "end\n",
    "\n",
    "function heat_2D_animation(; ngrid=128, timesteps=400, kwargs...)\n",
    "    T, ∂x, ∂y, p = preparation(; ngrid, kwargs...)\n",
    "    \n",
    "    # time loop\n",
    "    @gif for it in 1:timesteps\n",
    "        # -------- stencil kernel --------\n",
    "        # first order derivatives\n",
    "        compute_first_order_loop!(∂x, ∂y, T, p)\n",
    "        # update T\n",
    "        update_T_loop!(T, ∂x, ∂y, p)\n",
    "        # --------------------------------\n",
    "        \n",
    "        # plotting\n",
    "        pts = range(start=p.Δ / 2, stop=10.0 - p.Δ / 2, length=p.ngrid)\n",
    "        heatmap(pts, pts, T', xlabel=\"x\", ylabel=\"y\", title=\"Heat Diffusion, i=$it\", clims=(0.,1.))\n",
    "    end every 5\n",
    "end"
   ]
  },
  {
   "cell_type": "code",
   "execution_count": null,
   "id": "96be6a77-b397-453a-a899-75f67c1f286a",
   "metadata": {
    "tags": []
   },
   "outputs": [],
   "source": [
    "heat_2D_animation()"
   ]
  },
  {
   "cell_type": "markdown",
   "id": "efc52f71",
   "metadata": {
    "tags": []
   },
   "source": [
    "### Performance (without animation)\n",
    "Let's get rid of the animation and measure the performance of our implementation."
   ]
  },
  {
   "cell_type": "code",
   "execution_count": null,
   "id": "76b542fb-3662-451a-a7e9-ce9aff426344",
   "metadata": {
    "tags": []
   },
   "outputs": [],
   "source": [
    "function heat_2D(; timesteps=400, kwargs...)   \n",
    "    T, ∂x, ∂y, p = preparation(; kwargs...)\n",
    "\n",
    "    # time loop\n",
    "    elapsed_time = @elapsed for _ in 1:timesteps\n",
    "        # -------- stencil kernel --------\n",
    "        # first order derivatives\n",
    "        compute_first_order_loop!(∂x, ∂y, T, p)\n",
    "        # update T\n",
    "        update_T_loop!(T, ∂x, ∂y, p)\n",
    "        # --------------------------------\n",
    "    end\n",
    "    \n",
    "    analysis_and_printing(elapsed_time, p; timesteps, kwargs...)\n",
    "end"
   ]
  },
  {
   "cell_type": "code",
   "execution_count": null,
   "id": "4ce2606d-df27-4f5d-8419-c6ece9ff02f1",
   "metadata": {
    "tags": []
   },
   "outputs": [],
   "source": [
    "heat_2D()"
   ]
  },
  {
   "cell_type": "markdown",
   "id": "9a216cb7",
   "metadata": {},
   "source": [
    "## CPU - Multithreaded\n",
    "Let's multithread our stencil computation.\n",
    "\n",
    "**Task 2**\n",
    "\n",
    "1) Implement the missing piece, that is, the update of the temperature field via a multithreaded loop.\n",
    "\n",
    "**Remarks**\n",
    "\n",
    "* To respect column-major order (memory layout), the y-loop should be the outer loop and the x-loop the inner one.\n",
    "* Use `@threads :static for ...` for parallelization."
   ]
  },
  {
   "cell_type": "code",
   "execution_count": null,
   "id": "9d484fba",
   "metadata": {
    "tags": []
   },
   "outputs": [],
   "source": [
    "function compute_first_order_loop_mt!(∂x, ∂y, T, p)\n",
    "    @threads :static for j in 2:(p.ngrid-1)\n",
    "        for i in 1:(p.ngrid-1)\n",
    "            @inbounds ∂x[i, j-1] = (T[i+1, j] - T[i, j]) / p.Δ\n",
    "        end\n",
    "    end\n",
    "    @threads :static for j in 1:(p.ngrid-1)\n",
    "        for i in 2:(p.ngrid-1)\n",
    "            @inbounds ∂y[i-1, j] = (T[i, j+1] - T[i, j]) / p.Δ\n",
    "        end\n",
    "    end\n",
    "    return nothing\n",
    "end\n",
    "\n",
    "function update_T_loop_mt!(T, ∂x, ∂y, p)\n",
    "    #\n",
    "    # Task 2 TODO: Implement update of T via multithreaded loops.\n",
    "    #              See `compute_first_order_loop_mt!` for inspiration.\n",
    "    #\n",
    "    return nothing\n",
    "end\n",
    "\n",
    "function heat_2D_loop_multithreaded(; timesteps=400, kwargs...)   \n",
    "    T, ∂x, ∂y, p = preparation(; kwargs...)\n",
    "\n",
    "    # time loop\n",
    "    elapsed_time = @elapsed for _ in 1:timesteps\n",
    "        # -------- stencil kernel --------\n",
    "        # first order derivatives\n",
    "        compute_first_order_loop_mt!(∂x, ∂y, T, p)\n",
    "        # update T\n",
    "        update_T_loop_mt!(T, ∂x, ∂y, p)\n",
    "        # --------------------------------\n",
    "    end\n",
    "    \n",
    "    analysis_and_printing(elapsed_time, p; timesteps, kwargs...)\n",
    "end"
   ]
  },
  {
   "cell_type": "code",
   "execution_count": null,
   "id": "5b23bac2",
   "metadata": {
    "tags": []
   },
   "outputs": [],
   "source": [
    "println(\"CPU - Multithreaded:\")\n",
    "heat_2D_loop_multithreaded();"
   ]
  },
  {
   "cell_type": "markdown",
   "id": "08c985db",
   "metadata": {},
   "source": [
    "## GPU - CUDA Kernels\n",
    "Finally, we want to transform our loop implementations of `compute_first_order_loop_mt!` and `update_T_mt!` above into CUDA kernels. To that end, we simply replace the (multithreaded) `for`-loops by `if`-conditions that make sure that the indices stay within the bounds of the arrays. When the kernel is later spawned with `@cuda`, different GPU-threads will run our kernel function with different indices and thus realize the full update.\n",
    "\n",
    "**Task 3**\n",
    "\n",
    "1) Move the arrays `T`, `∂x`, and `∂y` to the GPU (before the `# time loop`).\n",
    "2) Implement the update of the temperature field as a CUDA kernel.\n",
    "3) At the marked position, spawn the `update_T_gpu!` kernel with `@cuda` using `cublocks`-many blocks and `cuthreads`-many threads.\n",
    "\n",
    "**Remarks**\n",
    "\n",
    "* **Important:** For a fair comparison, we want to have `CuArray{Float64}` rather than `CuArray`, which defaults to `CuArray{Float32}`.\n",
    "* You may take `compute_first_order_gpu!` as inspiration for 2)."
   ]
  },
  {
   "cell_type": "code",
   "execution_count": null,
   "id": "1ce0b496",
   "metadata": {
    "tags": []
   },
   "outputs": [],
   "source": [
    "function compute_first_order_gpu!(∂x, ∂y, T, p)\n",
    "    ix = (blockIdx().x - 1) * blockDim().x + threadIdx().x # thread ID, dimension x\n",
    "    iy = (blockIdx().y - 1) * blockDim().y + threadIdx().y # thread ID, dimension y\n",
    "\n",
    "    if ix <= p.ngrid - 1\n",
    "        if 2 <= iy <= p.ngrid - 1\n",
    "            ∂x[ix, iy - 1] = (T[ix + 1, iy] - T[ix, iy]) / p.Δ\n",
    "        end\n",
    "    end\n",
    "    if 2 <= ix <= p.ngrid - 1\n",
    "        if iy <= p.ngrid - 1\n",
    "            ∂y[ix - 1, iy] = (T[ix, iy + 1] - T[ix, iy]) / p.Δ\n",
    "        end\n",
    "    end\n",
    "    return nothing\n",
    "end\n",
    "\n",
    "function update_T_gpu!(T, ∂x, ∂y, p)\n",
    "    #\n",
    "    # Task 4 TODO: Implement the temperature update as a CUDA kernel.\n",
    "    #              See `compute_first_order_gpu!` above for inspiration.\n",
    "    #\n",
    "    return nothing\n",
    "end\n",
    "\n",
    "function heat_2D_gpu_kernels(; timesteps=400, kwargs...)\n",
    "    T, ∂x, ∂y, p = preparation(; kwargs...)\n",
    "    T = CuArray(T)\n",
    "    ∂x = CuArray(∂x)\n",
    "    ∂y = CuArray(∂y)\n",
    "\n",
    "    # launch configuration\n",
    "    blockx, blocky = 32, 32\n",
    "    gridx, gridy = p.ngrid ÷ 32, p.ngrid ÷ 32\n",
    "    cuthreads = (blockx, blocky, 1)\n",
    "    cublocks = (gridx, gridy, 1)\n",
    "\n",
    "    # time loop\n",
    "    elapsed_time = @elapsed for _ in 1:timesteps\n",
    "        # -------- stencil kernel --------\n",
    "        # first order derivatives\n",
    "        CUDA.@sync @cuda blocks=cublocks threads=cuthreads compute_first_order_gpu!(∂x, ∂y, T, p)\n",
    "\n",
    "        # update T\n",
    "        #\n",
    "        # Task 4 TODO: Spawn the `update_T_gpu!` kernel with `@cuda`.\n",
    "        #\n",
    "        # --------------------------------\n",
    "    end\n",
    "    \n",
    "    analysis_and_printing(elapsed_time, p; timesteps, kwargs...)\n",
    "end"
   ]
  },
  {
   "cell_type": "code",
   "execution_count": null,
   "id": "84f29459",
   "metadata": {
    "tags": []
   },
   "outputs": [],
   "source": [
    "println(\"GPU - CUDA Kernels:\")\n",
    "heat_2D_gpu_kernels()\n",
    "heat_2D_gpu_kernels()"
   ]
  },
  {
   "cell_type": "markdown",
   "id": "71fbc5e2",
   "metadata": {},
   "source": [
    "## Performance Comparison"
   ]
  },
  {
   "cell_type": "code",
   "execution_count": null,
   "id": "161200f0-1333-43ec-9e53-5155f3d40e0c",
   "metadata": {
    "tags": []
   },
   "outputs": [],
   "source": [
    "using BenchmarkTools\n",
    "\n",
    "println(\"CPU - Sequential:\")\n",
    "@btime heat_2D() samples=2 evals=3;\n",
    "\n",
    "println(\"\\nCPU - Multithreaded:\")\n",
    "@btime heat_2D_loop_multithreaded() samples=2 evals=3;\n",
    "\n",
    "println(\"\\nGPU - CUDA Kernels:\")\n",
    "@btime heat_2D_gpu_kernels() samples=2 evals=3;"
   ]
  },
  {
   "cell_type": "markdown",
   "id": "35d4435f-b3d8-4516-94c7-3fed885a358c",
   "metadata": {},
   "source": [
    "## Bonus A"
   ]
  },
  {
   "cell_type": "markdown",
   "id": "71536214-d943-4118-98f9-3a391ca94f55",
   "metadata": {},
   "source": [
    "* Write a \"vectorized\" version that doesn't use loops but operates on the `T`, `∂x`, and `∂y` arrays via broadcasting.\n",
    "    * Finite difference method: You can use `diff(A, dims=1) ./ dx` to compute the partial derivative of a field `A` in the x-direction (`dims=2` corresponds to y-direction).\n",
    "* Don't update the temperature `T` at the boundary of the 2D square geometry. That is, only update the inner part `T[2:(end - 1), 2:(end - 1)]`.\n",
    "* Compare a CPU and GPU version where the arrays are `Array`s or `CuArray`s respectively.\n",
    "* How much slower are these variants compared to the loop/kernel versions above?"
   ]
  },
  {
   "cell_type": "markdown",
   "id": "efab48fe-f500-47f0-9bdb-ef7d83119c1e",
   "metadata": {},
   "source": [
    "## Bonus B"
   ]
  },
  {
   "cell_type": "markdown",
   "id": "a4d98a08-c7a8-443e-97eb-ee7fa1f00993",
   "metadata": {},
   "source": [
    "* Use [KernelAbstractions.jl](https://github.com/JuliaGPU/KernelAbstractions.jl) to write a backend agnostic variant that can run on both CPU and GPU."
   ]
  }
 ],
 "metadata": {
  "kernelspec": {
   "display_name": "Julia (2 threads) 1.10.0",
   "language": "julia",
   "name": "julia-_2-threads_-1.10"
  },
  "language_info": {
   "file_extension": ".jl",
   "mimetype": "application/julia",
   "name": "julia",
   "version": "1.10.0"
  }
 },
 "nbformat": 4,
 "nbformat_minor": 5
}
