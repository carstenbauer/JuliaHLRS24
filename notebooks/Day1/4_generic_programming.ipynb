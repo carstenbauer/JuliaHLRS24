{
 "cells": [
  {
   "cell_type": "markdown",
   "id": "2d8d5f99-d7ee-4c54-96df-95943efcb680",
   "metadata": {
    "tags": []
   },
   "source": [
    "# Generic Programming"
   ]
  },
  {
   "cell_type": "markdown",
   "id": "a19be775-9df3-4673-860d-f0344685c407",
   "metadata": {},
   "source": [
    "## Example 1: Summation"
   ]
  },
  {
   "cell_type": "code",
   "execution_count": null,
   "id": "4b4a1c5d-9a25-4627-9edf-726b3581e137",
   "metadata": {},
   "outputs": [],
   "source": [
    "function mysum(A)\n",
    "    s = zero(eltype(A)) # generic!\n",
    "    for a in A\n",
    "        s += a\n",
    "    end\n",
    "    return s\n",
    "end"
   ]
  },
  {
   "cell_type": "code",
   "execution_count": null,
   "id": "b582002d-7916-47b8-a817-8e17112d66ee",
   "metadata": {},
   "outputs": [],
   "source": [
    "mysum([1,2,3])"
   ]
  },
  {
   "cell_type": "code",
   "execution_count": null,
   "id": "f6c91b15-a978-4ed9-9339-84344a84545e",
   "metadata": {},
   "outputs": [],
   "source": [
    "mysum([1.0,2.0,3.0])"
   ]
  },
  {
   "cell_type": "code",
   "execution_count": null,
   "id": "f273ef4d-e061-44d9-a538-e550d12bc588",
   "metadata": {},
   "outputs": [],
   "source": [
    "mysum([1+1im, 2+2im, 3+3im])"
   ]
  },
  {
   "cell_type": "code",
   "execution_count": null,
   "id": "d673780b-b89b-4ecc-993f-699efb3601ee",
   "metadata": {},
   "outputs": [],
   "source": [
    "function mysum_naive(x)\n",
    "    s = 0.0 # not generic!\n",
    "    for xi in x\n",
    "        s += xi\n",
    "    end\n",
    "    return s\n",
    "end"
   ]
  },
  {
   "cell_type": "code",
   "execution_count": null,
   "id": "ad17b822-ad72-4985-846f-b9f5b458a155",
   "metadata": {},
   "outputs": [],
   "source": [
    "using BenchmarkTools"
   ]
  },
  {
   "cell_type": "code",
   "execution_count": null,
   "id": "d07fc3f3-8fed-4cb0-a0b1-cf2162496612",
   "metadata": {},
   "outputs": [],
   "source": [
    "x = rand(100_000);\n",
    "@btime mysum($x);\n",
    "@btime mysum_naive($x);"
   ]
  },
  {
   "cell_type": "code",
   "execution_count": null,
   "id": "73836d45-abbe-4bcc-8e5f-c3e1dc9310bf",
   "metadata": {},
   "outputs": [],
   "source": [
    "x = rand(Int, 100_000);\n",
    "@btime mysum($x);\n",
    "@btime mysum_naive($x);"
   ]
  },
  {
   "cell_type": "markdown",
   "id": "0717e23b-a89e-4923-9a8c-ac551813a600",
   "metadata": {
    "tags": []
   },
   "source": [
    "## Example 2: Vandermonde matrix\n",
    "\\begin{align}V=\\begin{bmatrix}1&\\alpha _{1}&\\alpha _{1}^{2}&\\dots &\\alpha _{1}^{n-1}\\\\1&\\alpha _{2}&\\alpha _{2}^{2}&\\dots &\\alpha _{2}^{n-1}\\\\1&\\alpha _{3}&\\alpha _{3}^{2}&\\dots &\\alpha _{3}^{n-1}\\\\\\vdots &\\vdots &\\vdots &\\ddots &\\vdots \\\\1&\\alpha _{m}&\\alpha _{m}^{2}&\\dots &\\alpha _{m}^{n-1}\\end{bmatrix}\\end{align}\n",
    "\n",
    "<br>"
   ]
  },
  {
   "cell_type": "markdown",
   "id": "99d08891-8da2-4d03-8295-93ff62340981",
   "metadata": {},
   "source": [
    "### Python / numpy\n",
    "\n",
    "<p><img src=\"./imgs/numpy_vander.png\" alt=\"drawing\" width=\"1500\"/></p>\n",
    "\n",
    "(The source code for this function is [here](https://github.com/numpy/numpy/blob/v1.16.1/numpy/lib/twodim_base.py#L475-L563). It calls `np.multiply.accumulate` which is implemented in C [here](https://github.com/numpy/numpy/blob/deea4983aedfa96905bbaee64e3d1de84144303f/numpy/core/src/umath/ufunc_object.c#L3678). However, this code doesn't actually perform the computation, it basically only checks types and stuff. The actual kernel that gets called is [here](https://github.com/numpy/numpy/blob/deea4983aedfa96905bbaee64e3d1de84144303f/numpy/core/src/umath/loops.c.src#L1742). This isn't even C code but a template for C code which is used to generate type specific kernels.)\n",
    "\n",
    "**Overall, this setup only supports a limited set of types, like `Float64`, `Float32`, and so forth.**\n",
    "\n",
    "\n",
    "### Julia\n",
    "\n",
    "Here is a simple generic Julia implementation\n"
   ]
  },
  {
   "cell_type": "code",
   "execution_count": null,
   "id": "fd6f1041",
   "metadata": {},
   "outputs": [],
   "source": [
    "function vander(x::AbstractVector{T}) where T\n",
    "    m = length(x)\n",
    "    V = Matrix{T}(undef, m, m)\n",
    "    for j = 1:m\n",
    "        V[j,1] = one(x[j])\n",
    "    end\n",
    "    for i= 2:m\n",
    "        for j = 1:m\n",
    "            V[j,i] = x[j] * V[j,i-1]\n",
    "            end\n",
    "        end\n",
    "    return V\n",
    "end"
   ]
  },
  {
   "cell_type": "code",
   "execution_count": null,
   "id": "7ad55da9",
   "metadata": {},
   "outputs": [],
   "source": [
    "vander(1:5)"
   ]
  },
  {
   "cell_type": "markdown",
   "id": "6c4ba246-eefc-484f-8873-094c8b0e1dc2",
   "metadata": {},
   "source": [
    "#### Quick speed comparison\n",
    "\n",
    "<img src=\"./imgs/vandermonde.svg\" alt=\"drawing\" width=\"600\"/>\n",
    "\n",
    "Note that the clean and concise Julia implementation is **beating numpy's C implementation for small matrices** and is **on-par for large matrix sizes**.\n",
    "\n",
    "At the same time, **the Julia code is *generic* and works for arbitrary types!**\n"
   ]
  },
  {
   "cell_type": "code",
   "execution_count": null,
   "id": "6727e3c3",
   "metadata": {},
   "outputs": [],
   "source": [
    "vander(Int32[4, 8, 16, 32])"
   ]
  },
  {
   "cell_type": "markdown",
   "id": "f256ae63-8eb9-4d89-9f1d-414627f05589",
   "metadata": {},
   "source": [
    "It even works for non-numerical types. The only requirement is that the type has a *one* (identity element) and a multiplication operation defined.\n"
   ]
  },
  {
   "cell_type": "code",
   "execution_count": null,
   "id": "5919a579-b296-4c4d-b219-d7e3f6ba1c74",
   "metadata": {},
   "outputs": [],
   "source": [
    "using Symbolics"
   ]
  },
  {
   "cell_type": "code",
   "execution_count": null,
   "id": "8737fc3b-8646-40ee-98a2-5d44e3993235",
   "metadata": {},
   "outputs": [],
   "source": [
    "@variables a b c d e"
   ]
  },
  {
   "cell_type": "code",
   "execution_count": null,
   "id": "1b444bdc-74fa-4703-8ac6-d2e364cad9d3",
   "metadata": {},
   "outputs": [],
   "source": [
    "typeof(a)"
   ]
  },
  {
   "cell_type": "code",
   "execution_count": null,
   "id": "4f3a0b40-e50f-4f79-942f-338b6a47b155",
   "metadata": {},
   "outputs": [],
   "source": [
    "one(a)"
   ]
  },
  {
   "cell_type": "code",
   "execution_count": null,
   "id": "d44893c6-26dc-4863-a669-320d465b6614",
   "metadata": {},
   "outputs": [],
   "source": [
    "a * a"
   ]
  },
  {
   "cell_type": "code",
   "execution_count": null,
   "id": "69be6e40-a389-49dc-a09c-d3f00b2808fa",
   "metadata": {},
   "outputs": [],
   "source": [
    "v = vander([a,b,c,d,e])"
   ]
  },
  {
   "cell_type": "code",
   "execution_count": null,
   "id": "89adaa59-727b-40d0-9cc4-71c8c91c99fe",
   "metadata": {},
   "outputs": [],
   "source": [
    "substitute(v, Dict(b => 2, d => 4))"
   ]
  },
  {
   "cell_type": "markdown",
   "id": "219354ea-e66e-49f0-8e55-3d72591e47c4",
   "metadata": {},
   "source": [
    "## \"Emergent\" Features: Differential equation solving with uncertainty"
   ]
  },
  {
   "cell_type": "code",
   "execution_count": null,
   "id": "4374888b-23ff-4adb-9d1f-2d85ff6cbafd",
   "metadata": {
    "tags": []
   },
   "outputs": [],
   "source": [
    "using OrdinaryDiffEq, Measurements, Plots\n",
    "\n",
    "#Half-life of Carbon-14 is 5730 years.\n",
    "c = 5.730 ± 2\n",
    "\n",
    "#Setup\n",
    "u0 = 1.0 ± 0.1\n",
    "tspan = (0.0, 1.0)\n",
    "\n",
    "#Define the problem\n",
    "radioactivedecay(u,p,t) = -c*u\n",
    "\n",
    "#Pass to solver\n",
    "prob = ODEProblem(radioactivedecay,u0,tspan)\n",
    "sol = solve(prob, Tsit5(), reltol=1e-8, abstol=1e-8);\n",
    "\n",
    "plot(sol.t, sol.u, ylabel=\"u(t)\", xlabel=\"t\", lw=2, legend=false, frame=:box)"
   ]
  },
  {
   "cell_type": "markdown",
   "id": "8c878ccc-1b85-43a5-83e6-9fa3acf748c0",
   "metadata": {},
   "source": [
    "**Historical note**: In some sense, **Julia implemented that feature by itself**. The authors of Measurements.jl and DifferentialEquations.jl [never had any collabration on this](https://discourse.julialang.org/t/differentialequations-jl-and-measurements-jl/6350)."
   ]
  }
 ],
 "metadata": {
  "kernelspec": {
   "display_name": "Julia 1.10.4",
   "language": "julia",
   "name": "julia-1.10"
  },
  "language_info": {
   "file_extension": ".jl",
   "mimetype": "application/julia",
   "name": "julia",
   "version": "1.10.4"
  }
 },
 "nbformat": 4,
 "nbformat_minor": 5
}
