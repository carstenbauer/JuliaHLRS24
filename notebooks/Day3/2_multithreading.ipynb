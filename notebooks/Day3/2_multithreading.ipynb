{
 "cells": [
  {
   "cell_type": "markdown",
   "metadata": {},
   "source": [
    "# Multithreading"
   ]
  },
  {
   "cell_type": "markdown",
   "metadata": {},
   "source": [
    "## What are threads?\n",
    "Threads are **execution units within a process** that can run simultaneously. While processes are separate, threads run in a **shared memory** space (heap).\n",
    "\n",
    "<!-- <img src=\"./imgs/what-are-threads.png\" width=500px> -->\n",
    "\n",
    "<br>\n",
    "<img src=\"imgs/stack_heap_threads.svg\" width=450px>\n",
    "<br>"
   ]
  },
  {
   "cell_type": "markdown",
   "metadata": {},
   "source": [
    "## Starting Julia with multiple threads"
   ]
  },
  {
   "cell_type": "markdown",
   "metadata": {},
   "source": [
    "By default, Julia starts with a single *user thread*. We must tell it explicitly to start multiple user threads. There are a couple of ways to do this:\n",
    "\n",
    "* Environment variable: `export JULIA_NUM_THREADS=4`\n",
    "* Command line argument: `julia --threads 4` or `julia -t 4`"
   ]
  },
  {
   "cell_type": "markdown",
   "metadata": {},
   "source": [
    "**It is currently not (easily) possible to change the number of threads at runtime!**"
   ]
  },
  {
   "cell_type": "markdown",
   "metadata": {},
   "source": [
    "For Jupyter, we create another kernel that starts Julia with multiple threads."
   ]
  },
  {
   "cell_type": "code",
   "execution_count": 2,
   "metadata": {},
   "outputs": [
    {
     "name": "stderr",
     "output_type": "stream",
     "text": [
      "\u001b[36m\u001b[1m[ \u001b[22m\u001b[39m\u001b[36m\u001b[1mInfo: \u001b[22m\u001b[39mInstalling Julia (4 threads) kernelspec in /Users/carstenbauer/Library/Jupyter/kernels/julia-_4-threads_-1.10\n"
     ]
    },
    {
     "data": {
      "text/plain": [
       "\"/Users/carstenbauer/Library/Jupyter/kernels/julia-_4-threads_-1.10\""
      ]
     },
     "execution_count": 2,
     "metadata": {},
     "output_type": "execute_result"
    }
   ],
   "source": [
    "using IJulia\n",
    "installkernel(\"Julia (4 threads)\", \"--project=@.\", env=Dict(\"JULIA_NUM_THREADS\"=>\"4\"))"
   ]
  },
  {
   "cell_type": "markdown",
   "metadata": {},
   "source": [
    "Afterwards, we need to **refresh the page** and select the new `Julia (4 threads) 1.10` kernel in the top right corner. (Restart Jupyter if the kernel doesn't show up.)"
   ]
  },
  {
   "cell_type": "markdown",
   "metadata": {},
   "source": [
    "We can readily check how many threads we are running:"
   ]
  },
  {
   "cell_type": "code",
   "execution_count": 2,
   "metadata": {
    "tags": []
   },
   "outputs": [
    {
     "data": {
      "text/plain": [
       "4"
      ]
     },
     "execution_count": 2,
     "metadata": {},
     "output_type": "execute_result"
    }
   ],
   "source": [
    "Threads.nthreads()"
   ]
  },
  {
   "cell_type": "markdown",
   "metadata": {},
   "source": [
    "### User threads vs default threads\n",
    "\n",
    "Technically, the Julia process is also spawning multiple threads already in \"single-threaded\" mode, like\n",
    "* a thread for unix signal listening\n",
    "* multiple OpenBLAS threads for BLAS/LAPACK operations\n",
    "* GC threads\n",
    "\n",
    "We call the threads that we can actually run computations on *user threads* or *Julia threads*."
   ]
  },
  {
   "cell_type": "code",
   "execution_count": 3,
   "metadata": {
    "tags": []
   },
   "outputs": [
    {
     "data": {
      "text/plain": [
       "4"
      ]
     },
     "execution_count": 3,
     "metadata": {},
     "output_type": "execute_result"
    }
   ],
   "source": [
    "using LinearAlgebra\n",
    "BLAS.get_num_threads()"
   ]
  },
  {
   "cell_type": "markdown",
   "metadata": {},
   "source": [
    "## Where are my threads running?"
   ]
  },
  {
   "cell_type": "code",
   "execution_count": 4,
   "metadata": {
    "tags": []
   },
   "outputs": [],
   "source": [
    "using ThreadPinning"
   ]
  },
  {
   "cell_type": "code",
   "execution_count": 5,
   "metadata": {
    "tags": []
   },
   "outputs": [
    {
     "name": "stdout",
     "output_type": "stream",
     "text": [
      "Hostname: \tpc2macmini.fritz.box\n",
      "CPU(s): \t1 x Apple M1\n",
      "CPU target: \tapple-m1\n",
      "Cores: \t\t8 (8 CPU-threads)\n",
      "Core kinds: \t4 \"efficiency cores\", 4 \"performance cores\".\n",
      "NUMA domains: \t1 (8 cores each)\n",
      "\n",
      "\u001b[31m\u001b[1mUnsupported OS: Won't be able to highlight Julia threads.\u001b[22m\u001b[39m\n",
      "\n",
      "\u001b[32m\u001b[1mJulia threads: \t4\u001b[22m\u001b[39m\n",
      "\n",
      "\u001b[36m\u001b[1mCPU socket 1\u001b[22m\u001b[39m\n",
      "  \u001b[39m\u001b[4m0\u001b[24m,\u001b[39m\u001b[4m1\u001b[24m,\u001b[39m\u001b[4m2\u001b[24m,\u001b[39m\u001b[4m3\u001b[24m,\u001b[39m4,\u001b[39m5,\u001b[39m6,\u001b[39m7\n",
      "\n",
      "\n",
      "\u001b[33m\u001b[1m#\u001b[22m\u001b[39m = Julia thread, \u001b[31m\u001b[1m#\u001b[22m\u001b[39m = >1 Julia thread, \u001b[0m\u001b[4m#\u001b[24m = Efficiency core\n"
     ]
    }
   ],
   "source": [
    "threadinfo()"
   ]
  },
  {
   "cell_type": "markdown",
   "metadata": {},
   "source": [
    " "
   ]
  },
  {
   "cell_type": "markdown",
   "metadata": {
    "tags": []
   },
   "source": [
    "<img src=\"imgs/threadinfo.png\" width=1000px>"
   ]
  },
  {
   "cell_type": "markdown",
   "metadata": {},
   "source": [
    "## Task-based multithreading\n",
    "\n",
    "Julia implements **task-based** multithreading. In this paradigm, a task - e.g. a computational piece of a code - is marked for **parallel** execution on **any** of the Julia threads. Julia's **dynamic scheduler** will put the task on a thread and trigger the execution of the task.\n",
    "\n",
    "<br>\n",
    "<!-- <img src=\"imgs/task-based-parallelism.png\" width=768px> -->\n",
    "<img src=\"imgs/tasks_threads_cores.svg\" width=650px>\n",
    "</br>\n",
    "\n",
    "Task-based multithreading: **The user should think about tasks and not threads**.\n",
    "* By default, the user does not control on which thread a task will run (the task might even [migrate](https://docs.julialang.org/en/v1/manual/multi-threading/#man-task-migration) between threads!).\n",
    "\n",
    "**Advantages:**\n",
    "* high-level abstraction: one can spawn many tasks (>> number of threads)\n",
    "* nestable multithreading\n",
    "\n",
    "**Disadvantages:**\n",
    "* dynamic scheduling overhead\n",
    "* uncertainty and potentially suboptimal task → thread assignment\n",
    "  * can get in the way when performance engineering"
   ]
  },
  {
   "cell_type": "markdown",
   "metadata": {},
   "source": [
    "### Spawning tasks\n",
    "`Threads.@spawn` spawns a task to be run on any Julia thread. Specifically, it creates a `Task` and schedules it for execution on an available Julia thread (we don't control which one!).\n",
    "\n",
    "Note that `Threads.@spawn` is **asynchronous** and **non-blocking**, that is, it doesn't wait for the task to actually run but immediately returns a `Task`."
   ]
  },
  {
   "cell_type": "code",
   "execution_count": 6,
   "metadata": {
    "tags": []
   },
   "outputs": [],
   "source": [
    "using Base.Threads # afterwards we can just write @spawn instead of Threads.@spawn"
   ]
  },
  {
   "cell_type": "code",
   "execution_count": 7,
   "metadata": {
    "tags": []
   },
   "outputs": [
    {
     "data": {
      "text/plain": [
       "Task (done) @0x000000015284d5f0"
      ]
     },
     "execution_count": 7,
     "metadata": {},
     "output_type": "execute_result"
    }
   ],
   "source": [
    "@spawn 3+3"
   ]
  },
  {
   "cell_type": "markdown",
   "metadata": {},
   "source": [
    "We can fetch the result of a task with `fetch`."
   ]
  },
  {
   "cell_type": "code",
   "execution_count": 8,
   "metadata": {
    "tags": []
   },
   "outputs": [
    {
     "data": {
      "text/plain": [
       "6"
      ]
     },
     "execution_count": 8,
     "metadata": {},
     "output_type": "execute_result"
    }
   ],
   "source": [
    "t = @spawn 3+3\n",
    "fetch(t)"
   ]
  },
  {
   "cell_type": "markdown",
   "metadata": {},
   "source": [
    "While `@spawn` returns right away, `fetch` is **blocking** as it has to wait for the task to actually finish."
   ]
  },
  {
   "cell_type": "code",
   "execution_count": 9,
   "metadata": {
    "tags": []
   },
   "outputs": [
    {
     "name": "stdout",
     "output_type": "stream",
     "text": [
      "  0.000062 seconds (31 allocations: 2.203 KiB)\n",
      "  2.980782 seconds (183 allocations: 12.391 KiB)\n"
     ]
    },
    {
     "data": {
      "text/plain": [
       "6"
      ]
     },
     "execution_count": 9,
     "metadata": {},
     "output_type": "execute_result"
    }
   ],
   "source": [
    "@time t = @spawn begin\n",
    "    sleep(3)\n",
    "    return 3+3\n",
    "end\n",
    "@time fetch(t)"
   ]
  },
  {
   "cell_type": "markdown",
   "metadata": {},
   "source": [
    "We can use the macro `@sync` to synchronize all (lexically) encompassed asynchronous operations (`@spawn`)."
   ]
  },
  {
   "cell_type": "code",
   "execution_count": null,
   "metadata": {
    "tags": []
   },
   "outputs": [],
   "source": [
    "@time @sync t = @spawn begin\n",
    "    sleep(3)\n",
    "    return 3+3\n",
    "end\n",
    "@time fetch(t)"
   ]
  },
  {
   "cell_type": "markdown",
   "metadata": {},
   "source": [
    "#### Example: multithreaded `map`"
   ]
  },
  {
   "cell_type": "markdown",
   "metadata": {
    "tags": []
   },
   "source": [
    "`tmap`: *threaded map*"
   ]
  },
  {
   "cell_type": "code",
   "execution_count": 10,
   "metadata": {
    "tags": []
   },
   "outputs": [
    {
     "data": {
      "text/plain": [
       "tmap (generic function with 1 method)"
      ]
     },
     "execution_count": 10,
     "metadata": {},
     "output_type": "execute_result"
    }
   ],
   "source": [
    "function tmap(f, collection)\n",
    "    tasks = map(x -> @spawn(f(x)), collection)  # for each x ∈ collection, spawn a task to compute f(x)\n",
    "    return fetch.(tasks)                        # fetch and return all the results\n",
    "end"
   ]
  },
  {
   "cell_type": "code",
   "execution_count": 12,
   "metadata": {
    "tags": []
   },
   "outputs": [],
   "source": [
    "M = [rand(200,200) for i in 1:8];"
   ]
  },
  {
   "cell_type": "code",
   "execution_count": 13,
   "metadata": {
    "tags": []
   },
   "outputs": [
    {
     "data": {
      "text/plain": [
       "8-element Vector{Vector{Float64}}:\n",
       " [100.62249305056245, 7.88646934027232, 7.738424398190583, 7.684647332638145, 7.5955563663360355, 7.54525835028386, 7.434152374139923, 7.392605747663393, 7.315350134852897, 7.236032858026454  …  0.28381858953575967, 0.23624844098154285, 0.21190873934466117, 0.20740526443551657, 0.14148730549188718, 0.125903016186162, 0.09934751787890563, 0.06124817558574783, 0.03666674027579161, 0.028752830575313602]\n",
       " [99.98124113374108, 8.19059991145892, 7.871395611108532, 7.682669050507281, 7.598540699412352, 7.50541605183779, 7.411383611865332, 7.345351822575895, 7.261887000920758, 7.214714039839069  …  0.31685723902697305, 0.2431016967126658, 0.23280914667136146, 0.20912133195913862, 0.16634586482804345, 0.14993800040722546, 0.12640526454207568, 0.07738715092036051, 0.07183833574104066, 0.030370245962765816]\n",
       " [100.68868828635557, 7.953719200440757, 7.82872700187935, 7.75887182981286, 7.6707904830474964, 7.558778777804758, 7.473621312672282, 7.39617994576773, 7.349952177026332, 7.312296420054041  …  0.34575575046739726, 0.29938436162793053, 0.2444483698249779, 0.2072614369344181, 0.17211868794332053, 0.15476993364832942, 0.12136115261967476, 0.08023271472891125, 0.07021307151219806, 0.016347599212419905]\n",
       " [100.18747379351171, 7.9082244805659165, 7.876574934235087, 7.690913790428586, 7.658211500602807, 7.470770393458834, 7.424503736196808, 7.375668700742621, 7.2531082308351955, 7.19975265457789  …  0.3079928687507509, 0.2554337277151482, 0.20461422779785526, 0.1713745309370916, 0.13920995444708173, 0.12911225349554017, 0.11743796550090449, 0.0534981904961863, 0.04811746620058821, 0.020116606635231175]\n",
       " [99.7250994296528, 7.925947824983254, 7.800736897849678, 7.779986672467799, 7.605287377256598, 7.481397473889389, 7.462384425123153, 7.438620252112352, 7.333962509352952, 7.207776524249682  …  0.28496312074745056, 0.24421108804339084, 0.2170375674201127, 0.19066281211851785, 0.13738704716834935, 0.1275832850380616, 0.10443224740535131, 0.054981659202766306, 0.031500985464340665, 0.0009873553979021627]\n",
       " [99.67975409638525, 7.958854908856391, 7.832513057448273, 7.651018472503991, 7.631458159624879, 7.539712863841014, 7.4908277826123415, 7.34744774728779, 7.323567361446873, 7.24988808948838  …  0.3229940254584451, 0.3182139903855683, 0.2636062182877052, 0.21891118970279153, 0.19581588140867298, 0.11692818902640999, 0.11181246156814026, 0.09338115242248986, 0.021915171047367548, 0.002409704444706182]\n",
       " [100.68959792710764, 8.139672187394858, 7.9996308210852565, 7.7798859075017885, 7.650450413109525, 7.577276749839134, 7.470169352156498, 7.403227138369296, 7.280289824089842, 7.207561361825122  …  0.3131942353646022, 0.2855218398100524, 0.231810308418664, 0.2185378748450788, 0.13314846745249886, 0.12457427460083735, 0.10158185668518237, 0.07484999366530003, 0.06302715575328138, 0.03772735281642151]\n",
       " [99.7558869659081, 8.096154896517517, 7.9572501542542655, 7.874950194181593, 7.754998289417763, 7.626396868285197, 7.488423477886024, 7.422874965183199, 7.361185854104835, 7.268039161231258  …  0.3209773108716853, 0.2798206447616582, 0.26013320192994743, 0.20724780880125218, 0.18374104361868152, 0.1349445189435047, 0.11499384553363004, 0.09921729643007067, 0.0364896454294696, 0.019154761579890246]"
      ]
     },
     "execution_count": 13,
     "metadata": {},
     "output_type": "execute_result"
    }
   ],
   "source": [
    "tmap(svdvals, M)"
   ]
  },
  {
   "cell_type": "code",
   "execution_count": 14,
   "metadata": {
    "tags": []
   },
   "outputs": [],
   "source": [
    "using BenchmarkTools"
   ]
  },
  {
   "cell_type": "code",
   "execution_count": 15,
   "metadata": {
    "tags": []
   },
   "outputs": [
    {
     "name": "stdout",
     "output_type": "stream",
     "text": [
      "  14.578 ms (113 allocations: 3.38 MiB)\n",
      "  30.832 ms (65 allocations: 3.38 MiB)\n"
     ]
    }
   ],
   "source": [
    "@btime tmap($svdvals, $M) samples=10 evals=3;\n",
    "@btime map($svdvals, $M) samples=10 evals=3;"
   ]
  },
  {
   "cell_type": "markdown",
   "metadata": {},
   "source": [
    "If you use multithreading in Julia in combination with BLAS/LAPACK functions, it is important to carefully consider and configure the [interplay between Julia threads and BLAS threads](https://carstenbauer.github.io/ThreadPinning.jl/stable/explanations/blas/).\n",
    "\n",
    "Easiest way out: turn of BLAS/LAPACK multithreading."
   ]
  },
  {
   "cell_type": "code",
   "execution_count": 16,
   "metadata": {
    "tags": []
   },
   "outputs": [],
   "source": [
    "BLAS.set_num_threads(1)"
   ]
  },
  {
   "cell_type": "code",
   "execution_count": 17,
   "metadata": {
    "tags": []
   },
   "outputs": [
    {
     "name": "stdout",
     "output_type": "stream",
     "text": [
      "  7.807 ms (113 allocations: 3.38 MiB)\n",
      "  28.677 ms (65 allocations: 3.38 MiB)\n"
     ]
    }
   ],
   "source": [
    "@btime tmap($svdvals, $M) samples=10 evals=3;\n",
    "@btime map($svdvals, $M) samples=10 evals=3;"
   ]
  },
  {
   "cell_type": "markdown",
   "metadata": {},
   "source": [
    "#### Example: multithreading for-loops"
   ]
  },
  {
   "cell_type": "code",
   "execution_count": 20,
   "metadata": {
    "tags": []
   },
   "outputs": [],
   "source": [
    "using ThreadPinning.Utility: taskid"
   ]
  },
  {
   "cell_type": "code",
   "execution_count": 22,
   "metadata": {
    "tags": []
   },
   "outputs": [
    {
     "name": "stdout",
     "output_type": "stream",
     "text": [
      "Task 858898612978605224 is running iteration 4 on thread 1\n",
      "Task 4163829666221995616 is running iteration 2 on thread 4\n",
      "Task 4447764555518893346 is running iteration 5 on thread 4\n",
      "Task 1520382692800496960 is running iteration 3 on thread 3\n",
      "Task 10649719027710713544 is running iteration 6 on thread 4\n",
      "Task 16492472265793183757 is running iteration 8 on thread 4\n",
      "Task 13570975818238066913 is running iteration 1 on thread 2\n",
      "Task 18206169384540845315 is running iteration 7 on thread 1\n"
     ]
    }
   ],
   "source": [
    "@sync for i in 1:8\n",
    "    @spawn println(\"Task \", taskid(), \" is running iteration \", i, \" on thread \", threadid())\n",
    "end"
   ]
  },
  {
   "cell_type": "markdown",
   "metadata": {},
   "source": [
    "##### `@threads`"
   ]
  },
  {
   "cell_type": "markdown",
   "metadata": {},
   "source": [
    "* **Splits up the iteration space into `nthreads()` contiguous chunks**\n",
    "* Creates a task for each chunk."
   ]
  },
  {
   "cell_type": "code",
   "execution_count": 23,
   "metadata": {
    "tags": []
   },
   "outputs": [
    {
     "name": "stdout",
     "output_type": "stream",
     "text": [
      "Task 1881879333544461475 is running iteration 1 on thread 1\n",
      "Task 14826714216980522000 is running iteration 5 on thread 3\n",
      "Task 1881879333544461475 is running iteration 2 on thread 2\n",
      "Task 14826714216980522000 is running iteration 6 on thread 2\n",
      "Task 339865449406258305 is running iteration 7 on thread 2\n",
      "Task 5472231908147987540 is running iteration 3 on thread 4\n",
      "Task 5472231908147987540 is running iteration 4 on thread 4\n",
      "Task 339865449406258305 is running iteration 8 on thread 3\n"
     ]
    }
   ],
   "source": [
    "@threads for i in 1:8\n",
    "    println(\"Task \", taskid(), \" is running iteration \", i, \" on thread \", threadid())\n",
    "end"
   ]
  },
  {
   "cell_type": "markdown",
   "metadata": {},
   "source": [
    "### Load-balancing and chunking"
   ]
  },
  {
   "cell_type": "markdown",
   "metadata": {},
   "source": [
    "If there are many tasks (e.g. many more than available threads), Julia's scheduler balances the load of these tasks among threads."
   ]
  },
  {
   "cell_type": "code",
   "execution_count": 142,
   "metadata": {
    "tags": []
   },
   "outputs": [],
   "source": [
    "using StatsPlots\n",
    "using ChunkSplitters"
   ]
  },
  {
   "cell_type": "markdown",
   "metadata": {},
   "source": [
    "The package [ChunkSplitters.jl](https://github.com/m3g/ChunkSplitters.jl) is helpful for chunking (`Iterators.partition` is a built-in alternative)."
   ]
  },
  {
   "cell_type": "code",
   "execution_count": 168,
   "metadata": {},
   "outputs": [
    {
     "data": {
      "text/plain": [
       "tmap_tracking (generic function with 1 method)"
      ]
     },
     "execution_count": 168,
     "metadata": {},
     "output_type": "execute_result"
    }
   ],
   "source": [
    "# this function is purely pedagogical\n",
    "function tmap_tracking(f, collection; tracker = [UnitRange[] for _ in 1:nthreads()], ntasks=nthreads())\n",
    "    result = zeros(length(collection))\n",
    "    @sync for idcs in chunks(collection; n=ntasks)    # chunk up collection into ntasks-many chunks\n",
    "        Threads.@spawn begin                          # spawn a task for each chunk\n",
    "            for i in idcs                             # for each element of a that belongs to this chunk/task\n",
    "                result[i] = f(collection[i])          # apply f\n",
    "            end\n",
    "            push!(tracker[threadid()], idcs)          # keep track of which thread ran the task\n",
    "        end\n",
    "    end\n",
    "    return result, tracker\n",
    "end"
   ]
  },
  {
   "cell_type": "code",
   "execution_count": 186,
   "metadata": {
    "tags": []
   },
   "outputs": [
    {
     "data": {
      "image/png": "[encoded data removed]",
      "image/svg+xml": [
       "<?xml version=\"1.0\" encoding=\"utf-8\"?>\n",
       "<svg xmlns=\"http://www.w3.org/2000/svg\" xmlns:xlink=\"http://www.w3.org/1999/xlink\" width=\"600\" height=\"400\" viewBox=\"0 0 2400 1600\">\n",
       "<defs>\n",
       "  <clipPath id=\"clip810\">\n",
       "    <rect x=\"0\" y=\"0\" width=\"2400\" height=\"1600\"/>\n",
       "  </clipPath>\n",
       "</defs>\n",
       "<path clip-path=\"url(#clip810)\" d=\"M0 1600 L2400 1600 L2400 8.88178e-14 L0 8.88178e-14  Z\" fill=\"#ffffff\" fill-rule=\"evenodd\" fill-opacity=\"1\"/>\n",
       "<defs>\n",
       "  <clipPath id=\"clip811\">\n",
       "    <rect x=\"480\" y=\"0\" width=\"1681\" height=\"1600\"/>\n",
       "  </clipPath>\n",
       "</defs>\n",
       "<path clip-path=\"url(#clip810)\" d=\"M264.287 1423.18 L2352.76 1423.18 L2352.76 123.472 L264.287 123.472  Z\" fill=\"#ffffff\" fill-rule=\"evenodd\" fill-opacity=\"1\"/>\n",
       "<defs>\n",
       "  <clipPath id=\"clip812\">\n",
       "    <rect x=\"264\" y=\"123\" width=\"2089\" height=\"1301\"/>\n",
       "  </clipPath>\n",
       "</defs>\n",
       "<polyline clip-path=\"url(#clip812)\" style=\"stroke:#000000; stroke-linecap:round; stroke-linejoin:round; stroke-width:2; stroke-opacity:0.1; fill:none\" points=\"574.813,1423.18 574.813,123.472 \"/>\n",
       "<polyline clip-path=\"url(#clip812)\" style=\"stroke:#000000; stroke-linecap:round; stroke-linejoin:round; stroke-width:2; stroke-opacity:0.1; fill:none\" points=\"1063.95,1423.18 1063.95,123.472 \"/>\n",
       "<polyline clip-path=\"url(#clip812)\" style=\"stroke:#000000; stroke-linecap:round; stroke-linejoin:round; stroke-width:2; stroke-opacity:0.1; fill:none\" points=\"1553.09,1423.18 1553.09,123.472 \"/>\n",
       "<polyline clip-path=\"url(#clip812)\" style=\"stroke:#000000; stroke-linecap:round; stroke-linejoin:round; stroke-width:2; stroke-opacity:0.1; fill:none\" points=\"2042.23,1423.18 2042.23,123.472 \"/>\n",
       "<polyline clip-path=\"url(#clip810)\" style=\"stroke:#000000; stroke-linecap:round; stroke-linejoin:round; stroke-width:4; stroke-opacity:1; fill:none\" points=\"264.287,1423.18 2352.76,1423.18 \"/>\n",
       "<polyline clip-path=\"url(#clip810)\" style=\"stroke:#000000; stroke-linecap:round; stroke-linejoin:round; stroke-width:4; stroke-opacity:1; fill:none\" points=\"574.813,1423.18 574.813,1404.28 \"/>\n",
       "<polyline clip-path=\"url(#clip810)\" style=\"stroke:#000000; stroke-linecap:round; stroke-linejoin:round; stroke-width:4; stroke-opacity:1; fill:none\" points=\"1063.95,1423.18 1063.95,1404.28 \"/>\n",
       "<polyline clip-path=\"url(#clip810)\" style=\"stroke:#000000; stroke-linecap:round; stroke-linejoin:round; stroke-width:4; stroke-opacity:1; fill:none\" points=\"1553.09,1423.18 1553.09,1404.28 \"/>\n",
       "<polyline clip-path=\"url(#clip810)\" style=\"stroke:#000000; stroke-linecap:round; stroke-linejoin:round; stroke-width:4; stroke-opacity:1; fill:none\" points=\"2042.23,1423.18 2042.23,1404.28 \"/>\n",
       "<path clip-path=\"url(#clip810)\" d=\"M565.195 1481.64 L572.833 1481.64 L572.833 1455.28 L564.523 1456.95 L564.523 1452.69 L572.787 1451.02 L577.463 1451.02 L577.463 1481.64 L585.102 1481.64 L585.102 1485.58 L565.195 1485.58 L565.195 1481.64 Z\" fill=\"#000000\" fill-rule=\"nonzero\" fill-opacity=\"1\" /><path clip-path=\"url(#clip810)\" d=\"M1058.6 1481.64 L1074.92 1481.64 L1074.92 1485.58 L1052.98 1485.58 L1052.98 1481.64 Q1055.64 1478.89 1060.23 1474.26 Q1064.83 1469.61 1066.01 1468.27 Q1068.26 1465.74 1069.14 1464.01 Q1070.04 1462.25 1070.04 1460.56 Q1070.04 1457.8 1068.1 1456.07 Q1066.17 1454.33 1063.07 1454.33 Q1060.87 1454.33 1058.42 1455.09 Q1055.99 1455.86 1053.21 1457.41 L1053.21 1452.69 Q1056.04 1451.55 1058.49 1450.97 Q1060.94 1450.39 1062.98 1450.39 Q1068.35 1450.39 1071.54 1453.08 Q1074.74 1455.77 1074.74 1460.26 Q1074.74 1462.39 1073.93 1464.31 Q1073.14 1466.2 1071.04 1468.8 Q1070.46 1469.47 1067.35 1472.69 Q1064.25 1475.88 1058.6 1481.64 Z\" fill=\"#000000\" fill-rule=\"nonzero\" fill-opacity=\"1\" /><path clip-path=\"url(#clip810)\" d=\"M1557.34 1466.95 Q1560.7 1467.66 1562.57 1469.93 Q1564.47 1472.2 1564.47 1475.53 Q1564.47 1480.65 1560.95 1483.45 Q1557.43 1486.25 1550.95 1486.25 Q1548.77 1486.25 1546.46 1485.81 Q1544.17 1485.39 1541.71 1484.54 L1541.71 1480.02 Q1543.66 1481.16 1545.97 1481.74 Q1548.29 1482.32 1550.81 1482.32 Q1555.21 1482.32 1557.5 1480.58 Q1559.82 1478.84 1559.82 1475.53 Q1559.82 1472.48 1557.66 1470.77 Q1555.53 1469.03 1551.71 1469.03 L1547.69 1469.03 L1547.69 1465.19 L1551.9 1465.19 Q1555.35 1465.19 1557.18 1463.82 Q1559.01 1462.43 1559.01 1459.84 Q1559.01 1457.18 1557.11 1455.77 Q1555.23 1454.33 1551.71 1454.33 Q1549.79 1454.33 1547.59 1454.75 Q1545.39 1455.16 1542.76 1456.04 L1542.76 1451.88 Q1545.42 1451.14 1547.73 1450.77 Q1550.07 1450.39 1552.13 1450.39 Q1557.45 1450.39 1560.56 1452.83 Q1563.66 1455.23 1563.66 1459.35 Q1563.66 1462.22 1562.01 1464.21 Q1560.37 1466.18 1557.34 1466.95 Z\" fill=\"#000000\" fill-rule=\"nonzero\" fill-opacity=\"1\" /><path clip-path=\"url(#clip810)\" d=\"M2045.24 1455.09 L2033.43 1473.54 L2045.24 1473.54 L2045.24 1455.09 M2044.01 1451.02 L2049.89 1451.02 L2049.89 1473.54 L2054.82 1473.54 L2054.82 1477.43 L2049.89 1477.43 L2049.89 1485.58 L2045.24 1485.58 L2045.24 1477.43 L2029.64 1477.43 L2029.64 1472.92 L2044.01 1451.02 Z\" fill=\"#000000\" fill-rule=\"nonzero\" fill-opacity=\"1\" /><path clip-path=\"url(#clip810)\" d=\"M1185.97 1522.27 L1185.97 1532.4 L1198.03 1532.4 L1198.03 1536.95 L1185.97 1536.95 L1185.97 1556.3 Q1185.97 1560.66 1187.14 1561.9 Q1188.35 1563.14 1192.01 1563.14 L1198.03 1563.14 L1198.03 1568.04 L1192.01 1568.04 Q1185.23 1568.04 1182.66 1565.53 Q1180.08 1562.98 1180.08 1556.3 L1180.08 1536.95 L1175.78 1536.95 L1175.78 1532.4 L1180.08 1532.4 L1180.08 1522.27 L1185.97 1522.27 Z\" fill=\"#000000\" fill-rule=\"nonzero\" fill-opacity=\"1\" /><path clip-path=\"url(#clip810)\" d=\"M1235.36 1546.53 L1235.36 1568.04 L1229.51 1568.04 L1229.51 1546.72 Q1229.51 1541.66 1227.53 1539.14 Q1225.56 1536.63 1221.61 1536.63 Q1216.87 1536.63 1214.13 1539.65 Q1211.4 1542.68 1211.4 1547.9 L1211.4 1568.04 L1205.51 1568.04 L1205.51 1518.52 L1211.4 1518.52 L1211.4 1537.93 Q1213.5 1534.72 1216.33 1533.13 Q1219.19 1531.54 1222.92 1531.54 Q1229.06 1531.54 1232.21 1535.36 Q1235.36 1539.14 1235.36 1546.53 Z\" fill=\"#000000\" fill-rule=\"nonzero\" fill-opacity=\"1\" /><path clip-path=\"url(#clip810)\" d=\"M1267.7 1537.87 Q1266.71 1537.3 1265.54 1537.04 Q1264.39 1536.76 1262.99 1536.76 Q1258.03 1536.76 1255.35 1540 Q1252.71 1543.22 1252.71 1549.27 L1252.71 1568.04 L1246.82 1568.04 L1246.82 1532.4 L1252.71 1532.4 L1252.71 1537.93 Q1254.56 1534.69 1257.52 1533.13 Q1260.48 1531.54 1264.71 1531.54 Q1265.31 1531.54 1266.05 1531.63 Q1266.78 1531.7 1267.67 1531.85 L1267.7 1537.87 Z\" fill=\"#000000\" fill-rule=\"nonzero\" fill-opacity=\"1\" /><path clip-path=\"url(#clip810)\" d=\"M1302.9 1548.76 L1302.9 1551.62 L1275.98 1551.62 Q1276.36 1557.67 1279.61 1560.85 Q1282.88 1564 1288.71 1564 Q1292.08 1564 1295.23 1563.17 Q1298.42 1562.35 1301.54 1560.69 L1301.54 1566.23 Q1298.38 1567.57 1295.07 1568.27 Q1291.76 1568.97 1288.36 1568.97 Q1279.83 1568.97 1274.83 1564 Q1269.87 1559.04 1269.87 1550.57 Q1269.87 1541.82 1274.58 1536.69 Q1279.32 1531.54 1287.34 1531.54 Q1294.53 1531.54 1298.7 1536.18 Q1302.9 1540.8 1302.9 1548.76 M1297.05 1547.04 Q1296.98 1542.23 1294.34 1539.37 Q1291.73 1536.5 1287.4 1536.5 Q1282.5 1536.5 1279.54 1539.27 Q1276.61 1542.04 1276.17 1547.07 L1297.05 1547.04 Z\" fill=\"#000000\" fill-rule=\"nonzero\" fill-opacity=\"1\" /><path clip-path=\"url(#clip810)\" d=\"M1328.72 1550.12 Q1321.62 1550.12 1318.88 1551.75 Q1316.14 1553.37 1316.14 1557.29 Q1316.14 1560.4 1318.18 1562.25 Q1320.25 1564.07 1323.78 1564.07 Q1328.65 1564.07 1331.58 1560.63 Q1334.54 1557.16 1334.54 1551.43 L1334.54 1550.12 L1328.72 1550.12 M1340.4 1547.71 L1340.4 1568.04 L1334.54 1568.04 L1334.54 1562.63 Q1332.54 1565.88 1329.54 1567.44 Q1326.55 1568.97 1322.22 1568.97 Q1316.75 1568.97 1313.5 1565.91 Q1310.29 1562.82 1310.29 1557.67 Q1310.29 1551.65 1314.3 1548.6 Q1318.34 1545.54 1326.33 1545.54 L1334.54 1545.54 L1334.54 1544.97 Q1334.54 1540.93 1331.87 1538.73 Q1329.23 1536.5 1324.42 1536.5 Q1321.36 1536.5 1318.47 1537.23 Q1315.57 1537.97 1312.9 1539.43 L1312.9 1534.02 Q1316.11 1532.78 1319.14 1532.17 Q1322.16 1531.54 1325.02 1531.54 Q1332.76 1531.54 1336.58 1535.55 Q1340.4 1539.56 1340.4 1547.71 Z\" fill=\"#000000\" fill-rule=\"nonzero\" fill-opacity=\"1\" /><path clip-path=\"url(#clip810)\" d=\"M1375.92 1537.81 L1375.92 1518.52 L1381.77 1518.52 L1381.77 1568.04 L1375.92 1568.04 L1375.92 1562.7 Q1374.07 1565.88 1371.24 1567.44 Q1368.44 1568.97 1364.49 1568.97 Q1358.03 1568.97 1353.96 1563.81 Q1349.91 1558.65 1349.91 1550.25 Q1349.91 1541.85 1353.96 1536.69 Q1358.03 1531.54 1364.49 1531.54 Q1368.44 1531.54 1371.24 1533.1 Q1374.07 1534.62 1375.92 1537.81 M1355.96 1550.25 Q1355.96 1556.71 1358.6 1560.4 Q1361.28 1564.07 1365.92 1564.07 Q1370.57 1564.07 1373.24 1560.4 Q1375.92 1556.71 1375.92 1550.25 Q1375.92 1543.79 1373.24 1540.13 Q1370.57 1536.44 1365.92 1536.44 Q1361.28 1536.44 1358.6 1540.13 Q1355.96 1543.79 1355.96 1550.25 Z\" fill=\"#000000\" fill-rule=\"nonzero\" fill-opacity=\"1\" /><path clip-path=\"url(#clip810)\" d=\"M1393.84 1532.4 L1399.69 1532.4 L1399.69 1568.04 L1393.84 1568.04 L1393.84 1532.4 M1393.84 1518.52 L1399.69 1518.52 L1399.69 1525.93 L1393.84 1525.93 L1393.84 1518.52 Z\" fill=\"#000000\" fill-rule=\"nonzero\" fill-opacity=\"1\" /><path clip-path=\"url(#clip810)\" d=\"M1435.41 1537.81 L1435.41 1518.52 L1441.26 1518.52 L1441.26 1568.04 L1435.41 1568.04 L1435.41 1562.7 Q1433.56 1565.88 1430.73 1567.44 Q1427.93 1568.97 1423.98 1568.97 Q1417.52 1568.97 1413.44 1563.81 Q1409.4 1558.65 1409.4 1550.25 Q1409.4 1541.85 1413.44 1536.69 Q1417.52 1531.54 1423.98 1531.54 Q1427.93 1531.54 1430.73 1533.1 Q1433.56 1534.62 1435.41 1537.81 M1415.45 1550.25 Q1415.45 1556.71 1418.09 1560.4 Q1420.76 1564.07 1425.41 1564.07 Q1430.06 1564.07 1432.73 1560.4 Q1435.41 1556.71 1435.41 1550.25 Q1435.41 1543.79 1432.73 1540.13 Q1430.06 1536.44 1425.41 1536.44 Q1420.76 1536.44 1418.09 1540.13 Q1415.45 1543.79 1415.45 1550.25 Z\" fill=\"#000000\" fill-rule=\"nonzero\" fill-opacity=\"1\" /><polyline clip-path=\"url(#clip812)\" style=\"stroke:#000000; stroke-linecap:round; stroke-linejoin:round; stroke-width:2; stroke-opacity:0.1; fill:none\" points=\"264.287,1423.18 2352.76,1423.18 \"/>\n",
       "<polyline clip-path=\"url(#clip812)\" style=\"stroke:#000000; stroke-linecap:round; stroke-linejoin:round; stroke-width:2; stroke-opacity:0.1; fill:none\" points=\"264.287,1136.65 2352.76,1136.65 \"/>\n",
       "<polyline clip-path=\"url(#clip812)\" style=\"stroke:#000000; stroke-linecap:round; stroke-linejoin:round; stroke-width:2; stroke-opacity:0.1; fill:none\" points=\"264.287,850.116 2352.76,850.116 \"/>\n",
       "<polyline clip-path=\"url(#clip812)\" style=\"stroke:#000000; stroke-linecap:round; stroke-linejoin:round; stroke-width:2; stroke-opacity:0.1; fill:none\" points=\"264.287,563.585 2352.76,563.585 \"/>\n",
       "<polyline clip-path=\"url(#clip812)\" style=\"stroke:#000000; stroke-linecap:round; stroke-linejoin:round; stroke-width:2; stroke-opacity:0.1; fill:none\" points=\"264.287,277.053 2352.76,277.053 \"/>\n",
       "<polyline clip-path=\"url(#clip810)\" style=\"stroke:#000000; stroke-linecap:round; stroke-linejoin:round; stroke-width:4; stroke-opacity:1; fill:none\" points=\"264.287,1423.18 264.287,123.472 \"/>\n",
       "<polyline clip-path=\"url(#clip810)\" style=\"stroke:#000000; stroke-linecap:round; stroke-linejoin:round; stroke-width:4; stroke-opacity:1; fill:none\" points=\"264.287,1423.18 283.185,1423.18 \"/>\n",
       "<polyline clip-path=\"url(#clip810)\" style=\"stroke:#000000; stroke-linecap:round; stroke-linejoin:round; stroke-width:4; stroke-opacity:1; fill:none\" points=\"264.287,1136.65 283.185,1136.65 \"/>\n",
       "<polyline clip-path=\"url(#clip810)\" style=\"stroke:#000000; stroke-linecap:round; stroke-linejoin:round; stroke-width:4; stroke-opacity:1; fill:none\" points=\"264.287,850.116 283.185,850.116 \"/>\n",
       "<polyline clip-path=\"url(#clip810)\" style=\"stroke:#000000; stroke-linecap:round; stroke-linejoin:round; stroke-width:4; stroke-opacity:1; fill:none\" points=\"264.287,563.585 283.185,563.585 \"/>\n",
       "<polyline clip-path=\"url(#clip810)\" style=\"stroke:#000000; stroke-linecap:round; stroke-linejoin:round; stroke-width:4; stroke-opacity:1; fill:none\" points=\"264.287,277.053 283.185,277.053 \"/>\n",
       "<path clip-path=\"url(#clip810)\" d=\"M216.343 1408.98 Q212.732 1408.98 210.903 1412.54 Q209.098 1416.08 209.098 1423.21 Q209.098 1430.32 210.903 1433.89 Q212.732 1437.43 216.343 1437.43 Q219.977 1437.43 221.783 1433.89 Q223.611 1430.32 223.611 1423.21 Q223.611 1416.08 221.783 1412.54 Q219.977 1408.98 216.343 1408.98 M216.343 1405.27 Q222.153 1405.27 225.209 1409.88 Q228.287 1414.46 228.287 1423.21 Q228.287 1431.94 225.209 1436.55 Q222.153 1441.13 216.343 1441.13 Q210.533 1441.13 207.454 1436.55 Q204.399 1431.94 204.399 1423.21 Q204.399 1414.46 207.454 1409.88 Q210.533 1405.27 216.343 1405.27 Z\" fill=\"#000000\" fill-rule=\"nonzero\" fill-opacity=\"1\" /><path clip-path=\"url(#clip810)\" d=\"M146.066 1119.37 L164.422 1119.37 L164.422 1123.3 L150.348 1123.3 L150.348 1131.78 Q151.366 1131.43 152.385 1131.27 Q153.403 1131.08 154.422 1131.08 Q160.209 1131.08 163.589 1134.25 Q166.968 1137.42 166.968 1142.84 Q166.968 1148.42 163.496 1151.52 Q160.024 1154.6 153.704 1154.6 Q151.528 1154.6 149.26 1154.23 Q147.015 1153.86 144.607 1153.12 L144.607 1148.42 Q146.691 1149.55 148.913 1150.11 Q151.135 1150.66 153.612 1150.66 Q157.616 1150.66 159.954 1148.56 Q162.292 1146.45 162.292 1142.84 Q162.292 1139.23 159.954 1137.12 Q157.616 1135.02 153.612 1135.02 Q151.737 1135.02 149.862 1135.43 Q148.01 1135.85 146.066 1136.73 L146.066 1119.37 Z\" fill=\"#000000\" fill-rule=\"nonzero\" fill-opacity=\"1\" /><path clip-path=\"url(#clip810)\" d=\"M186.181 1122.45 Q182.57 1122.45 180.741 1126.01 Q178.936 1129.55 178.936 1136.68 Q178.936 1143.79 180.741 1147.35 Q182.57 1150.9 186.181 1150.9 Q189.815 1150.9 191.621 1147.35 Q193.45 1143.79 193.45 1136.68 Q193.45 1129.55 191.621 1126.01 Q189.815 1122.45 186.181 1122.45 M186.181 1118.74 Q191.991 1118.74 195.047 1123.35 Q198.125 1127.93 198.125 1136.68 Q198.125 1145.41 195.047 1150.02 Q191.991 1154.6 186.181 1154.6 Q180.371 1154.6 177.292 1150.02 Q174.237 1145.41 174.237 1136.68 Q174.237 1127.93 177.292 1123.35 Q180.371 1118.74 186.181 1118.74 Z\" fill=\"#000000\" fill-rule=\"nonzero\" fill-opacity=\"1\" /><path clip-path=\"url(#clip810)\" d=\"M216.343 1122.45 Q212.732 1122.45 210.903 1126.01 Q209.098 1129.55 209.098 1136.68 Q209.098 1143.79 210.903 1147.35 Q212.732 1150.9 216.343 1150.9 Q219.977 1150.9 221.783 1147.35 Q223.611 1143.79 223.611 1136.68 Q223.611 1129.55 221.783 1126.01 Q219.977 1122.45 216.343 1122.45 M216.343 1118.74 Q222.153 1118.74 225.209 1123.35 Q228.287 1127.93 228.287 1136.68 Q228.287 1145.41 225.209 1150.02 Q222.153 1154.6 216.343 1154.6 Q210.533 1154.6 207.454 1150.02 Q204.399 1145.41 204.399 1136.68 Q204.399 1127.93 207.454 1123.35 Q210.533 1118.74 216.343 1118.74 Z\" fill=\"#000000\" fill-rule=\"nonzero\" fill-opacity=\"1\" /><path clip-path=\"url(#clip810)\" d=\"M116.668 863.461 L124.306 863.461 L124.306 837.096 L115.996 838.762 L115.996 834.503 L124.26 832.836 L128.936 832.836 L128.936 863.461 L136.575 863.461 L136.575 867.396 L116.668 867.396 L116.668 863.461 Z\" fill=\"#000000\" fill-rule=\"nonzero\" fill-opacity=\"1\" /><path clip-path=\"url(#clip810)\" d=\"M156.019 835.915 Q152.408 835.915 150.579 839.48 Q148.774 843.022 148.774 850.151 Q148.774 857.258 150.579 860.822 Q152.408 864.364 156.019 864.364 Q159.653 864.364 161.459 860.822 Q163.288 857.258 163.288 850.151 Q163.288 843.022 161.459 839.48 Q159.653 835.915 156.019 835.915 M156.019 832.211 Q161.829 832.211 164.885 836.818 Q167.964 841.401 167.964 850.151 Q167.964 858.878 164.885 863.484 Q161.829 868.068 156.019 868.068 Q150.209 868.068 147.13 863.484 Q144.075 858.878 144.075 850.151 Q144.075 841.401 147.13 836.818 Q150.209 832.211 156.019 832.211 Z\" fill=\"#000000\" fill-rule=\"nonzero\" fill-opacity=\"1\" /><path clip-path=\"url(#clip810)\" d=\"M186.181 835.915 Q182.57 835.915 180.741 839.48 Q178.936 843.022 178.936 850.151 Q178.936 857.258 180.741 860.822 Q182.57 864.364 186.181 864.364 Q189.815 864.364 191.621 860.822 Q193.45 857.258 193.45 850.151 Q193.45 843.022 191.621 839.48 Q189.815 835.915 186.181 835.915 M186.181 832.211 Q191.991 832.211 195.047 836.818 Q198.125 841.401 198.125 850.151 Q198.125 858.878 195.047 863.484 Q191.991 868.068 186.181 868.068 Q180.371 868.068 177.292 863.484 Q174.237 858.878 174.237 850.151 Q174.237 841.401 177.292 836.818 Q180.371 832.211 186.181 832.211 Z\" fill=\"#000000\" fill-rule=\"nonzero\" fill-opacity=\"1\" /><path clip-path=\"url(#clip810)\" d=\"M216.343 835.915 Q212.732 835.915 210.903 839.48 Q209.098 843.022 209.098 850.151 Q209.098 857.258 210.903 860.822 Q212.732 864.364 216.343 864.364 Q219.977 864.364 221.783 860.822 Q223.611 857.258 223.611 850.151 Q223.611 843.022 221.783 839.48 Q219.977 835.915 216.343 835.915 M216.343 832.211 Q222.153 832.211 225.209 836.818 Q228.287 841.401 228.287 850.151 Q228.287 858.878 225.209 863.484 Q222.153 868.068 216.343 868.068 Q210.533 868.068 207.454 863.484 Q204.399 858.878 204.399 850.151 Q204.399 841.401 207.454 836.818 Q210.533 832.211 216.343 832.211 Z\" fill=\"#000000\" fill-rule=\"nonzero\" fill-opacity=\"1\" /><path clip-path=\"url(#clip810)\" d=\"M116.668 576.93 L124.306 576.93 L124.306 550.564 L115.996 552.231 L115.996 547.971 L124.26 546.305 L128.936 546.305 L128.936 576.93 L136.575 576.93 L136.575 580.865 L116.668 580.865 L116.668 576.93 Z\" fill=\"#000000\" fill-rule=\"nonzero\" fill-opacity=\"1\" /><path clip-path=\"url(#clip810)\" d=\"M146.066 546.305 L164.422 546.305 L164.422 550.24 L150.348 550.24 L150.348 558.712 Q151.366 558.365 152.385 558.203 Q153.403 558.018 154.422 558.018 Q160.209 558.018 163.589 561.189 Q166.968 564.36 166.968 569.777 Q166.968 575.356 163.496 578.457 Q160.024 581.536 153.704 581.536 Q151.528 581.536 149.26 581.166 Q147.015 580.795 144.607 580.055 L144.607 575.356 Q146.691 576.49 148.913 577.045 Q151.135 577.601 153.612 577.601 Q157.616 577.601 159.954 575.494 Q162.292 573.388 162.292 569.777 Q162.292 566.166 159.954 564.059 Q157.616 561.953 153.612 561.953 Q151.737 561.953 149.862 562.37 Q148.01 562.786 146.066 563.666 L146.066 546.305 Z\" fill=\"#000000\" fill-rule=\"nonzero\" fill-opacity=\"1\" /><path clip-path=\"url(#clip810)\" d=\"M186.181 549.383 Q182.57 549.383 180.741 552.948 Q178.936 556.49 178.936 563.62 Q178.936 570.726 180.741 574.291 Q182.57 577.832 186.181 577.832 Q189.815 577.832 191.621 574.291 Q193.45 570.726 193.45 563.62 Q193.45 556.49 191.621 552.948 Q189.815 549.383 186.181 549.383 M186.181 545.68 Q191.991 545.68 195.047 550.286 Q198.125 554.87 198.125 563.62 Q198.125 572.346 195.047 576.953 Q191.991 581.536 186.181 581.536 Q180.371 581.536 177.292 576.953 Q174.237 572.346 174.237 563.62 Q174.237 554.87 177.292 550.286 Q180.371 545.68 186.181 545.68 Z\" fill=\"#000000\" fill-rule=\"nonzero\" fill-opacity=\"1\" /><path clip-path=\"url(#clip810)\" d=\"M216.343 549.383 Q212.732 549.383 210.903 552.948 Q209.098 556.49 209.098 563.62 Q209.098 570.726 210.903 574.291 Q212.732 577.832 216.343 577.832 Q219.977 577.832 221.783 574.291 Q223.611 570.726 223.611 563.62 Q223.611 556.49 221.783 552.948 Q219.977 549.383 216.343 549.383 M216.343 545.68 Q222.153 545.68 225.209 550.286 Q228.287 554.87 228.287 563.62 Q228.287 572.346 225.209 576.953 Q222.153 581.536 216.343 581.536 Q210.533 581.536 207.454 576.953 Q204.399 572.346 204.399 563.62 Q204.399 554.87 207.454 550.286 Q210.533 545.68 216.343 545.68 Z\" fill=\"#000000\" fill-rule=\"nonzero\" fill-opacity=\"1\" /><path clip-path=\"url(#clip810)\" d=\"M119.885 290.398 L136.204 290.398 L136.204 294.333 L114.26 294.333 L114.26 290.398 Q116.922 287.643 121.505 283.014 Q126.112 278.361 127.292 277.018 Q129.538 274.495 130.417 272.759 Q131.32 271 131.32 269.31 Q131.32 266.555 129.376 264.819 Q127.455 263.083 124.353 263.083 Q122.154 263.083 119.7 263.847 Q117.269 264.611 114.492 266.162 L114.492 261.44 Q117.316 260.306 119.769 259.727 Q122.223 259.148 124.26 259.148 Q129.63 259.148 132.825 261.833 Q136.019 264.518 136.019 269.009 Q136.019 271.139 135.209 273.06 Q134.422 274.958 132.316 277.551 Q131.737 278.222 128.635 281.44 Q125.533 284.634 119.885 290.398 Z\" fill=\"#000000\" fill-rule=\"nonzero\" fill-opacity=\"1\" /><path clip-path=\"url(#clip810)\" d=\"M156.019 262.852 Q152.408 262.852 150.579 266.417 Q148.774 269.958 148.774 277.088 Q148.774 284.194 150.579 287.759 Q152.408 291.301 156.019 291.301 Q159.653 291.301 161.459 287.759 Q163.288 284.194 163.288 277.088 Q163.288 269.958 161.459 266.417 Q159.653 262.852 156.019 262.852 M156.019 259.148 Q161.829 259.148 164.885 263.755 Q167.964 268.338 167.964 277.088 Q167.964 285.815 164.885 290.421 Q161.829 295.004 156.019 295.004 Q150.209 295.004 147.13 290.421 Q144.075 285.815 144.075 277.088 Q144.075 268.338 147.13 263.755 Q150.209 259.148 156.019 259.148 Z\" fill=\"#000000\" fill-rule=\"nonzero\" fill-opacity=\"1\" /><path clip-path=\"url(#clip810)\" d=\"M186.181 262.852 Q182.57 262.852 180.741 266.417 Q178.936 269.958 178.936 277.088 Q178.936 284.194 180.741 287.759 Q182.57 291.301 186.181 291.301 Q189.815 291.301 191.621 287.759 Q193.45 284.194 193.45 277.088 Q193.45 269.958 191.621 266.417 Q189.815 262.852 186.181 262.852 M186.181 259.148 Q191.991 259.148 195.047 263.755 Q198.125 268.338 198.125 277.088 Q198.125 285.815 195.047 290.421 Q191.991 295.004 186.181 295.004 Q180.371 295.004 177.292 290.421 Q174.237 285.815 174.237 277.088 Q174.237 268.338 177.292 263.755 Q180.371 259.148 186.181 259.148 Z\" fill=\"#000000\" fill-rule=\"nonzero\" fill-opacity=\"1\" /><path clip-path=\"url(#clip810)\" d=\"M216.343 262.852 Q212.732 262.852 210.903 266.417 Q209.098 269.958 209.098 277.088 Q209.098 284.194 210.903 287.759 Q212.732 291.301 216.343 291.301 Q219.977 291.301 221.783 287.759 Q223.611 284.194 223.611 277.088 Q223.611 269.958 221.783 266.417 Q219.977 262.852 216.343 262.852 M216.343 259.148 Q222.153 259.148 225.209 263.755 Q228.287 268.338 228.287 277.088 Q228.287 285.815 225.209 290.421 Q222.153 295.004 216.343 295.004 Q210.533 295.004 207.454 290.421 Q204.399 285.815 204.399 277.088 Q204.399 268.338 207.454 263.755 Q210.533 259.148 216.343 259.148 Z\" fill=\"#000000\" fill-rule=\"nonzero\" fill-opacity=\"1\" /><path clip-path=\"url(#clip810)\" d=\"M28.3562 917.525 L28.3562 911.669 L56.1743 904.348 L28.3562 897.059 L28.3562 890.153 L56.1743 882.832 L28.3562 875.543 L28.3562 869.687 L64.0042 879.013 L64.0042 885.919 L34.7856 893.59 L64.0042 901.293 L64.0042 908.199 L28.3562 917.525 Z\" fill=\"#000000\" fill-rule=\"nonzero\" fill-opacity=\"1\" /><path clip-path=\"url(#clip810)\" d=\"M32.4621 846.993 Q32.4621 851.704 36.1542 854.441 Q39.8145 857.178 46.212 857.178 Q52.6095 857.178 56.3017 854.473 Q59.9619 851.736 59.9619 846.993 Q59.9619 842.314 56.2698 839.577 Q52.5777 836.84 46.212 836.84 Q39.8781 836.84 36.186 839.577 Q32.4621 842.314 32.4621 846.993 M27.4968 846.993 Q27.4968 839.354 32.4621 834.994 Q37.4273 830.633 46.212 830.633 Q54.9649 830.633 59.9619 834.994 Q64.9272 839.354 64.9272 846.993 Q64.9272 854.664 59.9619 859.024 Q54.9649 863.353 46.212 863.353 Q37.4273 863.353 32.4621 859.024 Q27.4968 854.664 27.4968 846.993 Z\" fill=\"#000000\" fill-rule=\"nonzero\" fill-opacity=\"1\" /><path clip-path=\"url(#clip810)\" d=\"M33.8307 800.269 Q33.2578 801.256 33.0032 802.433 Q32.7167 803.579 32.7167 804.979 Q32.7167 809.945 35.9632 812.618 Q39.1779 815.26 45.2253 815.26 L64.0042 815.26 L64.0042 821.148 L28.3562 821.148 L28.3562 815.26 L33.8944 815.26 Q30.6479 813.414 29.0883 810.454 Q27.4968 807.494 27.4968 803.261 Q27.4968 802.656 27.5923 801.924 Q27.656 801.192 27.8151 800.301 L33.8307 800.269 Z\" fill=\"#000000\" fill-rule=\"nonzero\" fill-opacity=\"1\" /><path clip-path=\"url(#clip810)\" d=\"M14.479 794.349 L14.479 788.46 L43.7294 788.46 L28.3562 770.987 L28.3562 763.507 L45.0344 782.413 L64.0042 762.711 L64.0042 770.35 L46.5939 788.46 L64.0042 788.46 L64.0042 794.349 L14.479 794.349 Z\" fill=\"#000000\" fill-rule=\"nonzero\" fill-opacity=\"1\" /><path clip-path=\"url(#clip810)\" d=\"M14.479 756.377 L14.479 750.521 L64.0042 750.521 L64.0042 756.377 L14.479 756.377 Z\" fill=\"#000000\" fill-rule=\"nonzero\" fill-opacity=\"1\" /><path clip-path=\"url(#clip810)\" d=\"M32.4621 724.453 Q32.4621 729.164 36.1542 731.901 Q39.8145 734.638 46.212 734.638 Q52.6095 734.638 56.3017 731.933 Q59.9619 729.196 59.9619 724.453 Q59.9619 719.774 56.2698 717.037 Q52.5777 714.3 46.212 714.3 Q39.8781 714.3 36.186 717.037 Q32.4621 719.774 32.4621 724.453 M27.4968 724.453 Q27.4968 716.814 32.4621 712.454 Q37.4273 708.093 46.212 708.093 Q54.9649 708.093 59.9619 712.454 Q64.9272 716.814 64.9272 724.453 Q64.9272 732.124 59.9619 736.484 Q54.9649 740.813 46.212 740.813 Q37.4273 740.813 32.4621 736.484 Q27.4968 732.124 27.4968 724.453 Z\" fill=\"#000000\" fill-rule=\"nonzero\" fill-opacity=\"1\" /><path clip-path=\"url(#clip810)\" d=\"M46.0847 682.185 Q46.0847 689.283 47.7079 692.02 Q49.3312 694.757 53.2461 694.757 Q56.3653 694.757 58.2114 692.72 Q60.0256 690.651 60.0256 687.118 Q60.0256 682.249 56.5881 679.32 Q53.1188 676.36 47.3897 676.36 L46.0847 676.36 L46.0847 682.185 M43.6657 670.504 L64.0042 670.504 L64.0042 676.36 L58.5933 676.36 Q61.8398 678.366 63.3994 681.357 Q64.9272 684.349 64.9272 688.678 Q64.9272 694.153 61.8716 697.399 Q58.7843 700.614 53.6281 700.614 Q47.6125 700.614 44.5569 696.603 Q41.5014 692.561 41.5014 684.572 L41.5014 676.36 L40.9285 676.36 Q36.8862 676.36 34.6901 679.034 Q32.4621 681.676 32.4621 686.482 Q32.4621 689.537 33.1941 692.434 Q33.9262 695.33 35.3903 698.004 L29.9795 698.004 Q28.7381 694.789 28.1334 691.765 Q27.4968 688.742 27.4968 685.877 Q27.4968 678.143 31.5072 674.323 Q35.5176 670.504 43.6657 670.504 Z\" fill=\"#000000\" fill-rule=\"nonzero\" fill-opacity=\"1\" /><path clip-path=\"url(#clip810)\" d=\"M33.7671 634.983 L14.479 634.983 L14.479 629.127 L64.0042 629.127 L64.0042 634.983 L58.657 634.983 Q61.8398 636.829 63.3994 639.662 Q64.9272 642.463 64.9272 646.41 Q64.9272 652.871 59.771 656.945 Q54.6147 660.987 46.212 660.987 Q37.8093 660.987 32.6531 656.945 Q27.4968 652.871 27.4968 646.41 Q27.4968 642.463 29.0564 639.662 Q30.5842 636.829 33.7671 634.983 M46.212 654.94 Q52.6732 654.94 56.3653 652.298 Q60.0256 649.624 60.0256 644.977 Q60.0256 640.33 56.3653 637.657 Q52.6732 634.983 46.212 634.983 Q39.7508 634.983 36.0905 637.657 Q32.3984 640.33 32.3984 644.977 Q32.3984 649.624 36.0905 652.298 Q39.7508 654.94 46.212 654.94 Z\" fill=\"#000000\" fill-rule=\"nonzero\" fill-opacity=\"1\" /><path clip-path=\"url(#clip810)\" d=\"M1165.12 50.8226 Q1165.12 56.6154 1168 59.9372 Q1170.87 63.2184 1175.9 63.2184 Q1180.88 63.2184 1183.71 59.8967 Q1186.59 56.5749 1186.59 50.8226 Q1186.59 45.1514 1183.67 41.8296 Q1180.76 38.4674 1175.81 38.4674 Q1170.91 38.4674 1168 41.7891 Q1165.12 45.1109 1165.12 50.8226 M1187.2 62.9348 Q1184.77 66.054 1181.61 67.5529 Q1178.49 69.0112 1174.32 69.0112 Q1167.35 69.0112 1162.97 63.9881 Q1158.64 58.9245 1158.64 50.8226 Q1158.64 42.7208 1163.01 37.6572 Q1167.39 32.5936 1174.32 32.5936 Q1178.49 32.5936 1181.65 34.1329 Q1184.81 35.6318 1187.2 38.7104 L1187.2 33.4038 L1192.99 33.4038 L1192.99 63.2184 Q1198.9 62.3272 1202.23 57.8307 Q1205.59 53.2937 1205.59 46.1236 Q1205.59 41.7891 1204.29 37.9813 Q1203.04 34.1734 1200.44 30.9327 Q1196.23 25.626 1190.15 22.8309 Q1184.12 19.9953 1176.99 19.9953 Q1172.01 19.9953 1167.43 21.3321 Q1162.85 22.6284 1158.96 25.2209 Q1152.6 29.3529 1149 36.0774 Q1145.43 42.7613 1145.43 50.5796 Q1145.43 57.0205 1147.74 62.6513 Q1150.09 68.282 1154.51 72.576 Q1158.76 76.7889 1164.35 78.9764 Q1169.94 81.2044 1176.3 81.2044 Q1181.53 81.2044 1186.55 79.422 Q1191.61 77.6801 1195.83 74.3989 L1199.47 78.8954 Q1194.41 82.8248 1188.41 84.8907 Q1182.46 86.9972 1176.3 86.9972 Q1168.81 86.9972 1162.16 84.3236 Q1155.52 81.6905 1150.33 76.6269 Q1145.15 71.5633 1142.43 64.9198 Q1139.72 58.2358 1139.72 50.5796 Q1139.72 43.2069 1142.48 36.523 Q1145.23 29.839 1150.33 24.7753 Q1155.56 19.6307 1162.41 16.9166 Q1169.25 14.162 1176.91 14.162 Q1185.5 14.162 1192.83 17.6862 Q1200.2 21.2105 1205.18 27.692 Q1208.22 31.6619 1209.8 36.3204 Q1211.42 40.9789 1211.42 45.9616 Q1211.42 56.6154 1204.98 62.7728 Q1198.54 68.9302 1187.2 69.1732 L1187.2 62.9348 Z\" fill=\"#000000\" fill-rule=\"nonzero\" fill-opacity=\"1\" /><path clip-path=\"url(#clip810)\" d=\"M1253.96 28.5427 L1253.96 35.5912 Q1250.8 33.9709 1247.39 33.1607 Q1243.99 32.3505 1240.34 32.3505 Q1234.8 32.3505 1232 34.0519 Q1229.25 35.7533 1229.25 39.156 Q1229.25 41.7486 1231.23 43.2475 Q1233.22 44.7058 1239.21 46.0426 L1241.76 46.6097 Q1249.7 48.3111 1253.02 51.4303 Q1256.39 54.509 1256.39 60.0587 Q1256.39 66.3781 1251.36 70.0644 Q1246.38 73.7508 1237.63 73.7508 Q1233.98 73.7508 1230.02 73.0216 Q1226.09 72.3329 1221.71 70.9151 L1221.71 63.2184 Q1225.84 65.3654 1229.85 66.4591 Q1233.86 67.5124 1237.79 67.5124 Q1243.06 67.5124 1245.89 65.73 Q1248.73 63.9071 1248.73 60.6258 Q1248.73 57.5877 1246.66 55.9673 Q1244.64 54.3469 1237.71 52.8481 L1235.12 52.2405 Q1228.19 50.7821 1225.11 47.7845 Q1222.03 44.7463 1222.03 39.4801 Q1222.03 33.0797 1226.57 29.5959 Q1231.11 26.1121 1239.45 26.1121 Q1243.59 26.1121 1247.23 26.7198 Q1250.88 27.3274 1253.96 28.5427 Z\" fill=\"#000000\" fill-rule=\"nonzero\" fill-opacity=\"1\" /><path clip-path=\"url(#clip810)\" d=\"M1275.47 65.7705 L1275.47 89.8329 L1267.97 89.8329 L1267.97 27.2059 L1275.47 27.2059 L1275.47 34.0924 Q1277.82 30.0415 1281.38 28.0971 Q1284.99 26.1121 1289.97 26.1121 Q1298.23 26.1121 1303.38 32.6746 Q1308.56 39.2371 1308.56 49.9314 Q1308.56 60.6258 1303.38 67.1883 Q1298.23 73.7508 1289.97 73.7508 Q1284.99 73.7508 1281.38 71.8063 Q1277.82 69.8214 1275.47 65.7705 M1300.82 49.9314 Q1300.82 41.7081 1297.42 37.0496 Q1294.06 32.3505 1288.15 32.3505 Q1282.23 32.3505 1278.83 37.0496 Q1275.47 41.7081 1275.47 49.9314 Q1275.47 58.1548 1278.83 62.8538 Q1282.23 67.5124 1288.15 67.5124 Q1294.06 67.5124 1297.42 62.8538 Q1300.82 58.1548 1300.82 49.9314 Z\" fill=\"#000000\" fill-rule=\"nonzero\" fill-opacity=\"1\" /><path clip-path=\"url(#clip810)\" d=\"M1341.54 49.7694 Q1332.5 49.7694 1329.02 51.8354 Q1325.54 53.9013 1325.54 58.8839 Q1325.54 62.8538 1328.13 65.2034 Q1330.76 67.5124 1335.26 67.5124 Q1341.46 67.5124 1345.18 63.1374 Q1348.95 58.7219 1348.95 51.4303 L1348.95 49.7694 L1341.54 49.7694 M1356.4 46.6907 L1356.4 72.576 L1348.95 72.576 L1348.95 65.6895 Q1346.4 69.8214 1342.59 71.8063 Q1338.78 73.7508 1333.27 73.7508 Q1326.31 73.7508 1322.17 69.8619 Q1318.08 65.9325 1318.08 59.3701 Q1318.08 51.7138 1323.19 47.825 Q1328.33 43.9361 1338.5 43.9361 L1348.95 43.9361 L1348.95 43.2069 Q1348.95 38.0623 1345.55 35.2672 Q1342.18 32.4315 1336.07 32.4315 Q1332.18 32.4315 1328.49 33.3632 Q1324.81 34.295 1321.4 36.1584 L1321.4 29.2718 Q1325.49 27.692 1329.34 26.9223 Q1333.19 26.1121 1336.84 26.1121 Q1346.68 26.1121 1351.54 31.2163 Q1356.4 36.3204 1356.4 46.6907 Z\" fill=\"#000000\" fill-rule=\"nonzero\" fill-opacity=\"1\" /><path clip-path=\"url(#clip810)\" d=\"M1367.42 27.2059 L1374.88 27.2059 L1384.19 62.6108 L1393.47 27.2059 L1402.26 27.2059 L1411.58 62.6108 L1420.85 27.2059 L1428.31 27.2059 L1416.44 72.576 L1407.65 72.576 L1397.88 35.3887 L1388.08 72.576 L1379.29 72.576 L1367.42 27.2059 Z\" fill=\"#000000\" fill-rule=\"nonzero\" fill-opacity=\"1\" /><path clip-path=\"url(#clip810)\" d=\"M1477.32 45.1919 L1477.32 72.576 L1469.87 72.576 L1469.87 45.4349 Q1469.87 38.994 1467.36 35.7938 Q1464.85 32.5936 1459.82 32.5936 Q1453.79 32.5936 1450.3 36.4419 Q1446.82 40.2903 1446.82 46.9338 L1446.82 72.576 L1439.33 72.576 L1439.33 27.2059 L1446.82 27.2059 L1446.82 34.2544 Q1449.49 30.163 1453.1 28.1376 Q1456.74 26.1121 1461.48 26.1121 Q1469.3 26.1121 1473.31 30.9732 Q1477.32 35.7938 1477.32 45.1919 Z\" fill=\"#000000\" fill-rule=\"nonzero\" fill-opacity=\"1\" /><path clip-path=\"url(#clip812)\" d=\"M379.157 450.118 L379.157 450.691 L770.468 450.691 L770.468 450.118 L379.157 450.118 L379.157 450.118  Z\" fill=\"#009af9\" fill-rule=\"evenodd\" fill-opacity=\"1\"/>\n",
       "<polyline clip-path=\"url(#clip812)\" style=\"stroke:#000000; stroke-linecap:round; stroke-linejoin:round; stroke-width:4; stroke-opacity:1; fill:none\" points=\"379.157,450.118 379.157,450.691 770.468,450.691 770.468,450.118 379.157,450.118 \"/>\n",
       "<path clip-path=\"url(#clip812)\" d=\"M868.296 123.472 L868.296 127.484 L1259.61 127.484 L1259.61 123.472 L868.296 123.472 L868.296 123.472  Z\" fill=\"#009af9\" fill-rule=\"evenodd\" fill-opacity=\"1\"/>\n",
       "<polyline clip-path=\"url(#clip812)\" style=\"stroke:#000000; stroke-linecap:round; stroke-linejoin:round; stroke-width:4; stroke-opacity:1; fill:none\" points=\"868.296,123.472 868.296,127.484 1259.61,127.484 1259.61,123.472 868.296,123.472 \"/>\n",
       "<path clip-path=\"url(#clip812)\" d=\"M1357.44 150.979 L1357.44 153.844 L1748.75 153.844 L1748.75 150.979 L1357.44 150.979 L1357.44 150.979  Z\" fill=\"#009af9\" fill-rule=\"evenodd\" fill-opacity=\"1\"/>\n",
       "<polyline clip-path=\"url(#clip812)\" style=\"stroke:#000000; stroke-linecap:round; stroke-linejoin:round; stroke-width:4; stroke-opacity:1; fill:none\" points=\"1357.44,150.979 1357.44,153.844 1748.75,153.844 1748.75,150.979 1357.44,150.979 \"/>\n",
       "<path clip-path=\"url(#clip812)\" d=\"M1846.57 236.939 L1846.57 238.085 L2237.89 238.085 L2237.89 236.939 L1846.57 236.939 L1846.57 236.939  Z\" fill=\"#009af9\" fill-rule=\"evenodd\" fill-opacity=\"1\"/>\n",
       "<polyline clip-path=\"url(#clip812)\" style=\"stroke:#000000; stroke-linecap:round; stroke-linejoin:round; stroke-width:4; stroke-opacity:1; fill:none\" points=\"1846.57,236.939 1846.57,238.085 2237.89,238.085 2237.89,236.939 1846.57,236.939 \"/>\n",
       "<circle clip-path=\"url(#clip812)\" style=\"fill:#009af9; stroke:none; fill-opacity:0\" cx=\"574.813\" cy=\"450.118\" r=\"2\"/>\n",
       "<circle clip-path=\"url(#clip812)\" style=\"fill:#009af9; stroke:none; fill-opacity:0\" cx=\"1063.95\" cy=\"123.472\" r=\"2\"/>\n",
       "<circle clip-path=\"url(#clip812)\" style=\"fill:#009af9; stroke:none; fill-opacity:0\" cx=\"1553.09\" cy=\"150.979\" r=\"2\"/>\n",
       "<circle clip-path=\"url(#clip812)\" style=\"fill:#009af9; stroke:none; fill-opacity:0\" cx=\"2042.23\" cy=\"236.939\" r=\"2\"/>\n",
       "<path clip-path=\"url(#clip812)\" d=\"M379.157 450.691 L379.157 452.41 L770.468 452.41 L770.468 450.691 L379.157 450.691 L379.157 450.691  Z\" fill=\"#e26f46\" fill-rule=\"evenodd\" fill-opacity=\"1\"/>\n",
       "<polyline clip-path=\"url(#clip812)\" style=\"stroke:#000000; stroke-linecap:round; stroke-linejoin:round; stroke-width:4; stroke-opacity:1; fill:none\" points=\"379.157,450.691 379.157,452.41 770.468,452.41 770.468,450.691 379.157,450.691 \"/>\n",
       "<path clip-path=\"url(#clip812)\" d=\"M868.296 127.484 L868.296 196.824 L1259.61 196.824 L1259.61 127.484 L868.296 127.484 L868.296 127.484  Z\" fill=\"#e26f46\" fill-rule=\"evenodd\" fill-opacity=\"1\"/>\n",
       "<polyline clip-path=\"url(#clip812)\" style=\"stroke:#000000; stroke-linecap:round; stroke-linejoin:round; stroke-width:4; stroke-opacity:1; fill:none\" points=\"868.296,127.484 868.296,196.824 1259.61,196.824 1259.61,127.484 868.296,127.484 \"/>\n",
       "<path clip-path=\"url(#clip812)\" d=\"M1357.44 153.844 L1357.44 167.025 L1748.75 167.025 L1748.75 153.844 L1357.44 153.844 L1357.44 153.844  Z\" fill=\"#e26f46\" fill-rule=\"evenodd\" fill-opacity=\"1\"/>\n",
       "<polyline clip-path=\"url(#clip812)\" style=\"stroke:#000000; stroke-linecap:round; stroke-linejoin:round; stroke-width:4; stroke-opacity:1; fill:none\" points=\"1357.44,153.844 1357.44,167.025 1748.75,167.025 1748.75,153.844 1357.44,153.844 \"/>\n",
       "<path clip-path=\"url(#clip812)\" d=\"M1846.57 238.085 L1846.57 240.377 L2237.89 240.377 L2237.89 238.085 L1846.57 238.085 L1846.57 238.085  Z\" fill=\"#e26f46\" fill-rule=\"evenodd\" fill-opacity=\"1\"/>\n",
       "<polyline clip-path=\"url(#clip812)\" style=\"stroke:#000000; stroke-linecap:round; stroke-linejoin:round; stroke-width:4; stroke-opacity:1; fill:none\" points=\"1846.57,238.085 1846.57,240.377 2237.89,240.377 2237.89,238.085 1846.57,238.085 \"/>\n",
       "<circle clip-path=\"url(#clip812)\" style=\"fill:#e26f46; stroke:none; fill-opacity:0\" cx=\"574.813\" cy=\"450.691\" r=\"2\"/>\n",
       "<circle clip-path=\"url(#clip812)\" style=\"fill:#e26f46; stroke:none; fill-opacity:0\" cx=\"1063.95\" cy=\"127.484\" r=\"2\"/>\n",
       "<circle clip-path=\"url(#clip812)\" style=\"fill:#e26f46; stroke:none; fill-opacity:0\" cx=\"1553.09\" cy=\"153.844\" r=\"2\"/>\n",
       "<circle clip-path=\"url(#clip812)\" style=\"fill:#e26f46; stroke:none; fill-opacity:0\" cx=\"2042.23\" cy=\"238.085\" r=\"2\"/>\n",
       "<path clip-path=\"url(#clip812)\" d=\"M379.157 452.41 L379.157 469.029 L770.468 469.029 L770.468 452.41 L379.157 452.41 L379.157 452.41  Z\" fill=\"#3da44d\" fill-rule=\"evenodd\" fill-opacity=\"1\"/>\n",
       "<polyline clip-path=\"url(#clip812)\" style=\"stroke:#000000; stroke-linecap:round; stroke-linejoin:round; stroke-width:4; stroke-opacity:1; fill:none\" points=\"379.157,452.41 379.157,469.029 770.468,469.029 770.468,452.41 379.157,452.41 \"/>\n",
       "<path clip-path=\"url(#clip812)\" d=\"M868.296 196.824 L868.296 267.311 L1259.61 267.311 L1259.61 196.824 L868.296 196.824 L868.296 196.824  Z\" fill=\"#3da44d\" fill-rule=\"evenodd\" fill-opacity=\"1\"/>\n",
       "<polyline clip-path=\"url(#clip812)\" style=\"stroke:#000000; stroke-linecap:round; stroke-linejoin:round; stroke-width:4; stroke-opacity:1; fill:none\" points=\"868.296,196.824 868.296,267.311 1259.61,267.311 1259.61,196.824 868.296,196.824 \"/>\n",
       "<path clip-path=\"url(#clip812)\" d=\"M1357.44 167.025 L1357.44 231.781 L1748.75 231.781 L1748.75 167.025 L1357.44 167.025 L1357.44 167.025  Z\" fill=\"#3da44d\" fill-rule=\"evenodd\" fill-opacity=\"1\"/>\n",
       "<polyline clip-path=\"url(#clip812)\" style=\"stroke:#000000; stroke-linecap:round; stroke-linejoin:round; stroke-width:4; stroke-opacity:1; fill:none\" points=\"1357.44,167.025 1357.44,231.781 1748.75,231.781 1748.75,167.025 1357.44,167.025 \"/>\n",
       "<path clip-path=\"url(#clip812)\" d=\"M1846.57 240.377 L1846.57 243.815 L2237.89 243.815 L2237.89 240.377 L1846.57 240.377 L1846.57 240.377  Z\" fill=\"#3da44d\" fill-rule=\"evenodd\" fill-opacity=\"1\"/>\n",
       "<polyline clip-path=\"url(#clip812)\" style=\"stroke:#000000; stroke-linecap:round; stroke-linejoin:round; stroke-width:4; stroke-opacity:1; fill:none\" points=\"1846.57,240.377 1846.57,243.815 2237.89,243.815 2237.89,240.377 1846.57,240.377 \"/>\n",
       "<circle clip-path=\"url(#clip812)\" style=\"fill:#3da44d; stroke:none; fill-opacity:0\" cx=\"574.813\" cy=\"452.41\" r=\"2\"/>\n",
       "<circle clip-path=\"url(#clip812)\" style=\"fill:#3da44d; stroke:none; fill-opacity:0\" cx=\"1063.95\" cy=\"196.824\" r=\"2\"/>\n",
       "<circle clip-path=\"url(#clip812)\" style=\"fill:#3da44d; stroke:none; fill-opacity:0\" cx=\"1553.09\" cy=\"167.025\" r=\"2\"/>\n",
       "<circle clip-path=\"url(#clip812)\" style=\"fill:#3da44d; stroke:none; fill-opacity:0\" cx=\"2042.23\" cy=\"240.377\" r=\"2\"/>\n",
       "<path clip-path=\"url(#clip812)\" d=\"M379.157 469.029 L379.157 541.808 L770.468 541.808 L770.468 469.029 L379.157 469.029 L379.157 469.029  Z\" fill=\"#c271d2\" fill-rule=\"evenodd\" fill-opacity=\"1\"/>\n",
       "<polyline clip-path=\"url(#clip812)\" style=\"stroke:#000000; stroke-linecap:round; stroke-linejoin:round; stroke-width:4; stroke-opacity:1; fill:none\" points=\"379.157,469.029 379.157,541.808 770.468,541.808 770.468,469.029 379.157,469.029 \"/>\n",
       "<path clip-path=\"url(#clip812)\" d=\"M868.296 267.311 L868.296 338.944 L1259.61 338.944 L1259.61 267.311 L868.296 267.311 L868.296 267.311  Z\" fill=\"#c271d2\" fill-rule=\"evenodd\" fill-opacity=\"1\"/>\n",
       "<polyline clip-path=\"url(#clip812)\" style=\"stroke:#000000; stroke-linecap:round; stroke-linejoin:round; stroke-width:4; stroke-opacity:1; fill:none\" points=\"868.296,267.311 868.296,338.944 1259.61,338.944 1259.61,267.311 868.296,267.311 \"/>\n",
       "<path clip-path=\"url(#clip812)\" d=\"M1357.44 231.781 L1357.44 297.683 L1748.75 297.683 L1748.75 231.781 L1357.44 231.781 L1357.44 231.781  Z\" fill=\"#c271d2\" fill-rule=\"evenodd\" fill-opacity=\"1\"/>\n",
       "<polyline clip-path=\"url(#clip812)\" style=\"stroke:#000000; stroke-linecap:round; stroke-linejoin:round; stroke-width:4; stroke-opacity:1; fill:none\" points=\"1357.44,231.781 1357.44,297.683 1748.75,297.683 1748.75,231.781 1357.44,231.781 \"/>\n",
       "<path clip-path=\"url(#clip812)\" d=\"M1846.57 243.815 L1846.57 248.4 L2237.89 248.4 L2237.89 243.815 L1846.57 243.815 L1846.57 243.815  Z\" fill=\"#c271d2\" fill-rule=\"evenodd\" fill-opacity=\"1\"/>\n",
       "<polyline clip-path=\"url(#clip812)\" style=\"stroke:#000000; stroke-linecap:round; stroke-linejoin:round; stroke-width:4; stroke-opacity:1; fill:none\" points=\"1846.57,243.815 1846.57,248.4 2237.89,248.4 2237.89,243.815 1846.57,243.815 \"/>\n",
       "<circle clip-path=\"url(#clip812)\" style=\"fill:#c271d2; stroke:none; fill-opacity:0\" cx=\"574.813\" cy=\"469.029\" r=\"2\"/>\n",
       "<circle clip-path=\"url(#clip812)\" style=\"fill:#c271d2; stroke:none; fill-opacity:0\" cx=\"1063.95\" cy=\"267.311\" r=\"2\"/>\n",
       "<circle clip-path=\"url(#clip812)\" style=\"fill:#c271d2; stroke:none; fill-opacity:0\" cx=\"1553.09\" cy=\"231.781\" r=\"2\"/>\n",
       "<circle clip-path=\"url(#clip812)\" style=\"fill:#c271d2; stroke:none; fill-opacity:0\" cx=\"2042.23\" cy=\"243.815\" r=\"2\"/>\n",
       "<path clip-path=\"url(#clip812)\" d=\"M379.157 541.808 L379.157 601.98 L770.468 601.98 L770.468 541.808 L379.157 541.808 L379.157 541.808  Z\" fill=\"#ac8d18\" fill-rule=\"evenodd\" fill-opacity=\"1\"/>\n",
       "<polyline clip-path=\"url(#clip812)\" style=\"stroke:#000000; stroke-linecap:round; stroke-linejoin:round; stroke-width:4; stroke-opacity:1; fill:none\" points=\"379.157,541.808 379.157,601.98 770.468,601.98 770.468,541.808 379.157,541.808 \"/>\n",
       "<path clip-path=\"url(#clip812)\" d=\"M868.296 338.944 L868.296 407.138 L1259.61 407.138 L1259.61 338.944 L868.296 338.944 L868.296 338.944  Z\" fill=\"#ac8d18\" fill-rule=\"evenodd\" fill-opacity=\"1\"/>\n",
       "<polyline clip-path=\"url(#clip812)\" style=\"stroke:#000000; stroke-linecap:round; stroke-linejoin:round; stroke-width:4; stroke-opacity:1; fill:none\" points=\"868.296,338.944 868.296,407.138 1259.61,407.138 1259.61,338.944 868.296,338.944 \"/>\n",
       "<path clip-path=\"url(#clip812)\" d=\"M1357.44 297.683 L1357.44 364.732 L1748.75 364.732 L1748.75 297.683 L1357.44 297.683 L1357.44 297.683  Z\" fill=\"#ac8d18\" fill-rule=\"evenodd\" fill-opacity=\"1\"/>\n",
       "<polyline clip-path=\"url(#clip812)\" style=\"stroke:#000000; stroke-linecap:round; stroke-linejoin:round; stroke-width:4; stroke-opacity:1; fill:none\" points=\"1357.44,297.683 1357.44,364.732 1748.75,364.732 1748.75,297.683 1357.44,297.683 \"/>\n",
       "<path clip-path=\"url(#clip812)\" d=\"M1846.57 248.4 L1846.57 263.3 L2237.89 263.3 L2237.89 248.4 L1846.57 248.4 L1846.57 248.4  Z\" fill=\"#ac8d18\" fill-rule=\"evenodd\" fill-opacity=\"1\"/>\n",
       "<polyline clip-path=\"url(#clip812)\" style=\"stroke:#000000; stroke-linecap:round; stroke-linejoin:round; stroke-width:4; stroke-opacity:1; fill:none\" points=\"1846.57,248.4 1846.57,263.3 2237.89,263.3 2237.89,248.4 1846.57,248.4 \"/>\n",
       "<circle clip-path=\"url(#clip812)\" style=\"fill:#ac8d18; stroke:none; fill-opacity:0\" cx=\"574.813\" cy=\"541.808\" r=\"2\"/>\n",
       "<circle clip-path=\"url(#clip812)\" style=\"fill:#ac8d18; stroke:none; fill-opacity:0\" cx=\"1063.95\" cy=\"338.944\" r=\"2\"/>\n",
       "<circle clip-path=\"url(#clip812)\" style=\"fill:#ac8d18; stroke:none; fill-opacity:0\" cx=\"1553.09\" cy=\"297.683\" r=\"2\"/>\n",
       "<circle clip-path=\"url(#clip812)\" style=\"fill:#ac8d18; stroke:none; fill-opacity:0\" cx=\"2042.23\" cy=\"248.4\" r=\"2\"/>\n",
       "<path clip-path=\"url(#clip812)\" d=\"M379.157 601.98 L379.157 663.298 L770.468 663.298 L770.468 601.98 L379.157 601.98 L379.157 601.98  Z\" fill=\"#00a9ad\" fill-rule=\"evenodd\" fill-opacity=\"1\"/>\n",
       "<polyline clip-path=\"url(#clip812)\" style=\"stroke:#000000; stroke-linecap:round; stroke-linejoin:round; stroke-width:4; stroke-opacity:1; fill:none\" points=\"379.157,601.98 379.157,663.298 770.468,663.298 770.468,601.98 379.157,601.98 \"/>\n",
       "<path clip-path=\"url(#clip812)\" d=\"M868.296 407.138 L868.296 462.726 L1259.61 462.726 L1259.61 407.138 L868.296 407.138 L868.296 407.138  Z\" fill=\"#00a9ad\" fill-rule=\"evenodd\" fill-opacity=\"1\"/>\n",
       "<polyline clip-path=\"url(#clip812)\" style=\"stroke:#000000; stroke-linecap:round; stroke-linejoin:round; stroke-width:4; stroke-opacity:1; fill:none\" points=\"868.296,407.138 868.296,462.726 1259.61,462.726 1259.61,407.138 868.296,407.138 \"/>\n",
       "<path clip-path=\"url(#clip812)\" d=\"M1357.44 364.732 L1357.44 428.342 L1748.75 428.342 L1748.75 364.732 L1357.44 364.732 L1357.44 364.732  Z\" fill=\"#00a9ad\" fill-rule=\"evenodd\" fill-opacity=\"1\"/>\n",
       "<polyline clip-path=\"url(#clip812)\" style=\"stroke:#000000; stroke-linecap:round; stroke-linejoin:round; stroke-width:4; stroke-opacity:1; fill:none\" points=\"1357.44,364.732 1357.44,428.342 1748.75,428.342 1748.75,364.732 1357.44,364.732 \"/>\n",
       "<path clip-path=\"url(#clip812)\" d=\"M1846.57 263.3 L1846.57 334.359 L2237.89 334.359 L2237.89 263.3 L1846.57 263.3 L1846.57 263.3  Z\" fill=\"#00a9ad\" fill-rule=\"evenodd\" fill-opacity=\"1\"/>\n",
       "<polyline clip-path=\"url(#clip812)\" style=\"stroke:#000000; stroke-linecap:round; stroke-linejoin:round; stroke-width:4; stroke-opacity:1; fill:none\" points=\"1846.57,263.3 1846.57,334.359 2237.89,334.359 2237.89,263.3 1846.57,263.3 \"/>\n",
       "<circle clip-path=\"url(#clip812)\" style=\"fill:#00a9ad; stroke:none; fill-opacity:0\" cx=\"574.813\" cy=\"601.98\" r=\"2\"/>\n",
       "<circle clip-path=\"url(#clip812)\" style=\"fill:#00a9ad; stroke:none; fill-opacity:0\" cx=\"1063.95\" cy=\"407.138\" r=\"2\"/>\n",
       "<circle clip-path=\"url(#clip812)\" style=\"fill:#00a9ad; stroke:none; fill-opacity:0\" cx=\"1553.09\" cy=\"364.732\" r=\"2\"/>\n",
       "<circle clip-path=\"url(#clip812)\" style=\"fill:#00a9ad; stroke:none; fill-opacity:0\" cx=\"2042.23\" cy=\"263.3\" r=\"2\"/>\n",
       "<path clip-path=\"url(#clip812)\" d=\"M379.157 663.298 L379.157 725.762 L770.468 725.762 L770.468 663.298 L379.157 663.298 L379.157 663.298  Z\" fill=\"#ed5d92\" fill-rule=\"evenodd\" fill-opacity=\"1\"/>\n",
       "<polyline clip-path=\"url(#clip812)\" style=\"stroke:#000000; stroke-linecap:round; stroke-linejoin:round; stroke-width:4; stroke-opacity:1; fill:none\" points=\"379.157,663.298 379.157,725.762 770.468,725.762 770.468,663.298 379.157,663.298 \"/>\n",
       "<path clip-path=\"url(#clip812)\" d=\"M868.296 462.726 L868.296 519.459 L1259.61 519.459 L1259.61 462.726 L868.296 462.726 L868.296 462.726  Z\" fill=\"#ed5d92\" fill-rule=\"evenodd\" fill-opacity=\"1\"/>\n",
       "<polyline clip-path=\"url(#clip812)\" style=\"stroke:#000000; stroke-linecap:round; stroke-linejoin:round; stroke-width:4; stroke-opacity:1; fill:none\" points=\"868.296,462.726 868.296,519.459 1259.61,519.459 1259.61,462.726 868.296,462.726 \"/>\n",
       "<path clip-path=\"url(#clip812)\" d=\"M1357.44 428.342 L1357.44 479.344 L1748.75 479.344 L1748.75 428.342 L1357.44 428.342 L1357.44 428.342  Z\" fill=\"#ed5d92\" fill-rule=\"evenodd\" fill-opacity=\"1\"/>\n",
       "<polyline clip-path=\"url(#clip812)\" style=\"stroke:#000000; stroke-linecap:round; stroke-linejoin:round; stroke-width:4; stroke-opacity:1; fill:none\" points=\"1357.44,428.342 1357.44,479.344 1748.75,479.344 1748.75,428.342 1357.44,428.342 \"/>\n",
       "<path clip-path=\"url(#clip812)\" d=\"M1846.57 334.359 L1846.57 406.565 L2237.89 406.565 L2237.89 334.359 L1846.57 334.359 L1846.57 334.359  Z\" fill=\"#ed5d92\" fill-rule=\"evenodd\" fill-opacity=\"1\"/>\n",
       "<polyline clip-path=\"url(#clip812)\" style=\"stroke:#000000; stroke-linecap:round; stroke-linejoin:round; stroke-width:4; stroke-opacity:1; fill:none\" points=\"1846.57,334.359 1846.57,406.565 2237.89,406.565 2237.89,334.359 1846.57,334.359 \"/>\n",
       "<circle clip-path=\"url(#clip812)\" style=\"fill:#ed5d92; stroke:none; fill-opacity:0\" cx=\"574.813\" cy=\"663.298\" r=\"2\"/>\n",
       "<circle clip-path=\"url(#clip812)\" style=\"fill:#ed5d92; stroke:none; fill-opacity:0\" cx=\"1063.95\" cy=\"462.726\" r=\"2\"/>\n",
       "<circle clip-path=\"url(#clip812)\" style=\"fill:#ed5d92; stroke:none; fill-opacity:0\" cx=\"1553.09\" cy=\"428.342\" r=\"2\"/>\n",
       "<circle clip-path=\"url(#clip812)\" style=\"fill:#ed5d92; stroke:none; fill-opacity:0\" cx=\"2042.23\" cy=\"334.359\" r=\"2\"/>\n",
       "<path clip-path=\"url(#clip812)\" d=\"M379.157 725.762 L379.157 784.787 L770.468 784.787 L770.468 725.762 L379.157 725.762 L379.157 725.762  Z\" fill=\"#c68125\" fill-rule=\"evenodd\" fill-opacity=\"1\"/>\n",
       "<polyline clip-path=\"url(#clip812)\" style=\"stroke:#000000; stroke-linecap:round; stroke-linejoin:round; stroke-width:4; stroke-opacity:1; fill:none\" points=\"379.157,725.762 379.157,784.787 770.468,784.787 770.468,725.762 379.157,725.762 \"/>\n",
       "<path clip-path=\"url(#clip812)\" d=\"M868.296 519.459 L868.296 572.754 L1259.61 572.754 L1259.61 519.459 L868.296 519.459 L868.296 519.459  Z\" fill=\"#c68125\" fill-rule=\"evenodd\" fill-opacity=\"1\"/>\n",
       "<polyline clip-path=\"url(#clip812)\" style=\"stroke:#000000; stroke-linecap:round; stroke-linejoin:round; stroke-width:4; stroke-opacity:1; fill:none\" points=\"868.296,519.459 868.296,572.754 1259.61,572.754 1259.61,519.459 868.296,519.459 \"/>\n",
       "<path clip-path=\"url(#clip812)\" d=\"M1357.44 479.344 L1357.44 531.493 L1748.75 531.493 L1748.75 479.344 L1357.44 479.344 L1357.44 479.344  Z\" fill=\"#c68125\" fill-rule=\"evenodd\" fill-opacity=\"1\"/>\n",
       "<polyline clip-path=\"url(#clip812)\" style=\"stroke:#000000; stroke-linecap:round; stroke-linejoin:round; stroke-width:4; stroke-opacity:1; fill:none\" points=\"1357.44,479.344 1357.44,531.493 1748.75,531.493 1748.75,479.344 1357.44,479.344 \"/>\n",
       "<path clip-path=\"url(#clip812)\" d=\"M1846.57 406.565 L1846.57 479.918 L2237.89 479.918 L2237.89 406.565 L1846.57 406.565 L1846.57 406.565  Z\" fill=\"#c68125\" fill-rule=\"evenodd\" fill-opacity=\"1\"/>\n",
       "<polyline clip-path=\"url(#clip812)\" style=\"stroke:#000000; stroke-linecap:round; stroke-linejoin:round; stroke-width:4; stroke-opacity:1; fill:none\" points=\"1846.57,406.565 1846.57,479.918 2237.89,479.918 2237.89,406.565 1846.57,406.565 \"/>\n",
       "<circle clip-path=\"url(#clip812)\" style=\"fill:#c68125; stroke:none; fill-opacity:0\" cx=\"574.813\" cy=\"725.762\" r=\"2\"/>\n",
       "<circle clip-path=\"url(#clip812)\" style=\"fill:#c68125; stroke:none; fill-opacity:0\" cx=\"1063.95\" cy=\"519.459\" r=\"2\"/>\n",
       "<circle clip-path=\"url(#clip812)\" style=\"fill:#c68125; stroke:none; fill-opacity:0\" cx=\"1553.09\" cy=\"479.344\" r=\"2\"/>\n",
       "<circle clip-path=\"url(#clip812)\" style=\"fill:#c68125; stroke:none; fill-opacity:0\" cx=\"2042.23\" cy=\"406.565\" r=\"2\"/>\n",
       "<path clip-path=\"url(#clip812)\" d=\"M379.157 784.787 L379.157 831.205 L770.468 831.205 L770.468 784.787 L379.157 784.787 L379.157 784.787  Z\" fill=\"#00a98d\" fill-rule=\"evenodd\" fill-opacity=\"1\"/>\n",
       "<polyline clip-path=\"url(#clip812)\" style=\"stroke:#000000; stroke-linecap:round; stroke-linejoin:round; stroke-width:4; stroke-opacity:1; fill:none\" points=\"379.157,784.787 379.157,831.205 770.468,831.205 770.468,784.787 379.157,784.787 \"/>\n",
       "<path clip-path=\"url(#clip812)\" d=\"M868.296 572.754 L868.296 627.195 L1259.61 627.195 L1259.61 572.754 L868.296 572.754 L868.296 572.754  Z\" fill=\"#00a98d\" fill-rule=\"evenodd\" fill-opacity=\"1\"/>\n",
       "<polyline clip-path=\"url(#clip812)\" style=\"stroke:#000000; stroke-linecap:round; stroke-linejoin:round; stroke-width:4; stroke-opacity:1; fill:none\" points=\"868.296,572.754 868.296,627.195 1259.61,627.195 1259.61,572.754 868.296,572.754 \"/>\n",
       "<path clip-path=\"url(#clip812)\" d=\"M1357.44 531.493 L1357.44 589.373 L1748.75 589.373 L1748.75 531.493 L1357.44 531.493 L1357.44 531.493  Z\" fill=\"#00a98d\" fill-rule=\"evenodd\" fill-opacity=\"1\"/>\n",
       "<polyline clip-path=\"url(#clip812)\" style=\"stroke:#000000; stroke-linecap:round; stroke-linejoin:round; stroke-width:4; stroke-opacity:1; fill:none\" points=\"1357.44,531.493 1357.44,589.373 1748.75,589.373 1748.75,531.493 1357.44,531.493 \"/>\n",
       "<path clip-path=\"url(#clip812)\" d=\"M1846.57 479.918 L1846.57 549.831 L2237.89 549.831 L2237.89 479.918 L1846.57 479.918 L1846.57 479.918  Z\" fill=\"#00a98d\" fill-rule=\"evenodd\" fill-opacity=\"1\"/>\n",
       "<polyline clip-path=\"url(#clip812)\" style=\"stroke:#000000; stroke-linecap:round; stroke-linejoin:round; stroke-width:4; stroke-opacity:1; fill:none\" points=\"1846.57,479.918 1846.57,549.831 2237.89,549.831 2237.89,479.918 1846.57,479.918 \"/>\n",
       "<circle clip-path=\"url(#clip812)\" style=\"fill:#00a98d; stroke:none; fill-opacity:0\" cx=\"574.813\" cy=\"784.787\" r=\"2\"/>\n",
       "<circle clip-path=\"url(#clip812)\" style=\"fill:#00a98d; stroke:none; fill-opacity:0\" cx=\"1063.95\" cy=\"572.754\" r=\"2\"/>\n",
       "<circle clip-path=\"url(#clip812)\" style=\"fill:#00a98d; stroke:none; fill-opacity:0\" cx=\"1553.09\" cy=\"531.493\" r=\"2\"/>\n",
       "<circle clip-path=\"url(#clip812)\" style=\"fill:#00a98d; stroke:none; fill-opacity:0\" cx=\"2042.23\" cy=\"479.918\" r=\"2\"/>\n",
       "<path clip-path=\"url(#clip812)\" d=\"M379.157 831.205 L379.157 878.77 L770.468 878.77 L770.468 831.205 L379.157 831.205 L379.157 831.205  Z\" fill=\"#8e971d\" fill-rule=\"evenodd\" fill-opacity=\"1\"/>\n",
       "<polyline clip-path=\"url(#clip812)\" style=\"stroke:#000000; stroke-linecap:round; stroke-linejoin:round; stroke-width:4; stroke-opacity:1; fill:none\" points=\"379.157,831.205 379.157,878.77 770.468,878.77 770.468,831.205 379.157,831.205 \"/>\n",
       "<path clip-path=\"url(#clip812)\" d=\"M868.296 627.195 L868.296 664.444 L1259.61 664.444 L1259.61 627.195 L868.296 627.195 L868.296 627.195  Z\" fill=\"#8e971d\" fill-rule=\"evenodd\" fill-opacity=\"1\"/>\n",
       "<polyline clip-path=\"url(#clip812)\" style=\"stroke:#000000; stroke-linecap:round; stroke-linejoin:round; stroke-width:4; stroke-opacity:1; fill:none\" points=\"868.296,627.195 868.296,664.444 1259.61,664.444 1259.61,627.195 868.296,627.195 \"/>\n",
       "<path clip-path=\"url(#clip812)\" d=\"M1357.44 589.373 L1357.44 639.229 L1748.75 639.229 L1748.75 589.373 L1357.44 589.373 L1357.44 589.373  Z\" fill=\"#8e971d\" fill-rule=\"evenodd\" fill-opacity=\"1\"/>\n",
       "<polyline clip-path=\"url(#clip812)\" style=\"stroke:#000000; stroke-linecap:round; stroke-linejoin:round; stroke-width:4; stroke-opacity:1; fill:none\" points=\"1357.44,589.373 1357.44,639.229 1748.75,639.229 1748.75,589.373 1357.44,589.373 \"/>\n",
       "<path clip-path=\"url(#clip812)\" d=\"M1846.57 549.831 L1846.57 616.307 L2237.89 616.307 L2237.89 549.831 L1846.57 549.831 L1846.57 549.831  Z\" fill=\"#8e971d\" fill-rule=\"evenodd\" fill-opacity=\"1\"/>\n",
       "<polyline clip-path=\"url(#clip812)\" style=\"stroke:#000000; stroke-linecap:round; stroke-linejoin:round; stroke-width:4; stroke-opacity:1; fill:none\" points=\"1846.57,549.831 1846.57,616.307 2237.89,616.307 2237.89,549.831 1846.57,549.831 \"/>\n",
       "<circle clip-path=\"url(#clip812)\" style=\"fill:#8e971d; stroke:none; fill-opacity:0\" cx=\"574.813\" cy=\"831.205\" r=\"2\"/>\n",
       "<circle clip-path=\"url(#clip812)\" style=\"fill:#8e971d; stroke:none; fill-opacity:0\" cx=\"1063.95\" cy=\"627.195\" r=\"2\"/>\n",
       "<circle clip-path=\"url(#clip812)\" style=\"fill:#8e971d; stroke:none; fill-opacity:0\" cx=\"1553.09\" cy=\"589.373\" r=\"2\"/>\n",
       "<circle clip-path=\"url(#clip812)\" style=\"fill:#8e971d; stroke:none; fill-opacity:0\" cx=\"2042.23\" cy=\"549.831\" r=\"2\"/>\n",
       "<path clip-path=\"url(#clip812)\" d=\"M379.157 878.77 L379.157 927.48 L770.468 927.48 L770.468 878.77 L379.157 878.77 L379.157 878.77  Z\" fill=\"#00a8cb\" fill-rule=\"evenodd\" fill-opacity=\"1\"/>\n",
       "<polyline clip-path=\"url(#clip812)\" style=\"stroke:#000000; stroke-linecap:round; stroke-linejoin:round; stroke-width:4; stroke-opacity:1; fill:none\" points=\"379.157,878.77 379.157,927.48 770.468,927.48 770.468,878.77 379.157,878.77 \"/>\n",
       "<path clip-path=\"url(#clip812)\" d=\"M868.296 664.444 L868.296 707.424 L1259.61 707.424 L1259.61 664.444 L868.296 664.444 L868.296 664.444  Z\" fill=\"#00a8cb\" fill-rule=\"evenodd\" fill-opacity=\"1\"/>\n",
       "<polyline clip-path=\"url(#clip812)\" style=\"stroke:#000000; stroke-linecap:round; stroke-linejoin:round; stroke-width:4; stroke-opacity:1; fill:none\" points=\"868.296,664.444 868.296,707.424 1259.61,707.424 1259.61,664.444 868.296,664.444 \"/>\n",
       "<path clip-path=\"url(#clip812)\" d=\"M1357.44 639.229 L1357.44 681.063 L1748.75 681.063 L1748.75 639.229 L1357.44 639.229 L1357.44 639.229  Z\" fill=\"#00a8cb\" fill-rule=\"evenodd\" fill-opacity=\"1\"/>\n",
       "<polyline clip-path=\"url(#clip812)\" style=\"stroke:#000000; stroke-linecap:round; stroke-linejoin:round; stroke-width:4; stroke-opacity:1; fill:none\" points=\"1357.44,639.229 1357.44,681.063 1748.75,681.063 1748.75,639.229 1357.44,639.229 \"/>\n",
       "<path clip-path=\"url(#clip812)\" d=\"M1846.57 616.307 L1846.57 683.928 L2237.89 683.928 L2237.89 616.307 L1846.57 616.307 L1846.57 616.307  Z\" fill=\"#00a8cb\" fill-rule=\"evenodd\" fill-opacity=\"1\"/>\n",
       "<polyline clip-path=\"url(#clip812)\" style=\"stroke:#000000; stroke-linecap:round; stroke-linejoin:round; stroke-width:4; stroke-opacity:1; fill:none\" points=\"1846.57,616.307 1846.57,683.928 2237.89,683.928 2237.89,616.307 1846.57,616.307 \"/>\n",
       "<circle clip-path=\"url(#clip812)\" style=\"fill:#00a8cb; stroke:none; fill-opacity:0\" cx=\"574.813\" cy=\"878.77\" r=\"2\"/>\n",
       "<circle clip-path=\"url(#clip812)\" style=\"fill:#00a8cb; stroke:none; fill-opacity:0\" cx=\"1063.95\" cy=\"664.444\" r=\"2\"/>\n",
       "<circle clip-path=\"url(#clip812)\" style=\"fill:#00a8cb; stroke:none; fill-opacity:0\" cx=\"1553.09\" cy=\"639.229\" r=\"2\"/>\n",
       "<circle clip-path=\"url(#clip812)\" style=\"fill:#00a8cb; stroke:none; fill-opacity:0\" cx=\"2042.23\" cy=\"616.307\" r=\"2\"/>\n",
       "<path clip-path=\"url(#clip812)\" d=\"M379.157 927.48 L379.157 968.168 L770.468 968.168 L770.468 927.48 L379.157 927.48 L379.157 927.48  Z\" fill=\"#9b7fe8\" fill-rule=\"evenodd\" fill-opacity=\"1\"/>\n",
       "<polyline clip-path=\"url(#clip812)\" style=\"stroke:#000000; stroke-linecap:round; stroke-linejoin:round; stroke-width:4; stroke-opacity:1; fill:none\" points=\"379.157,927.48 379.157,968.168 770.468,968.168 770.468,927.48 379.157,927.48 \"/>\n",
       "<path clip-path=\"url(#clip812)\" d=\"M868.296 707.424 L868.296 746.965 L1259.61 746.965 L1259.61 707.424 L868.296 707.424 L868.296 707.424  Z\" fill=\"#9b7fe8\" fill-rule=\"evenodd\" fill-opacity=\"1\"/>\n",
       "<polyline clip-path=\"url(#clip812)\" style=\"stroke:#000000; stroke-linecap:round; stroke-linejoin:round; stroke-width:4; stroke-opacity:1; fill:none\" points=\"868.296,707.424 868.296,746.965 1259.61,746.965 1259.61,707.424 868.296,707.424 \"/>\n",
       "<path clip-path=\"url(#clip812)\" d=\"M1357.44 681.063 L1357.44 719.458 L1748.75 719.458 L1748.75 681.063 L1357.44 681.063 L1357.44 681.063  Z\" fill=\"#9b7fe8\" fill-rule=\"evenodd\" fill-opacity=\"1\"/>\n",
       "<polyline clip-path=\"url(#clip812)\" style=\"stroke:#000000; stroke-linecap:round; stroke-linejoin:round; stroke-width:4; stroke-opacity:1; fill:none\" points=\"1357.44,681.063 1357.44,719.458 1748.75,719.458 1748.75,681.063 1357.44,681.063 \"/>\n",
       "<path clip-path=\"url(#clip812)\" d=\"M1846.57 683.928 L1846.57 752.696 L2237.89 752.696 L2237.89 683.928 L1846.57 683.928 L1846.57 683.928  Z\" fill=\"#9b7fe8\" fill-rule=\"evenodd\" fill-opacity=\"1\"/>\n",
       "<polyline clip-path=\"url(#clip812)\" style=\"stroke:#000000; stroke-linecap:round; stroke-linejoin:round; stroke-width:4; stroke-opacity:1; fill:none\" points=\"1846.57,683.928 1846.57,752.696 2237.89,752.696 2237.89,683.928 1846.57,683.928 \"/>\n",
       "<circle clip-path=\"url(#clip812)\" style=\"fill:#9b7fe8; stroke:none; fill-opacity:0\" cx=\"574.813\" cy=\"927.48\" r=\"2\"/>\n",
       "<circle clip-path=\"url(#clip812)\" style=\"fill:#9b7fe8; stroke:none; fill-opacity:0\" cx=\"1063.95\" cy=\"707.424\" r=\"2\"/>\n",
       "<circle clip-path=\"url(#clip812)\" style=\"fill:#9b7fe8; stroke:none; fill-opacity:0\" cx=\"1553.09\" cy=\"681.063\" r=\"2\"/>\n",
       "<circle clip-path=\"url(#clip812)\" style=\"fill:#9b7fe8; stroke:none; fill-opacity:0\" cx=\"2042.23\" cy=\"683.928\" r=\"2\"/>\n",
       "<path clip-path=\"url(#clip812)\" d=\"M379.157 968.168 L379.157 996.248 L770.468 996.248 L770.468 968.168 L379.157 968.168 L379.157 968.168  Z\" fill=\"#608cf6\" fill-rule=\"evenodd\" fill-opacity=\"1\"/>\n",
       "<polyline clip-path=\"url(#clip812)\" style=\"stroke:#000000; stroke-linecap:round; stroke-linejoin:round; stroke-width:4; stroke-opacity:1; fill:none\" points=\"379.157,968.168 379.157,996.248 770.468,996.248 770.468,968.168 379.157,968.168 \"/>\n",
       "<path clip-path=\"url(#clip812)\" d=\"M868.296 746.965 L868.296 792.237 L1259.61 792.237 L1259.61 746.965 L868.296 746.965 L868.296 746.965  Z\" fill=\"#608cf6\" fill-rule=\"evenodd\" fill-opacity=\"1\"/>\n",
       "<polyline clip-path=\"url(#clip812)\" style=\"stroke:#000000; stroke-linecap:round; stroke-linejoin:round; stroke-width:4; stroke-opacity:1; fill:none\" points=\"868.296,746.965 868.296,792.237 1259.61,792.237 1259.61,746.965 868.296,746.965 \"/>\n",
       "<path clip-path=\"url(#clip812)\" d=\"M1357.44 719.458 L1357.44 763.584 L1748.75 763.584 L1748.75 719.458 L1357.44 719.458 L1357.44 719.458  Z\" fill=\"#608cf6\" fill-rule=\"evenodd\" fill-opacity=\"1\"/>\n",
       "<polyline clip-path=\"url(#clip812)\" style=\"stroke:#000000; stroke-linecap:round; stroke-linejoin:round; stroke-width:4; stroke-opacity:1; fill:none\" points=\"1357.44,719.458 1357.44,763.584 1748.75,763.584 1748.75,719.458 1357.44,719.458 \"/>\n",
       "<path clip-path=\"url(#clip812)\" d=\"M1846.57 752.696 L1846.57 818.025 L2237.89 818.025 L2237.89 752.696 L1846.57 752.696 L1846.57 752.696  Z\" fill=\"#608cf6\" fill-rule=\"evenodd\" fill-opacity=\"1\"/>\n",
       "<polyline clip-path=\"url(#clip812)\" style=\"stroke:#000000; stroke-linecap:round; stroke-linejoin:round; stroke-width:4; stroke-opacity:1; fill:none\" points=\"1846.57,752.696 1846.57,818.025 2237.89,818.025 2237.89,752.696 1846.57,752.696 \"/>\n",
       "<circle clip-path=\"url(#clip812)\" style=\"fill:#608cf6; stroke:none; fill-opacity:0\" cx=\"574.813\" cy=\"968.168\" r=\"2\"/>\n",
       "<circle clip-path=\"url(#clip812)\" style=\"fill:#608cf6; stroke:none; fill-opacity:0\" cx=\"1063.95\" cy=\"746.965\" r=\"2\"/>\n",
       "<circle clip-path=\"url(#clip812)\" style=\"fill:#608cf6; stroke:none; fill-opacity:0\" cx=\"1553.09\" cy=\"719.458\" r=\"2\"/>\n",
       "<circle clip-path=\"url(#clip812)\" style=\"fill:#608cf6; stroke:none; fill-opacity:0\" cx=\"2042.23\" cy=\"752.696\" r=\"2\"/>\n",
       "<path clip-path=\"url(#clip812)\" d=\"M379.157 996.248 L379.157 1020.89 L770.468 1020.89 L770.468 996.248 L379.157 996.248 L379.157 996.248  Z\" fill=\"#f05f73\" fill-rule=\"evenodd\" fill-opacity=\"1\"/>\n",
       "<polyline clip-path=\"url(#clip812)\" style=\"stroke:#000000; stroke-linecap:round; stroke-linejoin:round; stroke-width:4; stroke-opacity:1; fill:none\" points=\"379.157,996.248 379.157,1020.89 770.468,1020.89 770.468,996.248 379.157,996.248 \"/>\n",
       "<path clip-path=\"url(#clip812)\" d=\"M868.296 792.237 L868.296 815.733 L1259.61 815.733 L1259.61 792.237 L868.296 792.237 L868.296 792.237  Z\" fill=\"#f05f73\" fill-rule=\"evenodd\" fill-opacity=\"1\"/>\n",
       "<polyline clip-path=\"url(#clip812)\" style=\"stroke:#000000; stroke-linecap:round; stroke-linejoin:round; stroke-width:4; stroke-opacity:1; fill:none\" points=\"868.296,792.237 868.296,815.733 1259.61,815.733 1259.61,792.237 868.296,792.237 \"/>\n",
       "<path clip-path=\"url(#clip812)\" d=\"M1357.44 763.584 L1357.44 799.687 L1748.75 799.687 L1748.75 763.584 L1357.44 763.584 L1357.44 763.584  Z\" fill=\"#f05f73\" fill-rule=\"evenodd\" fill-opacity=\"1\"/>\n",
       "<polyline clip-path=\"url(#clip812)\" style=\"stroke:#000000; stroke-linecap:round; stroke-linejoin:round; stroke-width:4; stroke-opacity:1; fill:none\" points=\"1357.44,763.584 1357.44,799.687 1748.75,799.687 1748.75,763.584 1357.44,763.584 \"/>\n",
       "<path clip-path=\"url(#clip812)\" d=\"M1846.57 818.025 L1846.57 879.916 L2237.89 879.916 L2237.89 818.025 L1846.57 818.025 L1846.57 818.025  Z\" fill=\"#f05f73\" fill-rule=\"evenodd\" fill-opacity=\"1\"/>\n",
       "<polyline clip-path=\"url(#clip812)\" style=\"stroke:#000000; stroke-linecap:round; stroke-linejoin:round; stroke-width:4; stroke-opacity:1; fill:none\" points=\"1846.57,818.025 1846.57,879.916 2237.89,879.916 2237.89,818.025 1846.57,818.025 \"/>\n",
       "<circle clip-path=\"url(#clip812)\" style=\"fill:#f05f73; stroke:none; fill-opacity:0\" cx=\"574.813\" cy=\"996.248\" r=\"2\"/>\n",
       "<circle clip-path=\"url(#clip812)\" style=\"fill:#f05f73; stroke:none; fill-opacity:0\" cx=\"1063.95\" cy=\"792.237\" r=\"2\"/>\n",
       "<circle clip-path=\"url(#clip812)\" style=\"fill:#f05f73; stroke:none; fill-opacity:0\" cx=\"1553.09\" cy=\"763.584\" r=\"2\"/>\n",
       "<circle clip-path=\"url(#clip812)\" style=\"fill:#f05f73; stroke:none; fill-opacity:0\" cx=\"2042.23\" cy=\"818.025\" r=\"2\"/>\n",
       "<path clip-path=\"url(#clip812)\" d=\"M379.157 1020.89 L379.157 1046.68 L770.468 1046.68 L770.468 1020.89 L379.157 1020.89 L379.157 1020.89  Z\" fill=\"#dd64b5\" fill-rule=\"evenodd\" fill-opacity=\"1\"/>\n",
       "<polyline clip-path=\"url(#clip812)\" style=\"stroke:#000000; stroke-linecap:round; stroke-linejoin:round; stroke-width:4; stroke-opacity:1; fill:none\" points=\"379.157,1020.89 379.157,1046.68 770.468,1046.68 770.468,1020.89 379.157,1020.89 \"/>\n",
       "<path clip-path=\"url(#clip812)\" d=\"M868.296 815.733 L868.296 849.543 L1259.61 849.543 L1259.61 815.733 L868.296 815.733 L868.296 815.733  Z\" fill=\"#dd64b5\" fill-rule=\"evenodd\" fill-opacity=\"1\"/>\n",
       "<polyline clip-path=\"url(#clip812)\" style=\"stroke:#000000; stroke-linecap:round; stroke-linejoin:round; stroke-width:4; stroke-opacity:1; fill:none\" points=\"868.296,815.733 868.296,849.543 1259.61,849.543 1259.61,815.733 868.296,815.733 \"/>\n",
       "<path clip-path=\"url(#clip812)\" d=\"M1357.44 799.687 L1357.44 832.352 L1748.75 832.352 L1748.75 799.687 L1357.44 799.687 L1357.44 799.687  Z\" fill=\"#dd64b5\" fill-rule=\"evenodd\" fill-opacity=\"1\"/>\n",
       "<polyline clip-path=\"url(#clip812)\" style=\"stroke:#000000; stroke-linecap:round; stroke-linejoin:round; stroke-width:4; stroke-opacity:1; fill:none\" points=\"1357.44,799.687 1357.44,832.352 1748.75,832.352 1748.75,799.687 1357.44,799.687 \"/>\n",
       "<path clip-path=\"url(#clip812)\" d=\"M1846.57 879.916 L1846.57 942.953 L2237.89 942.953 L2237.89 879.916 L1846.57 879.916 L1846.57 879.916  Z\" fill=\"#dd64b5\" fill-rule=\"evenodd\" fill-opacity=\"1\"/>\n",
       "<polyline clip-path=\"url(#clip812)\" style=\"stroke:#000000; stroke-linecap:round; stroke-linejoin:round; stroke-width:4; stroke-opacity:1; fill:none\" points=\"1846.57,879.916 1846.57,942.953 2237.89,942.953 2237.89,879.916 1846.57,879.916 \"/>\n",
       "<circle clip-path=\"url(#clip812)\" style=\"fill:#dd64b5; stroke:none; fill-opacity:0\" cx=\"574.813\" cy=\"1020.89\" r=\"2\"/>\n",
       "<circle clip-path=\"url(#clip812)\" style=\"fill:#dd64b5; stroke:none; fill-opacity:0\" cx=\"1063.95\" cy=\"815.733\" r=\"2\"/>\n",
       "<circle clip-path=\"url(#clip812)\" style=\"fill:#dd64b5; stroke:none; fill-opacity:0\" cx=\"1553.09\" cy=\"799.687\" r=\"2\"/>\n",
       "<circle clip-path=\"url(#clip812)\" style=\"fill:#dd64b5; stroke:none; fill-opacity:0\" cx=\"2042.23\" cy=\"879.916\" r=\"2\"/>\n",
       "<path clip-path=\"url(#clip812)\" d=\"M379.157 1046.68 L379.157 1069.03 L770.468 1069.03 L770.468 1046.68 L379.157 1046.68 L379.157 1046.68  Z\" fill=\"#6b9e32\" fill-rule=\"evenodd\" fill-opacity=\"1\"/>\n",
       "<polyline clip-path=\"url(#clip812)\" style=\"stroke:#000000; stroke-linecap:round; stroke-linejoin:round; stroke-width:4; stroke-opacity:1; fill:none\" points=\"379.157,1046.68 379.157,1069.03 770.468,1069.03 770.468,1046.68 379.157,1046.68 \"/>\n",
       "<path clip-path=\"url(#clip812)\" d=\"M868.296 849.543 L868.296 884.5 L1259.61 884.5 L1259.61 849.543 L868.296 849.543 L868.296 849.543  Z\" fill=\"#6b9e32\" fill-rule=\"evenodd\" fill-opacity=\"1\"/>\n",
       "<polyline clip-path=\"url(#clip812)\" style=\"stroke:#000000; stroke-linecap:round; stroke-linejoin:round; stroke-width:4; stroke-opacity:1; fill:none\" points=\"868.296,849.543 868.296,884.5 1259.61,884.5 1259.61,849.543 868.296,849.543 \"/>\n",
       "<path clip-path=\"url(#clip812)\" d=\"M1357.44 832.352 L1357.44 861.578 L1748.75 861.578 L1748.75 832.352 L1357.44 832.352 L1357.44 832.352  Z\" fill=\"#6b9e32\" fill-rule=\"evenodd\" fill-opacity=\"1\"/>\n",
       "<polyline clip-path=\"url(#clip812)\" style=\"stroke:#000000; stroke-linecap:round; stroke-linejoin:round; stroke-width:4; stroke-opacity:1; fill:none\" points=\"1357.44,832.352 1357.44,861.578 1748.75,861.578 1748.75,832.352 1357.44,832.352 \"/>\n",
       "<path clip-path=\"url(#clip812)\" d=\"M1846.57 942.953 L1846.57 1007.14 L2237.89 1007.14 L2237.89 942.953 L1846.57 942.953 L1846.57 942.953  Z\" fill=\"#6b9e32\" fill-rule=\"evenodd\" fill-opacity=\"1\"/>\n",
       "<polyline clip-path=\"url(#clip812)\" style=\"stroke:#000000; stroke-linecap:round; stroke-linejoin:round; stroke-width:4; stroke-opacity:1; fill:none\" points=\"1846.57,942.953 1846.57,1007.14 2237.89,1007.14 2237.89,942.953 1846.57,942.953 \"/>\n",
       "<circle clip-path=\"url(#clip812)\" style=\"fill:#6b9e32; stroke:none; fill-opacity:0\" cx=\"574.813\" cy=\"1046.68\" r=\"2\"/>\n",
       "<circle clip-path=\"url(#clip812)\" style=\"fill:#6b9e32; stroke:none; fill-opacity:0\" cx=\"1063.95\" cy=\"849.543\" r=\"2\"/>\n",
       "<circle clip-path=\"url(#clip812)\" style=\"fill:#6b9e32; stroke:none; fill-opacity:0\" cx=\"1553.09\" cy=\"832.352\" r=\"2\"/>\n",
       "<circle clip-path=\"url(#clip812)\" style=\"fill:#6b9e32; stroke:none; fill-opacity:0\" cx=\"2042.23\" cy=\"942.953\" r=\"2\"/>\n",
       "<path clip-path=\"url(#clip812)\" d=\"M379.157 1069.03 L379.157 1078.77 L770.468 1078.77 L770.468 1069.03 L379.157 1069.03 L379.157 1069.03  Z\" fill=\"#009af9\" fill-rule=\"evenodd\" fill-opacity=\"1\"/>\n",
       "<polyline clip-path=\"url(#clip812)\" style=\"stroke:#000000; stroke-linecap:round; stroke-linejoin:round; stroke-width:4; stroke-opacity:1; fill:none\" points=\"379.157,1069.03 379.157,1078.77 770.468,1078.77 770.468,1069.03 379.157,1069.03 \"/>\n",
       "<path clip-path=\"url(#clip812)\" d=\"M868.296 884.5 L868.296 911.434 L1259.61 911.434 L1259.61 884.5 L868.296 884.5 L868.296 884.5  Z\" fill=\"#009af9\" fill-rule=\"evenodd\" fill-opacity=\"1\"/>\n",
       "<polyline clip-path=\"url(#clip812)\" style=\"stroke:#000000; stroke-linecap:round; stroke-linejoin:round; stroke-width:4; stroke-opacity:1; fill:none\" points=\"868.296,884.5 868.296,911.434 1259.61,911.434 1259.61,884.5 868.296,884.5 \"/>\n",
       "<path clip-path=\"url(#clip812)\" d=\"M1357.44 861.578 L1357.44 891.95 L1748.75 891.95 L1748.75 861.578 L1357.44 861.578 L1357.44 861.578  Z\" fill=\"#009af9\" fill-rule=\"evenodd\" fill-opacity=\"1\"/>\n",
       "<polyline clip-path=\"url(#clip812)\" style=\"stroke:#000000; stroke-linecap:round; stroke-linejoin:round; stroke-width:4; stroke-opacity:1; fill:none\" points=\"1357.44,861.578 1357.44,891.95 1748.75,891.95 1748.75,861.578 1357.44,861.578 \"/>\n",
       "<path clip-path=\"url(#clip812)\" d=\"M1846.57 1007.14 L1846.57 1063.3 L2237.89 1063.3 L2237.89 1007.14 L1846.57 1007.14 L1846.57 1007.14  Z\" fill=\"#009af9\" fill-rule=\"evenodd\" fill-opacity=\"1\"/>\n",
       "<polyline clip-path=\"url(#clip812)\" style=\"stroke:#000000; stroke-linecap:round; stroke-linejoin:round; stroke-width:4; stroke-opacity:1; fill:none\" points=\"1846.57,1007.14 1846.57,1063.3 2237.89,1063.3 2237.89,1007.14 1846.57,1007.14 \"/>\n",
       "<circle clip-path=\"url(#clip812)\" style=\"fill:#009af9; stroke:none; fill-opacity:0\" cx=\"574.813\" cy=\"1069.03\" r=\"2\"/>\n",
       "<circle clip-path=\"url(#clip812)\" style=\"fill:#009af9; stroke:none; fill-opacity:0\" cx=\"1063.95\" cy=\"884.5\" r=\"2\"/>\n",
       "<circle clip-path=\"url(#clip812)\" style=\"fill:#009af9; stroke:none; fill-opacity:0\" cx=\"1553.09\" cy=\"861.578\" r=\"2\"/>\n",
       "<circle clip-path=\"url(#clip812)\" style=\"fill:#009af9; stroke:none; fill-opacity:0\" cx=\"2042.23\" cy=\"1007.14\" r=\"2\"/>\n",
       "<path clip-path=\"url(#clip812)\" d=\"M379.157 1078.77 L379.157 1085.07 L770.468 1085.07 L770.468 1078.77 L379.157 1078.77 L379.157 1078.77  Z\" fill=\"#e26f46\" fill-rule=\"evenodd\" fill-opacity=\"1\"/>\n",
       "<polyline clip-path=\"url(#clip812)\" style=\"stroke:#000000; stroke-linecap:round; stroke-linejoin:round; stroke-width:4; stroke-opacity:1; fill:none\" points=\"379.157,1078.77 379.157,1085.07 770.468,1085.07 770.468,1078.77 379.157,1078.77 \"/>\n",
       "<path clip-path=\"url(#clip812)\" d=\"M868.296 911.434 L868.296 930.345 L1259.61 930.345 L1259.61 911.434 L868.296 911.434 L868.296 911.434  Z\" fill=\"#e26f46\" fill-rule=\"evenodd\" fill-opacity=\"1\"/>\n",
       "<polyline clip-path=\"url(#clip812)\" style=\"stroke:#000000; stroke-linecap:round; stroke-linejoin:round; stroke-width:4; stroke-opacity:1; fill:none\" points=\"868.296,911.434 868.296,930.345 1259.61,930.345 1259.61,911.434 868.296,911.434 \"/>\n",
       "<path clip-path=\"url(#clip812)\" d=\"M1357.44 891.95 L1357.44 923.469 L1748.75 923.469 L1748.75 891.95 L1357.44 891.95 L1357.44 891.95  Z\" fill=\"#e26f46\" fill-rule=\"evenodd\" fill-opacity=\"1\"/>\n",
       "<polyline clip-path=\"url(#clip812)\" style=\"stroke:#000000; stroke-linecap:round; stroke-linejoin:round; stroke-width:4; stroke-opacity:1; fill:none\" points=\"1357.44,891.95 1357.44,923.469 1748.75,923.469 1748.75,891.95 1357.44,891.95 \"/>\n",
       "<path clip-path=\"url(#clip812)\" d=\"M1846.57 1063.3 L1846.57 1116.02 L2237.89 1116.02 L2237.89 1063.3 L1846.57 1063.3 L1846.57 1063.3  Z\" fill=\"#e26f46\" fill-rule=\"evenodd\" fill-opacity=\"1\"/>\n",
       "<polyline clip-path=\"url(#clip812)\" style=\"stroke:#000000; stroke-linecap:round; stroke-linejoin:round; stroke-width:4; stroke-opacity:1; fill:none\" points=\"1846.57,1063.3 1846.57,1116.02 2237.89,1116.02 2237.89,1063.3 1846.57,1063.3 \"/>\n",
       "<circle clip-path=\"url(#clip812)\" style=\"fill:#e26f46; stroke:none; fill-opacity:0\" cx=\"574.813\" cy=\"1078.77\" r=\"2\"/>\n",
       "<circle clip-path=\"url(#clip812)\" style=\"fill:#e26f46; stroke:none; fill-opacity:0\" cx=\"1063.95\" cy=\"911.434\" r=\"2\"/>\n",
       "<circle clip-path=\"url(#clip812)\" style=\"fill:#e26f46; stroke:none; fill-opacity:0\" cx=\"1553.09\" cy=\"891.95\" r=\"2\"/>\n",
       "<circle clip-path=\"url(#clip812)\" style=\"fill:#e26f46; stroke:none; fill-opacity:0\" cx=\"2042.23\" cy=\"1063.3\" r=\"2\"/>\n",
       "<path clip-path=\"url(#clip812)\" d=\"M379.157 1085.07 L379.157 1143.52 L770.468 1143.52 L770.468 1085.07 L379.157 1085.07 L379.157 1085.07  Z\" fill=\"#3da44d\" fill-rule=\"evenodd\" fill-opacity=\"1\"/>\n",
       "<polyline clip-path=\"url(#clip812)\" style=\"stroke:#000000; stroke-linecap:round; stroke-linejoin:round; stroke-width:4; stroke-opacity:1; fill:none\" points=\"379.157,1085.07 379.157,1143.52 770.468,1143.52 770.468,1085.07 379.157,1085.07 \"/>\n",
       "<path clip-path=\"url(#clip812)\" d=\"M868.296 930.345 L868.296 945.818 L1259.61 945.818 L1259.61 930.345 L868.296 930.345 L868.296 930.345  Z\" fill=\"#3da44d\" fill-rule=\"evenodd\" fill-opacity=\"1\"/>\n",
       "<polyline clip-path=\"url(#clip812)\" style=\"stroke:#000000; stroke-linecap:round; stroke-linejoin:round; stroke-width:4; stroke-opacity:1; fill:none\" points=\"868.296,930.345 868.296,945.818 1259.61,945.818 1259.61,930.345 868.296,930.345 \"/>\n",
       "<path clip-path=\"url(#clip812)\" d=\"M1357.44 923.469 L1357.44 937.795 L1748.75 937.795 L1748.75 923.469 L1357.44 923.469 L1357.44 923.469  Z\" fill=\"#3da44d\" fill-rule=\"evenodd\" fill-opacity=\"1\"/>\n",
       "<polyline clip-path=\"url(#clip812)\" style=\"stroke:#000000; stroke-linecap:round; stroke-linejoin:round; stroke-width:4; stroke-opacity:1; fill:none\" points=\"1357.44,923.469 1357.44,937.795 1748.75,937.795 1748.75,923.469 1357.44,923.469 \"/>\n",
       "<path clip-path=\"url(#clip812)\" d=\"M1846.57 1116.02 L1846.57 1165.3 L2237.89 1165.3 L2237.89 1116.02 L1846.57 1116.02 L1846.57 1116.02  Z\" fill=\"#3da44d\" fill-rule=\"evenodd\" fill-opacity=\"1\"/>\n",
       "<polyline clip-path=\"url(#clip812)\" style=\"stroke:#000000; stroke-linecap:round; stroke-linejoin:round; stroke-width:4; stroke-opacity:1; fill:none\" points=\"1846.57,1116.02 1846.57,1165.3 2237.89,1165.3 2237.89,1116.02 1846.57,1116.02 \"/>\n",
       "<circle clip-path=\"url(#clip812)\" style=\"fill:#3da44d; stroke:none; fill-opacity:0\" cx=\"574.813\" cy=\"1085.07\" r=\"2\"/>\n",
       "<circle clip-path=\"url(#clip812)\" style=\"fill:#3da44d; stroke:none; fill-opacity:0\" cx=\"1063.95\" cy=\"930.345\" r=\"2\"/>\n",
       "<circle clip-path=\"url(#clip812)\" style=\"fill:#3da44d; stroke:none; fill-opacity:0\" cx=\"1553.09\" cy=\"923.469\" r=\"2\"/>\n",
       "<circle clip-path=\"url(#clip812)\" style=\"fill:#3da44d; stroke:none; fill-opacity:0\" cx=\"2042.23\" cy=\"1116.02\" r=\"2\"/>\n",
       "<path clip-path=\"url(#clip812)\" d=\"M379.157 1143.52 L379.157 1198.54 L770.468 1198.54 L770.468 1143.52 L379.157 1143.52 L379.157 1143.52  Z\" fill=\"#c271d2\" fill-rule=\"evenodd\" fill-opacity=\"1\"/>\n",
       "<polyline clip-path=\"url(#clip812)\" style=\"stroke:#000000; stroke-linecap:round; stroke-linejoin:round; stroke-width:4; stroke-opacity:1; fill:none\" points=\"379.157,1143.52 379.157,1198.54 770.468,1198.54 770.468,1143.52 379.157,1143.52 \"/>\n",
       "<path clip-path=\"url(#clip812)\" d=\"M868.296 945.818 L868.296 967.021 L1259.61 967.021 L1259.61 945.818 L868.296 945.818 L868.296 945.818  Z\" fill=\"#c271d2\" fill-rule=\"evenodd\" fill-opacity=\"1\"/>\n",
       "<polyline clip-path=\"url(#clip812)\" style=\"stroke:#000000; stroke-linecap:round; stroke-linejoin:round; stroke-width:4; stroke-opacity:1; fill:none\" points=\"868.296,945.818 868.296,967.021 1259.61,967.021 1259.61,945.818 868.296,945.818 \"/>\n",
       "<path clip-path=\"url(#clip812)\" d=\"M1357.44 937.795 L1357.44 957.852 L1748.75 957.852 L1748.75 937.795 L1357.44 937.795 L1357.44 937.795  Z\" fill=\"#c271d2\" fill-rule=\"evenodd\" fill-opacity=\"1\"/>\n",
       "<polyline clip-path=\"url(#clip812)\" style=\"stroke:#000000; stroke-linecap:round; stroke-linejoin:round; stroke-width:4; stroke-opacity:1; fill:none\" points=\"1357.44,937.795 1357.44,957.852 1748.75,957.852 1748.75,937.795 1357.44,937.795 \"/>\n",
       "<path clip-path=\"url(#clip812)\" d=\"M1846.57 1165.3 L1846.57 1211.15 L2237.89 1211.15 L2237.89 1165.3 L1846.57 1165.3 L1846.57 1165.3  Z\" fill=\"#c271d2\" fill-rule=\"evenodd\" fill-opacity=\"1\"/>\n",
       "<polyline clip-path=\"url(#clip812)\" style=\"stroke:#000000; stroke-linecap:round; stroke-linejoin:round; stroke-width:4; stroke-opacity:1; fill:none\" points=\"1846.57,1165.3 1846.57,1211.15 2237.89,1211.15 2237.89,1165.3 1846.57,1165.3 \"/>\n",
       "<circle clip-path=\"url(#clip812)\" style=\"fill:#c271d2; stroke:none; fill-opacity:0\" cx=\"574.813\" cy=\"1143.52\" r=\"2\"/>\n",
       "<circle clip-path=\"url(#clip812)\" style=\"fill:#c271d2; stroke:none; fill-opacity:0\" cx=\"1063.95\" cy=\"945.818\" r=\"2\"/>\n",
       "<circle clip-path=\"url(#clip812)\" style=\"fill:#c271d2; stroke:none; fill-opacity:0\" cx=\"1553.09\" cy=\"937.795\" r=\"2\"/>\n",
       "<circle clip-path=\"url(#clip812)\" style=\"fill:#c271d2; stroke:none; fill-opacity:0\" cx=\"2042.23\" cy=\"1165.3\" r=\"2\"/>\n",
       "<path clip-path=\"url(#clip812)\" d=\"M379.157 1198.54 L379.157 1245.53 L770.468 1245.53 L770.468 1198.54 L379.157 1198.54 L379.157 1198.54  Z\" fill=\"#ac8d18\" fill-rule=\"evenodd\" fill-opacity=\"1\"/>\n",
       "<polyline clip-path=\"url(#clip812)\" style=\"stroke:#000000; stroke-linecap:round; stroke-linejoin:round; stroke-width:4; stroke-opacity:1; fill:none\" points=\"379.157,1198.54 379.157,1245.53 770.468,1245.53 770.468,1198.54 379.157,1198.54 \"/>\n",
       "<path clip-path=\"url(#clip812)\" d=\"M868.296 967.021 L868.296 975.617 L1259.61 975.617 L1259.61 967.021 L868.296 967.021 L868.296 967.021  Z\" fill=\"#ac8d18\" fill-rule=\"evenodd\" fill-opacity=\"1\"/>\n",
       "<polyline clip-path=\"url(#clip812)\" style=\"stroke:#000000; stroke-linecap:round; stroke-linejoin:round; stroke-width:4; stroke-opacity:1; fill:none\" points=\"868.296,967.021 868.296,975.617 1259.61,975.617 1259.61,967.021 868.296,967.021 \"/>\n",
       "<path clip-path=\"url(#clip812)\" d=\"M1357.44 957.852 L1357.44 969.887 L1748.75 969.887 L1748.75 957.852 L1357.44 957.852 L1357.44 957.852  Z\" fill=\"#ac8d18\" fill-rule=\"evenodd\" fill-opacity=\"1\"/>\n",
       "<polyline clip-path=\"url(#clip812)\" style=\"stroke:#000000; stroke-linecap:round; stroke-linejoin:round; stroke-width:4; stroke-opacity:1; fill:none\" points=\"1357.44,957.852 1357.44,969.887 1748.75,969.887 1748.75,957.852 1357.44,957.852 \"/>\n",
       "<path clip-path=\"url(#clip812)\" d=\"M1846.57 1211.15 L1846.57 1244.38 L2237.89 1244.38 L2237.89 1211.15 L1846.57 1211.15 L1846.57 1211.15  Z\" fill=\"#ac8d18\" fill-rule=\"evenodd\" fill-opacity=\"1\"/>\n",
       "<polyline clip-path=\"url(#clip812)\" style=\"stroke:#000000; stroke-linecap:round; stroke-linejoin:round; stroke-width:4; stroke-opacity:1; fill:none\" points=\"1846.57,1211.15 1846.57,1244.38 2237.89,1244.38 2237.89,1211.15 1846.57,1211.15 \"/>\n",
       "<circle clip-path=\"url(#clip812)\" style=\"fill:#ac8d18; stroke:none; fill-opacity:0\" cx=\"574.813\" cy=\"1198.54\" r=\"2\"/>\n",
       "<circle clip-path=\"url(#clip812)\" style=\"fill:#ac8d18; stroke:none; fill-opacity:0\" cx=\"1063.95\" cy=\"967.021\" r=\"2\"/>\n",
       "<circle clip-path=\"url(#clip812)\" style=\"fill:#ac8d18; stroke:none; fill-opacity:0\" cx=\"1553.09\" cy=\"957.852\" r=\"2\"/>\n",
       "<circle clip-path=\"url(#clip812)\" style=\"fill:#ac8d18; stroke:none; fill-opacity:0\" cx=\"2042.23\" cy=\"1211.15\" r=\"2\"/>\n",
       "<path clip-path=\"url(#clip812)\" d=\"M379.157 1245.53 L379.157 1289.08 L770.468 1289.08 L770.468 1245.53 L379.157 1245.53 L379.157 1245.53  Z\" fill=\"#00a9ad\" fill-rule=\"evenodd\" fill-opacity=\"1\"/>\n",
       "<polyline clip-path=\"url(#clip812)\" style=\"stroke:#000000; stroke-linecap:round; stroke-linejoin:round; stroke-width:4; stroke-opacity:1; fill:none\" points=\"379.157,1245.53 379.157,1289.08 770.468,1289.08 770.468,1245.53 379.157,1245.53 \"/>\n",
       "<path clip-path=\"url(#clip812)\" d=\"M868.296 975.617 L868.296 980.775 L1259.61 980.775 L1259.61 975.617 L868.296 975.617 L868.296 975.617  Z\" fill=\"#00a9ad\" fill-rule=\"evenodd\" fill-opacity=\"1\"/>\n",
       "<polyline clip-path=\"url(#clip812)\" style=\"stroke:#000000; stroke-linecap:round; stroke-linejoin:round; stroke-width:4; stroke-opacity:1; fill:none\" points=\"868.296,975.617 868.296,980.775 1259.61,980.775 1259.61,975.617 868.296,975.617 \"/>\n",
       "<path clip-path=\"url(#clip812)\" d=\"M1357.44 969.887 L1357.44 987.652 L1748.75 987.652 L1748.75 969.887 L1357.44 969.887 L1357.44 969.887  Z\" fill=\"#00a9ad\" fill-rule=\"evenodd\" fill-opacity=\"1\"/>\n",
       "<polyline clip-path=\"url(#clip812)\" style=\"stroke:#000000; stroke-linecap:round; stroke-linejoin:round; stroke-width:4; stroke-opacity:1; fill:none\" points=\"1357.44,969.887 1357.44,987.652 1748.75,987.652 1748.75,969.887 1357.44,969.887 \"/>\n",
       "<path clip-path=\"url(#clip812)\" d=\"M1846.57 1244.38 L1846.57 1278.77 L2237.89 1278.77 L2237.89 1244.38 L1846.57 1244.38 L1846.57 1244.38  Z\" fill=\"#00a9ad\" fill-rule=\"evenodd\" fill-opacity=\"1\"/>\n",
       "<polyline clip-path=\"url(#clip812)\" style=\"stroke:#000000; stroke-linecap:round; stroke-linejoin:round; stroke-width:4; stroke-opacity:1; fill:none\" points=\"1846.57,1244.38 1846.57,1278.77 2237.89,1278.77 2237.89,1244.38 1846.57,1244.38 \"/>\n",
       "<circle clip-path=\"url(#clip812)\" style=\"fill:#00a9ad; stroke:none; fill-opacity:0\" cx=\"574.813\" cy=\"1245.53\" r=\"2\"/>\n",
       "<circle clip-path=\"url(#clip812)\" style=\"fill:#00a9ad; stroke:none; fill-opacity:0\" cx=\"1063.95\" cy=\"975.617\" r=\"2\"/>\n",
       "<circle clip-path=\"url(#clip812)\" style=\"fill:#00a9ad; stroke:none; fill-opacity:0\" cx=\"1553.09\" cy=\"969.887\" r=\"2\"/>\n",
       "<circle clip-path=\"url(#clip812)\" style=\"fill:#00a9ad; stroke:none; fill-opacity:0\" cx=\"2042.23\" cy=\"1244.38\" r=\"2\"/>\n",
       "<path clip-path=\"url(#clip812)\" d=\"M379.157 1289.08 L379.157 1329.2 L770.468 1329.2 L770.468 1289.08 L379.157 1289.08 L379.157 1289.08  Z\" fill=\"#ed5d92\" fill-rule=\"evenodd\" fill-opacity=\"1\"/>\n",
       "<polyline clip-path=\"url(#clip812)\" style=\"stroke:#000000; stroke-linecap:round; stroke-linejoin:round; stroke-width:4; stroke-opacity:1; fill:none\" points=\"379.157,1289.08 379.157,1329.2 770.468,1329.2 770.468,1289.08 379.157,1289.08 \"/>\n",
       "<path clip-path=\"url(#clip812)\" d=\"M868.296 980.775 L868.296 991.663 L1259.61 991.663 L1259.61 980.775 L868.296 980.775 L868.296 980.775  Z\" fill=\"#ed5d92\" fill-rule=\"evenodd\" fill-opacity=\"1\"/>\n",
       "<polyline clip-path=\"url(#clip812)\" style=\"stroke:#000000; stroke-linecap:round; stroke-linejoin:round; stroke-width:4; stroke-opacity:1; fill:none\" points=\"868.296,980.775 868.296,991.663 1259.61,991.663 1259.61,980.775 868.296,980.775 \"/>\n",
       "<path clip-path=\"url(#clip812)\" d=\"M1357.44 987.652 L1357.44 1048.4 L1748.75 1048.4 L1748.75 987.652 L1357.44 987.652 L1357.44 987.652  Z\" fill=\"#ed5d92\" fill-rule=\"evenodd\" fill-opacity=\"1\"/>\n",
       "<polyline clip-path=\"url(#clip812)\" style=\"stroke:#000000; stroke-linecap:round; stroke-linejoin:round; stroke-width:4; stroke-opacity:1; fill:none\" points=\"1357.44,987.652 1357.44,1048.4 1748.75,1048.4 1748.75,987.652 1357.44,987.652 \"/>\n",
       "<path clip-path=\"url(#clip812)\" d=\"M1846.57 1278.77 L1846.57 1309.71 L2237.89 1309.71 L2237.89 1278.77 L1846.57 1278.77 L1846.57 1278.77  Z\" fill=\"#ed5d92\" fill-rule=\"evenodd\" fill-opacity=\"1\"/>\n",
       "<polyline clip-path=\"url(#clip812)\" style=\"stroke:#000000; stroke-linecap:round; stroke-linejoin:round; stroke-width:4; stroke-opacity:1; fill:none\" points=\"1846.57,1278.77 1846.57,1309.71 2237.89,1309.71 2237.89,1278.77 1846.57,1278.77 \"/>\n",
       "<circle clip-path=\"url(#clip812)\" style=\"fill:#ed5d92; stroke:none; fill-opacity:0\" cx=\"574.813\" cy=\"1289.08\" r=\"2\"/>\n",
       "<circle clip-path=\"url(#clip812)\" style=\"fill:#ed5d92; stroke:none; fill-opacity:0\" cx=\"1063.95\" cy=\"980.775\" r=\"2\"/>\n",
       "<circle clip-path=\"url(#clip812)\" style=\"fill:#ed5d92; stroke:none; fill-opacity:0\" cx=\"1553.09\" cy=\"987.652\" r=\"2\"/>\n",
       "<circle clip-path=\"url(#clip812)\" style=\"fill:#ed5d92; stroke:none; fill-opacity:0\" cx=\"2042.23\" cy=\"1278.77\" r=\"2\"/>\n",
       "<path clip-path=\"url(#clip812)\" d=\"M379.157 1329.2 L379.157 1365.87 L770.468 1365.87 L770.468 1329.2 L379.157 1329.2 L379.157 1329.2  Z\" fill=\"#c68125\" fill-rule=\"evenodd\" fill-opacity=\"1\"/>\n",
       "<polyline clip-path=\"url(#clip812)\" style=\"stroke:#000000; stroke-linecap:round; stroke-linejoin:round; stroke-width:4; stroke-opacity:1; fill:none\" points=\"379.157,1329.2 379.157,1365.87 770.468,1365.87 770.468,1329.2 379.157,1329.2 \"/>\n",
       "<path clip-path=\"url(#clip812)\" d=\"M868.296 991.663 L868.296 999.113 L1259.61 999.113 L1259.61 991.663 L868.296 991.663 L868.296 991.663  Z\" fill=\"#c68125\" fill-rule=\"evenodd\" fill-opacity=\"1\"/>\n",
       "<polyline clip-path=\"url(#clip812)\" style=\"stroke:#000000; stroke-linecap:round; stroke-linejoin:round; stroke-width:4; stroke-opacity:1; fill:none\" points=\"868.296,991.663 868.296,999.113 1259.61,999.113 1259.61,991.663 868.296,991.663 \"/>\n",
       "<path clip-path=\"url(#clip812)\" d=\"M1357.44 1048.4 L1357.44 1105.7 L1748.75 1105.7 L1748.75 1048.4 L1357.44 1048.4 L1357.44 1048.4  Z\" fill=\"#c68125\" fill-rule=\"evenodd\" fill-opacity=\"1\"/>\n",
       "<polyline clip-path=\"url(#clip812)\" style=\"stroke:#000000; stroke-linecap:round; stroke-linejoin:round; stroke-width:4; stroke-opacity:1; fill:none\" points=\"1357.44,1048.4 1357.44,1105.7 1748.75,1105.7 1748.75,1048.4 1357.44,1048.4 \"/>\n",
       "<path clip-path=\"url(#clip812)\" d=\"M1846.57 1309.71 L1846.57 1341.8 L2237.89 1341.8 L2237.89 1309.71 L1846.57 1309.71 L1846.57 1309.71  Z\" fill=\"#c68125\" fill-rule=\"evenodd\" fill-opacity=\"1\"/>\n",
       "<polyline clip-path=\"url(#clip812)\" style=\"stroke:#000000; stroke-linecap:round; stroke-linejoin:round; stroke-width:4; stroke-opacity:1; fill:none\" points=\"1846.57,1309.71 1846.57,1341.8 2237.89,1341.8 2237.89,1309.71 1846.57,1309.71 \"/>\n",
       "<circle clip-path=\"url(#clip812)\" style=\"fill:#c68125; stroke:none; fill-opacity:0\" cx=\"574.813\" cy=\"1329.2\" r=\"2\"/>\n",
       "<circle clip-path=\"url(#clip812)\" style=\"fill:#c68125; stroke:none; fill-opacity:0\" cx=\"1063.95\" cy=\"991.663\" r=\"2\"/>\n",
       "<circle clip-path=\"url(#clip812)\" style=\"fill:#c68125; stroke:none; fill-opacity:0\" cx=\"1553.09\" cy=\"1048.4\" r=\"2\"/>\n",
       "<circle clip-path=\"url(#clip812)\" style=\"fill:#c68125; stroke:none; fill-opacity:0\" cx=\"2042.23\" cy=\"1309.71\" r=\"2\"/>\n",
       "<path clip-path=\"url(#clip812)\" d=\"M379.157 1365.87 L379.157 1394.53 L770.468 1394.53 L770.468 1365.87 L379.157 1365.87 L379.157 1365.87  Z\" fill=\"#00a98d\" fill-rule=\"evenodd\" fill-opacity=\"1\"/>\n",
       "<polyline clip-path=\"url(#clip812)\" style=\"stroke:#000000; stroke-linecap:round; stroke-linejoin:round; stroke-width:4; stroke-opacity:1; fill:none\" points=\"379.157,1365.87 379.157,1394.53 770.468,1394.53 770.468,1365.87 379.157,1365.87 \"/>\n",
       "<path clip-path=\"url(#clip812)\" d=\"M868.296 999.113 L868.296 1058.71 L1259.61 1058.71 L1259.61 999.113 L868.296 999.113 L868.296 999.113  Z\" fill=\"#00a98d\" fill-rule=\"evenodd\" fill-opacity=\"1\"/>\n",
       "<polyline clip-path=\"url(#clip812)\" style=\"stroke:#000000; stroke-linecap:round; stroke-linejoin:round; stroke-width:4; stroke-opacity:1; fill:none\" points=\"868.296,999.113 868.296,1058.71 1259.61,1058.71 1259.61,999.113 868.296,999.113 \"/>\n",
       "<path clip-path=\"url(#clip812)\" d=\"M1357.44 1105.7 L1357.44 1159.57 L1748.75 1159.57 L1748.75 1105.7 L1357.44 1105.7 L1357.44 1105.7  Z\" fill=\"#00a98d\" fill-rule=\"evenodd\" fill-opacity=\"1\"/>\n",
       "<polyline clip-path=\"url(#clip812)\" style=\"stroke:#000000; stroke-linecap:round; stroke-linejoin:round; stroke-width:4; stroke-opacity:1; fill:none\" points=\"1357.44,1105.7 1357.44,1159.57 1748.75,1159.57 1748.75,1105.7 1357.44,1105.7 \"/>\n",
       "<path clip-path=\"url(#clip812)\" d=\"M1846.57 1341.8 L1846.57 1361.29 L2237.89 1361.29 L2237.89 1341.8 L1846.57 1341.8 L1846.57 1341.8  Z\" fill=\"#00a98d\" fill-rule=\"evenodd\" fill-opacity=\"1\"/>\n",
       "<polyline clip-path=\"url(#clip812)\" style=\"stroke:#000000; stroke-linecap:round; stroke-linejoin:round; stroke-width:4; stroke-opacity:1; fill:none\" points=\"1846.57,1341.8 1846.57,1361.29 2237.89,1361.29 2237.89,1341.8 1846.57,1341.8 \"/>\n",
       "<circle clip-path=\"url(#clip812)\" style=\"fill:#00a98d; stroke:none; fill-opacity:0\" cx=\"574.813\" cy=\"1365.87\" r=\"2\"/>\n",
       "<circle clip-path=\"url(#clip812)\" style=\"fill:#00a98d; stroke:none; fill-opacity:0\" cx=\"1063.95\" cy=\"999.113\" r=\"2\"/>\n",
       "<circle clip-path=\"url(#clip812)\" style=\"fill:#00a98d; stroke:none; fill-opacity:0\" cx=\"1553.09\" cy=\"1105.7\" r=\"2\"/>\n",
       "<circle clip-path=\"url(#clip812)\" style=\"fill:#00a98d; stroke:none; fill-opacity:0\" cx=\"2042.23\" cy=\"1341.8\" r=\"2\"/>\n",
       "<path clip-path=\"url(#clip812)\" d=\"M379.157 1394.53 L379.157 1405.99 L770.468 1405.99 L770.468 1394.53 L379.157 1394.53 L379.157 1394.53  Z\" fill=\"#8e971d\" fill-rule=\"evenodd\" fill-opacity=\"1\"/>\n",
       "<polyline clip-path=\"url(#clip812)\" style=\"stroke:#000000; stroke-linecap:round; stroke-linejoin:round; stroke-width:4; stroke-opacity:1; fill:none\" points=\"379.157,1394.53 379.157,1405.99 770.468,1405.99 770.468,1394.53 379.157,1394.53 \"/>\n",
       "<path clip-path=\"url(#clip812)\" d=\"M868.296 1058.71 L868.296 1110.29 L1259.61 1110.29 L1259.61 1058.71 L868.296 1058.71 L868.296 1058.71  Z\" fill=\"#8e971d\" fill-rule=\"evenodd\" fill-opacity=\"1\"/>\n",
       "<polyline clip-path=\"url(#clip812)\" style=\"stroke:#000000; stroke-linecap:round; stroke-linejoin:round; stroke-width:4; stroke-opacity:1; fill:none\" points=\"868.296,1058.71 868.296,1110.29 1259.61,1110.29 1259.61,1058.71 868.296,1058.71 \"/>\n",
       "<path clip-path=\"url(#clip812)\" d=\"M1357.44 1159.57 L1357.44 1210 L1748.75 1210 L1748.75 1159.57 L1357.44 1159.57 L1357.44 1159.57  Z\" fill=\"#8e971d\" fill-rule=\"evenodd\" fill-opacity=\"1\"/>\n",
       "<polyline clip-path=\"url(#clip812)\" style=\"stroke:#000000; stroke-linecap:round; stroke-linejoin:round; stroke-width:4; stroke-opacity:1; fill:none\" points=\"1357.44,1159.57 1357.44,1210 1748.75,1210 1748.75,1159.57 1357.44,1159.57 \"/>\n",
       "<path clip-path=\"url(#clip812)\" d=\"M1846.57 1361.29 L1846.57 1381.92 L2237.89 1381.92 L2237.89 1361.29 L1846.57 1361.29 L1846.57 1361.29  Z\" fill=\"#8e971d\" fill-rule=\"evenodd\" fill-opacity=\"1\"/>\n",
       "<polyline clip-path=\"url(#clip812)\" style=\"stroke:#000000; stroke-linecap:round; stroke-linejoin:round; stroke-width:4; stroke-opacity:1; fill:none\" points=\"1846.57,1361.29 1846.57,1381.92 2237.89,1381.92 2237.89,1361.29 1846.57,1361.29 \"/>\n",
       "<circle clip-path=\"url(#clip812)\" style=\"fill:#8e971d; stroke:none; fill-opacity:0\" cx=\"574.813\" cy=\"1394.53\" r=\"2\"/>\n",
       "<circle clip-path=\"url(#clip812)\" style=\"fill:#8e971d; stroke:none; fill-opacity:0\" cx=\"1063.95\" cy=\"1058.71\" r=\"2\"/>\n",
       "<circle clip-path=\"url(#clip812)\" style=\"fill:#8e971d; stroke:none; fill-opacity:0\" cx=\"1553.09\" cy=\"1159.57\" r=\"2\"/>\n",
       "<circle clip-path=\"url(#clip812)\" style=\"fill:#8e971d; stroke:none; fill-opacity:0\" cx=\"2042.23\" cy=\"1361.29\" r=\"2\"/>\n",
       "<path clip-path=\"url(#clip812)\" d=\"M379.157 1405.99 L379.157 1414.01 L770.468 1414.01 L770.468 1405.99 L379.157 1405.99 L379.157 1405.99  Z\" fill=\"#00a8cb\" fill-rule=\"evenodd\" fill-opacity=\"1\"/>\n",
       "<polyline clip-path=\"url(#clip812)\" style=\"stroke:#000000; stroke-linecap:round; stroke-linejoin:round; stroke-width:4; stroke-opacity:1; fill:none\" points=\"379.157,1405.99 379.157,1414.01 770.468,1414.01 770.468,1405.99 379.157,1405.99 \"/>\n",
       "<path clip-path=\"url(#clip812)\" d=\"M868.296 1110.29 L868.296 1158.42 L1259.61 1158.42 L1259.61 1110.29 L868.296 1110.29 L868.296 1110.29  Z\" fill=\"#00a8cb\" fill-rule=\"evenodd\" fill-opacity=\"1\"/>\n",
       "<polyline clip-path=\"url(#clip812)\" style=\"stroke:#000000; stroke-linecap:round; stroke-linejoin:round; stroke-width:4; stroke-opacity:1; fill:none\" points=\"868.296,1110.29 868.296,1158.42 1259.61,1158.42 1259.61,1110.29 868.296,1110.29 \"/>\n",
       "<path clip-path=\"url(#clip812)\" d=\"M1357.44 1210 L1357.44 1252.41 L1748.75 1252.41 L1748.75 1210 L1357.44 1210 L1357.44 1210  Z\" fill=\"#00a8cb\" fill-rule=\"evenodd\" fill-opacity=\"1\"/>\n",
       "<polyline clip-path=\"url(#clip812)\" style=\"stroke:#000000; stroke-linecap:round; stroke-linejoin:round; stroke-width:4; stroke-opacity:1; fill:none\" points=\"1357.44,1210 1357.44,1252.41 1748.75,1252.41 1748.75,1210 1357.44,1210 \"/>\n",
       "<path clip-path=\"url(#clip812)\" d=\"M1846.57 1381.92 L1846.57 1403.7 L2237.89 1403.7 L2237.89 1381.92 L1846.57 1381.92 L1846.57 1381.92  Z\" fill=\"#00a8cb\" fill-rule=\"evenodd\" fill-opacity=\"1\"/>\n",
       "<polyline clip-path=\"url(#clip812)\" style=\"stroke:#000000; stroke-linecap:round; stroke-linejoin:round; stroke-width:4; stroke-opacity:1; fill:none\" points=\"1846.57,1381.92 1846.57,1403.7 2237.89,1403.7 2237.89,1381.92 1846.57,1381.92 \"/>\n",
       "<circle clip-path=\"url(#clip812)\" style=\"fill:#00a8cb; stroke:none; fill-opacity:0\" cx=\"574.813\" cy=\"1405.99\" r=\"2\"/>\n",
       "<circle clip-path=\"url(#clip812)\" style=\"fill:#00a8cb; stroke:none; fill-opacity:0\" cx=\"1063.95\" cy=\"1110.29\" r=\"2\"/>\n",
       "<circle clip-path=\"url(#clip812)\" style=\"fill:#00a8cb; stroke:none; fill-opacity:0\" cx=\"1553.09\" cy=\"1210\" r=\"2\"/>\n",
       "<circle clip-path=\"url(#clip812)\" style=\"fill:#00a8cb; stroke:none; fill-opacity:0\" cx=\"2042.23\" cy=\"1381.92\" r=\"2\"/>\n",
       "<path clip-path=\"url(#clip812)\" d=\"M379.157 1414.01 L379.157 1423.18 L770.468 1423.18 L770.468 1414.01 L379.157 1414.01 L379.157 1414.01  Z\" fill=\"#9b7fe8\" fill-rule=\"evenodd\" fill-opacity=\"1\"/>\n",
       "<polyline clip-path=\"url(#clip812)\" style=\"stroke:#000000; stroke-linecap:round; stroke-linejoin:round; stroke-width:4; stroke-opacity:1; fill:none\" points=\"379.157,1414.01 379.157,1423.18 770.468,1423.18 770.468,1414.01 379.157,1414.01 \"/>\n",
       "<path clip-path=\"url(#clip812)\" d=\"M868.296 1158.42 L868.296 1203.12 L1259.61 1203.12 L1259.61 1158.42 L868.296 1158.42 L868.296 1158.42  Z\" fill=\"#9b7fe8\" fill-rule=\"evenodd\" fill-opacity=\"1\"/>\n",
       "<polyline clip-path=\"url(#clip812)\" style=\"stroke:#000000; stroke-linecap:round; stroke-linejoin:round; stroke-width:4; stroke-opacity:1; fill:none\" points=\"868.296,1158.42 868.296,1203.12 1259.61,1203.12 1259.61,1158.42 868.296,1158.42 \"/>\n",
       "<path clip-path=\"url(#clip812)\" d=\"M1357.44 1252.41 L1357.44 1282.21 L1748.75 1282.21 L1748.75 1252.41 L1357.44 1252.41 L1357.44 1252.41  Z\" fill=\"#9b7fe8\" fill-rule=\"evenodd\" fill-opacity=\"1\"/>\n",
       "<polyline clip-path=\"url(#clip812)\" style=\"stroke:#000000; stroke-linecap:round; stroke-linejoin:round; stroke-width:4; stroke-opacity:1; fill:none\" points=\"1357.44,1252.41 1357.44,1282.21 1748.75,1282.21 1748.75,1252.41 1357.44,1252.41 \"/>\n",
       "<path clip-path=\"url(#clip812)\" d=\"M1846.57 1403.7 L1846.57 1417.45 L2237.89 1417.45 L2237.89 1403.7 L1846.57 1403.7 L1846.57 1403.7  Z\" fill=\"#9b7fe8\" fill-rule=\"evenodd\" fill-opacity=\"1\"/>\n",
       "<polyline clip-path=\"url(#clip812)\" style=\"stroke:#000000; stroke-linecap:round; stroke-linejoin:round; stroke-width:4; stroke-opacity:1; fill:none\" points=\"1846.57,1403.7 1846.57,1417.45 2237.89,1417.45 2237.89,1403.7 1846.57,1403.7 \"/>\n",
       "<circle clip-path=\"url(#clip812)\" style=\"fill:#9b7fe8; stroke:none; fill-opacity:0\" cx=\"574.813\" cy=\"1414.01\" r=\"2\"/>\n",
       "<circle clip-path=\"url(#clip812)\" style=\"fill:#9b7fe8; stroke:none; fill-opacity:0\" cx=\"1063.95\" cy=\"1158.42\" r=\"2\"/>\n",
       "<circle clip-path=\"url(#clip812)\" style=\"fill:#9b7fe8; stroke:none; fill-opacity:0\" cx=\"1553.09\" cy=\"1252.41\" r=\"2\"/>\n",
       "<circle clip-path=\"url(#clip812)\" style=\"fill:#9b7fe8; stroke:none; fill-opacity:0\" cx=\"2042.23\" cy=\"1403.7\" r=\"2\"/>\n",
       "<path clip-path=\"url(#clip812)\" d=\"M379.157 1423.18 L379.157 1423.18 L770.468 1423.18 L770.468 1423.18 L379.157 1423.18 L379.157 1423.18  Z\" fill=\"#608cf6\" fill-rule=\"evenodd\" fill-opacity=\"1\"/>\n",
       "<polyline clip-path=\"url(#clip812)\" style=\"stroke:#000000; stroke-linecap:round; stroke-linejoin:round; stroke-width:4; stroke-opacity:1; fill:none\" points=\"379.157,1423.18 379.157,1423.18 770.468,1423.18 379.157,1423.18 \"/>\n",
       "<path clip-path=\"url(#clip812)\" d=\"M868.296 1203.12 L868.296 1244.38 L1259.61 1244.38 L1259.61 1203.12 L868.296 1203.12 L868.296 1203.12  Z\" fill=\"#608cf6\" fill-rule=\"evenodd\" fill-opacity=\"1\"/>\n",
       "<polyline clip-path=\"url(#clip812)\" style=\"stroke:#000000; stroke-linecap:round; stroke-linejoin:round; stroke-width:4; stroke-opacity:1; fill:none\" points=\"868.296,1203.12 868.296,1244.38 1259.61,1244.38 1259.61,1203.12 868.296,1203.12 \"/>\n",
       "<path clip-path=\"url(#clip812)\" d=\"M1357.44 1282.21 L1357.44 1308.57 L1748.75 1308.57 L1748.75 1282.21 L1357.44 1282.21 L1357.44 1282.21  Z\" fill=\"#608cf6\" fill-rule=\"evenodd\" fill-opacity=\"1\"/>\n",
       "<polyline clip-path=\"url(#clip812)\" style=\"stroke:#000000; stroke-linecap:round; stroke-linejoin:round; stroke-width:4; stroke-opacity:1; fill:none\" points=\"1357.44,1282.21 1357.44,1308.57 1748.75,1308.57 1748.75,1282.21 1357.44,1282.21 \"/>\n",
       "<path clip-path=\"url(#clip812)\" d=\"M1846.57 1417.45 L1846.57 1423.18 L2237.89 1423.18 L2237.89 1417.45 L1846.57 1417.45 L1846.57 1417.45  Z\" fill=\"#608cf6\" fill-rule=\"evenodd\" fill-opacity=\"1\"/>\n",
       "<polyline clip-path=\"url(#clip812)\" style=\"stroke:#000000; stroke-linecap:round; stroke-linejoin:round; stroke-width:4; stroke-opacity:1; fill:none\" points=\"1846.57,1417.45 1846.57,1423.18 2237.89,1423.18 2237.89,1417.45 1846.57,1417.45 \"/>\n",
       "<circle clip-path=\"url(#clip812)\" style=\"fill:#608cf6; stroke:none; fill-opacity:0\" cx=\"574.813\" cy=\"1423.18\" r=\"2\"/>\n",
       "<circle clip-path=\"url(#clip812)\" style=\"fill:#608cf6; stroke:none; fill-opacity:0\" cx=\"1063.95\" cy=\"1203.12\" r=\"2\"/>\n",
       "<circle clip-path=\"url(#clip812)\" style=\"fill:#608cf6; stroke:none; fill-opacity:0\" cx=\"1553.09\" cy=\"1282.21\" r=\"2\"/>\n",
       "<circle clip-path=\"url(#clip812)\" style=\"fill:#608cf6; stroke:none; fill-opacity:0\" cx=\"2042.23\" cy=\"1417.45\" r=\"2\"/>\n",
       "<path clip-path=\"url(#clip812)\" d=\"M379.157 1423.18 L379.157 1423.18 L770.468 1423.18 L770.468 1423.18 L379.157 1423.18 L379.157 1423.18  Z\" fill=\"#f05f73\" fill-rule=\"evenodd\" fill-opacity=\"1\"/>\n",
       "<polyline clip-path=\"url(#clip812)\" style=\"stroke:#000000; stroke-linecap:round; stroke-linejoin:round; stroke-width:4; stroke-opacity:1; fill:none\" points=\"379.157,1423.18 379.157,1423.18 770.468,1423.18 379.157,1423.18 \"/>\n",
       "<path clip-path=\"url(#clip812)\" d=\"M868.296 1244.38 L868.296 1282.21 L1259.61 1282.21 L1259.61 1244.38 L868.296 1244.38 L868.296 1244.38  Z\" fill=\"#f05f73\" fill-rule=\"evenodd\" fill-opacity=\"1\"/>\n",
       "<polyline clip-path=\"url(#clip812)\" style=\"stroke:#000000; stroke-linecap:round; stroke-linejoin:round; stroke-width:4; stroke-opacity:1; fill:none\" points=\"868.296,1244.38 868.296,1282.21 1259.61,1282.21 1259.61,1244.38 868.296,1244.38 \"/>\n",
       "<path clip-path=\"url(#clip812)\" d=\"M1357.44 1308.57 L1357.44 1331.49 L1748.75 1331.49 L1748.75 1308.57 L1357.44 1308.57 L1357.44 1308.57  Z\" fill=\"#f05f73\" fill-rule=\"evenodd\" fill-opacity=\"1\"/>\n",
       "<polyline clip-path=\"url(#clip812)\" style=\"stroke:#000000; stroke-linecap:round; stroke-linejoin:round; stroke-width:4; stroke-opacity:1; fill:none\" points=\"1357.44,1308.57 1357.44,1331.49 1748.75,1331.49 1748.75,1308.57 1357.44,1308.57 \"/>\n",
       "<path clip-path=\"url(#clip812)\" d=\"M1846.57 1423.18 L1846.57 1423.18 L2237.89 1423.18 L2237.89 1423.18 L1846.57 1423.18 L1846.57 1423.18  Z\" fill=\"#f05f73\" fill-rule=\"evenodd\" fill-opacity=\"1\"/>\n",
       "<polyline clip-path=\"url(#clip812)\" style=\"stroke:#000000; stroke-linecap:round; stroke-linejoin:round; stroke-width:4; stroke-opacity:1; fill:none\" points=\"1846.57,1423.18 1846.57,1423.18 2237.89,1423.18 1846.57,1423.18 \"/>\n",
       "<circle clip-path=\"url(#clip812)\" style=\"fill:#f05f73; stroke:none; fill-opacity:0\" cx=\"574.813\" cy=\"1423.18\" r=\"2\"/>\n",
       "<circle clip-path=\"url(#clip812)\" style=\"fill:#f05f73; stroke:none; fill-opacity:0\" cx=\"1063.95\" cy=\"1244.38\" r=\"2\"/>\n",
       "<circle clip-path=\"url(#clip812)\" style=\"fill:#f05f73; stroke:none; fill-opacity:0\" cx=\"1553.09\" cy=\"1308.57\" r=\"2\"/>\n",
       "<circle clip-path=\"url(#clip812)\" style=\"fill:#f05f73; stroke:none; fill-opacity:0\" cx=\"2042.23\" cy=\"1423.18\" r=\"2\"/>\n",
       "<path clip-path=\"url(#clip812)\" d=\"M379.157 1423.18 L379.157 1423.18 L770.468 1423.18 L770.468 1423.18 L379.157 1423.18 L379.157 1423.18  Z\" fill=\"#dd64b5\" fill-rule=\"evenodd\" fill-opacity=\"1\"/>\n",
       "<polyline clip-path=\"url(#clip812)\" style=\"stroke:#000000; stroke-linecap:round; stroke-linejoin:round; stroke-width:4; stroke-opacity:1; fill:none\" points=\"379.157,1423.18 379.157,1423.18 770.468,1423.18 379.157,1423.18 \"/>\n",
       "<path clip-path=\"url(#clip812)\" d=\"M868.296 1282.21 L868.296 1321.17 L1259.61 1321.17 L1259.61 1282.21 L868.296 1282.21 L868.296 1282.21  Z\" fill=\"#dd64b5\" fill-rule=\"evenodd\" fill-opacity=\"1\"/>\n",
       "<polyline clip-path=\"url(#clip812)\" style=\"stroke:#000000; stroke-linecap:round; stroke-linejoin:round; stroke-width:4; stroke-opacity:1; fill:none\" points=\"868.296,1282.21 868.296,1321.17 1259.61,1321.17 1259.61,1282.21 868.296,1282.21 \"/>\n",
       "<path clip-path=\"url(#clip812)\" d=\"M1357.44 1331.49 L1357.44 1355.56 L1748.75 1355.56 L1748.75 1331.49 L1357.44 1331.49 L1357.44 1331.49  Z\" fill=\"#dd64b5\" fill-rule=\"evenodd\" fill-opacity=\"1\"/>\n",
       "<polyline clip-path=\"url(#clip812)\" style=\"stroke:#000000; stroke-linecap:round; stroke-linejoin:round; stroke-width:4; stroke-opacity:1; fill:none\" points=\"1357.44,1331.49 1357.44,1355.56 1748.75,1355.56 1748.75,1331.49 1357.44,1331.49 \"/>\n",
       "<path clip-path=\"url(#clip812)\" d=\"M1846.57 1423.18 L1846.57 1423.18 L2237.89 1423.18 L2237.89 1423.18 L1846.57 1423.18 L1846.57 1423.18  Z\" fill=\"#dd64b5\" fill-rule=\"evenodd\" fill-opacity=\"1\"/>\n",
       "<polyline clip-path=\"url(#clip812)\" style=\"stroke:#000000; stroke-linecap:round; stroke-linejoin:round; stroke-width:4; stroke-opacity:1; fill:none\" points=\"1846.57,1423.18 1846.57,1423.18 2237.89,1423.18 1846.57,1423.18 \"/>\n",
       "<circle clip-path=\"url(#clip812)\" style=\"fill:#dd64b5; stroke:none; fill-opacity:0\" cx=\"574.813\" cy=\"1423.18\" r=\"2\"/>\n",
       "<circle clip-path=\"url(#clip812)\" style=\"fill:#dd64b5; stroke:none; fill-opacity:0\" cx=\"1063.95\" cy=\"1282.21\" r=\"2\"/>\n",
       "<circle clip-path=\"url(#clip812)\" style=\"fill:#dd64b5; stroke:none; fill-opacity:0\" cx=\"1553.09\" cy=\"1331.49\" r=\"2\"/>\n",
       "<circle clip-path=\"url(#clip812)\" style=\"fill:#dd64b5; stroke:none; fill-opacity:0\" cx=\"2042.23\" cy=\"1423.18\" r=\"2\"/>\n",
       "<path clip-path=\"url(#clip812)\" d=\"M379.157 1423.18 L379.157 1423.18 L770.468 1423.18 L770.468 1423.18 L379.157 1423.18 L379.157 1423.18  Z\" fill=\"#6b9e32\" fill-rule=\"evenodd\" fill-opacity=\"1\"/>\n",
       "<polyline clip-path=\"url(#clip812)\" style=\"stroke:#000000; stroke-linecap:round; stroke-linejoin:round; stroke-width:4; stroke-opacity:1; fill:none\" points=\"379.157,1423.18 379.157,1423.18 770.468,1423.18 379.157,1423.18 \"/>\n",
       "<path clip-path=\"url(#clip812)\" d=\"M868.296 1321.17 L868.296 1356.7 L1259.61 1356.7 L1259.61 1321.17 L868.296 1321.17 L868.296 1321.17  Z\" fill=\"#6b9e32\" fill-rule=\"evenodd\" fill-opacity=\"1\"/>\n",
       "<polyline clip-path=\"url(#clip812)\" style=\"stroke:#000000; stroke-linecap:round; stroke-linejoin:round; stroke-width:4; stroke-opacity:1; fill:none\" points=\"868.296,1321.17 868.296,1356.7 1259.61,1356.7 1259.61,1321.17 868.296,1321.17 \"/>\n",
       "<path clip-path=\"url(#clip812)\" d=\"M1357.44 1355.56 L1357.44 1380.77 L1748.75 1380.77 L1748.75 1355.56 L1357.44 1355.56 L1357.44 1355.56  Z\" fill=\"#6b9e32\" fill-rule=\"evenodd\" fill-opacity=\"1\"/>\n",
       "<polyline clip-path=\"url(#clip812)\" style=\"stroke:#000000; stroke-linecap:round; stroke-linejoin:round; stroke-width:4; stroke-opacity:1; fill:none\" points=\"1357.44,1355.56 1357.44,1380.77 1748.75,1380.77 1748.75,1355.56 1357.44,1355.56 \"/>\n",
       "<path clip-path=\"url(#clip812)\" d=\"M1846.57 1423.18 L1846.57 1423.18 L2237.89 1423.18 L2237.89 1423.18 L1846.57 1423.18 L1846.57 1423.18  Z\" fill=\"#6b9e32\" fill-rule=\"evenodd\" fill-opacity=\"1\"/>\n",
       "<polyline clip-path=\"url(#clip812)\" style=\"stroke:#000000; stroke-linecap:round; stroke-linejoin:round; stroke-width:4; stroke-opacity:1; fill:none\" points=\"1846.57,1423.18 1846.57,1423.18 2237.89,1423.18 1846.57,1423.18 \"/>\n",
       "<circle clip-path=\"url(#clip812)\" style=\"fill:#6b9e32; stroke:none; fill-opacity:0\" cx=\"574.813\" cy=\"1423.18\" r=\"2\"/>\n",
       "<circle clip-path=\"url(#clip812)\" style=\"fill:#6b9e32; stroke:none; fill-opacity:0\" cx=\"1063.95\" cy=\"1321.17\" r=\"2\"/>\n",
       "<circle clip-path=\"url(#clip812)\" style=\"fill:#6b9e32; stroke:none; fill-opacity:0\" cx=\"1553.09\" cy=\"1355.56\" r=\"2\"/>\n",
       "<circle clip-path=\"url(#clip812)\" style=\"fill:#6b9e32; stroke:none; fill-opacity:0\" cx=\"2042.23\" cy=\"1423.18\" r=\"2\"/>\n",
       "<path clip-path=\"url(#clip812)\" d=\"M379.157 1423.18 L379.157 1423.18 L770.468 1423.18 L770.468 1423.18 L379.157 1423.18 L379.157 1423.18  Z\" fill=\"#009af9\" fill-rule=\"evenodd\" fill-opacity=\"1\"/>\n",
       "<polyline clip-path=\"url(#clip812)\" style=\"stroke:#000000; stroke-linecap:round; stroke-linejoin:round; stroke-width:4; stroke-opacity:1; fill:none\" points=\"379.157,1423.18 379.157,1423.18 770.468,1423.18 379.157,1423.18 \"/>\n",
       "<path clip-path=\"url(#clip812)\" d=\"M868.296 1356.7 L868.296 1384.21 L1259.61 1384.21 L1259.61 1356.7 L868.296 1356.7 L868.296 1356.7  Z\" fill=\"#009af9\" fill-rule=\"evenodd\" fill-opacity=\"1\"/>\n",
       "<polyline clip-path=\"url(#clip812)\" style=\"stroke:#000000; stroke-linecap:round; stroke-linejoin:round; stroke-width:4; stroke-opacity:1; fill:none\" points=\"868.296,1356.7 868.296,1384.21 1259.61,1384.21 1259.61,1356.7 868.296,1356.7 \"/>\n",
       "<path clip-path=\"url(#clip812)\" d=\"M1357.44 1380.77 L1357.44 1397.97 L1748.75 1397.97 L1748.75 1380.77 L1357.44 1380.77 L1357.44 1380.77  Z\" fill=\"#009af9\" fill-rule=\"evenodd\" fill-opacity=\"1\"/>\n",
       "<polyline clip-path=\"url(#clip812)\" style=\"stroke:#000000; stroke-linecap:round; stroke-linejoin:round; stroke-width:4; stroke-opacity:1; fill:none\" points=\"1357.44,1380.77 1357.44,1397.97 1748.75,1397.97 1748.75,1380.77 1357.44,1380.77 \"/>\n",
       "<path clip-path=\"url(#clip812)\" d=\"M1846.57 1423.18 L1846.57 1423.18 L2237.89 1423.18 L2237.89 1423.18 L1846.57 1423.18 L1846.57 1423.18  Z\" fill=\"#009af9\" fill-rule=\"evenodd\" fill-opacity=\"1\"/>\n",
       "<polyline clip-path=\"url(#clip812)\" style=\"stroke:#000000; stroke-linecap:round; stroke-linejoin:round; stroke-width:4; stroke-opacity:1; fill:none\" points=\"1846.57,1423.18 1846.57,1423.18 2237.89,1423.18 1846.57,1423.18 \"/>\n",
       "<circle clip-path=\"url(#clip812)\" style=\"fill:#009af9; stroke:none; fill-opacity:0\" cx=\"574.813\" cy=\"1423.18\" r=\"2\"/>\n",
       "<circle clip-path=\"url(#clip812)\" style=\"fill:#009af9; stroke:none; fill-opacity:0\" cx=\"1063.95\" cy=\"1356.7\" r=\"2\"/>\n",
       "<circle clip-path=\"url(#clip812)\" style=\"fill:#009af9; stroke:none; fill-opacity:0\" cx=\"1553.09\" cy=\"1380.77\" r=\"2\"/>\n",
       "<circle clip-path=\"url(#clip812)\" style=\"fill:#009af9; stroke:none; fill-opacity:0\" cx=\"2042.23\" cy=\"1423.18\" r=\"2\"/>\n",
       "<path clip-path=\"url(#clip812)\" d=\"M379.157 1423.18 L379.157 1423.18 L770.468 1423.18 L770.468 1423.18 L379.157 1423.18 L379.157 1423.18  Z\" fill=\"#e26f46\" fill-rule=\"evenodd\" fill-opacity=\"1\"/>\n",
       "<polyline clip-path=\"url(#clip812)\" style=\"stroke:#000000; stroke-linecap:round; stroke-linejoin:round; stroke-width:4; stroke-opacity:1; fill:none\" points=\"379.157,1423.18 379.157,1423.18 770.468,1423.18 379.157,1423.18 \"/>\n",
       "<path clip-path=\"url(#clip812)\" d=\"M868.296 1384.21 L868.296 1394.53 L1259.61 1394.53 L1259.61 1384.21 L868.296 1384.21 L868.296 1384.21  Z\" fill=\"#e26f46\" fill-rule=\"evenodd\" fill-opacity=\"1\"/>\n",
       "<polyline clip-path=\"url(#clip812)\" style=\"stroke:#000000; stroke-linecap:round; stroke-linejoin:round; stroke-width:4; stroke-opacity:1; fill:none\" points=\"868.296,1384.21 868.296,1394.53 1259.61,1394.53 1259.61,1384.21 868.296,1384.21 \"/>\n",
       "<path clip-path=\"url(#clip812)\" d=\"M1357.44 1397.97 L1357.44 1416.3 L1748.75 1416.3 L1748.75 1397.97 L1357.44 1397.97 L1357.44 1397.97  Z\" fill=\"#e26f46\" fill-rule=\"evenodd\" fill-opacity=\"1\"/>\n",
       "<polyline clip-path=\"url(#clip812)\" style=\"stroke:#000000; stroke-linecap:round; stroke-linejoin:round; stroke-width:4; stroke-opacity:1; fill:none\" points=\"1357.44,1397.97 1357.44,1416.3 1748.75,1416.3 1748.75,1397.97 1357.44,1397.97 \"/>\n",
       "<path clip-path=\"url(#clip812)\" d=\"M1846.57 1423.18 L1846.57 1423.18 L2237.89 1423.18 L2237.89 1423.18 L1846.57 1423.18 L1846.57 1423.18  Z\" fill=\"#e26f46\" fill-rule=\"evenodd\" fill-opacity=\"1\"/>\n",
       "<polyline clip-path=\"url(#clip812)\" style=\"stroke:#000000; stroke-linecap:round; stroke-linejoin:round; stroke-width:4; stroke-opacity:1; fill:none\" points=\"1846.57,1423.18 1846.57,1423.18 2237.89,1423.18 1846.57,1423.18 \"/>\n",
       "<circle clip-path=\"url(#clip812)\" style=\"fill:#e26f46; stroke:none; fill-opacity:0\" cx=\"574.813\" cy=\"1423.18\" r=\"2\"/>\n",
       "<circle clip-path=\"url(#clip812)\" style=\"fill:#e26f46; stroke:none; fill-opacity:0\" cx=\"1063.95\" cy=\"1384.21\" r=\"2\"/>\n",
       "<circle clip-path=\"url(#clip812)\" style=\"fill:#e26f46; stroke:none; fill-opacity:0\" cx=\"1553.09\" cy=\"1397.97\" r=\"2\"/>\n",
       "<circle clip-path=\"url(#clip812)\" style=\"fill:#e26f46; stroke:none; fill-opacity:0\" cx=\"2042.23\" cy=\"1423.18\" r=\"2\"/>\n",
       "<path clip-path=\"url(#clip812)\" d=\"M379.157 1423.18 L379.157 1423.18 L770.468 1423.18 L770.468 1423.18 L379.157 1423.18 L379.157 1423.18  Z\" fill=\"#3da44d\" fill-rule=\"evenodd\" fill-opacity=\"1\"/>\n",
       "<polyline clip-path=\"url(#clip812)\" style=\"stroke:#000000; stroke-linecap:round; stroke-linejoin:round; stroke-width:4; stroke-opacity:1; fill:none\" points=\"379.157,1423.18 379.157,1423.18 770.468,1423.18 379.157,1423.18 \"/>\n",
       "<path clip-path=\"url(#clip812)\" d=\"M868.296 1394.53 L868.296 1410.57 L1259.61 1410.57 L1259.61 1394.53 L868.296 1394.53 L868.296 1394.53  Z\" fill=\"#3da44d\" fill-rule=\"evenodd\" fill-opacity=\"1\"/>\n",
       "<polyline clip-path=\"url(#clip812)\" style=\"stroke:#000000; stroke-linecap:round; stroke-linejoin:round; stroke-width:4; stroke-opacity:1; fill:none\" points=\"868.296,1394.53 868.296,1410.57 1259.61,1410.57 1259.61,1394.53 868.296,1394.53 \"/>\n",
       "<path clip-path=\"url(#clip812)\" d=\"M1357.44 1416.3 L1357.44 1423.18 L1748.75 1423.18 L1748.75 1416.3 L1357.44 1416.3 L1357.44 1416.3  Z\" fill=\"#3da44d\" fill-rule=\"evenodd\" fill-opacity=\"1\"/>\n",
       "<polyline clip-path=\"url(#clip812)\" style=\"stroke:#000000; stroke-linecap:round; stroke-linejoin:round; stroke-width:4; stroke-opacity:1; fill:none\" points=\"1357.44,1416.3 1357.44,1423.18 1748.75,1423.18 1748.75,1416.3 1357.44,1416.3 \"/>\n",
       "<path clip-path=\"url(#clip812)\" d=\"M1846.57 1423.18 L1846.57 1423.18 L2237.89 1423.18 L2237.89 1423.18 L1846.57 1423.18 L1846.57 1423.18  Z\" fill=\"#3da44d\" fill-rule=\"evenodd\" fill-opacity=\"1\"/>\n",
       "<polyline clip-path=\"url(#clip812)\" style=\"stroke:#000000; stroke-linecap:round; stroke-linejoin:round; stroke-width:4; stroke-opacity:1; fill:none\" points=\"1846.57,1423.18 1846.57,1423.18 2237.89,1423.18 1846.57,1423.18 \"/>\n",
       "<circle clip-path=\"url(#clip812)\" style=\"fill:#3da44d; stroke:none; fill-opacity:0\" cx=\"574.813\" cy=\"1423.18\" r=\"2\"/>\n",
       "<circle clip-path=\"url(#clip812)\" style=\"fill:#3da44d; stroke:none; fill-opacity:0\" cx=\"1063.95\" cy=\"1394.53\" r=\"2\"/>\n",
       "<circle clip-path=\"url(#clip812)\" style=\"fill:#3da44d; stroke:none; fill-opacity:0\" cx=\"1553.09\" cy=\"1416.3\" r=\"2\"/>\n",
       "<circle clip-path=\"url(#clip812)\" style=\"fill:#3da44d; stroke:none; fill-opacity:0\" cx=\"2042.23\" cy=\"1423.18\" r=\"2\"/>\n",
       "<path clip-path=\"url(#clip812)\" d=\"M379.157 1423.18 L379.157 1423.18 L770.468 1423.18 L770.468 1423.18 L379.157 1423.18 L379.157 1423.18  Z\" fill=\"#c271d2\" fill-rule=\"evenodd\" fill-opacity=\"1\"/>\n",
       "<polyline clip-path=\"url(#clip812)\" style=\"stroke:#000000; stroke-linecap:round; stroke-linejoin:round; stroke-width:4; stroke-opacity:1; fill:none\" points=\"379.157,1423.18 379.157,1423.18 770.468,1423.18 379.157,1423.18 \"/>\n",
       "<path clip-path=\"url(#clip812)\" d=\"M868.296 1410.57 L868.296 1423.18 L1259.61 1423.18 L1259.61 1410.57 L868.296 1410.57 L868.296 1410.57  Z\" fill=\"#c271d2\" fill-rule=\"evenodd\" fill-opacity=\"1\"/>\n",
       "<polyline clip-path=\"url(#clip812)\" style=\"stroke:#000000; stroke-linecap:round; stroke-linejoin:round; stroke-width:4; stroke-opacity:1; fill:none\" points=\"868.296,1410.57 868.296,1423.18 1259.61,1423.18 1259.61,1410.57 868.296,1410.57 \"/>\n",
       "<path clip-path=\"url(#clip812)\" d=\"M1357.44 1423.18 L1357.44 1423.18 L1748.75 1423.18 L1748.75 1423.18 L1357.44 1423.18 L1357.44 1423.18  Z\" fill=\"#c271d2\" fill-rule=\"evenodd\" fill-opacity=\"1\"/>\n",
       "<polyline clip-path=\"url(#clip812)\" style=\"stroke:#000000; stroke-linecap:round; stroke-linejoin:round; stroke-width:4; stroke-opacity:1; fill:none\" points=\"1357.44,1423.18 1357.44,1423.18 1748.75,1423.18 1357.44,1423.18 \"/>\n",
       "<path clip-path=\"url(#clip812)\" d=\"M1846.57 1423.18 L1846.57 1423.18 L2237.89 1423.18 L2237.89 1423.18 L1846.57 1423.18 L1846.57 1423.18  Z\" fill=\"#c271d2\" fill-rule=\"evenodd\" fill-opacity=\"1\"/>\n",
       "<polyline clip-path=\"url(#clip812)\" style=\"stroke:#000000; stroke-linecap:round; stroke-linejoin:round; stroke-width:4; stroke-opacity:1; fill:none\" points=\"1846.57,1423.18 1846.57,1423.18 2237.89,1423.18 1846.57,1423.18 \"/>\n",
       "<circle clip-path=\"url(#clip812)\" style=\"fill:#c271d2; stroke:none; fill-opacity:0\" cx=\"574.813\" cy=\"1423.18\" r=\"2\"/>\n",
       "<circle clip-path=\"url(#clip812)\" style=\"fill:#c271d2; stroke:none; fill-opacity:0\" cx=\"1063.95\" cy=\"1410.57\" r=\"2\"/>\n",
       "<circle clip-path=\"url(#clip812)\" style=\"fill:#c271d2; stroke:none; fill-opacity:0\" cx=\"1553.09\" cy=\"1423.18\" r=\"2\"/>\n",
       "<circle clip-path=\"url(#clip812)\" style=\"fill:#c271d2; stroke:none; fill-opacity:0\" cx=\"2042.23\" cy=\"1423.18\" r=\"2\"/>\n",
       "</svg>\n"
      ],
      "text/html": [
       "<?xml version=\"1.0\" encoding=\"utf-8\"?>\n",
       "<svg xmlns=\"http://www.w3.org/2000/svg\" xmlns:xlink=\"http://www.w3.org/1999/xlink\" width=\"600\" height=\"400\" viewBox=\"0 0 2400 1600\">\n",
       "<defs>\n",
       "  <clipPath id=\"clip860\">\n",
       "    <rect x=\"0\" y=\"0\" width=\"2400\" height=\"1600\"/>\n",
       "  </clipPath>\n",
       "</defs>\n",
       "<path clip-path=\"url(#clip860)\" d=\"M0 1600 L2400 1600 L2400 8.88178e-14 L0 8.88178e-14  Z\" fill=\"#ffffff\" fill-rule=\"evenodd\" fill-opacity=\"1\"/>\n",
       "<defs>\n",
       "  <clipPath id=\"clip861\">\n",
       "    <rect x=\"480\" y=\"0\" width=\"1681\" height=\"1600\"/>\n",
       "  </clipPath>\n",
       "</defs>\n",
       "<path clip-path=\"url(#clip860)\" d=\"M264.287 1423.18 L2352.76 1423.18 L2352.76 123.472 L264.287 123.472  Z\" fill=\"#ffffff\" fill-rule=\"evenodd\" fill-opacity=\"1\"/>\n",
       "<defs>\n",
       "  <clipPath id=\"clip862\">\n",
       "    <rect x=\"264\" y=\"123\" width=\"2089\" height=\"1301\"/>\n",
       "  </clipPath>\n",
       "</defs>\n",
       "<polyline clip-path=\"url(#clip862)\" style=\"stroke:#000000; stroke-linecap:round; stroke-linejoin:round; stroke-width:2; stroke-opacity:0.1; fill:none\" points=\"574.813,1423.18 574.813,123.472 \"/>\n",
       "<polyline clip-path=\"url(#clip862)\" style=\"stroke:#000000; stroke-linecap:round; stroke-linejoin:round; stroke-width:2; stroke-opacity:0.1; fill:none\" points=\"1063.95,1423.18 1063.95,123.472 \"/>\n",
       "<polyline clip-path=\"url(#clip862)\" style=\"stroke:#000000; stroke-linecap:round; stroke-linejoin:round; stroke-width:2; stroke-opacity:0.1; fill:none\" points=\"1553.09,1423.18 1553.09,123.472 \"/>\n",
       "<polyline clip-path=\"url(#clip862)\" style=\"stroke:#000000; stroke-linecap:round; stroke-linejoin:round; stroke-width:2; stroke-opacity:0.1; fill:none\" points=\"2042.23,1423.18 2042.23,123.472 \"/>\n",
       "<polyline clip-path=\"url(#clip860)\" style=\"stroke:#000000; stroke-linecap:round; stroke-linejoin:round; stroke-width:4; stroke-opacity:1; fill:none\" points=\"264.287,1423.18 2352.76,1423.18 \"/>\n",
       "<polyline clip-path=\"url(#clip860)\" style=\"stroke:#000000; stroke-linecap:round; stroke-linejoin:round; stroke-width:4; stroke-opacity:1; fill:none\" points=\"574.813,1423.18 574.813,1404.28 \"/>\n",
       "<polyline clip-path=\"url(#clip860)\" style=\"stroke:#000000; stroke-linecap:round; stroke-linejoin:round; stroke-width:4; stroke-opacity:1; fill:none\" points=\"1063.95,1423.18 1063.95,1404.28 \"/>\n",
       "<polyline clip-path=\"url(#clip860)\" style=\"stroke:#000000; stroke-linecap:round; stroke-linejoin:round; stroke-width:4; stroke-opacity:1; fill:none\" points=\"1553.09,1423.18 1553.09,1404.28 \"/>\n",
       "<polyline clip-path=\"url(#clip860)\" style=\"stroke:#000000; stroke-linecap:round; stroke-linejoin:round; stroke-width:4; stroke-opacity:1; fill:none\" points=\"2042.23,1423.18 2042.23,1404.28 \"/>\n",
       "<path clip-path=\"url(#clip860)\" d=\"M565.195 1481.64 L572.833 1481.64 L572.833 1455.28 L564.523 1456.95 L564.523 1452.69 L572.787 1451.02 L577.463 1451.02 L577.463 1481.64 L585.102 1481.64 L585.102 1485.58 L565.195 1485.58 L565.195 1481.64 Z\" fill=\"#000000\" fill-rule=\"nonzero\" fill-opacity=\"1\" /><path clip-path=\"url(#clip860)\" d=\"M1058.6 1481.64 L1074.92 1481.64 L1074.92 1485.58 L1052.98 1485.58 L1052.98 1481.64 Q1055.64 1478.89 1060.23 1474.26 Q1064.83 1469.61 1066.01 1468.27 Q1068.26 1465.74 1069.14 1464.01 Q1070.04 1462.25 1070.04 1460.56 Q1070.04 1457.8 1068.1 1456.07 Q1066.17 1454.33 1063.07 1454.33 Q1060.87 1454.33 1058.42 1455.09 Q1055.99 1455.86 1053.21 1457.41 L1053.21 1452.69 Q1056.04 1451.55 1058.49 1450.97 Q1060.94 1450.39 1062.98 1450.39 Q1068.35 1450.39 1071.54 1453.08 Q1074.74 1455.77 1074.74 1460.26 Q1074.74 1462.39 1073.93 1464.31 Q1073.14 1466.2 1071.04 1468.8 Q1070.46 1469.47 1067.35 1472.69 Q1064.25 1475.88 1058.6 1481.64 Z\" fill=\"#000000\" fill-rule=\"nonzero\" fill-opacity=\"1\" /><path clip-path=\"url(#clip860)\" d=\"M1557.34 1466.95 Q1560.7 1467.66 1562.57 1469.93 Q1564.47 1472.2 1564.47 1475.53 Q1564.47 1480.65 1560.95 1483.45 Q1557.43 1486.25 1550.95 1486.25 Q1548.77 1486.25 1546.46 1485.81 Q1544.17 1485.39 1541.71 1484.54 L1541.71 1480.02 Q1543.66 1481.16 1545.97 1481.74 Q1548.29 1482.32 1550.81 1482.32 Q1555.21 1482.32 1557.5 1480.58 Q1559.82 1478.84 1559.82 1475.53 Q1559.82 1472.48 1557.66 1470.77 Q1555.53 1469.03 1551.71 1469.03 L1547.69 1469.03 L1547.69 1465.19 L1551.9 1465.19 Q1555.35 1465.19 1557.18 1463.82 Q1559.01 1462.43 1559.01 1459.84 Q1559.01 1457.18 1557.11 1455.77 Q1555.23 1454.33 1551.71 1454.33 Q1549.79 1454.33 1547.59 1454.75 Q1545.39 1455.16 1542.76 1456.04 L1542.76 1451.88 Q1545.42 1451.14 1547.73 1450.77 Q1550.07 1450.39 1552.13 1450.39 Q1557.45 1450.39 1560.56 1452.83 Q1563.66 1455.23 1563.66 1459.35 Q1563.66 1462.22 1562.01 1464.21 Q1560.37 1466.18 1557.34 1466.95 Z\" fill=\"#000000\" fill-rule=\"nonzero\" fill-opacity=\"1\" /><path clip-path=\"url(#clip860)\" d=\"M2045.24 1455.09 L2033.43 1473.54 L2045.24 1473.54 L2045.24 1455.09 M2044.01 1451.02 L2049.89 1451.02 L2049.89 1473.54 L2054.82 1473.54 L2054.82 1477.43 L2049.89 1477.43 L2049.89 1485.58 L2045.24 1485.58 L2045.24 1477.43 L2029.64 1477.43 L2029.64 1472.92 L2044.01 1451.02 Z\" fill=\"#000000\" fill-rule=\"nonzero\" fill-opacity=\"1\" /><path clip-path=\"url(#clip860)\" d=\"M1185.97 1522.27 L1185.97 1532.4 L1198.03 1532.4 L1198.03 1536.95 L1185.97 1536.95 L1185.97 1556.3 Q1185.97 1560.66 1187.14 1561.9 Q1188.35 1563.14 1192.01 1563.14 L1198.03 1563.14 L1198.03 1568.04 L1192.01 1568.04 Q1185.23 1568.04 1182.66 1565.53 Q1180.08 1562.98 1180.08 1556.3 L1180.08 1536.95 L1175.78 1536.95 L1175.78 1532.4 L1180.08 1532.4 L1180.08 1522.27 L1185.97 1522.27 Z\" fill=\"#000000\" fill-rule=\"nonzero\" fill-opacity=\"1\" /><path clip-path=\"url(#clip860)\" d=\"M1235.36 1546.53 L1235.36 1568.04 L1229.51 1568.04 L1229.51 1546.72 Q1229.51 1541.66 1227.53 1539.14 Q1225.56 1536.63 1221.61 1536.63 Q1216.87 1536.63 1214.13 1539.65 Q1211.4 1542.68 1211.4 1547.9 L1211.4 1568.04 L1205.51 1568.04 L1205.51 1518.52 L1211.4 1518.52 L1211.4 1537.93 Q1213.5 1534.72 1216.33 1533.13 Q1219.19 1531.54 1222.92 1531.54 Q1229.06 1531.54 1232.21 1535.36 Q1235.36 1539.14 1235.36 1546.53 Z\" fill=\"#000000\" fill-rule=\"nonzero\" fill-opacity=\"1\" /><path clip-path=\"url(#clip860)\" d=\"M1267.7 1537.87 Q1266.71 1537.3 1265.54 1537.04 Q1264.39 1536.76 1262.99 1536.76 Q1258.03 1536.76 1255.35 1540 Q1252.71 1543.22 1252.71 1549.27 L1252.71 1568.04 L1246.82 1568.04 L1246.82 1532.4 L1252.71 1532.4 L1252.71 1537.93 Q1254.56 1534.69 1257.52 1533.13 Q1260.48 1531.54 1264.71 1531.54 Q1265.31 1531.54 1266.05 1531.63 Q1266.78 1531.7 1267.67 1531.85 L1267.7 1537.87 Z\" fill=\"#000000\" fill-rule=\"nonzero\" fill-opacity=\"1\" /><path clip-path=\"url(#clip860)\" d=\"M1302.9 1548.76 L1302.9 1551.62 L1275.98 1551.62 Q1276.36 1557.67 1279.61 1560.85 Q1282.88 1564 1288.71 1564 Q1292.08 1564 1295.23 1563.17 Q1298.42 1562.35 1301.54 1560.69 L1301.54 1566.23 Q1298.38 1567.57 1295.07 1568.27 Q1291.76 1568.97 1288.36 1568.97 Q1279.83 1568.97 1274.83 1564 Q1269.87 1559.04 1269.87 1550.57 Q1269.87 1541.82 1274.58 1536.69 Q1279.32 1531.54 1287.34 1531.54 Q1294.53 1531.54 1298.7 1536.18 Q1302.9 1540.8 1302.9 1548.76 M1297.05 1547.04 Q1296.98 1542.23 1294.34 1539.37 Q1291.73 1536.5 1287.4 1536.5 Q1282.5 1536.5 1279.54 1539.27 Q1276.61 1542.04 1276.17 1547.07 L1297.05 1547.04 Z\" fill=\"#000000\" fill-rule=\"nonzero\" fill-opacity=\"1\" /><path clip-path=\"url(#clip860)\" d=\"M1328.72 1550.12 Q1321.62 1550.12 1318.88 1551.75 Q1316.14 1553.37 1316.14 1557.29 Q1316.14 1560.4 1318.18 1562.25 Q1320.25 1564.07 1323.78 1564.07 Q1328.65 1564.07 1331.58 1560.63 Q1334.54 1557.16 1334.54 1551.43 L1334.54 1550.12 L1328.72 1550.12 M1340.4 1547.71 L1340.4 1568.04 L1334.54 1568.04 L1334.54 1562.63 Q1332.54 1565.88 1329.54 1567.44 Q1326.55 1568.97 1322.22 1568.97 Q1316.75 1568.97 1313.5 1565.91 Q1310.29 1562.82 1310.29 1557.67 Q1310.29 1551.65 1314.3 1548.6 Q1318.34 1545.54 1326.33 1545.54 L1334.54 1545.54 L1334.54 1544.97 Q1334.54 1540.93 1331.87 1538.73 Q1329.23 1536.5 1324.42 1536.5 Q1321.36 1536.5 1318.47 1537.23 Q1315.57 1537.97 1312.9 1539.43 L1312.9 1534.02 Q1316.11 1532.78 1319.14 1532.17 Q1322.16 1531.54 1325.02 1531.54 Q1332.76 1531.54 1336.58 1535.55 Q1340.4 1539.56 1340.4 1547.71 Z\" fill=\"#000000\" fill-rule=\"nonzero\" fill-opacity=\"1\" /><path clip-path=\"url(#clip860)\" d=\"M1375.92 1537.81 L1375.92 1518.52 L1381.77 1518.52 L1381.77 1568.04 L1375.92 1568.04 L1375.92 1562.7 Q1374.07 1565.88 1371.24 1567.44 Q1368.44 1568.97 1364.49 1568.97 Q1358.03 1568.97 1353.96 1563.81 Q1349.91 1558.65 1349.91 1550.25 Q1349.91 1541.85 1353.96 1536.69 Q1358.03 1531.54 1364.49 1531.54 Q1368.44 1531.54 1371.24 1533.1 Q1374.07 1534.62 1375.92 1537.81 M1355.96 1550.25 Q1355.96 1556.71 1358.6 1560.4 Q1361.28 1564.07 1365.92 1564.07 Q1370.57 1564.07 1373.24 1560.4 Q1375.92 1556.71 1375.92 1550.25 Q1375.92 1543.79 1373.24 1540.13 Q1370.57 1536.44 1365.92 1536.44 Q1361.28 1536.44 1358.6 1540.13 Q1355.96 1543.79 1355.96 1550.25 Z\" fill=\"#000000\" fill-rule=\"nonzero\" fill-opacity=\"1\" /><path clip-path=\"url(#clip860)\" d=\"M1393.84 1532.4 L1399.69 1532.4 L1399.69 1568.04 L1393.84 1568.04 L1393.84 1532.4 M1393.84 1518.52 L1399.69 1518.52 L1399.69 1525.93 L1393.84 1525.93 L1393.84 1518.52 Z\" fill=\"#000000\" fill-rule=\"nonzero\" fill-opacity=\"1\" /><path clip-path=\"url(#clip860)\" d=\"M1435.41 1537.81 L1435.41 1518.52 L1441.26 1518.52 L1441.26 1568.04 L1435.41 1568.04 L1435.41 1562.7 Q1433.56 1565.88 1430.73 1567.44 Q1427.93 1568.97 1423.98 1568.97 Q1417.52 1568.97 1413.44 1563.81 Q1409.4 1558.65 1409.4 1550.25 Q1409.4 1541.85 1413.44 1536.69 Q1417.52 1531.54 1423.98 1531.54 Q1427.93 1531.54 1430.73 1533.1 Q1433.56 1534.62 1435.41 1537.81 M1415.45 1550.25 Q1415.45 1556.71 1418.09 1560.4 Q1420.76 1564.07 1425.41 1564.07 Q1430.06 1564.07 1432.73 1560.4 Q1435.41 1556.71 1435.41 1550.25 Q1435.41 1543.79 1432.73 1540.13 Q1430.06 1536.44 1425.41 1536.44 Q1420.76 1536.44 1418.09 1540.13 Q1415.45 1543.79 1415.45 1550.25 Z\" fill=\"#000000\" fill-rule=\"nonzero\" fill-opacity=\"1\" /><polyline clip-path=\"url(#clip862)\" style=\"stroke:#000000; stroke-linecap:round; stroke-linejoin:round; stroke-width:2; stroke-opacity:0.1; fill:none\" points=\"264.287,1423.18 2352.76,1423.18 \"/>\n",
       "<polyline clip-path=\"url(#clip862)\" style=\"stroke:#000000; stroke-linecap:round; stroke-linejoin:round; stroke-width:2; stroke-opacity:0.1; fill:none\" points=\"264.287,1136.65 2352.76,1136.65 \"/>\n",
       "<polyline clip-path=\"url(#clip862)\" style=\"stroke:#000000; stroke-linecap:round; stroke-linejoin:round; stroke-width:2; stroke-opacity:0.1; fill:none\" points=\"264.287,850.116 2352.76,850.116 \"/>\n",
       "<polyline clip-path=\"url(#clip862)\" style=\"stroke:#000000; stroke-linecap:round; stroke-linejoin:round; stroke-width:2; stroke-opacity:0.1; fill:none\" points=\"264.287,563.585 2352.76,563.585 \"/>\n",
       "<polyline clip-path=\"url(#clip862)\" style=\"stroke:#000000; stroke-linecap:round; stroke-linejoin:round; stroke-width:2; stroke-opacity:0.1; fill:none\" points=\"264.287,277.053 2352.76,277.053 \"/>\n",
       "<polyline clip-path=\"url(#clip860)\" style=\"stroke:#000000; stroke-linecap:round; stroke-linejoin:round; stroke-width:4; stroke-opacity:1; fill:none\" points=\"264.287,1423.18 264.287,123.472 \"/>\n",
       "<polyline clip-path=\"url(#clip860)\" style=\"stroke:#000000; stroke-linecap:round; stroke-linejoin:round; stroke-width:4; stroke-opacity:1; fill:none\" points=\"264.287,1423.18 283.185,1423.18 \"/>\n",
       "<polyline clip-path=\"url(#clip860)\" style=\"stroke:#000000; stroke-linecap:round; stroke-linejoin:round; stroke-width:4; stroke-opacity:1; fill:none\" points=\"264.287,1136.65 283.185,1136.65 \"/>\n",
       "<polyline clip-path=\"url(#clip860)\" style=\"stroke:#000000; stroke-linecap:round; stroke-linejoin:round; stroke-width:4; stroke-opacity:1; fill:none\" points=\"264.287,850.116 283.185,850.116 \"/>\n",
       "<polyline clip-path=\"url(#clip860)\" style=\"stroke:#000000; stroke-linecap:round; stroke-linejoin:round; stroke-width:4; stroke-opacity:1; fill:none\" points=\"264.287,563.585 283.185,563.585 \"/>\n",
       "<polyline clip-path=\"url(#clip860)\" style=\"stroke:#000000; stroke-linecap:round; stroke-linejoin:round; stroke-width:4; stroke-opacity:1; fill:none\" points=\"264.287,277.053 283.185,277.053 \"/>\n",
       "<path clip-path=\"url(#clip860)\" d=\"M216.343 1408.98 Q212.732 1408.98 210.903 1412.54 Q209.098 1416.08 209.098 1423.21 Q209.098 1430.32 210.903 1433.89 Q212.732 1437.43 216.343 1437.43 Q219.977 1437.43 221.783 1433.89 Q223.611 1430.32 223.611 1423.21 Q223.611 1416.08 221.783 1412.54 Q219.977 1408.98 216.343 1408.98 M216.343 1405.27 Q222.153 1405.27 225.209 1409.88 Q228.287 1414.46 228.287 1423.21 Q228.287 1431.94 225.209 1436.55 Q222.153 1441.13 216.343 1441.13 Q210.533 1441.13 207.454 1436.55 Q204.399 1431.94 204.399 1423.21 Q204.399 1414.46 207.454 1409.88 Q210.533 1405.27 216.343 1405.27 Z\" fill=\"#000000\" fill-rule=\"nonzero\" fill-opacity=\"1\" /><path clip-path=\"url(#clip860)\" d=\"M146.066 1119.37 L164.422 1119.37 L164.422 1123.3 L150.348 1123.3 L150.348 1131.78 Q151.366 1131.43 152.385 1131.27 Q153.403 1131.08 154.422 1131.08 Q160.209 1131.08 163.589 1134.25 Q166.968 1137.42 166.968 1142.84 Q166.968 1148.42 163.496 1151.52 Q160.024 1154.6 153.704 1154.6 Q151.528 1154.6 149.26 1154.23 Q147.015 1153.86 144.607 1153.12 L144.607 1148.42 Q146.691 1149.55 148.913 1150.11 Q151.135 1150.66 153.612 1150.66 Q157.616 1150.66 159.954 1148.56 Q162.292 1146.45 162.292 1142.84 Q162.292 1139.23 159.954 1137.12 Q157.616 1135.02 153.612 1135.02 Q151.737 1135.02 149.862 1135.43 Q148.01 1135.85 146.066 1136.73 L146.066 1119.37 Z\" fill=\"#000000\" fill-rule=\"nonzero\" fill-opacity=\"1\" /><path clip-path=\"url(#clip860)\" d=\"M186.181 1122.45 Q182.57 1122.45 180.741 1126.01 Q178.936 1129.55 178.936 1136.68 Q178.936 1143.79 180.741 1147.35 Q182.57 1150.9 186.181 1150.9 Q189.815 1150.9 191.621 1147.35 Q193.45 1143.79 193.45 1136.68 Q193.45 1129.55 191.621 1126.01 Q189.815 1122.45 186.181 1122.45 M186.181 1118.74 Q191.991 1118.74 195.047 1123.35 Q198.125 1127.93 198.125 1136.68 Q198.125 1145.41 195.047 1150.02 Q191.991 1154.6 186.181 1154.6 Q180.371 1154.6 177.292 1150.02 Q174.237 1145.41 174.237 1136.68 Q174.237 1127.93 177.292 1123.35 Q180.371 1118.74 186.181 1118.74 Z\" fill=\"#000000\" fill-rule=\"nonzero\" fill-opacity=\"1\" /><path clip-path=\"url(#clip860)\" d=\"M216.343 1122.45 Q212.732 1122.45 210.903 1126.01 Q209.098 1129.55 209.098 1136.68 Q209.098 1143.79 210.903 1147.35 Q212.732 1150.9 216.343 1150.9 Q219.977 1150.9 221.783 1147.35 Q223.611 1143.79 223.611 1136.68 Q223.611 1129.55 221.783 1126.01 Q219.977 1122.45 216.343 1122.45 M216.343 1118.74 Q222.153 1118.74 225.209 1123.35 Q228.287 1127.93 228.287 1136.68 Q228.287 1145.41 225.209 1150.02 Q222.153 1154.6 216.343 1154.6 Q210.533 1154.6 207.454 1150.02 Q204.399 1145.41 204.399 1136.68 Q204.399 1127.93 207.454 1123.35 Q210.533 1118.74 216.343 1118.74 Z\" fill=\"#000000\" fill-rule=\"nonzero\" fill-opacity=\"1\" /><path clip-path=\"url(#clip860)\" d=\"M116.668 863.461 L124.306 863.461 L124.306 837.096 L115.996 838.762 L115.996 834.503 L124.26 832.836 L128.936 832.836 L128.936 863.461 L136.575 863.461 L136.575 867.396 L116.668 867.396 L116.668 863.461 Z\" fill=\"#000000\" fill-rule=\"nonzero\" fill-opacity=\"1\" /><path clip-path=\"url(#clip860)\" d=\"M156.019 835.915 Q152.408 835.915 150.579 839.48 Q148.774 843.022 148.774 850.151 Q148.774 857.258 150.579 860.822 Q152.408 864.364 156.019 864.364 Q159.653 864.364 161.459 860.822 Q163.288 857.258 163.288 850.151 Q163.288 843.022 161.459 839.48 Q159.653 835.915 156.019 835.915 M156.019 832.211 Q161.829 832.211 164.885 836.818 Q167.964 841.401 167.964 850.151 Q167.964 858.878 164.885 863.484 Q161.829 868.068 156.019 868.068 Q150.209 868.068 147.13 863.484 Q144.075 858.878 144.075 850.151 Q144.075 841.401 147.13 836.818 Q150.209 832.211 156.019 832.211 Z\" fill=\"#000000\" fill-rule=\"nonzero\" fill-opacity=\"1\" /><path clip-path=\"url(#clip860)\" d=\"M186.181 835.915 Q182.57 835.915 180.741 839.48 Q178.936 843.022 178.936 850.151 Q178.936 857.258 180.741 860.822 Q182.57 864.364 186.181 864.364 Q189.815 864.364 191.621 860.822 Q193.45 857.258 193.45 850.151 Q193.45 843.022 191.621 839.48 Q189.815 835.915 186.181 835.915 M186.181 832.211 Q191.991 832.211 195.047 836.818 Q198.125 841.401 198.125 850.151 Q198.125 858.878 195.047 863.484 Q191.991 868.068 186.181 868.068 Q180.371 868.068 177.292 863.484 Q174.237 858.878 174.237 850.151 Q174.237 841.401 177.292 836.818 Q180.371 832.211 186.181 832.211 Z\" fill=\"#000000\" fill-rule=\"nonzero\" fill-opacity=\"1\" /><path clip-path=\"url(#clip860)\" d=\"M216.343 835.915 Q212.732 835.915 210.903 839.48 Q209.098 843.022 209.098 850.151 Q209.098 857.258 210.903 860.822 Q212.732 864.364 216.343 864.364 Q219.977 864.364 221.783 860.822 Q223.611 857.258 223.611 850.151 Q223.611 843.022 221.783 839.48 Q219.977 835.915 216.343 835.915 M216.343 832.211 Q222.153 832.211 225.209 836.818 Q228.287 841.401 228.287 850.151 Q228.287 858.878 225.209 863.484 Q222.153 868.068 216.343 868.068 Q210.533 868.068 207.454 863.484 Q204.399 858.878 204.399 850.151 Q204.399 841.401 207.454 836.818 Q210.533 832.211 216.343 832.211 Z\" fill=\"#000000\" fill-rule=\"nonzero\" fill-opacity=\"1\" /><path clip-path=\"url(#clip860)\" d=\"M116.668 576.93 L124.306 576.93 L124.306 550.564 L115.996 552.231 L115.996 547.971 L124.26 546.305 L128.936 546.305 L128.936 576.93 L136.575 576.93 L136.575 580.865 L116.668 580.865 L116.668 576.93 Z\" fill=\"#000000\" fill-rule=\"nonzero\" fill-opacity=\"1\" /><path clip-path=\"url(#clip860)\" d=\"M146.066 546.305 L164.422 546.305 L164.422 550.24 L150.348 550.24 L150.348 558.712 Q151.366 558.365 152.385 558.203 Q153.403 558.018 154.422 558.018 Q160.209 558.018 163.589 561.189 Q166.968 564.36 166.968 569.777 Q166.968 575.356 163.496 578.457 Q160.024 581.536 153.704 581.536 Q151.528 581.536 149.26 581.166 Q147.015 580.795 144.607 580.055 L144.607 575.356 Q146.691 576.49 148.913 577.045 Q151.135 577.601 153.612 577.601 Q157.616 577.601 159.954 575.494 Q162.292 573.388 162.292 569.777 Q162.292 566.166 159.954 564.059 Q157.616 561.953 153.612 561.953 Q151.737 561.953 149.862 562.37 Q148.01 562.786 146.066 563.666 L146.066 546.305 Z\" fill=\"#000000\" fill-rule=\"nonzero\" fill-opacity=\"1\" /><path clip-path=\"url(#clip860)\" d=\"M186.181 549.383 Q182.57 549.383 180.741 552.948 Q178.936 556.49 178.936 563.62 Q178.936 570.726 180.741 574.291 Q182.57 577.832 186.181 577.832 Q189.815 577.832 191.621 574.291 Q193.45 570.726 193.45 563.62 Q193.45 556.49 191.621 552.948 Q189.815 549.383 186.181 549.383 M186.181 545.68 Q191.991 545.68 195.047 550.286 Q198.125 554.87 198.125 563.62 Q198.125 572.346 195.047 576.953 Q191.991 581.536 186.181 581.536 Q180.371 581.536 177.292 576.953 Q174.237 572.346 174.237 563.62 Q174.237 554.87 177.292 550.286 Q180.371 545.68 186.181 545.68 Z\" fill=\"#000000\" fill-rule=\"nonzero\" fill-opacity=\"1\" /><path clip-path=\"url(#clip860)\" d=\"M216.343 549.383 Q212.732 549.383 210.903 552.948 Q209.098 556.49 209.098 563.62 Q209.098 570.726 210.903 574.291 Q212.732 577.832 216.343 577.832 Q219.977 577.832 221.783 574.291 Q223.611 570.726 223.611 563.62 Q223.611 556.49 221.783 552.948 Q219.977 549.383 216.343 549.383 M216.343 545.68 Q222.153 545.68 225.209 550.286 Q228.287 554.87 228.287 563.62 Q228.287 572.346 225.209 576.953 Q222.153 581.536 216.343 581.536 Q210.533 581.536 207.454 576.953 Q204.399 572.346 204.399 563.62 Q204.399 554.87 207.454 550.286 Q210.533 545.68 216.343 545.68 Z\" fill=\"#000000\" fill-rule=\"nonzero\" fill-opacity=\"1\" /><path clip-path=\"url(#clip860)\" d=\"M119.885 290.398 L136.204 290.398 L136.204 294.333 L114.26 294.333 L114.26 290.398 Q116.922 287.643 121.505 283.014 Q126.112 278.361 127.292 277.018 Q129.538 274.495 130.417 272.759 Q131.32 271 131.32 269.31 Q131.32 266.555 129.376 264.819 Q127.455 263.083 124.353 263.083 Q122.154 263.083 119.7 263.847 Q117.269 264.611 114.492 266.162 L114.492 261.44 Q117.316 260.306 119.769 259.727 Q122.223 259.148 124.26 259.148 Q129.63 259.148 132.825 261.833 Q136.019 264.518 136.019 269.009 Q136.019 271.139 135.209 273.06 Q134.422 274.958 132.316 277.551 Q131.737 278.222 128.635 281.44 Q125.533 284.634 119.885 290.398 Z\" fill=\"#000000\" fill-rule=\"nonzero\" fill-opacity=\"1\" /><path clip-path=\"url(#clip860)\" d=\"M156.019 262.852 Q152.408 262.852 150.579 266.417 Q148.774 269.958 148.774 277.088 Q148.774 284.194 150.579 287.759 Q152.408 291.301 156.019 291.301 Q159.653 291.301 161.459 287.759 Q163.288 284.194 163.288 277.088 Q163.288 269.958 161.459 266.417 Q159.653 262.852 156.019 262.852 M156.019 259.148 Q161.829 259.148 164.885 263.755 Q167.964 268.338 167.964 277.088 Q167.964 285.815 164.885 290.421 Q161.829 295.004 156.019 295.004 Q150.209 295.004 147.13 290.421 Q144.075 285.815 144.075 277.088 Q144.075 268.338 147.13 263.755 Q150.209 259.148 156.019 259.148 Z\" fill=\"#000000\" fill-rule=\"nonzero\" fill-opacity=\"1\" /><path clip-path=\"url(#clip860)\" d=\"M186.181 262.852 Q182.57 262.852 180.741 266.417 Q178.936 269.958 178.936 277.088 Q178.936 284.194 180.741 287.759 Q182.57 291.301 186.181 291.301 Q189.815 291.301 191.621 287.759 Q193.45 284.194 193.45 277.088 Q193.45 269.958 191.621 266.417 Q189.815 262.852 186.181 262.852 M186.181 259.148 Q191.991 259.148 195.047 263.755 Q198.125 268.338 198.125 277.088 Q198.125 285.815 195.047 290.421 Q191.991 295.004 186.181 295.004 Q180.371 295.004 177.292 290.421 Q174.237 285.815 174.237 277.088 Q174.237 268.338 177.292 263.755 Q180.371 259.148 186.181 259.148 Z\" fill=\"#000000\" fill-rule=\"nonzero\" fill-opacity=\"1\" /><path clip-path=\"url(#clip860)\" d=\"M216.343 262.852 Q212.732 262.852 210.903 266.417 Q209.098 269.958 209.098 277.088 Q209.098 284.194 210.903 287.759 Q212.732 291.301 216.343 291.301 Q219.977 291.301 221.783 287.759 Q223.611 284.194 223.611 277.088 Q223.611 269.958 221.783 266.417 Q219.977 262.852 216.343 262.852 M216.343 259.148 Q222.153 259.148 225.209 263.755 Q228.287 268.338 228.287 277.088 Q228.287 285.815 225.209 290.421 Q222.153 295.004 216.343 295.004 Q210.533 295.004 207.454 290.421 Q204.399 285.815 204.399 277.088 Q204.399 268.338 207.454 263.755 Q210.533 259.148 216.343 259.148 Z\" fill=\"#000000\" fill-rule=\"nonzero\" fill-opacity=\"1\" /><path clip-path=\"url(#clip860)\" d=\"M28.3562 917.525 L28.3562 911.669 L56.1743 904.348 L28.3562 897.059 L28.3562 890.153 L56.1743 882.832 L28.3562 875.543 L28.3562 869.687 L64.0042 879.013 L64.0042 885.919 L34.7856 893.59 L64.0042 901.293 L64.0042 908.199 L28.3562 917.525 Z\" fill=\"#000000\" fill-rule=\"nonzero\" fill-opacity=\"1\" /><path clip-path=\"url(#clip860)\" d=\"M32.4621 846.993 Q32.4621 851.704 36.1542 854.441 Q39.8145 857.178 46.212 857.178 Q52.6095 857.178 56.3017 854.473 Q59.9619 851.736 59.9619 846.993 Q59.9619 842.314 56.2698 839.577 Q52.5777 836.84 46.212 836.84 Q39.8781 836.84 36.186 839.577 Q32.4621 842.314 32.4621 846.993 M27.4968 846.993 Q27.4968 839.354 32.4621 834.994 Q37.4273 830.633 46.212 830.633 Q54.9649 830.633 59.9619 834.994 Q64.9272 839.354 64.9272 846.993 Q64.9272 854.664 59.9619 859.024 Q54.9649 863.353 46.212 863.353 Q37.4273 863.353 32.4621 859.024 Q27.4968 854.664 27.4968 846.993 Z\" fill=\"#000000\" fill-rule=\"nonzero\" fill-opacity=\"1\" /><path clip-path=\"url(#clip860)\" d=\"M33.8307 800.269 Q33.2578 801.256 33.0032 802.433 Q32.7167 803.579 32.7167 804.979 Q32.7167 809.945 35.9632 812.618 Q39.1779 815.26 45.2253 815.26 L64.0042 815.26 L64.0042 821.148 L28.3562 821.148 L28.3562 815.26 L33.8944 815.26 Q30.6479 813.414 29.0883 810.454 Q27.4968 807.494 27.4968 803.261 Q27.4968 802.656 27.5923 801.924 Q27.656 801.192 27.8151 800.301 L33.8307 800.269 Z\" fill=\"#000000\" fill-rule=\"nonzero\" fill-opacity=\"1\" /><path clip-path=\"url(#clip860)\" d=\"M14.479 794.349 L14.479 788.46 L43.7294 788.46 L28.3562 770.987 L28.3562 763.507 L45.0344 782.413 L64.0042 762.711 L64.0042 770.35 L46.5939 788.46 L64.0042 788.46 L64.0042 794.349 L14.479 794.349 Z\" fill=\"#000000\" fill-rule=\"nonzero\" fill-opacity=\"1\" /><path clip-path=\"url(#clip860)\" d=\"M14.479 756.377 L14.479 750.521 L64.0042 750.521 L64.0042 756.377 L14.479 756.377 Z\" fill=\"#000000\" fill-rule=\"nonzero\" fill-opacity=\"1\" /><path clip-path=\"url(#clip860)\" d=\"M32.4621 724.453 Q32.4621 729.164 36.1542 731.901 Q39.8145 734.638 46.212 734.638 Q52.6095 734.638 56.3017 731.933 Q59.9619 729.196 59.9619 724.453 Q59.9619 719.774 56.2698 717.037 Q52.5777 714.3 46.212 714.3 Q39.8781 714.3 36.186 717.037 Q32.4621 719.774 32.4621 724.453 M27.4968 724.453 Q27.4968 716.814 32.4621 712.454 Q37.4273 708.093 46.212 708.093 Q54.9649 708.093 59.9619 712.454 Q64.9272 716.814 64.9272 724.453 Q64.9272 732.124 59.9619 736.484 Q54.9649 740.813 46.212 740.813 Q37.4273 740.813 32.4621 736.484 Q27.4968 732.124 27.4968 724.453 Z\" fill=\"#000000\" fill-rule=\"nonzero\" fill-opacity=\"1\" /><path clip-path=\"url(#clip860)\" d=\"M46.0847 682.185 Q46.0847 689.283 47.7079 692.02 Q49.3312 694.757 53.2461 694.757 Q56.3653 694.757 58.2114 692.72 Q60.0256 690.651 60.0256 687.118 Q60.0256 682.249 56.5881 679.32 Q53.1188 676.36 47.3897 676.36 L46.0847 676.36 L46.0847 682.185 M43.6657 670.504 L64.0042 670.504 L64.0042 676.36 L58.5933 676.36 Q61.8398 678.366 63.3994 681.357 Q64.9272 684.349 64.9272 688.678 Q64.9272 694.153 61.8716 697.399 Q58.7843 700.614 53.6281 700.614 Q47.6125 700.614 44.5569 696.603 Q41.5014 692.561 41.5014 684.572 L41.5014 676.36 L40.9285 676.36 Q36.8862 676.36 34.6901 679.034 Q32.4621 681.676 32.4621 686.482 Q32.4621 689.537 33.1941 692.434 Q33.9262 695.33 35.3903 698.004 L29.9795 698.004 Q28.7381 694.789 28.1334 691.765 Q27.4968 688.742 27.4968 685.877 Q27.4968 678.143 31.5072 674.323 Q35.5176 670.504 43.6657 670.504 Z\" fill=\"#000000\" fill-rule=\"nonzero\" fill-opacity=\"1\" /><path clip-path=\"url(#clip860)\" d=\"M33.7671 634.983 L14.479 634.983 L14.479 629.127 L64.0042 629.127 L64.0042 634.983 L58.657 634.983 Q61.8398 636.829 63.3994 639.662 Q64.9272 642.463 64.9272 646.41 Q64.9272 652.871 59.771 656.945 Q54.6147 660.987 46.212 660.987 Q37.8093 660.987 32.6531 656.945 Q27.4968 652.871 27.4968 646.41 Q27.4968 642.463 29.0564 639.662 Q30.5842 636.829 33.7671 634.983 M46.212 654.94 Q52.6732 654.94 56.3653 652.298 Q60.0256 649.624 60.0256 644.977 Q60.0256 640.33 56.3653 637.657 Q52.6732 634.983 46.212 634.983 Q39.7508 634.983 36.0905 637.657 Q32.3984 640.33 32.3984 644.977 Q32.3984 649.624 36.0905 652.298 Q39.7508 654.94 46.212 654.94 Z\" fill=\"#000000\" fill-rule=\"nonzero\" fill-opacity=\"1\" /><path clip-path=\"url(#clip860)\" d=\"M1165.12 50.8226 Q1165.12 56.6154 1168 59.9372 Q1170.87 63.2184 1175.9 63.2184 Q1180.88 63.2184 1183.71 59.8967 Q1186.59 56.5749 1186.59 50.8226 Q1186.59 45.1514 1183.67 41.8296 Q1180.76 38.4674 1175.81 38.4674 Q1170.91 38.4674 1168 41.7891 Q1165.12 45.1109 1165.12 50.8226 M1187.2 62.9348 Q1184.77 66.054 1181.61 67.5529 Q1178.49 69.0112 1174.32 69.0112 Q1167.35 69.0112 1162.97 63.9881 Q1158.64 58.9245 1158.64 50.8226 Q1158.64 42.7208 1163.01 37.6572 Q1167.39 32.5936 1174.32 32.5936 Q1178.49 32.5936 1181.65 34.1329 Q1184.81 35.6318 1187.2 38.7104 L1187.2 33.4038 L1192.99 33.4038 L1192.99 63.2184 Q1198.9 62.3272 1202.23 57.8307 Q1205.59 53.2937 1205.59 46.1236 Q1205.59 41.7891 1204.29 37.9813 Q1203.04 34.1734 1200.44 30.9327 Q1196.23 25.626 1190.15 22.8309 Q1184.12 19.9953 1176.99 19.9953 Q1172.01 19.9953 1167.43 21.3321 Q1162.85 22.6284 1158.96 25.2209 Q1152.6 29.3529 1149 36.0774 Q1145.43 42.7613 1145.43 50.5796 Q1145.43 57.0205 1147.74 62.6513 Q1150.09 68.282 1154.51 72.576 Q1158.76 76.7889 1164.35 78.9764 Q1169.94 81.2044 1176.3 81.2044 Q1181.53 81.2044 1186.55 79.422 Q1191.61 77.6801 1195.83 74.3989 L1199.47 78.8954 Q1194.41 82.8248 1188.41 84.8907 Q1182.46 86.9972 1176.3 86.9972 Q1168.81 86.9972 1162.16 84.3236 Q1155.52 81.6905 1150.33 76.6269 Q1145.15 71.5633 1142.43 64.9198 Q1139.72 58.2358 1139.72 50.5796 Q1139.72 43.2069 1142.48 36.523 Q1145.23 29.839 1150.33 24.7753 Q1155.56 19.6307 1162.41 16.9166 Q1169.25 14.162 1176.91 14.162 Q1185.5 14.162 1192.83 17.6862 Q1200.2 21.2105 1205.18 27.692 Q1208.22 31.6619 1209.8 36.3204 Q1211.42 40.9789 1211.42 45.9616 Q1211.42 56.6154 1204.98 62.7728 Q1198.54 68.9302 1187.2 69.1732 L1187.2 62.9348 Z\" fill=\"#000000\" fill-rule=\"nonzero\" fill-opacity=\"1\" /><path clip-path=\"url(#clip860)\" d=\"M1253.96 28.5427 L1253.96 35.5912 Q1250.8 33.9709 1247.39 33.1607 Q1243.99 32.3505 1240.34 32.3505 Q1234.8 32.3505 1232 34.0519 Q1229.25 35.7533 1229.25 39.156 Q1229.25 41.7486 1231.23 43.2475 Q1233.22 44.7058 1239.21 46.0426 L1241.76 46.6097 Q1249.7 48.3111 1253.02 51.4303 Q1256.39 54.509 1256.39 60.0587 Q1256.39 66.3781 1251.36 70.0644 Q1246.38 73.7508 1237.63 73.7508 Q1233.98 73.7508 1230.02 73.0216 Q1226.09 72.3329 1221.71 70.9151 L1221.71 63.2184 Q1225.84 65.3654 1229.85 66.4591 Q1233.86 67.5124 1237.79 67.5124 Q1243.06 67.5124 1245.89 65.73 Q1248.73 63.9071 1248.73 60.6258 Q1248.73 57.5877 1246.66 55.9673 Q1244.64 54.3469 1237.71 52.8481 L1235.12 52.2405 Q1228.19 50.7821 1225.11 47.7845 Q1222.03 44.7463 1222.03 39.4801 Q1222.03 33.0797 1226.57 29.5959 Q1231.11 26.1121 1239.45 26.1121 Q1243.59 26.1121 1247.23 26.7198 Q1250.88 27.3274 1253.96 28.5427 Z\" fill=\"#000000\" fill-rule=\"nonzero\" fill-opacity=\"1\" /><path clip-path=\"url(#clip860)\" d=\"M1275.47 65.7705 L1275.47 89.8329 L1267.97 89.8329 L1267.97 27.2059 L1275.47 27.2059 L1275.47 34.0924 Q1277.82 30.0415 1281.38 28.0971 Q1284.99 26.1121 1289.97 26.1121 Q1298.23 26.1121 1303.38 32.6746 Q1308.56 39.2371 1308.56 49.9314 Q1308.56 60.6258 1303.38 67.1883 Q1298.23 73.7508 1289.97 73.7508 Q1284.99 73.7508 1281.38 71.8063 Q1277.82 69.8214 1275.47 65.7705 M1300.82 49.9314 Q1300.82 41.7081 1297.42 37.0496 Q1294.06 32.3505 1288.15 32.3505 Q1282.23 32.3505 1278.83 37.0496 Q1275.47 41.7081 1275.47 49.9314 Q1275.47 58.1548 1278.83 62.8538 Q1282.23 67.5124 1288.15 67.5124 Q1294.06 67.5124 1297.42 62.8538 Q1300.82 58.1548 1300.82 49.9314 Z\" fill=\"#000000\" fill-rule=\"nonzero\" fill-opacity=\"1\" /><path clip-path=\"url(#clip860)\" d=\"M1341.54 49.7694 Q1332.5 49.7694 1329.02 51.8354 Q1325.54 53.9013 1325.54 58.8839 Q1325.54 62.8538 1328.13 65.2034 Q1330.76 67.5124 1335.26 67.5124 Q1341.46 67.5124 1345.18 63.1374 Q1348.95 58.7219 1348.95 51.4303 L1348.95 49.7694 L1341.54 49.7694 M1356.4 46.6907 L1356.4 72.576 L1348.95 72.576 L1348.95 65.6895 Q1346.4 69.8214 1342.59 71.8063 Q1338.78 73.7508 1333.27 73.7508 Q1326.31 73.7508 1322.17 69.8619 Q1318.08 65.9325 1318.08 59.3701 Q1318.08 51.7138 1323.19 47.825 Q1328.33 43.9361 1338.5 43.9361 L1348.95 43.9361 L1348.95 43.2069 Q1348.95 38.0623 1345.55 35.2672 Q1342.18 32.4315 1336.07 32.4315 Q1332.18 32.4315 1328.49 33.3632 Q1324.81 34.295 1321.4 36.1584 L1321.4 29.2718 Q1325.49 27.692 1329.34 26.9223 Q1333.19 26.1121 1336.84 26.1121 Q1346.68 26.1121 1351.54 31.2163 Q1356.4 36.3204 1356.4 46.6907 Z\" fill=\"#000000\" fill-rule=\"nonzero\" fill-opacity=\"1\" /><path clip-path=\"url(#clip860)\" d=\"M1367.42 27.2059 L1374.88 27.2059 L1384.19 62.6108 L1393.47 27.2059 L1402.26 27.2059 L1411.58 62.6108 L1420.85 27.2059 L1428.31 27.2059 L1416.44 72.576 L1407.65 72.576 L1397.88 35.3887 L1388.08 72.576 L1379.29 72.576 L1367.42 27.2059 Z\" fill=\"#000000\" fill-rule=\"nonzero\" fill-opacity=\"1\" /><path clip-path=\"url(#clip860)\" d=\"M1477.32 45.1919 L1477.32 72.576 L1469.87 72.576 L1469.87 45.4349 Q1469.87 38.994 1467.36 35.7938 Q1464.85 32.5936 1459.82 32.5936 Q1453.79 32.5936 1450.3 36.4419 Q1446.82 40.2903 1446.82 46.9338 L1446.82 72.576 L1439.33 72.576 L1439.33 27.2059 L1446.82 27.2059 L1446.82 34.2544 Q1449.49 30.163 1453.1 28.1376 Q1456.74 26.1121 1461.48 26.1121 Q1469.3 26.1121 1473.31 30.9732 Q1477.32 35.7938 1477.32 45.1919 Z\" fill=\"#000000\" fill-rule=\"nonzero\" fill-opacity=\"1\" /><path clip-path=\"url(#clip862)\" d=\"M379.157 450.118 L379.157 450.691 L770.468 450.691 L770.468 450.118 L379.157 450.118 L379.157 450.118  Z\" fill=\"#009af9\" fill-rule=\"evenodd\" fill-opacity=\"1\"/>\n",
       "<polyline clip-path=\"url(#clip862)\" style=\"stroke:#000000; stroke-linecap:round; stroke-linejoin:round; stroke-width:4; stroke-opacity:1; fill:none\" points=\"379.157,450.118 379.157,450.691 770.468,450.691 770.468,450.118 379.157,450.118 \"/>\n",
       "<path clip-path=\"url(#clip862)\" d=\"M868.296 123.472 L868.296 127.484 L1259.61 127.484 L1259.61 123.472 L868.296 123.472 L868.296 123.472  Z\" fill=\"#009af9\" fill-rule=\"evenodd\" fill-opacity=\"1\"/>\n",
       "<polyline clip-path=\"url(#clip862)\" style=\"stroke:#000000; stroke-linecap:round; stroke-linejoin:round; stroke-width:4; stroke-opacity:1; fill:none\" points=\"868.296,123.472 868.296,127.484 1259.61,127.484 1259.61,123.472 868.296,123.472 \"/>\n",
       "<path clip-path=\"url(#clip862)\" d=\"M1357.44 150.979 L1357.44 153.844 L1748.75 153.844 L1748.75 150.979 L1357.44 150.979 L1357.44 150.979  Z\" fill=\"#009af9\" fill-rule=\"evenodd\" fill-opacity=\"1\"/>\n",
       "<polyline clip-path=\"url(#clip862)\" style=\"stroke:#000000; stroke-linecap:round; stroke-linejoin:round; stroke-width:4; stroke-opacity:1; fill:none\" points=\"1357.44,150.979 1357.44,153.844 1748.75,153.844 1748.75,150.979 1357.44,150.979 \"/>\n",
       "<path clip-path=\"url(#clip862)\" d=\"M1846.57 236.939 L1846.57 238.085 L2237.89 238.085 L2237.89 236.939 L1846.57 236.939 L1846.57 236.939  Z\" fill=\"#009af9\" fill-rule=\"evenodd\" fill-opacity=\"1\"/>\n",
       "<polyline clip-path=\"url(#clip862)\" style=\"stroke:#000000; stroke-linecap:round; stroke-linejoin:round; stroke-width:4; stroke-opacity:1; fill:none\" points=\"1846.57,236.939 1846.57,238.085 2237.89,238.085 2237.89,236.939 1846.57,236.939 \"/>\n",
       "<circle clip-path=\"url(#clip862)\" style=\"fill:#009af9; stroke:none; fill-opacity:0\" cx=\"574.813\" cy=\"450.118\" r=\"2\"/>\n",
       "<circle clip-path=\"url(#clip862)\" style=\"fill:#009af9; stroke:none; fill-opacity:0\" cx=\"1063.95\" cy=\"123.472\" r=\"2\"/>\n",
       "<circle clip-path=\"url(#clip862)\" style=\"fill:#009af9; stroke:none; fill-opacity:0\" cx=\"1553.09\" cy=\"150.979\" r=\"2\"/>\n",
       "<circle clip-path=\"url(#clip862)\" style=\"fill:#009af9; stroke:none; fill-opacity:0\" cx=\"2042.23\" cy=\"236.939\" r=\"2\"/>\n",
       "<path clip-path=\"url(#clip862)\" d=\"M379.157 450.691 L379.157 452.41 L770.468 452.41 L770.468 450.691 L379.157 450.691 L379.157 450.691  Z\" fill=\"#e26f46\" fill-rule=\"evenodd\" fill-opacity=\"1\"/>\n",
       "<polyline clip-path=\"url(#clip862)\" style=\"stroke:#000000; stroke-linecap:round; stroke-linejoin:round; stroke-width:4; stroke-opacity:1; fill:none\" points=\"379.157,450.691 379.157,452.41 770.468,452.41 770.468,450.691 379.157,450.691 \"/>\n",
       "<path clip-path=\"url(#clip862)\" d=\"M868.296 127.484 L868.296 196.824 L1259.61 196.824 L1259.61 127.484 L868.296 127.484 L868.296 127.484  Z\" fill=\"#e26f46\" fill-rule=\"evenodd\" fill-opacity=\"1\"/>\n",
       "<polyline clip-path=\"url(#clip862)\" style=\"stroke:#000000; stroke-linecap:round; stroke-linejoin:round; stroke-width:4; stroke-opacity:1; fill:none\" points=\"868.296,127.484 868.296,196.824 1259.61,196.824 1259.61,127.484 868.296,127.484 \"/>\n",
       "<path clip-path=\"url(#clip862)\" d=\"M1357.44 153.844 L1357.44 167.025 L1748.75 167.025 L1748.75 153.844 L1357.44 153.844 L1357.44 153.844  Z\" fill=\"#e26f46\" fill-rule=\"evenodd\" fill-opacity=\"1\"/>\n",
       "<polyline clip-path=\"url(#clip862)\" style=\"stroke:#000000; stroke-linecap:round; stroke-linejoin:round; stroke-width:4; stroke-opacity:1; fill:none\" points=\"1357.44,153.844 1357.44,167.025 1748.75,167.025 1748.75,153.844 1357.44,153.844 \"/>\n",
       "<path clip-path=\"url(#clip862)\" d=\"M1846.57 238.085 L1846.57 240.377 L2237.89 240.377 L2237.89 238.085 L1846.57 238.085 L1846.57 238.085  Z\" fill=\"#e26f46\" fill-rule=\"evenodd\" fill-opacity=\"1\"/>\n",
       "<polyline clip-path=\"url(#clip862)\" style=\"stroke:#000000; stroke-linecap:round; stroke-linejoin:round; stroke-width:4; stroke-opacity:1; fill:none\" points=\"1846.57,238.085 1846.57,240.377 2237.89,240.377 2237.89,238.085 1846.57,238.085 \"/>\n",
       "<circle clip-path=\"url(#clip862)\" style=\"fill:#e26f46; stroke:none; fill-opacity:0\" cx=\"574.813\" cy=\"450.691\" r=\"2\"/>\n",
       "<circle clip-path=\"url(#clip862)\" style=\"fill:#e26f46; stroke:none; fill-opacity:0\" cx=\"1063.95\" cy=\"127.484\" r=\"2\"/>\n",
       "<circle clip-path=\"url(#clip862)\" style=\"fill:#e26f46; stroke:none; fill-opacity:0\" cx=\"1553.09\" cy=\"153.844\" r=\"2\"/>\n",
       "<circle clip-path=\"url(#clip862)\" style=\"fill:#e26f46; stroke:none; fill-opacity:0\" cx=\"2042.23\" cy=\"238.085\" r=\"2\"/>\n",
       "<path clip-path=\"url(#clip862)\" d=\"M379.157 452.41 L379.157 469.029 L770.468 469.029 L770.468 452.41 L379.157 452.41 L379.157 452.41  Z\" fill=\"#3da44d\" fill-rule=\"evenodd\" fill-opacity=\"1\"/>\n",
       "<polyline clip-path=\"url(#clip862)\" style=\"stroke:#000000; stroke-linecap:round; stroke-linejoin:round; stroke-width:4; stroke-opacity:1; fill:none\" points=\"379.157,452.41 379.157,469.029 770.468,469.029 770.468,452.41 379.157,452.41 \"/>\n",
       "<path clip-path=\"url(#clip862)\" d=\"M868.296 196.824 L868.296 267.311 L1259.61 267.311 L1259.61 196.824 L868.296 196.824 L868.296 196.824  Z\" fill=\"#3da44d\" fill-rule=\"evenodd\" fill-opacity=\"1\"/>\n",
       "<polyline clip-path=\"url(#clip862)\" style=\"stroke:#000000; stroke-linecap:round; stroke-linejoin:round; stroke-width:4; stroke-opacity:1; fill:none\" points=\"868.296,196.824 868.296,267.311 1259.61,267.311 1259.61,196.824 868.296,196.824 \"/>\n",
       "<path clip-path=\"url(#clip862)\" d=\"M1357.44 167.025 L1357.44 231.781 L1748.75 231.781 L1748.75 167.025 L1357.44 167.025 L1357.44 167.025  Z\" fill=\"#3da44d\" fill-rule=\"evenodd\" fill-opacity=\"1\"/>\n",
       "<polyline clip-path=\"url(#clip862)\" style=\"stroke:#000000; stroke-linecap:round; stroke-linejoin:round; stroke-width:4; stroke-opacity:1; fill:none\" points=\"1357.44,167.025 1357.44,231.781 1748.75,231.781 1748.75,167.025 1357.44,167.025 \"/>\n",
       "<path clip-path=\"url(#clip862)\" d=\"M1846.57 240.377 L1846.57 243.815 L2237.89 243.815 L2237.89 240.377 L1846.57 240.377 L1846.57 240.377  Z\" fill=\"#3da44d\" fill-rule=\"evenodd\" fill-opacity=\"1\"/>\n",
       "<polyline clip-path=\"url(#clip862)\" style=\"stroke:#000000; stroke-linecap:round; stroke-linejoin:round; stroke-width:4; stroke-opacity:1; fill:none\" points=\"1846.57,240.377 1846.57,243.815 2237.89,243.815 2237.89,240.377 1846.57,240.377 \"/>\n",
       "<circle clip-path=\"url(#clip862)\" style=\"fill:#3da44d; stroke:none; fill-opacity:0\" cx=\"574.813\" cy=\"452.41\" r=\"2\"/>\n",
       "<circle clip-path=\"url(#clip862)\" style=\"fill:#3da44d; stroke:none; fill-opacity:0\" cx=\"1063.95\" cy=\"196.824\" r=\"2\"/>\n",
       "<circle clip-path=\"url(#clip862)\" style=\"fill:#3da44d; stroke:none; fill-opacity:0\" cx=\"1553.09\" cy=\"167.025\" r=\"2\"/>\n",
       "<circle clip-path=\"url(#clip862)\" style=\"fill:#3da44d; stroke:none; fill-opacity:0\" cx=\"2042.23\" cy=\"240.377\" r=\"2\"/>\n",
       "<path clip-path=\"url(#clip862)\" d=\"M379.157 469.029 L379.157 541.808 L770.468 541.808 L770.468 469.029 L379.157 469.029 L379.157 469.029  Z\" fill=\"#c271d2\" fill-rule=\"evenodd\" fill-opacity=\"1\"/>\n",
       "<polyline clip-path=\"url(#clip862)\" style=\"stroke:#000000; stroke-linecap:round; stroke-linejoin:round; stroke-width:4; stroke-opacity:1; fill:none\" points=\"379.157,469.029 379.157,541.808 770.468,541.808 770.468,469.029 379.157,469.029 \"/>\n",
       "<path clip-path=\"url(#clip862)\" d=\"M868.296 267.311 L868.296 338.944 L1259.61 338.944 L1259.61 267.311 L868.296 267.311 L868.296 267.311  Z\" fill=\"#c271d2\" fill-rule=\"evenodd\" fill-opacity=\"1\"/>\n",
       "<polyline clip-path=\"url(#clip862)\" style=\"stroke:#000000; stroke-linecap:round; stroke-linejoin:round; stroke-width:4; stroke-opacity:1; fill:none\" points=\"868.296,267.311 868.296,338.944 1259.61,338.944 1259.61,267.311 868.296,267.311 \"/>\n",
       "<path clip-path=\"url(#clip862)\" d=\"M1357.44 231.781 L1357.44 297.683 L1748.75 297.683 L1748.75 231.781 L1357.44 231.781 L1357.44 231.781  Z\" fill=\"#c271d2\" fill-rule=\"evenodd\" fill-opacity=\"1\"/>\n",
       "<polyline clip-path=\"url(#clip862)\" style=\"stroke:#000000; stroke-linecap:round; stroke-linejoin:round; stroke-width:4; stroke-opacity:1; fill:none\" points=\"1357.44,231.781 1357.44,297.683 1748.75,297.683 1748.75,231.781 1357.44,231.781 \"/>\n",
       "<path clip-path=\"url(#clip862)\" d=\"M1846.57 243.815 L1846.57 248.4 L2237.89 248.4 L2237.89 243.815 L1846.57 243.815 L1846.57 243.815  Z\" fill=\"#c271d2\" fill-rule=\"evenodd\" fill-opacity=\"1\"/>\n",
       "<polyline clip-path=\"url(#clip862)\" style=\"stroke:#000000; stroke-linecap:round; stroke-linejoin:round; stroke-width:4; stroke-opacity:1; fill:none\" points=\"1846.57,243.815 1846.57,248.4 2237.89,248.4 2237.89,243.815 1846.57,243.815 \"/>\n",
       "<circle clip-path=\"url(#clip862)\" style=\"fill:#c271d2; stroke:none; fill-opacity:0\" cx=\"574.813\" cy=\"469.029\" r=\"2\"/>\n",
       "<circle clip-path=\"url(#clip862)\" style=\"fill:#c271d2; stroke:none; fill-opacity:0\" cx=\"1063.95\" cy=\"267.311\" r=\"2\"/>\n",
       "<circle clip-path=\"url(#clip862)\" style=\"fill:#c271d2; stroke:none; fill-opacity:0\" cx=\"1553.09\" cy=\"231.781\" r=\"2\"/>\n",
       "<circle clip-path=\"url(#clip862)\" style=\"fill:#c271d2; stroke:none; fill-opacity:0\" cx=\"2042.23\" cy=\"243.815\" r=\"2\"/>\n",
       "<path clip-path=\"url(#clip862)\" d=\"M379.157 541.808 L379.157 601.98 L770.468 601.98 L770.468 541.808 L379.157 541.808 L379.157 541.808  Z\" fill=\"#ac8d18\" fill-rule=\"evenodd\" fill-opacity=\"1\"/>\n",
       "<polyline clip-path=\"url(#clip862)\" style=\"stroke:#000000; stroke-linecap:round; stroke-linejoin:round; stroke-width:4; stroke-opacity:1; fill:none\" points=\"379.157,541.808 379.157,601.98 770.468,601.98 770.468,541.808 379.157,541.808 \"/>\n",
       "<path clip-path=\"url(#clip862)\" d=\"M868.296 338.944 L868.296 407.138 L1259.61 407.138 L1259.61 338.944 L868.296 338.944 L868.296 338.944  Z\" fill=\"#ac8d18\" fill-rule=\"evenodd\" fill-opacity=\"1\"/>\n",
       "<polyline clip-path=\"url(#clip862)\" style=\"stroke:#000000; stroke-linecap:round; stroke-linejoin:round; stroke-width:4; stroke-opacity:1; fill:none\" points=\"868.296,338.944 868.296,407.138 1259.61,407.138 1259.61,338.944 868.296,338.944 \"/>\n",
       "<path clip-path=\"url(#clip862)\" d=\"M1357.44 297.683 L1357.44 364.732 L1748.75 364.732 L1748.75 297.683 L1357.44 297.683 L1357.44 297.683  Z\" fill=\"#ac8d18\" fill-rule=\"evenodd\" fill-opacity=\"1\"/>\n",
       "<polyline clip-path=\"url(#clip862)\" style=\"stroke:#000000; stroke-linecap:round; stroke-linejoin:round; stroke-width:4; stroke-opacity:1; fill:none\" points=\"1357.44,297.683 1357.44,364.732 1748.75,364.732 1748.75,297.683 1357.44,297.683 \"/>\n",
       "<path clip-path=\"url(#clip862)\" d=\"M1846.57 248.4 L1846.57 263.3 L2237.89 263.3 L2237.89 248.4 L1846.57 248.4 L1846.57 248.4  Z\" fill=\"#ac8d18\" fill-rule=\"evenodd\" fill-opacity=\"1\"/>\n",
       "<polyline clip-path=\"url(#clip862)\" style=\"stroke:#000000; stroke-linecap:round; stroke-linejoin:round; stroke-width:4; stroke-opacity:1; fill:none\" points=\"1846.57,248.4 1846.57,263.3 2237.89,263.3 2237.89,248.4 1846.57,248.4 \"/>\n",
       "<circle clip-path=\"url(#clip862)\" style=\"fill:#ac8d18; stroke:none; fill-opacity:0\" cx=\"574.813\" cy=\"541.808\" r=\"2\"/>\n",
       "<circle clip-path=\"url(#clip862)\" style=\"fill:#ac8d18; stroke:none; fill-opacity:0\" cx=\"1063.95\" cy=\"338.944\" r=\"2\"/>\n",
       "<circle clip-path=\"url(#clip862)\" style=\"fill:#ac8d18; stroke:none; fill-opacity:0\" cx=\"1553.09\" cy=\"297.683\" r=\"2\"/>\n",
       "<circle clip-path=\"url(#clip862)\" style=\"fill:#ac8d18; stroke:none; fill-opacity:0\" cx=\"2042.23\" cy=\"248.4\" r=\"2\"/>\n",
       "<path clip-path=\"url(#clip862)\" d=\"M379.157 601.98 L379.157 663.298 L770.468 663.298 L770.468 601.98 L379.157 601.98 L379.157 601.98  Z\" fill=\"#00a9ad\" fill-rule=\"evenodd\" fill-opacity=\"1\"/>\n",
       "<polyline clip-path=\"url(#clip862)\" style=\"stroke:#000000; stroke-linecap:round; stroke-linejoin:round; stroke-width:4; stroke-opacity:1; fill:none\" points=\"379.157,601.98 379.157,663.298 770.468,663.298 770.468,601.98 379.157,601.98 \"/>\n",
       "<path clip-path=\"url(#clip862)\" d=\"M868.296 407.138 L868.296 462.726 L1259.61 462.726 L1259.61 407.138 L868.296 407.138 L868.296 407.138  Z\" fill=\"#00a9ad\" fill-rule=\"evenodd\" fill-opacity=\"1\"/>\n",
       "<polyline clip-path=\"url(#clip862)\" style=\"stroke:#000000; stroke-linecap:round; stroke-linejoin:round; stroke-width:4; stroke-opacity:1; fill:none\" points=\"868.296,407.138 868.296,462.726 1259.61,462.726 1259.61,407.138 868.296,407.138 \"/>\n",
       "<path clip-path=\"url(#clip862)\" d=\"M1357.44 364.732 L1357.44 428.342 L1748.75 428.342 L1748.75 364.732 L1357.44 364.732 L1357.44 364.732  Z\" fill=\"#00a9ad\" fill-rule=\"evenodd\" fill-opacity=\"1\"/>\n",
       "<polyline clip-path=\"url(#clip862)\" style=\"stroke:#000000; stroke-linecap:round; stroke-linejoin:round; stroke-width:4; stroke-opacity:1; fill:none\" points=\"1357.44,364.732 1357.44,428.342 1748.75,428.342 1748.75,364.732 1357.44,364.732 \"/>\n",
       "<path clip-path=\"url(#clip862)\" d=\"M1846.57 263.3 L1846.57 334.359 L2237.89 334.359 L2237.89 263.3 L1846.57 263.3 L1846.57 263.3  Z\" fill=\"#00a9ad\" fill-rule=\"evenodd\" fill-opacity=\"1\"/>\n",
       "<polyline clip-path=\"url(#clip862)\" style=\"stroke:#000000; stroke-linecap:round; stroke-linejoin:round; stroke-width:4; stroke-opacity:1; fill:none\" points=\"1846.57,263.3 1846.57,334.359 2237.89,334.359 2237.89,263.3 1846.57,263.3 \"/>\n",
       "<circle clip-path=\"url(#clip862)\" style=\"fill:#00a9ad; stroke:none; fill-opacity:0\" cx=\"574.813\" cy=\"601.98\" r=\"2\"/>\n",
       "<circle clip-path=\"url(#clip862)\" style=\"fill:#00a9ad; stroke:none; fill-opacity:0\" cx=\"1063.95\" cy=\"407.138\" r=\"2\"/>\n",
       "<circle clip-path=\"url(#clip862)\" style=\"fill:#00a9ad; stroke:none; fill-opacity:0\" cx=\"1553.09\" cy=\"364.732\" r=\"2\"/>\n",
       "<circle clip-path=\"url(#clip862)\" style=\"fill:#00a9ad; stroke:none; fill-opacity:0\" cx=\"2042.23\" cy=\"263.3\" r=\"2\"/>\n",
       "<path clip-path=\"url(#clip862)\" d=\"M379.157 663.298 L379.157 725.762 L770.468 725.762 L770.468 663.298 L379.157 663.298 L379.157 663.298  Z\" fill=\"#ed5d92\" fill-rule=\"evenodd\" fill-opacity=\"1\"/>\n",
       "<polyline clip-path=\"url(#clip862)\" style=\"stroke:#000000; stroke-linecap:round; stroke-linejoin:round; stroke-width:4; stroke-opacity:1; fill:none\" points=\"379.157,663.298 379.157,725.762 770.468,725.762 770.468,663.298 379.157,663.298 \"/>\n",
       "<path clip-path=\"url(#clip862)\" d=\"M868.296 462.726 L868.296 519.459 L1259.61 519.459 L1259.61 462.726 L868.296 462.726 L868.296 462.726  Z\" fill=\"#ed5d92\" fill-rule=\"evenodd\" fill-opacity=\"1\"/>\n",
       "<polyline clip-path=\"url(#clip862)\" style=\"stroke:#000000; stroke-linecap:round; stroke-linejoin:round; stroke-width:4; stroke-opacity:1; fill:none\" points=\"868.296,462.726 868.296,519.459 1259.61,519.459 1259.61,462.726 868.296,462.726 \"/>\n",
       "<path clip-path=\"url(#clip862)\" d=\"M1357.44 428.342 L1357.44 479.344 L1748.75 479.344 L1748.75 428.342 L1357.44 428.342 L1357.44 428.342  Z\" fill=\"#ed5d92\" fill-rule=\"evenodd\" fill-opacity=\"1\"/>\n",
       "<polyline clip-path=\"url(#clip862)\" style=\"stroke:#000000; stroke-linecap:round; stroke-linejoin:round; stroke-width:4; stroke-opacity:1; fill:none\" points=\"1357.44,428.342 1357.44,479.344 1748.75,479.344 1748.75,428.342 1357.44,428.342 \"/>\n",
       "<path clip-path=\"url(#clip862)\" d=\"M1846.57 334.359 L1846.57 406.565 L2237.89 406.565 L2237.89 334.359 L1846.57 334.359 L1846.57 334.359  Z\" fill=\"#ed5d92\" fill-rule=\"evenodd\" fill-opacity=\"1\"/>\n",
       "<polyline clip-path=\"url(#clip862)\" style=\"stroke:#000000; stroke-linecap:round; stroke-linejoin:round; stroke-width:4; stroke-opacity:1; fill:none\" points=\"1846.57,334.359 1846.57,406.565 2237.89,406.565 2237.89,334.359 1846.57,334.359 \"/>\n",
       "<circle clip-path=\"url(#clip862)\" style=\"fill:#ed5d92; stroke:none; fill-opacity:0\" cx=\"574.813\" cy=\"663.298\" r=\"2\"/>\n",
       "<circle clip-path=\"url(#clip862)\" style=\"fill:#ed5d92; stroke:none; fill-opacity:0\" cx=\"1063.95\" cy=\"462.726\" r=\"2\"/>\n",
       "<circle clip-path=\"url(#clip862)\" style=\"fill:#ed5d92; stroke:none; fill-opacity:0\" cx=\"1553.09\" cy=\"428.342\" r=\"2\"/>\n",
       "<circle clip-path=\"url(#clip862)\" style=\"fill:#ed5d92; stroke:none; fill-opacity:0\" cx=\"2042.23\" cy=\"334.359\" r=\"2\"/>\n",
       "<path clip-path=\"url(#clip862)\" d=\"M379.157 725.762 L379.157 784.787 L770.468 784.787 L770.468 725.762 L379.157 725.762 L379.157 725.762  Z\" fill=\"#c68125\" fill-rule=\"evenodd\" fill-opacity=\"1\"/>\n",
       "<polyline clip-path=\"url(#clip862)\" style=\"stroke:#000000; stroke-linecap:round; stroke-linejoin:round; stroke-width:4; stroke-opacity:1; fill:none\" points=\"379.157,725.762 379.157,784.787 770.468,784.787 770.468,725.762 379.157,725.762 \"/>\n",
       "<path clip-path=\"url(#clip862)\" d=\"M868.296 519.459 L868.296 572.754 L1259.61 572.754 L1259.61 519.459 L868.296 519.459 L868.296 519.459  Z\" fill=\"#c68125\" fill-rule=\"evenodd\" fill-opacity=\"1\"/>\n",
       "<polyline clip-path=\"url(#clip862)\" style=\"stroke:#000000; stroke-linecap:round; stroke-linejoin:round; stroke-width:4; stroke-opacity:1; fill:none\" points=\"868.296,519.459 868.296,572.754 1259.61,572.754 1259.61,519.459 868.296,519.459 \"/>\n",
       "<path clip-path=\"url(#clip862)\" d=\"M1357.44 479.344 L1357.44 531.493 L1748.75 531.493 L1748.75 479.344 L1357.44 479.344 L1357.44 479.344  Z\" fill=\"#c68125\" fill-rule=\"evenodd\" fill-opacity=\"1\"/>\n",
       "<polyline clip-path=\"url(#clip862)\" style=\"stroke:#000000; stroke-linecap:round; stroke-linejoin:round; stroke-width:4; stroke-opacity:1; fill:none\" points=\"1357.44,479.344 1357.44,531.493 1748.75,531.493 1748.75,479.344 1357.44,479.344 \"/>\n",
       "<path clip-path=\"url(#clip862)\" d=\"M1846.57 406.565 L1846.57 479.918 L2237.89 479.918 L2237.89 406.565 L1846.57 406.565 L1846.57 406.565  Z\" fill=\"#c68125\" fill-rule=\"evenodd\" fill-opacity=\"1\"/>\n",
       "<polyline clip-path=\"url(#clip862)\" style=\"stroke:#000000; stroke-linecap:round; stroke-linejoin:round; stroke-width:4; stroke-opacity:1; fill:none\" points=\"1846.57,406.565 1846.57,479.918 2237.89,479.918 2237.89,406.565 1846.57,406.565 \"/>\n",
       "<circle clip-path=\"url(#clip862)\" style=\"fill:#c68125; stroke:none; fill-opacity:0\" cx=\"574.813\" cy=\"725.762\" r=\"2\"/>\n",
       "<circle clip-path=\"url(#clip862)\" style=\"fill:#c68125; stroke:none; fill-opacity:0\" cx=\"1063.95\" cy=\"519.459\" r=\"2\"/>\n",
       "<circle clip-path=\"url(#clip862)\" style=\"fill:#c68125; stroke:none; fill-opacity:0\" cx=\"1553.09\" cy=\"479.344\" r=\"2\"/>\n",
       "<circle clip-path=\"url(#clip862)\" style=\"fill:#c68125; stroke:none; fill-opacity:0\" cx=\"2042.23\" cy=\"406.565\" r=\"2\"/>\n",
       "<path clip-path=\"url(#clip862)\" d=\"M379.157 784.787 L379.157 831.205 L770.468 831.205 L770.468 784.787 L379.157 784.787 L379.157 784.787  Z\" fill=\"#00a98d\" fill-rule=\"evenodd\" fill-opacity=\"1\"/>\n",
       "<polyline clip-path=\"url(#clip862)\" style=\"stroke:#000000; stroke-linecap:round; stroke-linejoin:round; stroke-width:4; stroke-opacity:1; fill:none\" points=\"379.157,784.787 379.157,831.205 770.468,831.205 770.468,784.787 379.157,784.787 \"/>\n",
       "<path clip-path=\"url(#clip862)\" d=\"M868.296 572.754 L868.296 627.195 L1259.61 627.195 L1259.61 572.754 L868.296 572.754 L868.296 572.754  Z\" fill=\"#00a98d\" fill-rule=\"evenodd\" fill-opacity=\"1\"/>\n",
       "<polyline clip-path=\"url(#clip862)\" style=\"stroke:#000000; stroke-linecap:round; stroke-linejoin:round; stroke-width:4; stroke-opacity:1; fill:none\" points=\"868.296,572.754 868.296,627.195 1259.61,627.195 1259.61,572.754 868.296,572.754 \"/>\n",
       "<path clip-path=\"url(#clip862)\" d=\"M1357.44 531.493 L1357.44 589.373 L1748.75 589.373 L1748.75 531.493 L1357.44 531.493 L1357.44 531.493  Z\" fill=\"#00a98d\" fill-rule=\"evenodd\" fill-opacity=\"1\"/>\n",
       "<polyline clip-path=\"url(#clip862)\" style=\"stroke:#000000; stroke-linecap:round; stroke-linejoin:round; stroke-width:4; stroke-opacity:1; fill:none\" points=\"1357.44,531.493 1357.44,589.373 1748.75,589.373 1748.75,531.493 1357.44,531.493 \"/>\n",
       "<path clip-path=\"url(#clip862)\" d=\"M1846.57 479.918 L1846.57 549.831 L2237.89 549.831 L2237.89 479.918 L1846.57 479.918 L1846.57 479.918  Z\" fill=\"#00a98d\" fill-rule=\"evenodd\" fill-opacity=\"1\"/>\n",
       "<polyline clip-path=\"url(#clip862)\" style=\"stroke:#000000; stroke-linecap:round; stroke-linejoin:round; stroke-width:4; stroke-opacity:1; fill:none\" points=\"1846.57,479.918 1846.57,549.831 2237.89,549.831 2237.89,479.918 1846.57,479.918 \"/>\n",
       "<circle clip-path=\"url(#clip862)\" style=\"fill:#00a98d; stroke:none; fill-opacity:0\" cx=\"574.813\" cy=\"784.787\" r=\"2\"/>\n",
       "<circle clip-path=\"url(#clip862)\" style=\"fill:#00a98d; stroke:none; fill-opacity:0\" cx=\"1063.95\" cy=\"572.754\" r=\"2\"/>\n",
       "<circle clip-path=\"url(#clip862)\" style=\"fill:#00a98d; stroke:none; fill-opacity:0\" cx=\"1553.09\" cy=\"531.493\" r=\"2\"/>\n",
       "<circle clip-path=\"url(#clip862)\" style=\"fill:#00a98d; stroke:none; fill-opacity:0\" cx=\"2042.23\" cy=\"479.918\" r=\"2\"/>\n",
       "<path clip-path=\"url(#clip862)\" d=\"M379.157 831.205 L379.157 878.77 L770.468 878.77 L770.468 831.205 L379.157 831.205 L379.157 831.205  Z\" fill=\"#8e971d\" fill-rule=\"evenodd\" fill-opacity=\"1\"/>\n",
       "<polyline clip-path=\"url(#clip862)\" style=\"stroke:#000000; stroke-linecap:round; stroke-linejoin:round; stroke-width:4; stroke-opacity:1; fill:none\" points=\"379.157,831.205 379.157,878.77 770.468,878.77 770.468,831.205 379.157,831.205 \"/>\n",
       "<path clip-path=\"url(#clip862)\" d=\"M868.296 627.195 L868.296 664.444 L1259.61 664.444 L1259.61 627.195 L868.296 627.195 L868.296 627.195  Z\" fill=\"#8e971d\" fill-rule=\"evenodd\" fill-opacity=\"1\"/>\n",
       "<polyline clip-path=\"url(#clip862)\" style=\"stroke:#000000; stroke-linecap:round; stroke-linejoin:round; stroke-width:4; stroke-opacity:1; fill:none\" points=\"868.296,627.195 868.296,664.444 1259.61,664.444 1259.61,627.195 868.296,627.195 \"/>\n",
       "<path clip-path=\"url(#clip862)\" d=\"M1357.44 589.373 L1357.44 639.229 L1748.75 639.229 L1748.75 589.373 L1357.44 589.373 L1357.44 589.373  Z\" fill=\"#8e971d\" fill-rule=\"evenodd\" fill-opacity=\"1\"/>\n",
       "<polyline clip-path=\"url(#clip862)\" style=\"stroke:#000000; stroke-linecap:round; stroke-linejoin:round; stroke-width:4; stroke-opacity:1; fill:none\" points=\"1357.44,589.373 1357.44,639.229 1748.75,639.229 1748.75,589.373 1357.44,589.373 \"/>\n",
       "<path clip-path=\"url(#clip862)\" d=\"M1846.57 549.831 L1846.57 616.307 L2237.89 616.307 L2237.89 549.831 L1846.57 549.831 L1846.57 549.831  Z\" fill=\"#8e971d\" fill-rule=\"evenodd\" fill-opacity=\"1\"/>\n",
       "<polyline clip-path=\"url(#clip862)\" style=\"stroke:#000000; stroke-linecap:round; stroke-linejoin:round; stroke-width:4; stroke-opacity:1; fill:none\" points=\"1846.57,549.831 1846.57,616.307 2237.89,616.307 2237.89,549.831 1846.57,549.831 \"/>\n",
       "<circle clip-path=\"url(#clip862)\" style=\"fill:#8e971d; stroke:none; fill-opacity:0\" cx=\"574.813\" cy=\"831.205\" r=\"2\"/>\n",
       "<circle clip-path=\"url(#clip862)\" style=\"fill:#8e971d; stroke:none; fill-opacity:0\" cx=\"1063.95\" cy=\"627.195\" r=\"2\"/>\n",
       "<circle clip-path=\"url(#clip862)\" style=\"fill:#8e971d; stroke:none; fill-opacity:0\" cx=\"1553.09\" cy=\"589.373\" r=\"2\"/>\n",
       "<circle clip-path=\"url(#clip862)\" style=\"fill:#8e971d; stroke:none; fill-opacity:0\" cx=\"2042.23\" cy=\"549.831\" r=\"2\"/>\n",
       "<path clip-path=\"url(#clip862)\" d=\"M379.157 878.77 L379.157 927.48 L770.468 927.48 L770.468 878.77 L379.157 878.77 L379.157 878.77  Z\" fill=\"#00a8cb\" fill-rule=\"evenodd\" fill-opacity=\"1\"/>\n",
       "<polyline clip-path=\"url(#clip862)\" style=\"stroke:#000000; stroke-linecap:round; stroke-linejoin:round; stroke-width:4; stroke-opacity:1; fill:none\" points=\"379.157,878.77 379.157,927.48 770.468,927.48 770.468,878.77 379.157,878.77 \"/>\n",
       "<path clip-path=\"url(#clip862)\" d=\"M868.296 664.444 L868.296 707.424 L1259.61 707.424 L1259.61 664.444 L868.296 664.444 L868.296 664.444  Z\" fill=\"#00a8cb\" fill-rule=\"evenodd\" fill-opacity=\"1\"/>\n",
       "<polyline clip-path=\"url(#clip862)\" style=\"stroke:#000000; stroke-linecap:round; stroke-linejoin:round; stroke-width:4; stroke-opacity:1; fill:none\" points=\"868.296,664.444 868.296,707.424 1259.61,707.424 1259.61,664.444 868.296,664.444 \"/>\n",
       "<path clip-path=\"url(#clip862)\" d=\"M1357.44 639.229 L1357.44 681.063 L1748.75 681.063 L1748.75 639.229 L1357.44 639.229 L1357.44 639.229  Z\" fill=\"#00a8cb\" fill-rule=\"evenodd\" fill-opacity=\"1\"/>\n",
       "<polyline clip-path=\"url(#clip862)\" style=\"stroke:#000000; stroke-linecap:round; stroke-linejoin:round; stroke-width:4; stroke-opacity:1; fill:none\" points=\"1357.44,639.229 1357.44,681.063 1748.75,681.063 1748.75,639.229 1357.44,639.229 \"/>\n",
       "<path clip-path=\"url(#clip862)\" d=\"M1846.57 616.307 L1846.57 683.928 L2237.89 683.928 L2237.89 616.307 L1846.57 616.307 L1846.57 616.307  Z\" fill=\"#00a8cb\" fill-rule=\"evenodd\" fill-opacity=\"1\"/>\n",
       "<polyline clip-path=\"url(#clip862)\" style=\"stroke:#000000; stroke-linecap:round; stroke-linejoin:round; stroke-width:4; stroke-opacity:1; fill:none\" points=\"1846.57,616.307 1846.57,683.928 2237.89,683.928 2237.89,616.307 1846.57,616.307 \"/>\n",
       "<circle clip-path=\"url(#clip862)\" style=\"fill:#00a8cb; stroke:none; fill-opacity:0\" cx=\"574.813\" cy=\"878.77\" r=\"2\"/>\n",
       "<circle clip-path=\"url(#clip862)\" style=\"fill:#00a8cb; stroke:none; fill-opacity:0\" cx=\"1063.95\" cy=\"664.444\" r=\"2\"/>\n",
       "<circle clip-path=\"url(#clip862)\" style=\"fill:#00a8cb; stroke:none; fill-opacity:0\" cx=\"1553.09\" cy=\"639.229\" r=\"2\"/>\n",
       "<circle clip-path=\"url(#clip862)\" style=\"fill:#00a8cb; stroke:none; fill-opacity:0\" cx=\"2042.23\" cy=\"616.307\" r=\"2\"/>\n",
       "<path clip-path=\"url(#clip862)\" d=\"M379.157 927.48 L379.157 968.168 L770.468 968.168 L770.468 927.48 L379.157 927.48 L379.157 927.48  Z\" fill=\"#9b7fe8\" fill-rule=\"evenodd\" fill-opacity=\"1\"/>\n",
       "<polyline clip-path=\"url(#clip862)\" style=\"stroke:#000000; stroke-linecap:round; stroke-linejoin:round; stroke-width:4; stroke-opacity:1; fill:none\" points=\"379.157,927.48 379.157,968.168 770.468,968.168 770.468,927.48 379.157,927.48 \"/>\n",
       "<path clip-path=\"url(#clip862)\" d=\"M868.296 707.424 L868.296 746.965 L1259.61 746.965 L1259.61 707.424 L868.296 707.424 L868.296 707.424  Z\" fill=\"#9b7fe8\" fill-rule=\"evenodd\" fill-opacity=\"1\"/>\n",
       "<polyline clip-path=\"url(#clip862)\" style=\"stroke:#000000; stroke-linecap:round; stroke-linejoin:round; stroke-width:4; stroke-opacity:1; fill:none\" points=\"868.296,707.424 868.296,746.965 1259.61,746.965 1259.61,707.424 868.296,707.424 \"/>\n",
       "<path clip-path=\"url(#clip862)\" d=\"M1357.44 681.063 L1357.44 719.458 L1748.75 719.458 L1748.75 681.063 L1357.44 681.063 L1357.44 681.063  Z\" fill=\"#9b7fe8\" fill-rule=\"evenodd\" fill-opacity=\"1\"/>\n",
       "<polyline clip-path=\"url(#clip862)\" style=\"stroke:#000000; stroke-linecap:round; stroke-linejoin:round; stroke-width:4; stroke-opacity:1; fill:none\" points=\"1357.44,681.063 1357.44,719.458 1748.75,719.458 1748.75,681.063 1357.44,681.063 \"/>\n",
       "<path clip-path=\"url(#clip862)\" d=\"M1846.57 683.928 L1846.57 752.696 L2237.89 752.696 L2237.89 683.928 L1846.57 683.928 L1846.57 683.928  Z\" fill=\"#9b7fe8\" fill-rule=\"evenodd\" fill-opacity=\"1\"/>\n",
       "<polyline clip-path=\"url(#clip862)\" style=\"stroke:#000000; stroke-linecap:round; stroke-linejoin:round; stroke-width:4; stroke-opacity:1; fill:none\" points=\"1846.57,683.928 1846.57,752.696 2237.89,752.696 2237.89,683.928 1846.57,683.928 \"/>\n",
       "<circle clip-path=\"url(#clip862)\" style=\"fill:#9b7fe8; stroke:none; fill-opacity:0\" cx=\"574.813\" cy=\"927.48\" r=\"2\"/>\n",
       "<circle clip-path=\"url(#clip862)\" style=\"fill:#9b7fe8; stroke:none; fill-opacity:0\" cx=\"1063.95\" cy=\"707.424\" r=\"2\"/>\n",
       "<circle clip-path=\"url(#clip862)\" style=\"fill:#9b7fe8; stroke:none; fill-opacity:0\" cx=\"1553.09\" cy=\"681.063\" r=\"2\"/>\n",
       "<circle clip-path=\"url(#clip862)\" style=\"fill:#9b7fe8; stroke:none; fill-opacity:0\" cx=\"2042.23\" cy=\"683.928\" r=\"2\"/>\n",
       "<path clip-path=\"url(#clip862)\" d=\"M379.157 968.168 L379.157 996.248 L770.468 996.248 L770.468 968.168 L379.157 968.168 L379.157 968.168  Z\" fill=\"#608cf6\" fill-rule=\"evenodd\" fill-opacity=\"1\"/>\n",
       "<polyline clip-path=\"url(#clip862)\" style=\"stroke:#000000; stroke-linecap:round; stroke-linejoin:round; stroke-width:4; stroke-opacity:1; fill:none\" points=\"379.157,968.168 379.157,996.248 770.468,996.248 770.468,968.168 379.157,968.168 \"/>\n",
       "<path clip-path=\"url(#clip862)\" d=\"M868.296 746.965 L868.296 792.237 L1259.61 792.237 L1259.61 746.965 L868.296 746.965 L868.296 746.965  Z\" fill=\"#608cf6\" fill-rule=\"evenodd\" fill-opacity=\"1\"/>\n",
       "<polyline clip-path=\"url(#clip862)\" style=\"stroke:#000000; stroke-linecap:round; stroke-linejoin:round; stroke-width:4; stroke-opacity:1; fill:none\" points=\"868.296,746.965 868.296,792.237 1259.61,792.237 1259.61,746.965 868.296,746.965 \"/>\n",
       "<path clip-path=\"url(#clip862)\" d=\"M1357.44 719.458 L1357.44 763.584 L1748.75 763.584 L1748.75 719.458 L1357.44 719.458 L1357.44 719.458  Z\" fill=\"#608cf6\" fill-rule=\"evenodd\" fill-opacity=\"1\"/>\n",
       "<polyline clip-path=\"url(#clip862)\" style=\"stroke:#000000; stroke-linecap:round; stroke-linejoin:round; stroke-width:4; stroke-opacity:1; fill:none\" points=\"1357.44,719.458 1357.44,763.584 1748.75,763.584 1748.75,719.458 1357.44,719.458 \"/>\n",
       "<path clip-path=\"url(#clip862)\" d=\"M1846.57 752.696 L1846.57 818.025 L2237.89 818.025 L2237.89 752.696 L1846.57 752.696 L1846.57 752.696  Z\" fill=\"#608cf6\" fill-rule=\"evenodd\" fill-opacity=\"1\"/>\n",
       "<polyline clip-path=\"url(#clip862)\" style=\"stroke:#000000; stroke-linecap:round; stroke-linejoin:round; stroke-width:4; stroke-opacity:1; fill:none\" points=\"1846.57,752.696 1846.57,818.025 2237.89,818.025 2237.89,752.696 1846.57,752.696 \"/>\n",
       "<circle clip-path=\"url(#clip862)\" style=\"fill:#608cf6; stroke:none; fill-opacity:0\" cx=\"574.813\" cy=\"968.168\" r=\"2\"/>\n",
       "<circle clip-path=\"url(#clip862)\" style=\"fill:#608cf6; stroke:none; fill-opacity:0\" cx=\"1063.95\" cy=\"746.965\" r=\"2\"/>\n",
       "<circle clip-path=\"url(#clip862)\" style=\"fill:#608cf6; stroke:none; fill-opacity:0\" cx=\"1553.09\" cy=\"719.458\" r=\"2\"/>\n",
       "<circle clip-path=\"url(#clip862)\" style=\"fill:#608cf6; stroke:none; fill-opacity:0\" cx=\"2042.23\" cy=\"752.696\" r=\"2\"/>\n",
       "<path clip-path=\"url(#clip862)\" d=\"M379.157 996.248 L379.157 1020.89 L770.468 1020.89 L770.468 996.248 L379.157 996.248 L379.157 996.248  Z\" fill=\"#f05f73\" fill-rule=\"evenodd\" fill-opacity=\"1\"/>\n",
       "<polyline clip-path=\"url(#clip862)\" style=\"stroke:#000000; stroke-linecap:round; stroke-linejoin:round; stroke-width:4; stroke-opacity:1; fill:none\" points=\"379.157,996.248 379.157,1020.89 770.468,1020.89 770.468,996.248 379.157,996.248 \"/>\n",
       "<path clip-path=\"url(#clip862)\" d=\"M868.296 792.237 L868.296 815.733 L1259.61 815.733 L1259.61 792.237 L868.296 792.237 L868.296 792.237  Z\" fill=\"#f05f73\" fill-rule=\"evenodd\" fill-opacity=\"1\"/>\n",
       "<polyline clip-path=\"url(#clip862)\" style=\"stroke:#000000; stroke-linecap:round; stroke-linejoin:round; stroke-width:4; stroke-opacity:1; fill:none\" points=\"868.296,792.237 868.296,815.733 1259.61,815.733 1259.61,792.237 868.296,792.237 \"/>\n",
       "<path clip-path=\"url(#clip862)\" d=\"M1357.44 763.584 L1357.44 799.687 L1748.75 799.687 L1748.75 763.584 L1357.44 763.584 L1357.44 763.584  Z\" fill=\"#f05f73\" fill-rule=\"evenodd\" fill-opacity=\"1\"/>\n",
       "<polyline clip-path=\"url(#clip862)\" style=\"stroke:#000000; stroke-linecap:round; stroke-linejoin:round; stroke-width:4; stroke-opacity:1; fill:none\" points=\"1357.44,763.584 1357.44,799.687 1748.75,799.687 1748.75,763.584 1357.44,763.584 \"/>\n",
       "<path clip-path=\"url(#clip862)\" d=\"M1846.57 818.025 L1846.57 879.916 L2237.89 879.916 L2237.89 818.025 L1846.57 818.025 L1846.57 818.025  Z\" fill=\"#f05f73\" fill-rule=\"evenodd\" fill-opacity=\"1\"/>\n",
       "<polyline clip-path=\"url(#clip862)\" style=\"stroke:#000000; stroke-linecap:round; stroke-linejoin:round; stroke-width:4; stroke-opacity:1; fill:none\" points=\"1846.57,818.025 1846.57,879.916 2237.89,879.916 2237.89,818.025 1846.57,818.025 \"/>\n",
       "<circle clip-path=\"url(#clip862)\" style=\"fill:#f05f73; stroke:none; fill-opacity:0\" cx=\"574.813\" cy=\"996.248\" r=\"2\"/>\n",
       "<circle clip-path=\"url(#clip862)\" style=\"fill:#f05f73; stroke:none; fill-opacity:0\" cx=\"1063.95\" cy=\"792.237\" r=\"2\"/>\n",
       "<circle clip-path=\"url(#clip862)\" style=\"fill:#f05f73; stroke:none; fill-opacity:0\" cx=\"1553.09\" cy=\"763.584\" r=\"2\"/>\n",
       "<circle clip-path=\"url(#clip862)\" style=\"fill:#f05f73; stroke:none; fill-opacity:0\" cx=\"2042.23\" cy=\"818.025\" r=\"2\"/>\n",
       "<path clip-path=\"url(#clip862)\" d=\"M379.157 1020.89 L379.157 1046.68 L770.468 1046.68 L770.468 1020.89 L379.157 1020.89 L379.157 1020.89  Z\" fill=\"#dd64b5\" fill-rule=\"evenodd\" fill-opacity=\"1\"/>\n",
       "<polyline clip-path=\"url(#clip862)\" style=\"stroke:#000000; stroke-linecap:round; stroke-linejoin:round; stroke-width:4; stroke-opacity:1; fill:none\" points=\"379.157,1020.89 379.157,1046.68 770.468,1046.68 770.468,1020.89 379.157,1020.89 \"/>\n",
       "<path clip-path=\"url(#clip862)\" d=\"M868.296 815.733 L868.296 849.543 L1259.61 849.543 L1259.61 815.733 L868.296 815.733 L868.296 815.733  Z\" fill=\"#dd64b5\" fill-rule=\"evenodd\" fill-opacity=\"1\"/>\n",
       "<polyline clip-path=\"url(#clip862)\" style=\"stroke:#000000; stroke-linecap:round; stroke-linejoin:round; stroke-width:4; stroke-opacity:1; fill:none\" points=\"868.296,815.733 868.296,849.543 1259.61,849.543 1259.61,815.733 868.296,815.733 \"/>\n",
       "<path clip-path=\"url(#clip862)\" d=\"M1357.44 799.687 L1357.44 832.352 L1748.75 832.352 L1748.75 799.687 L1357.44 799.687 L1357.44 799.687  Z\" fill=\"#dd64b5\" fill-rule=\"evenodd\" fill-opacity=\"1\"/>\n",
       "<polyline clip-path=\"url(#clip862)\" style=\"stroke:#000000; stroke-linecap:round; stroke-linejoin:round; stroke-width:4; stroke-opacity:1; fill:none\" points=\"1357.44,799.687 1357.44,832.352 1748.75,832.352 1748.75,799.687 1357.44,799.687 \"/>\n",
       "<path clip-path=\"url(#clip862)\" d=\"M1846.57 879.916 L1846.57 942.953 L2237.89 942.953 L2237.89 879.916 L1846.57 879.916 L1846.57 879.916  Z\" fill=\"#dd64b5\" fill-rule=\"evenodd\" fill-opacity=\"1\"/>\n",
       "<polyline clip-path=\"url(#clip862)\" style=\"stroke:#000000; stroke-linecap:round; stroke-linejoin:round; stroke-width:4; stroke-opacity:1; fill:none\" points=\"1846.57,879.916 1846.57,942.953 2237.89,942.953 2237.89,879.916 1846.57,879.916 \"/>\n",
       "<circle clip-path=\"url(#clip862)\" style=\"fill:#dd64b5; stroke:none; fill-opacity:0\" cx=\"574.813\" cy=\"1020.89\" r=\"2\"/>\n",
       "<circle clip-path=\"url(#clip862)\" style=\"fill:#dd64b5; stroke:none; fill-opacity:0\" cx=\"1063.95\" cy=\"815.733\" r=\"2\"/>\n",
       "<circle clip-path=\"url(#clip862)\" style=\"fill:#dd64b5; stroke:none; fill-opacity:0\" cx=\"1553.09\" cy=\"799.687\" r=\"2\"/>\n",
       "<circle clip-path=\"url(#clip862)\" style=\"fill:#dd64b5; stroke:none; fill-opacity:0\" cx=\"2042.23\" cy=\"879.916\" r=\"2\"/>\n",
       "<path clip-path=\"url(#clip862)\" d=\"M379.157 1046.68 L379.157 1069.03 L770.468 1069.03 L770.468 1046.68 L379.157 1046.68 L379.157 1046.68  Z\" fill=\"#6b9e32\" fill-rule=\"evenodd\" fill-opacity=\"1\"/>\n",
       "<polyline clip-path=\"url(#clip862)\" style=\"stroke:#000000; stroke-linecap:round; stroke-linejoin:round; stroke-width:4; stroke-opacity:1; fill:none\" points=\"379.157,1046.68 379.157,1069.03 770.468,1069.03 770.468,1046.68 379.157,1046.68 \"/>\n",
       "<path clip-path=\"url(#clip862)\" d=\"M868.296 849.543 L868.296 884.5 L1259.61 884.5 L1259.61 849.543 L868.296 849.543 L868.296 849.543  Z\" fill=\"#6b9e32\" fill-rule=\"evenodd\" fill-opacity=\"1\"/>\n",
       "<polyline clip-path=\"url(#clip862)\" style=\"stroke:#000000; stroke-linecap:round; stroke-linejoin:round; stroke-width:4; stroke-opacity:1; fill:none\" points=\"868.296,849.543 868.296,884.5 1259.61,884.5 1259.61,849.543 868.296,849.543 \"/>\n",
       "<path clip-path=\"url(#clip862)\" d=\"M1357.44 832.352 L1357.44 861.578 L1748.75 861.578 L1748.75 832.352 L1357.44 832.352 L1357.44 832.352  Z\" fill=\"#6b9e32\" fill-rule=\"evenodd\" fill-opacity=\"1\"/>\n",
       "<polyline clip-path=\"url(#clip862)\" style=\"stroke:#000000; stroke-linecap:round; stroke-linejoin:round; stroke-width:4; stroke-opacity:1; fill:none\" points=\"1357.44,832.352 1357.44,861.578 1748.75,861.578 1748.75,832.352 1357.44,832.352 \"/>\n",
       "<path clip-path=\"url(#clip862)\" d=\"M1846.57 942.953 L1846.57 1007.14 L2237.89 1007.14 L2237.89 942.953 L1846.57 942.953 L1846.57 942.953  Z\" fill=\"#6b9e32\" fill-rule=\"evenodd\" fill-opacity=\"1\"/>\n",
       "<polyline clip-path=\"url(#clip862)\" style=\"stroke:#000000; stroke-linecap:round; stroke-linejoin:round; stroke-width:4; stroke-opacity:1; fill:none\" points=\"1846.57,942.953 1846.57,1007.14 2237.89,1007.14 2237.89,942.953 1846.57,942.953 \"/>\n",
       "<circle clip-path=\"url(#clip862)\" style=\"fill:#6b9e32; stroke:none; fill-opacity:0\" cx=\"574.813\" cy=\"1046.68\" r=\"2\"/>\n",
       "<circle clip-path=\"url(#clip862)\" style=\"fill:#6b9e32; stroke:none; fill-opacity:0\" cx=\"1063.95\" cy=\"849.543\" r=\"2\"/>\n",
       "<circle clip-path=\"url(#clip862)\" style=\"fill:#6b9e32; stroke:none; fill-opacity:0\" cx=\"1553.09\" cy=\"832.352\" r=\"2\"/>\n",
       "<circle clip-path=\"url(#clip862)\" style=\"fill:#6b9e32; stroke:none; fill-opacity:0\" cx=\"2042.23\" cy=\"942.953\" r=\"2\"/>\n",
       "<path clip-path=\"url(#clip862)\" d=\"M379.157 1069.03 L379.157 1078.77 L770.468 1078.77 L770.468 1069.03 L379.157 1069.03 L379.157 1069.03  Z\" fill=\"#009af9\" fill-rule=\"evenodd\" fill-opacity=\"1\"/>\n",
       "<polyline clip-path=\"url(#clip862)\" style=\"stroke:#000000; stroke-linecap:round; stroke-linejoin:round; stroke-width:4; stroke-opacity:1; fill:none\" points=\"379.157,1069.03 379.157,1078.77 770.468,1078.77 770.468,1069.03 379.157,1069.03 \"/>\n",
       "<path clip-path=\"url(#clip862)\" d=\"M868.296 884.5 L868.296 911.434 L1259.61 911.434 L1259.61 884.5 L868.296 884.5 L868.296 884.5  Z\" fill=\"#009af9\" fill-rule=\"evenodd\" fill-opacity=\"1\"/>\n",
       "<polyline clip-path=\"url(#clip862)\" style=\"stroke:#000000; stroke-linecap:round; stroke-linejoin:round; stroke-width:4; stroke-opacity:1; fill:none\" points=\"868.296,884.5 868.296,911.434 1259.61,911.434 1259.61,884.5 868.296,884.5 \"/>\n",
       "<path clip-path=\"url(#clip862)\" d=\"M1357.44 861.578 L1357.44 891.95 L1748.75 891.95 L1748.75 861.578 L1357.44 861.578 L1357.44 861.578  Z\" fill=\"#009af9\" fill-rule=\"evenodd\" fill-opacity=\"1\"/>\n",
       "<polyline clip-path=\"url(#clip862)\" style=\"stroke:#000000; stroke-linecap:round; stroke-linejoin:round; stroke-width:4; stroke-opacity:1; fill:none\" points=\"1357.44,861.578 1357.44,891.95 1748.75,891.95 1748.75,861.578 1357.44,861.578 \"/>\n",
       "<path clip-path=\"url(#clip862)\" d=\"M1846.57 1007.14 L1846.57 1063.3 L2237.89 1063.3 L2237.89 1007.14 L1846.57 1007.14 L1846.57 1007.14  Z\" fill=\"#009af9\" fill-rule=\"evenodd\" fill-opacity=\"1\"/>\n",
       "<polyline clip-path=\"url(#clip862)\" style=\"stroke:#000000; stroke-linecap:round; stroke-linejoin:round; stroke-width:4; stroke-opacity:1; fill:none\" points=\"1846.57,1007.14 1846.57,1063.3 2237.89,1063.3 2237.89,1007.14 1846.57,1007.14 \"/>\n",
       "<circle clip-path=\"url(#clip862)\" style=\"fill:#009af9; stroke:none; fill-opacity:0\" cx=\"574.813\" cy=\"1069.03\" r=\"2\"/>\n",
       "<circle clip-path=\"url(#clip862)\" style=\"fill:#009af9; stroke:none; fill-opacity:0\" cx=\"1063.95\" cy=\"884.5\" r=\"2\"/>\n",
       "<circle clip-path=\"url(#clip862)\" style=\"fill:#009af9; stroke:none; fill-opacity:0\" cx=\"1553.09\" cy=\"861.578\" r=\"2\"/>\n",
       "<circle clip-path=\"url(#clip862)\" style=\"fill:#009af9; stroke:none; fill-opacity:0\" cx=\"2042.23\" cy=\"1007.14\" r=\"2\"/>\n",
       "<path clip-path=\"url(#clip862)\" d=\"M379.157 1078.77 L379.157 1085.07 L770.468 1085.07 L770.468 1078.77 L379.157 1078.77 L379.157 1078.77  Z\" fill=\"#e26f46\" fill-rule=\"evenodd\" fill-opacity=\"1\"/>\n",
       "<polyline clip-path=\"url(#clip862)\" style=\"stroke:#000000; stroke-linecap:round; stroke-linejoin:round; stroke-width:4; stroke-opacity:1; fill:none\" points=\"379.157,1078.77 379.157,1085.07 770.468,1085.07 770.468,1078.77 379.157,1078.77 \"/>\n",
       "<path clip-path=\"url(#clip862)\" d=\"M868.296 911.434 L868.296 930.345 L1259.61 930.345 L1259.61 911.434 L868.296 911.434 L868.296 911.434  Z\" fill=\"#e26f46\" fill-rule=\"evenodd\" fill-opacity=\"1\"/>\n",
       "<polyline clip-path=\"url(#clip862)\" style=\"stroke:#000000; stroke-linecap:round; stroke-linejoin:round; stroke-width:4; stroke-opacity:1; fill:none\" points=\"868.296,911.434 868.296,930.345 1259.61,930.345 1259.61,911.434 868.296,911.434 \"/>\n",
       "<path clip-path=\"url(#clip862)\" d=\"M1357.44 891.95 L1357.44 923.469 L1748.75 923.469 L1748.75 891.95 L1357.44 891.95 L1357.44 891.95  Z\" fill=\"#e26f46\" fill-rule=\"evenodd\" fill-opacity=\"1\"/>\n",
       "<polyline clip-path=\"url(#clip862)\" style=\"stroke:#000000; stroke-linecap:round; stroke-linejoin:round; stroke-width:4; stroke-opacity:1; fill:none\" points=\"1357.44,891.95 1357.44,923.469 1748.75,923.469 1748.75,891.95 1357.44,891.95 \"/>\n",
       "<path clip-path=\"url(#clip862)\" d=\"M1846.57 1063.3 L1846.57 1116.02 L2237.89 1116.02 L2237.89 1063.3 L1846.57 1063.3 L1846.57 1063.3  Z\" fill=\"#e26f46\" fill-rule=\"evenodd\" fill-opacity=\"1\"/>\n",
       "<polyline clip-path=\"url(#clip862)\" style=\"stroke:#000000; stroke-linecap:round; stroke-linejoin:round; stroke-width:4; stroke-opacity:1; fill:none\" points=\"1846.57,1063.3 1846.57,1116.02 2237.89,1116.02 2237.89,1063.3 1846.57,1063.3 \"/>\n",
       "<circle clip-path=\"url(#clip862)\" style=\"fill:#e26f46; stroke:none; fill-opacity:0\" cx=\"574.813\" cy=\"1078.77\" r=\"2\"/>\n",
       "<circle clip-path=\"url(#clip862)\" style=\"fill:#e26f46; stroke:none; fill-opacity:0\" cx=\"1063.95\" cy=\"911.434\" r=\"2\"/>\n",
       "<circle clip-path=\"url(#clip862)\" style=\"fill:#e26f46; stroke:none; fill-opacity:0\" cx=\"1553.09\" cy=\"891.95\" r=\"2\"/>\n",
       "<circle clip-path=\"url(#clip862)\" style=\"fill:#e26f46; stroke:none; fill-opacity:0\" cx=\"2042.23\" cy=\"1063.3\" r=\"2\"/>\n",
       "<path clip-path=\"url(#clip862)\" d=\"M379.157 1085.07 L379.157 1143.52 L770.468 1143.52 L770.468 1085.07 L379.157 1085.07 L379.157 1085.07  Z\" fill=\"#3da44d\" fill-rule=\"evenodd\" fill-opacity=\"1\"/>\n",
       "<polyline clip-path=\"url(#clip862)\" style=\"stroke:#000000; stroke-linecap:round; stroke-linejoin:round; stroke-width:4; stroke-opacity:1; fill:none\" points=\"379.157,1085.07 379.157,1143.52 770.468,1143.52 770.468,1085.07 379.157,1085.07 \"/>\n",
       "<path clip-path=\"url(#clip862)\" d=\"M868.296 930.345 L868.296 945.818 L1259.61 945.818 L1259.61 930.345 L868.296 930.345 L868.296 930.345  Z\" fill=\"#3da44d\" fill-rule=\"evenodd\" fill-opacity=\"1\"/>\n",
       "<polyline clip-path=\"url(#clip862)\" style=\"stroke:#000000; stroke-linecap:round; stroke-linejoin:round; stroke-width:4; stroke-opacity:1; fill:none\" points=\"868.296,930.345 868.296,945.818 1259.61,945.818 1259.61,930.345 868.296,930.345 \"/>\n",
       "<path clip-path=\"url(#clip862)\" d=\"M1357.44 923.469 L1357.44 937.795 L1748.75 937.795 L1748.75 923.469 L1357.44 923.469 L1357.44 923.469  Z\" fill=\"#3da44d\" fill-rule=\"evenodd\" fill-opacity=\"1\"/>\n",
       "<polyline clip-path=\"url(#clip862)\" style=\"stroke:#000000; stroke-linecap:round; stroke-linejoin:round; stroke-width:4; stroke-opacity:1; fill:none\" points=\"1357.44,923.469 1357.44,937.795 1748.75,937.795 1748.75,923.469 1357.44,923.469 \"/>\n",
       "<path clip-path=\"url(#clip862)\" d=\"M1846.57 1116.02 L1846.57 1165.3 L2237.89 1165.3 L2237.89 1116.02 L1846.57 1116.02 L1846.57 1116.02  Z\" fill=\"#3da44d\" fill-rule=\"evenodd\" fill-opacity=\"1\"/>\n",
       "<polyline clip-path=\"url(#clip862)\" style=\"stroke:#000000; stroke-linecap:round; stroke-linejoin:round; stroke-width:4; stroke-opacity:1; fill:none\" points=\"1846.57,1116.02 1846.57,1165.3 2237.89,1165.3 2237.89,1116.02 1846.57,1116.02 \"/>\n",
       "<circle clip-path=\"url(#clip862)\" style=\"fill:#3da44d; stroke:none; fill-opacity:0\" cx=\"574.813\" cy=\"1085.07\" r=\"2\"/>\n",
       "<circle clip-path=\"url(#clip862)\" style=\"fill:#3da44d; stroke:none; fill-opacity:0\" cx=\"1063.95\" cy=\"930.345\" r=\"2\"/>\n",
       "<circle clip-path=\"url(#clip862)\" style=\"fill:#3da44d; stroke:none; fill-opacity:0\" cx=\"1553.09\" cy=\"923.469\" r=\"2\"/>\n",
       "<circle clip-path=\"url(#clip862)\" style=\"fill:#3da44d; stroke:none; fill-opacity:0\" cx=\"2042.23\" cy=\"1116.02\" r=\"2\"/>\n",
       "<path clip-path=\"url(#clip862)\" d=\"M379.157 1143.52 L379.157 1198.54 L770.468 1198.54 L770.468 1143.52 L379.157 1143.52 L379.157 1143.52  Z\" fill=\"#c271d2\" fill-rule=\"evenodd\" fill-opacity=\"1\"/>\n",
       "<polyline clip-path=\"url(#clip862)\" style=\"stroke:#000000; stroke-linecap:round; stroke-linejoin:round; stroke-width:4; stroke-opacity:1; fill:none\" points=\"379.157,1143.52 379.157,1198.54 770.468,1198.54 770.468,1143.52 379.157,1143.52 \"/>\n",
       "<path clip-path=\"url(#clip862)\" d=\"M868.296 945.818 L868.296 967.021 L1259.61 967.021 L1259.61 945.818 L868.296 945.818 L868.296 945.818  Z\" fill=\"#c271d2\" fill-rule=\"evenodd\" fill-opacity=\"1\"/>\n",
       "<polyline clip-path=\"url(#clip862)\" style=\"stroke:#000000; stroke-linecap:round; stroke-linejoin:round; stroke-width:4; stroke-opacity:1; fill:none\" points=\"868.296,945.818 868.296,967.021 1259.61,967.021 1259.61,945.818 868.296,945.818 \"/>\n",
       "<path clip-path=\"url(#clip862)\" d=\"M1357.44 937.795 L1357.44 957.852 L1748.75 957.852 L1748.75 937.795 L1357.44 937.795 L1357.44 937.795  Z\" fill=\"#c271d2\" fill-rule=\"evenodd\" fill-opacity=\"1\"/>\n",
       "<polyline clip-path=\"url(#clip862)\" style=\"stroke:#000000; stroke-linecap:round; stroke-linejoin:round; stroke-width:4; stroke-opacity:1; fill:none\" points=\"1357.44,937.795 1357.44,957.852 1748.75,957.852 1748.75,937.795 1357.44,937.795 \"/>\n",
       "<path clip-path=\"url(#clip862)\" d=\"M1846.57 1165.3 L1846.57 1211.15 L2237.89 1211.15 L2237.89 1165.3 L1846.57 1165.3 L1846.57 1165.3  Z\" fill=\"#c271d2\" fill-rule=\"evenodd\" fill-opacity=\"1\"/>\n",
       "<polyline clip-path=\"url(#clip862)\" style=\"stroke:#000000; stroke-linecap:round; stroke-linejoin:round; stroke-width:4; stroke-opacity:1; fill:none\" points=\"1846.57,1165.3 1846.57,1211.15 2237.89,1211.15 2237.89,1165.3 1846.57,1165.3 \"/>\n",
       "<circle clip-path=\"url(#clip862)\" style=\"fill:#c271d2; stroke:none; fill-opacity:0\" cx=\"574.813\" cy=\"1143.52\" r=\"2\"/>\n",
       "<circle clip-path=\"url(#clip862)\" style=\"fill:#c271d2; stroke:none; fill-opacity:0\" cx=\"1063.95\" cy=\"945.818\" r=\"2\"/>\n",
       "<circle clip-path=\"url(#clip862)\" style=\"fill:#c271d2; stroke:none; fill-opacity:0\" cx=\"1553.09\" cy=\"937.795\" r=\"2\"/>\n",
       "<circle clip-path=\"url(#clip862)\" style=\"fill:#c271d2; stroke:none; fill-opacity:0\" cx=\"2042.23\" cy=\"1165.3\" r=\"2\"/>\n",
       "<path clip-path=\"url(#clip862)\" d=\"M379.157 1198.54 L379.157 1245.53 L770.468 1245.53 L770.468 1198.54 L379.157 1198.54 L379.157 1198.54  Z\" fill=\"#ac8d18\" fill-rule=\"evenodd\" fill-opacity=\"1\"/>\n",
       "<polyline clip-path=\"url(#clip862)\" style=\"stroke:#000000; stroke-linecap:round; stroke-linejoin:round; stroke-width:4; stroke-opacity:1; fill:none\" points=\"379.157,1198.54 379.157,1245.53 770.468,1245.53 770.468,1198.54 379.157,1198.54 \"/>\n",
       "<path clip-path=\"url(#clip862)\" d=\"M868.296 967.021 L868.296 975.617 L1259.61 975.617 L1259.61 967.021 L868.296 967.021 L868.296 967.021  Z\" fill=\"#ac8d18\" fill-rule=\"evenodd\" fill-opacity=\"1\"/>\n",
       "<polyline clip-path=\"url(#clip862)\" style=\"stroke:#000000; stroke-linecap:round; stroke-linejoin:round; stroke-width:4; stroke-opacity:1; fill:none\" points=\"868.296,967.021 868.296,975.617 1259.61,975.617 1259.61,967.021 868.296,967.021 \"/>\n",
       "<path clip-path=\"url(#clip862)\" d=\"M1357.44 957.852 L1357.44 969.887 L1748.75 969.887 L1748.75 957.852 L1357.44 957.852 L1357.44 957.852  Z\" fill=\"#ac8d18\" fill-rule=\"evenodd\" fill-opacity=\"1\"/>\n",
       "<polyline clip-path=\"url(#clip862)\" style=\"stroke:#000000; stroke-linecap:round; stroke-linejoin:round; stroke-width:4; stroke-opacity:1; fill:none\" points=\"1357.44,957.852 1357.44,969.887 1748.75,969.887 1748.75,957.852 1357.44,957.852 \"/>\n",
       "<path clip-path=\"url(#clip862)\" d=\"M1846.57 1211.15 L1846.57 1244.38 L2237.89 1244.38 L2237.89 1211.15 L1846.57 1211.15 L1846.57 1211.15  Z\" fill=\"#ac8d18\" fill-rule=\"evenodd\" fill-opacity=\"1\"/>\n",
       "<polyline clip-path=\"url(#clip862)\" style=\"stroke:#000000; stroke-linecap:round; stroke-linejoin:round; stroke-width:4; stroke-opacity:1; fill:none\" points=\"1846.57,1211.15 1846.57,1244.38 2237.89,1244.38 2237.89,1211.15 1846.57,1211.15 \"/>\n",
       "<circle clip-path=\"url(#clip862)\" style=\"fill:#ac8d18; stroke:none; fill-opacity:0\" cx=\"574.813\" cy=\"1198.54\" r=\"2\"/>\n",
       "<circle clip-path=\"url(#clip862)\" style=\"fill:#ac8d18; stroke:none; fill-opacity:0\" cx=\"1063.95\" cy=\"967.021\" r=\"2\"/>\n",
       "<circle clip-path=\"url(#clip862)\" style=\"fill:#ac8d18; stroke:none; fill-opacity:0\" cx=\"1553.09\" cy=\"957.852\" r=\"2\"/>\n",
       "<circle clip-path=\"url(#clip862)\" style=\"fill:#ac8d18; stroke:none; fill-opacity:0\" cx=\"2042.23\" cy=\"1211.15\" r=\"2\"/>\n",
       "<path clip-path=\"url(#clip862)\" d=\"M379.157 1245.53 L379.157 1289.08 L770.468 1289.08 L770.468 1245.53 L379.157 1245.53 L379.157 1245.53  Z\" fill=\"#00a9ad\" fill-rule=\"evenodd\" fill-opacity=\"1\"/>\n",
       "<polyline clip-path=\"url(#clip862)\" style=\"stroke:#000000; stroke-linecap:round; stroke-linejoin:round; stroke-width:4; stroke-opacity:1; fill:none\" points=\"379.157,1245.53 379.157,1289.08 770.468,1289.08 770.468,1245.53 379.157,1245.53 \"/>\n",
       "<path clip-path=\"url(#clip862)\" d=\"M868.296 975.617 L868.296 980.775 L1259.61 980.775 L1259.61 975.617 L868.296 975.617 L868.296 975.617  Z\" fill=\"#00a9ad\" fill-rule=\"evenodd\" fill-opacity=\"1\"/>\n",
       "<polyline clip-path=\"url(#clip862)\" style=\"stroke:#000000; stroke-linecap:round; stroke-linejoin:round; stroke-width:4; stroke-opacity:1; fill:none\" points=\"868.296,975.617 868.296,980.775 1259.61,980.775 1259.61,975.617 868.296,975.617 \"/>\n",
       "<path clip-path=\"url(#clip862)\" d=\"M1357.44 969.887 L1357.44 987.652 L1748.75 987.652 L1748.75 969.887 L1357.44 969.887 L1357.44 969.887  Z\" fill=\"#00a9ad\" fill-rule=\"evenodd\" fill-opacity=\"1\"/>\n",
       "<polyline clip-path=\"url(#clip862)\" style=\"stroke:#000000; stroke-linecap:round; stroke-linejoin:round; stroke-width:4; stroke-opacity:1; fill:none\" points=\"1357.44,969.887 1357.44,987.652 1748.75,987.652 1748.75,969.887 1357.44,969.887 \"/>\n",
       "<path clip-path=\"url(#clip862)\" d=\"M1846.57 1244.38 L1846.57 1278.77 L2237.89 1278.77 L2237.89 1244.38 L1846.57 1244.38 L1846.57 1244.38  Z\" fill=\"#00a9ad\" fill-rule=\"evenodd\" fill-opacity=\"1\"/>\n",
       "<polyline clip-path=\"url(#clip862)\" style=\"stroke:#000000; stroke-linecap:round; stroke-linejoin:round; stroke-width:4; stroke-opacity:1; fill:none\" points=\"1846.57,1244.38 1846.57,1278.77 2237.89,1278.77 2237.89,1244.38 1846.57,1244.38 \"/>\n",
       "<circle clip-path=\"url(#clip862)\" style=\"fill:#00a9ad; stroke:none; fill-opacity:0\" cx=\"574.813\" cy=\"1245.53\" r=\"2\"/>\n",
       "<circle clip-path=\"url(#clip862)\" style=\"fill:#00a9ad; stroke:none; fill-opacity:0\" cx=\"1063.95\" cy=\"975.617\" r=\"2\"/>\n",
       "<circle clip-path=\"url(#clip862)\" style=\"fill:#00a9ad; stroke:none; fill-opacity:0\" cx=\"1553.09\" cy=\"969.887\" r=\"2\"/>\n",
       "<circle clip-path=\"url(#clip862)\" style=\"fill:#00a9ad; stroke:none; fill-opacity:0\" cx=\"2042.23\" cy=\"1244.38\" r=\"2\"/>\n",
       "<path clip-path=\"url(#clip862)\" d=\"M379.157 1289.08 L379.157 1329.2 L770.468 1329.2 L770.468 1289.08 L379.157 1289.08 L379.157 1289.08  Z\" fill=\"#ed5d92\" fill-rule=\"evenodd\" fill-opacity=\"1\"/>\n",
       "<polyline clip-path=\"url(#clip862)\" style=\"stroke:#000000; stroke-linecap:round; stroke-linejoin:round; stroke-width:4; stroke-opacity:1; fill:none\" points=\"379.157,1289.08 379.157,1329.2 770.468,1329.2 770.468,1289.08 379.157,1289.08 \"/>\n",
       "<path clip-path=\"url(#clip862)\" d=\"M868.296 980.775 L868.296 991.663 L1259.61 991.663 L1259.61 980.775 L868.296 980.775 L868.296 980.775  Z\" fill=\"#ed5d92\" fill-rule=\"evenodd\" fill-opacity=\"1\"/>\n",
       "<polyline clip-path=\"url(#clip862)\" style=\"stroke:#000000; stroke-linecap:round; stroke-linejoin:round; stroke-width:4; stroke-opacity:1; fill:none\" points=\"868.296,980.775 868.296,991.663 1259.61,991.663 1259.61,980.775 868.296,980.775 \"/>\n",
       "<path clip-path=\"url(#clip862)\" d=\"M1357.44 987.652 L1357.44 1048.4 L1748.75 1048.4 L1748.75 987.652 L1357.44 987.652 L1357.44 987.652  Z\" fill=\"#ed5d92\" fill-rule=\"evenodd\" fill-opacity=\"1\"/>\n",
       "<polyline clip-path=\"url(#clip862)\" style=\"stroke:#000000; stroke-linecap:round; stroke-linejoin:round; stroke-width:4; stroke-opacity:1; fill:none\" points=\"1357.44,987.652 1357.44,1048.4 1748.75,1048.4 1748.75,987.652 1357.44,987.652 \"/>\n",
       "<path clip-path=\"url(#clip862)\" d=\"M1846.57 1278.77 L1846.57 1309.71 L2237.89 1309.71 L2237.89 1278.77 L1846.57 1278.77 L1846.57 1278.77  Z\" fill=\"#ed5d92\" fill-rule=\"evenodd\" fill-opacity=\"1\"/>\n",
       "<polyline clip-path=\"url(#clip862)\" style=\"stroke:#000000; stroke-linecap:round; stroke-linejoin:round; stroke-width:4; stroke-opacity:1; fill:none\" points=\"1846.57,1278.77 1846.57,1309.71 2237.89,1309.71 2237.89,1278.77 1846.57,1278.77 \"/>\n",
       "<circle clip-path=\"url(#clip862)\" style=\"fill:#ed5d92; stroke:none; fill-opacity:0\" cx=\"574.813\" cy=\"1289.08\" r=\"2\"/>\n",
       "<circle clip-path=\"url(#clip862)\" style=\"fill:#ed5d92; stroke:none; fill-opacity:0\" cx=\"1063.95\" cy=\"980.775\" r=\"2\"/>\n",
       "<circle clip-path=\"url(#clip862)\" style=\"fill:#ed5d92; stroke:none; fill-opacity:0\" cx=\"1553.09\" cy=\"987.652\" r=\"2\"/>\n",
       "<circle clip-path=\"url(#clip862)\" style=\"fill:#ed5d92; stroke:none; fill-opacity:0\" cx=\"2042.23\" cy=\"1278.77\" r=\"2\"/>\n",
       "<path clip-path=\"url(#clip862)\" d=\"M379.157 1329.2 L379.157 1365.87 L770.468 1365.87 L770.468 1329.2 L379.157 1329.2 L379.157 1329.2  Z\" fill=\"#c68125\" fill-rule=\"evenodd\" fill-opacity=\"1\"/>\n",
       "<polyline clip-path=\"url(#clip862)\" style=\"stroke:#000000; stroke-linecap:round; stroke-linejoin:round; stroke-width:4; stroke-opacity:1; fill:none\" points=\"379.157,1329.2 379.157,1365.87 770.468,1365.87 770.468,1329.2 379.157,1329.2 \"/>\n",
       "<path clip-path=\"url(#clip862)\" d=\"M868.296 991.663 L868.296 999.113 L1259.61 999.113 L1259.61 991.663 L868.296 991.663 L868.296 991.663  Z\" fill=\"#c68125\" fill-rule=\"evenodd\" fill-opacity=\"1\"/>\n",
       "<polyline clip-path=\"url(#clip862)\" style=\"stroke:#000000; stroke-linecap:round; stroke-linejoin:round; stroke-width:4; stroke-opacity:1; fill:none\" points=\"868.296,991.663 868.296,999.113 1259.61,999.113 1259.61,991.663 868.296,991.663 \"/>\n",
       "<path clip-path=\"url(#clip862)\" d=\"M1357.44 1048.4 L1357.44 1105.7 L1748.75 1105.7 L1748.75 1048.4 L1357.44 1048.4 L1357.44 1048.4  Z\" fill=\"#c68125\" fill-rule=\"evenodd\" fill-opacity=\"1\"/>\n",
       "<polyline clip-path=\"url(#clip862)\" style=\"stroke:#000000; stroke-linecap:round; stroke-linejoin:round; stroke-width:4; stroke-opacity:1; fill:none\" points=\"1357.44,1048.4 1357.44,1105.7 1748.75,1105.7 1748.75,1048.4 1357.44,1048.4 \"/>\n",
       "<path clip-path=\"url(#clip862)\" d=\"M1846.57 1309.71 L1846.57 1341.8 L2237.89 1341.8 L2237.89 1309.71 L1846.57 1309.71 L1846.57 1309.71  Z\" fill=\"#c68125\" fill-rule=\"evenodd\" fill-opacity=\"1\"/>\n",
       "<polyline clip-path=\"url(#clip862)\" style=\"stroke:#000000; stroke-linecap:round; stroke-linejoin:round; stroke-width:4; stroke-opacity:1; fill:none\" points=\"1846.57,1309.71 1846.57,1341.8 2237.89,1341.8 2237.89,1309.71 1846.57,1309.71 \"/>\n",
       "<circle clip-path=\"url(#clip862)\" style=\"fill:#c68125; stroke:none; fill-opacity:0\" cx=\"574.813\" cy=\"1329.2\" r=\"2\"/>\n",
       "<circle clip-path=\"url(#clip862)\" style=\"fill:#c68125; stroke:none; fill-opacity:0\" cx=\"1063.95\" cy=\"991.663\" r=\"2\"/>\n",
       "<circle clip-path=\"url(#clip862)\" style=\"fill:#c68125; stroke:none; fill-opacity:0\" cx=\"1553.09\" cy=\"1048.4\" r=\"2\"/>\n",
       "<circle clip-path=\"url(#clip862)\" style=\"fill:#c68125; stroke:none; fill-opacity:0\" cx=\"2042.23\" cy=\"1309.71\" r=\"2\"/>\n",
       "<path clip-path=\"url(#clip862)\" d=\"M379.157 1365.87 L379.157 1394.53 L770.468 1394.53 L770.468 1365.87 L379.157 1365.87 L379.157 1365.87  Z\" fill=\"#00a98d\" fill-rule=\"evenodd\" fill-opacity=\"1\"/>\n",
       "<polyline clip-path=\"url(#clip862)\" style=\"stroke:#000000; stroke-linecap:round; stroke-linejoin:round; stroke-width:4; stroke-opacity:1; fill:none\" points=\"379.157,1365.87 379.157,1394.53 770.468,1394.53 770.468,1365.87 379.157,1365.87 \"/>\n",
       "<path clip-path=\"url(#clip862)\" d=\"M868.296 999.113 L868.296 1058.71 L1259.61 1058.71 L1259.61 999.113 L868.296 999.113 L868.296 999.113  Z\" fill=\"#00a98d\" fill-rule=\"evenodd\" fill-opacity=\"1\"/>\n",
       "<polyline clip-path=\"url(#clip862)\" style=\"stroke:#000000; stroke-linecap:round; stroke-linejoin:round; stroke-width:4; stroke-opacity:1; fill:none\" points=\"868.296,999.113 868.296,1058.71 1259.61,1058.71 1259.61,999.113 868.296,999.113 \"/>\n",
       "<path clip-path=\"url(#clip862)\" d=\"M1357.44 1105.7 L1357.44 1159.57 L1748.75 1159.57 L1748.75 1105.7 L1357.44 1105.7 L1357.44 1105.7  Z\" fill=\"#00a98d\" fill-rule=\"evenodd\" fill-opacity=\"1\"/>\n",
       "<polyline clip-path=\"url(#clip862)\" style=\"stroke:#000000; stroke-linecap:round; stroke-linejoin:round; stroke-width:4; stroke-opacity:1; fill:none\" points=\"1357.44,1105.7 1357.44,1159.57 1748.75,1159.57 1748.75,1105.7 1357.44,1105.7 \"/>\n",
       "<path clip-path=\"url(#clip862)\" d=\"M1846.57 1341.8 L1846.57 1361.29 L2237.89 1361.29 L2237.89 1341.8 L1846.57 1341.8 L1846.57 1341.8  Z\" fill=\"#00a98d\" fill-rule=\"evenodd\" fill-opacity=\"1\"/>\n",
       "<polyline clip-path=\"url(#clip862)\" style=\"stroke:#000000; stroke-linecap:round; stroke-linejoin:round; stroke-width:4; stroke-opacity:1; fill:none\" points=\"1846.57,1341.8 1846.57,1361.29 2237.89,1361.29 2237.89,1341.8 1846.57,1341.8 \"/>\n",
       "<circle clip-path=\"url(#clip862)\" style=\"fill:#00a98d; stroke:none; fill-opacity:0\" cx=\"574.813\" cy=\"1365.87\" r=\"2\"/>\n",
       "<circle clip-path=\"url(#clip862)\" style=\"fill:#00a98d; stroke:none; fill-opacity:0\" cx=\"1063.95\" cy=\"999.113\" r=\"2\"/>\n",
       "<circle clip-path=\"url(#clip862)\" style=\"fill:#00a98d; stroke:none; fill-opacity:0\" cx=\"1553.09\" cy=\"1105.7\" r=\"2\"/>\n",
       "<circle clip-path=\"url(#clip862)\" style=\"fill:#00a98d; stroke:none; fill-opacity:0\" cx=\"2042.23\" cy=\"1341.8\" r=\"2\"/>\n",
       "<path clip-path=\"url(#clip862)\" d=\"M379.157 1394.53 L379.157 1405.99 L770.468 1405.99 L770.468 1394.53 L379.157 1394.53 L379.157 1394.53  Z\" fill=\"#8e971d\" fill-rule=\"evenodd\" fill-opacity=\"1\"/>\n",
       "<polyline clip-path=\"url(#clip862)\" style=\"stroke:#000000; stroke-linecap:round; stroke-linejoin:round; stroke-width:4; stroke-opacity:1; fill:none\" points=\"379.157,1394.53 379.157,1405.99 770.468,1405.99 770.468,1394.53 379.157,1394.53 \"/>\n",
       "<path clip-path=\"url(#clip862)\" d=\"M868.296 1058.71 L868.296 1110.29 L1259.61 1110.29 L1259.61 1058.71 L868.296 1058.71 L868.296 1058.71  Z\" fill=\"#8e971d\" fill-rule=\"evenodd\" fill-opacity=\"1\"/>\n",
       "<polyline clip-path=\"url(#clip862)\" style=\"stroke:#000000; stroke-linecap:round; stroke-linejoin:round; stroke-width:4; stroke-opacity:1; fill:none\" points=\"868.296,1058.71 868.296,1110.29 1259.61,1110.29 1259.61,1058.71 868.296,1058.71 \"/>\n",
       "<path clip-path=\"url(#clip862)\" d=\"M1357.44 1159.57 L1357.44 1210 L1748.75 1210 L1748.75 1159.57 L1357.44 1159.57 L1357.44 1159.57  Z\" fill=\"#8e971d\" fill-rule=\"evenodd\" fill-opacity=\"1\"/>\n",
       "<polyline clip-path=\"url(#clip862)\" style=\"stroke:#000000; stroke-linecap:round; stroke-linejoin:round; stroke-width:4; stroke-opacity:1; fill:none\" points=\"1357.44,1159.57 1357.44,1210 1748.75,1210 1748.75,1159.57 1357.44,1159.57 \"/>\n",
       "<path clip-path=\"url(#clip862)\" d=\"M1846.57 1361.29 L1846.57 1381.92 L2237.89 1381.92 L2237.89 1361.29 L1846.57 1361.29 L1846.57 1361.29  Z\" fill=\"#8e971d\" fill-rule=\"evenodd\" fill-opacity=\"1\"/>\n",
       "<polyline clip-path=\"url(#clip862)\" style=\"stroke:#000000; stroke-linecap:round; stroke-linejoin:round; stroke-width:4; stroke-opacity:1; fill:none\" points=\"1846.57,1361.29 1846.57,1381.92 2237.89,1381.92 2237.89,1361.29 1846.57,1361.29 \"/>\n",
       "<circle clip-path=\"url(#clip862)\" style=\"fill:#8e971d; stroke:none; fill-opacity:0\" cx=\"574.813\" cy=\"1394.53\" r=\"2\"/>\n",
       "<circle clip-path=\"url(#clip862)\" style=\"fill:#8e971d; stroke:none; fill-opacity:0\" cx=\"1063.95\" cy=\"1058.71\" r=\"2\"/>\n",
       "<circle clip-path=\"url(#clip862)\" style=\"fill:#8e971d; stroke:none; fill-opacity:0\" cx=\"1553.09\" cy=\"1159.57\" r=\"2\"/>\n",
       "<circle clip-path=\"url(#clip862)\" style=\"fill:#8e971d; stroke:none; fill-opacity:0\" cx=\"2042.23\" cy=\"1361.29\" r=\"2\"/>\n",
       "<path clip-path=\"url(#clip862)\" d=\"M379.157 1405.99 L379.157 1414.01 L770.468 1414.01 L770.468 1405.99 L379.157 1405.99 L379.157 1405.99  Z\" fill=\"#00a8cb\" fill-rule=\"evenodd\" fill-opacity=\"1\"/>\n",
       "<polyline clip-path=\"url(#clip862)\" style=\"stroke:#000000; stroke-linecap:round; stroke-linejoin:round; stroke-width:4; stroke-opacity:1; fill:none\" points=\"379.157,1405.99 379.157,1414.01 770.468,1414.01 770.468,1405.99 379.157,1405.99 \"/>\n",
       "<path clip-path=\"url(#clip862)\" d=\"M868.296 1110.29 L868.296 1158.42 L1259.61 1158.42 L1259.61 1110.29 L868.296 1110.29 L868.296 1110.29  Z\" fill=\"#00a8cb\" fill-rule=\"evenodd\" fill-opacity=\"1\"/>\n",
       "<polyline clip-path=\"url(#clip862)\" style=\"stroke:#000000; stroke-linecap:round; stroke-linejoin:round; stroke-width:4; stroke-opacity:1; fill:none\" points=\"868.296,1110.29 868.296,1158.42 1259.61,1158.42 1259.61,1110.29 868.296,1110.29 \"/>\n",
       "<path clip-path=\"url(#clip862)\" d=\"M1357.44 1210 L1357.44 1252.41 L1748.75 1252.41 L1748.75 1210 L1357.44 1210 L1357.44 1210  Z\" fill=\"#00a8cb\" fill-rule=\"evenodd\" fill-opacity=\"1\"/>\n",
       "<polyline clip-path=\"url(#clip862)\" style=\"stroke:#000000; stroke-linecap:round; stroke-linejoin:round; stroke-width:4; stroke-opacity:1; fill:none\" points=\"1357.44,1210 1357.44,1252.41 1748.75,1252.41 1748.75,1210 1357.44,1210 \"/>\n",
       "<path clip-path=\"url(#clip862)\" d=\"M1846.57 1381.92 L1846.57 1403.7 L2237.89 1403.7 L2237.89 1381.92 L1846.57 1381.92 L1846.57 1381.92  Z\" fill=\"#00a8cb\" fill-rule=\"evenodd\" fill-opacity=\"1\"/>\n",
       "<polyline clip-path=\"url(#clip862)\" style=\"stroke:#000000; stroke-linecap:round; stroke-linejoin:round; stroke-width:4; stroke-opacity:1; fill:none\" points=\"1846.57,1381.92 1846.57,1403.7 2237.89,1403.7 2237.89,1381.92 1846.57,1381.92 \"/>\n",
       "<circle clip-path=\"url(#clip862)\" style=\"fill:#00a8cb; stroke:none; fill-opacity:0\" cx=\"574.813\" cy=\"1405.99\" r=\"2\"/>\n",
       "<circle clip-path=\"url(#clip862)\" style=\"fill:#00a8cb; stroke:none; fill-opacity:0\" cx=\"1063.95\" cy=\"1110.29\" r=\"2\"/>\n",
       "<circle clip-path=\"url(#clip862)\" style=\"fill:#00a8cb; stroke:none; fill-opacity:0\" cx=\"1553.09\" cy=\"1210\" r=\"2\"/>\n",
       "<circle clip-path=\"url(#clip862)\" style=\"fill:#00a8cb; stroke:none; fill-opacity:0\" cx=\"2042.23\" cy=\"1381.92\" r=\"2\"/>\n",
       "<path clip-path=\"url(#clip862)\" d=\"M379.157 1414.01 L379.157 1423.18 L770.468 1423.18 L770.468 1414.01 L379.157 1414.01 L379.157 1414.01  Z\" fill=\"#9b7fe8\" fill-rule=\"evenodd\" fill-opacity=\"1\"/>\n",
       "<polyline clip-path=\"url(#clip862)\" style=\"stroke:#000000; stroke-linecap:round; stroke-linejoin:round; stroke-width:4; stroke-opacity:1; fill:none\" points=\"379.157,1414.01 379.157,1423.18 770.468,1423.18 770.468,1414.01 379.157,1414.01 \"/>\n",
       "<path clip-path=\"url(#clip862)\" d=\"M868.296 1158.42 L868.296 1203.12 L1259.61 1203.12 L1259.61 1158.42 L868.296 1158.42 L868.296 1158.42  Z\" fill=\"#9b7fe8\" fill-rule=\"evenodd\" fill-opacity=\"1\"/>\n",
       "<polyline clip-path=\"url(#clip862)\" style=\"stroke:#000000; stroke-linecap:round; stroke-linejoin:round; stroke-width:4; stroke-opacity:1; fill:none\" points=\"868.296,1158.42 868.296,1203.12 1259.61,1203.12 1259.61,1158.42 868.296,1158.42 \"/>\n",
       "<path clip-path=\"url(#clip862)\" d=\"M1357.44 1252.41 L1357.44 1282.21 L1748.75 1282.21 L1748.75 1252.41 L1357.44 1252.41 L1357.44 1252.41  Z\" fill=\"#9b7fe8\" fill-rule=\"evenodd\" fill-opacity=\"1\"/>\n",
       "<polyline clip-path=\"url(#clip862)\" style=\"stroke:#000000; stroke-linecap:round; stroke-linejoin:round; stroke-width:4; stroke-opacity:1; fill:none\" points=\"1357.44,1252.41 1357.44,1282.21 1748.75,1282.21 1748.75,1252.41 1357.44,1252.41 \"/>\n",
       "<path clip-path=\"url(#clip862)\" d=\"M1846.57 1403.7 L1846.57 1417.45 L2237.89 1417.45 L2237.89 1403.7 L1846.57 1403.7 L1846.57 1403.7  Z\" fill=\"#9b7fe8\" fill-rule=\"evenodd\" fill-opacity=\"1\"/>\n",
       "<polyline clip-path=\"url(#clip862)\" style=\"stroke:#000000; stroke-linecap:round; stroke-linejoin:round; stroke-width:4; stroke-opacity:1; fill:none\" points=\"1846.57,1403.7 1846.57,1417.45 2237.89,1417.45 2237.89,1403.7 1846.57,1403.7 \"/>\n",
       "<circle clip-path=\"url(#clip862)\" style=\"fill:#9b7fe8; stroke:none; fill-opacity:0\" cx=\"574.813\" cy=\"1414.01\" r=\"2\"/>\n",
       "<circle clip-path=\"url(#clip862)\" style=\"fill:#9b7fe8; stroke:none; fill-opacity:0\" cx=\"1063.95\" cy=\"1158.42\" r=\"2\"/>\n",
       "<circle clip-path=\"url(#clip862)\" style=\"fill:#9b7fe8; stroke:none; fill-opacity:0\" cx=\"1553.09\" cy=\"1252.41\" r=\"2\"/>\n",
       "<circle clip-path=\"url(#clip862)\" style=\"fill:#9b7fe8; stroke:none; fill-opacity:0\" cx=\"2042.23\" cy=\"1403.7\" r=\"2\"/>\n",
       "<path clip-path=\"url(#clip862)\" d=\"M379.157 1423.18 L379.157 1423.18 L770.468 1423.18 L770.468 1423.18 L379.157 1423.18 L379.157 1423.18  Z\" fill=\"#608cf6\" fill-rule=\"evenodd\" fill-opacity=\"1\"/>\n",
       "<polyline clip-path=\"url(#clip862)\" style=\"stroke:#000000; stroke-linecap:round; stroke-linejoin:round; stroke-width:4; stroke-opacity:1; fill:none\" points=\"379.157,1423.18 379.157,1423.18 770.468,1423.18 379.157,1423.18 \"/>\n",
       "<path clip-path=\"url(#clip862)\" d=\"M868.296 1203.12 L868.296 1244.38 L1259.61 1244.38 L1259.61 1203.12 L868.296 1203.12 L868.296 1203.12  Z\" fill=\"#608cf6\" fill-rule=\"evenodd\" fill-opacity=\"1\"/>\n",
       "<polyline clip-path=\"url(#clip862)\" style=\"stroke:#000000; stroke-linecap:round; stroke-linejoin:round; stroke-width:4; stroke-opacity:1; fill:none\" points=\"868.296,1203.12 868.296,1244.38 1259.61,1244.38 1259.61,1203.12 868.296,1203.12 \"/>\n",
       "<path clip-path=\"url(#clip862)\" d=\"M1357.44 1282.21 L1357.44 1308.57 L1748.75 1308.57 L1748.75 1282.21 L1357.44 1282.21 L1357.44 1282.21  Z\" fill=\"#608cf6\" fill-rule=\"evenodd\" fill-opacity=\"1\"/>\n",
       "<polyline clip-path=\"url(#clip862)\" style=\"stroke:#000000; stroke-linecap:round; stroke-linejoin:round; stroke-width:4; stroke-opacity:1; fill:none\" points=\"1357.44,1282.21 1357.44,1308.57 1748.75,1308.57 1748.75,1282.21 1357.44,1282.21 \"/>\n",
       "<path clip-path=\"url(#clip862)\" d=\"M1846.57 1417.45 L1846.57 1423.18 L2237.89 1423.18 L2237.89 1417.45 L1846.57 1417.45 L1846.57 1417.45  Z\" fill=\"#608cf6\" fill-rule=\"evenodd\" fill-opacity=\"1\"/>\n",
       "<polyline clip-path=\"url(#clip862)\" style=\"stroke:#000000; stroke-linecap:round; stroke-linejoin:round; stroke-width:4; stroke-opacity:1; fill:none\" points=\"1846.57,1417.45 1846.57,1423.18 2237.89,1423.18 2237.89,1417.45 1846.57,1417.45 \"/>\n",
       "<circle clip-path=\"url(#clip862)\" style=\"fill:#608cf6; stroke:none; fill-opacity:0\" cx=\"574.813\" cy=\"1423.18\" r=\"2\"/>\n",
       "<circle clip-path=\"url(#clip862)\" style=\"fill:#608cf6; stroke:none; fill-opacity:0\" cx=\"1063.95\" cy=\"1203.12\" r=\"2\"/>\n",
       "<circle clip-path=\"url(#clip862)\" style=\"fill:#608cf6; stroke:none; fill-opacity:0\" cx=\"1553.09\" cy=\"1282.21\" r=\"2\"/>\n",
       "<circle clip-path=\"url(#clip862)\" style=\"fill:#608cf6; stroke:none; fill-opacity:0\" cx=\"2042.23\" cy=\"1417.45\" r=\"2\"/>\n",
       "<path clip-path=\"url(#clip862)\" d=\"M379.157 1423.18 L379.157 1423.18 L770.468 1423.18 L770.468 1423.18 L379.157 1423.18 L379.157 1423.18  Z\" fill=\"#f05f73\" fill-rule=\"evenodd\" fill-opacity=\"1\"/>\n",
       "<polyline clip-path=\"url(#clip862)\" style=\"stroke:#000000; stroke-linecap:round; stroke-linejoin:round; stroke-width:4; stroke-opacity:1; fill:none\" points=\"379.157,1423.18 379.157,1423.18 770.468,1423.18 379.157,1423.18 \"/>\n",
       "<path clip-path=\"url(#clip862)\" d=\"M868.296 1244.38 L868.296 1282.21 L1259.61 1282.21 L1259.61 1244.38 L868.296 1244.38 L868.296 1244.38  Z\" fill=\"#f05f73\" fill-rule=\"evenodd\" fill-opacity=\"1\"/>\n",
       "<polyline clip-path=\"url(#clip862)\" style=\"stroke:#000000; stroke-linecap:round; stroke-linejoin:round; stroke-width:4; stroke-opacity:1; fill:none\" points=\"868.296,1244.38 868.296,1282.21 1259.61,1282.21 1259.61,1244.38 868.296,1244.38 \"/>\n",
       "<path clip-path=\"url(#clip862)\" d=\"M1357.44 1308.57 L1357.44 1331.49 L1748.75 1331.49 L1748.75 1308.57 L1357.44 1308.57 L1357.44 1308.57  Z\" fill=\"#f05f73\" fill-rule=\"evenodd\" fill-opacity=\"1\"/>\n",
       "<polyline clip-path=\"url(#clip862)\" style=\"stroke:#000000; stroke-linecap:round; stroke-linejoin:round; stroke-width:4; stroke-opacity:1; fill:none\" points=\"1357.44,1308.57 1357.44,1331.49 1748.75,1331.49 1748.75,1308.57 1357.44,1308.57 \"/>\n",
       "<path clip-path=\"url(#clip862)\" d=\"M1846.57 1423.18 L1846.57 1423.18 L2237.89 1423.18 L2237.89 1423.18 L1846.57 1423.18 L1846.57 1423.18  Z\" fill=\"#f05f73\" fill-rule=\"evenodd\" fill-opacity=\"1\"/>\n",
       "<polyline clip-path=\"url(#clip862)\" style=\"stroke:#000000; stroke-linecap:round; stroke-linejoin:round; stroke-width:4; stroke-opacity:1; fill:none\" points=\"1846.57,1423.18 1846.57,1423.18 2237.89,1423.18 1846.57,1423.18 \"/>\n",
       "<circle clip-path=\"url(#clip862)\" style=\"fill:#f05f73; stroke:none; fill-opacity:0\" cx=\"574.813\" cy=\"1423.18\" r=\"2\"/>\n",
       "<circle clip-path=\"url(#clip862)\" style=\"fill:#f05f73; stroke:none; fill-opacity:0\" cx=\"1063.95\" cy=\"1244.38\" r=\"2\"/>\n",
       "<circle clip-path=\"url(#clip862)\" style=\"fill:#f05f73; stroke:none; fill-opacity:0\" cx=\"1553.09\" cy=\"1308.57\" r=\"2\"/>\n",
       "<circle clip-path=\"url(#clip862)\" style=\"fill:#f05f73; stroke:none; fill-opacity:0\" cx=\"2042.23\" cy=\"1423.18\" r=\"2\"/>\n",
       "<path clip-path=\"url(#clip862)\" d=\"M379.157 1423.18 L379.157 1423.18 L770.468 1423.18 L770.468 1423.18 L379.157 1423.18 L379.157 1423.18  Z\" fill=\"#dd64b5\" fill-rule=\"evenodd\" fill-opacity=\"1\"/>\n",
       "<polyline clip-path=\"url(#clip862)\" style=\"stroke:#000000; stroke-linecap:round; stroke-linejoin:round; stroke-width:4; stroke-opacity:1; fill:none\" points=\"379.157,1423.18 379.157,1423.18 770.468,1423.18 379.157,1423.18 \"/>\n",
       "<path clip-path=\"url(#clip862)\" d=\"M868.296 1282.21 L868.296 1321.17 L1259.61 1321.17 L1259.61 1282.21 L868.296 1282.21 L868.296 1282.21  Z\" fill=\"#dd64b5\" fill-rule=\"evenodd\" fill-opacity=\"1\"/>\n",
       "<polyline clip-path=\"url(#clip862)\" style=\"stroke:#000000; stroke-linecap:round; stroke-linejoin:round; stroke-width:4; stroke-opacity:1; fill:none\" points=\"868.296,1282.21 868.296,1321.17 1259.61,1321.17 1259.61,1282.21 868.296,1282.21 \"/>\n",
       "<path clip-path=\"url(#clip862)\" d=\"M1357.44 1331.49 L1357.44 1355.56 L1748.75 1355.56 L1748.75 1331.49 L1357.44 1331.49 L1357.44 1331.49  Z\" fill=\"#dd64b5\" fill-rule=\"evenodd\" fill-opacity=\"1\"/>\n",
       "<polyline clip-path=\"url(#clip862)\" style=\"stroke:#000000; stroke-linecap:round; stroke-linejoin:round; stroke-width:4; stroke-opacity:1; fill:none\" points=\"1357.44,1331.49 1357.44,1355.56 1748.75,1355.56 1748.75,1331.49 1357.44,1331.49 \"/>\n",
       "<path clip-path=\"url(#clip862)\" d=\"M1846.57 1423.18 L1846.57 1423.18 L2237.89 1423.18 L2237.89 1423.18 L1846.57 1423.18 L1846.57 1423.18  Z\" fill=\"#dd64b5\" fill-rule=\"evenodd\" fill-opacity=\"1\"/>\n",
       "<polyline clip-path=\"url(#clip862)\" style=\"stroke:#000000; stroke-linecap:round; stroke-linejoin:round; stroke-width:4; stroke-opacity:1; fill:none\" points=\"1846.57,1423.18 1846.57,1423.18 2237.89,1423.18 1846.57,1423.18 \"/>\n",
       "<circle clip-path=\"url(#clip862)\" style=\"fill:#dd64b5; stroke:none; fill-opacity:0\" cx=\"574.813\" cy=\"1423.18\" r=\"2\"/>\n",
       "<circle clip-path=\"url(#clip862)\" style=\"fill:#dd64b5; stroke:none; fill-opacity:0\" cx=\"1063.95\" cy=\"1282.21\" r=\"2\"/>\n",
       "<circle clip-path=\"url(#clip862)\" style=\"fill:#dd64b5; stroke:none; fill-opacity:0\" cx=\"1553.09\" cy=\"1331.49\" r=\"2\"/>\n",
       "<circle clip-path=\"url(#clip862)\" style=\"fill:#dd64b5; stroke:none; fill-opacity:0\" cx=\"2042.23\" cy=\"1423.18\" r=\"2\"/>\n",
       "<path clip-path=\"url(#clip862)\" d=\"M379.157 1423.18 L379.157 1423.18 L770.468 1423.18 L770.468 1423.18 L379.157 1423.18 L379.157 1423.18  Z\" fill=\"#6b9e32\" fill-rule=\"evenodd\" fill-opacity=\"1\"/>\n",
       "<polyline clip-path=\"url(#clip862)\" style=\"stroke:#000000; stroke-linecap:round; stroke-linejoin:round; stroke-width:4; stroke-opacity:1; fill:none\" points=\"379.157,1423.18 379.157,1423.18 770.468,1423.18 379.157,1423.18 \"/>\n",
       "<path clip-path=\"url(#clip862)\" d=\"M868.296 1321.17 L868.296 1356.7 L1259.61 1356.7 L1259.61 1321.17 L868.296 1321.17 L868.296 1321.17  Z\" fill=\"#6b9e32\" fill-rule=\"evenodd\" fill-opacity=\"1\"/>\n",
       "<polyline clip-path=\"url(#clip862)\" style=\"stroke:#000000; stroke-linecap:round; stroke-linejoin:round; stroke-width:4; stroke-opacity:1; fill:none\" points=\"868.296,1321.17 868.296,1356.7 1259.61,1356.7 1259.61,1321.17 868.296,1321.17 \"/>\n",
       "<path clip-path=\"url(#clip862)\" d=\"M1357.44 1355.56 L1357.44 1380.77 L1748.75 1380.77 L1748.75 1355.56 L1357.44 1355.56 L1357.44 1355.56  Z\" fill=\"#6b9e32\" fill-rule=\"evenodd\" fill-opacity=\"1\"/>\n",
       "<polyline clip-path=\"url(#clip862)\" style=\"stroke:#000000; stroke-linecap:round; stroke-linejoin:round; stroke-width:4; stroke-opacity:1; fill:none\" points=\"1357.44,1355.56 1357.44,1380.77 1748.75,1380.77 1748.75,1355.56 1357.44,1355.56 \"/>\n",
       "<path clip-path=\"url(#clip862)\" d=\"M1846.57 1423.18 L1846.57 1423.18 L2237.89 1423.18 L2237.89 1423.18 L1846.57 1423.18 L1846.57 1423.18  Z\" fill=\"#6b9e32\" fill-rule=\"evenodd\" fill-opacity=\"1\"/>\n",
       "<polyline clip-path=\"url(#clip862)\" style=\"stroke:#000000; stroke-linecap:round; stroke-linejoin:round; stroke-width:4; stroke-opacity:1; fill:none\" points=\"1846.57,1423.18 1846.57,1423.18 2237.89,1423.18 1846.57,1423.18 \"/>\n",
       "<circle clip-path=\"url(#clip862)\" style=\"fill:#6b9e32; stroke:none; fill-opacity:0\" cx=\"574.813\" cy=\"1423.18\" r=\"2\"/>\n",
       "<circle clip-path=\"url(#clip862)\" style=\"fill:#6b9e32; stroke:none; fill-opacity:0\" cx=\"1063.95\" cy=\"1321.17\" r=\"2\"/>\n",
       "<circle clip-path=\"url(#clip862)\" style=\"fill:#6b9e32; stroke:none; fill-opacity:0\" cx=\"1553.09\" cy=\"1355.56\" r=\"2\"/>\n",
       "<circle clip-path=\"url(#clip862)\" style=\"fill:#6b9e32; stroke:none; fill-opacity:0\" cx=\"2042.23\" cy=\"1423.18\" r=\"2\"/>\n",
       "<path clip-path=\"url(#clip862)\" d=\"M379.157 1423.18 L379.157 1423.18 L770.468 1423.18 L770.468 1423.18 L379.157 1423.18 L379.157 1423.18  Z\" fill=\"#009af9\" fill-rule=\"evenodd\" fill-opacity=\"1\"/>\n",
       "<polyline clip-path=\"url(#clip862)\" style=\"stroke:#000000; stroke-linecap:round; stroke-linejoin:round; stroke-width:4; stroke-opacity:1; fill:none\" points=\"379.157,1423.18 379.157,1423.18 770.468,1423.18 379.157,1423.18 \"/>\n",
       "<path clip-path=\"url(#clip862)\" d=\"M868.296 1356.7 L868.296 1384.21 L1259.61 1384.21 L1259.61 1356.7 L868.296 1356.7 L868.296 1356.7  Z\" fill=\"#009af9\" fill-rule=\"evenodd\" fill-opacity=\"1\"/>\n",
       "<polyline clip-path=\"url(#clip862)\" style=\"stroke:#000000; stroke-linecap:round; stroke-linejoin:round; stroke-width:4; stroke-opacity:1; fill:none\" points=\"868.296,1356.7 868.296,1384.21 1259.61,1384.21 1259.61,1356.7 868.296,1356.7 \"/>\n",
       "<path clip-path=\"url(#clip862)\" d=\"M1357.44 1380.77 L1357.44 1397.97 L1748.75 1397.97 L1748.75 1380.77 L1357.44 1380.77 L1357.44 1380.77  Z\" fill=\"#009af9\" fill-rule=\"evenodd\" fill-opacity=\"1\"/>\n",
       "<polyline clip-path=\"url(#clip862)\" style=\"stroke:#000000; stroke-linecap:round; stroke-linejoin:round; stroke-width:4; stroke-opacity:1; fill:none\" points=\"1357.44,1380.77 1357.44,1397.97 1748.75,1397.97 1748.75,1380.77 1357.44,1380.77 \"/>\n",
       "<path clip-path=\"url(#clip862)\" d=\"M1846.57 1423.18 L1846.57 1423.18 L2237.89 1423.18 L2237.89 1423.18 L1846.57 1423.18 L1846.57 1423.18  Z\" fill=\"#009af9\" fill-rule=\"evenodd\" fill-opacity=\"1\"/>\n",
       "<polyline clip-path=\"url(#clip862)\" style=\"stroke:#000000; stroke-linecap:round; stroke-linejoin:round; stroke-width:4; stroke-opacity:1; fill:none\" points=\"1846.57,1423.18 1846.57,1423.18 2237.89,1423.18 1846.57,1423.18 \"/>\n",
       "<circle clip-path=\"url(#clip862)\" style=\"fill:#009af9; stroke:none; fill-opacity:0\" cx=\"574.813\" cy=\"1423.18\" r=\"2\"/>\n",
       "<circle clip-path=\"url(#clip862)\" style=\"fill:#009af9; stroke:none; fill-opacity:0\" cx=\"1063.95\" cy=\"1356.7\" r=\"2\"/>\n",
       "<circle clip-path=\"url(#clip862)\" style=\"fill:#009af9; stroke:none; fill-opacity:0\" cx=\"1553.09\" cy=\"1380.77\" r=\"2\"/>\n",
       "<circle clip-path=\"url(#clip862)\" style=\"fill:#009af9; stroke:none; fill-opacity:0\" cx=\"2042.23\" cy=\"1423.18\" r=\"2\"/>\n",
       "<path clip-path=\"url(#clip862)\" d=\"M379.157 1423.18 L379.157 1423.18 L770.468 1423.18 L770.468 1423.18 L379.157 1423.18 L379.157 1423.18  Z\" fill=\"#e26f46\" fill-rule=\"evenodd\" fill-opacity=\"1\"/>\n",
       "<polyline clip-path=\"url(#clip862)\" style=\"stroke:#000000; stroke-linecap:round; stroke-linejoin:round; stroke-width:4; stroke-opacity:1; fill:none\" points=\"379.157,1423.18 379.157,1423.18 770.468,1423.18 379.157,1423.18 \"/>\n",
       "<path clip-path=\"url(#clip862)\" d=\"M868.296 1384.21 L868.296 1394.53 L1259.61 1394.53 L1259.61 1384.21 L868.296 1384.21 L868.296 1384.21  Z\" fill=\"#e26f46\" fill-rule=\"evenodd\" fill-opacity=\"1\"/>\n",
       "<polyline clip-path=\"url(#clip862)\" style=\"stroke:#000000; stroke-linecap:round; stroke-linejoin:round; stroke-width:4; stroke-opacity:1; fill:none\" points=\"868.296,1384.21 868.296,1394.53 1259.61,1394.53 1259.61,1384.21 868.296,1384.21 \"/>\n",
       "<path clip-path=\"url(#clip862)\" d=\"M1357.44 1397.97 L1357.44 1416.3 L1748.75 1416.3 L1748.75 1397.97 L1357.44 1397.97 L1357.44 1397.97  Z\" fill=\"#e26f46\" fill-rule=\"evenodd\" fill-opacity=\"1\"/>\n",
       "<polyline clip-path=\"url(#clip862)\" style=\"stroke:#000000; stroke-linecap:round; stroke-linejoin:round; stroke-width:4; stroke-opacity:1; fill:none\" points=\"1357.44,1397.97 1357.44,1416.3 1748.75,1416.3 1748.75,1397.97 1357.44,1397.97 \"/>\n",
       "<path clip-path=\"url(#clip862)\" d=\"M1846.57 1423.18 L1846.57 1423.18 L2237.89 1423.18 L2237.89 1423.18 L1846.57 1423.18 L1846.57 1423.18  Z\" fill=\"#e26f46\" fill-rule=\"evenodd\" fill-opacity=\"1\"/>\n",
       "<polyline clip-path=\"url(#clip862)\" style=\"stroke:#000000; stroke-linecap:round; stroke-linejoin:round; stroke-width:4; stroke-opacity:1; fill:none\" points=\"1846.57,1423.18 1846.57,1423.18 2237.89,1423.18 1846.57,1423.18 \"/>\n",
       "<circle clip-path=\"url(#clip862)\" style=\"fill:#e26f46; stroke:none; fill-opacity:0\" cx=\"574.813\" cy=\"1423.18\" r=\"2\"/>\n",
       "<circle clip-path=\"url(#clip862)\" style=\"fill:#e26f46; stroke:none; fill-opacity:0\" cx=\"1063.95\" cy=\"1384.21\" r=\"2\"/>\n",
       "<circle clip-path=\"url(#clip862)\" style=\"fill:#e26f46; stroke:none; fill-opacity:0\" cx=\"1553.09\" cy=\"1397.97\" r=\"2\"/>\n",
       "<circle clip-path=\"url(#clip862)\" style=\"fill:#e26f46; stroke:none; fill-opacity:0\" cx=\"2042.23\" cy=\"1423.18\" r=\"2\"/>\n",
       "<path clip-path=\"url(#clip862)\" d=\"M379.157 1423.18 L379.157 1423.18 L770.468 1423.18 L770.468 1423.18 L379.157 1423.18 L379.157 1423.18  Z\" fill=\"#3da44d\" fill-rule=\"evenodd\" fill-opacity=\"1\"/>\n",
       "<polyline clip-path=\"url(#clip862)\" style=\"stroke:#000000; stroke-linecap:round; stroke-linejoin:round; stroke-width:4; stroke-opacity:1; fill:none\" points=\"379.157,1423.18 379.157,1423.18 770.468,1423.18 379.157,1423.18 \"/>\n",
       "<path clip-path=\"url(#clip862)\" d=\"M868.296 1394.53 L868.296 1410.57 L1259.61 1410.57 L1259.61 1394.53 L868.296 1394.53 L868.296 1394.53  Z\" fill=\"#3da44d\" fill-rule=\"evenodd\" fill-opacity=\"1\"/>\n",
       "<polyline clip-path=\"url(#clip862)\" style=\"stroke:#000000; stroke-linecap:round; stroke-linejoin:round; stroke-width:4; stroke-opacity:1; fill:none\" points=\"868.296,1394.53 868.296,1410.57 1259.61,1410.57 1259.61,1394.53 868.296,1394.53 \"/>\n",
       "<path clip-path=\"url(#clip862)\" d=\"M1357.44 1416.3 L1357.44 1423.18 L1748.75 1423.18 L1748.75 1416.3 L1357.44 1416.3 L1357.44 1416.3  Z\" fill=\"#3da44d\" fill-rule=\"evenodd\" fill-opacity=\"1\"/>\n",
       "<polyline clip-path=\"url(#clip862)\" style=\"stroke:#000000; stroke-linecap:round; stroke-linejoin:round; stroke-width:4; stroke-opacity:1; fill:none\" points=\"1357.44,1416.3 1357.44,1423.18 1748.75,1423.18 1748.75,1416.3 1357.44,1416.3 \"/>\n",
       "<path clip-path=\"url(#clip862)\" d=\"M1846.57 1423.18 L1846.57 1423.18 L2237.89 1423.18 L2237.89 1423.18 L1846.57 1423.18 L1846.57 1423.18  Z\" fill=\"#3da44d\" fill-rule=\"evenodd\" fill-opacity=\"1\"/>\n",
       "<polyline clip-path=\"url(#clip862)\" style=\"stroke:#000000; stroke-linecap:round; stroke-linejoin:round; stroke-width:4; stroke-opacity:1; fill:none\" points=\"1846.57,1423.18 1846.57,1423.18 2237.89,1423.18 1846.57,1423.18 \"/>\n",
       "<circle clip-path=\"url(#clip862)\" style=\"fill:#3da44d; stroke:none; fill-opacity:0\" cx=\"574.813\" cy=\"1423.18\" r=\"2\"/>\n",
       "<circle clip-path=\"url(#clip862)\" style=\"fill:#3da44d; stroke:none; fill-opacity:0\" cx=\"1063.95\" cy=\"1394.53\" r=\"2\"/>\n",
       "<circle clip-path=\"url(#clip862)\" style=\"fill:#3da44d; stroke:none; fill-opacity:0\" cx=\"1553.09\" cy=\"1416.3\" r=\"2\"/>\n",
       "<circle clip-path=\"url(#clip862)\" style=\"fill:#3da44d; stroke:none; fill-opacity:0\" cx=\"2042.23\" cy=\"1423.18\" r=\"2\"/>\n",
       "<path clip-path=\"url(#clip862)\" d=\"M379.157 1423.18 L379.157 1423.18 L770.468 1423.18 L770.468 1423.18 L379.157 1423.18 L379.157 1423.18  Z\" fill=\"#c271d2\" fill-rule=\"evenodd\" fill-opacity=\"1\"/>\n",
       "<polyline clip-path=\"url(#clip862)\" style=\"stroke:#000000; stroke-linecap:round; stroke-linejoin:round; stroke-width:4; stroke-opacity:1; fill:none\" points=\"379.157,1423.18 379.157,1423.18 770.468,1423.18 379.157,1423.18 \"/>\n",
       "<path clip-path=\"url(#clip862)\" d=\"M868.296 1410.57 L868.296 1423.18 L1259.61 1423.18 L1259.61 1410.57 L868.296 1410.57 L868.296 1410.57  Z\" fill=\"#c271d2\" fill-rule=\"evenodd\" fill-opacity=\"1\"/>\n",
       "<polyline clip-path=\"url(#clip862)\" style=\"stroke:#000000; stroke-linecap:round; stroke-linejoin:round; stroke-width:4; stroke-opacity:1; fill:none\" points=\"868.296,1410.57 868.296,1423.18 1259.61,1423.18 1259.61,1410.57 868.296,1410.57 \"/>\n",
       "<path clip-path=\"url(#clip862)\" d=\"M1357.44 1423.18 L1357.44 1423.18 L1748.75 1423.18 L1748.75 1423.18 L1357.44 1423.18 L1357.44 1423.18  Z\" fill=\"#c271d2\" fill-rule=\"evenodd\" fill-opacity=\"1\"/>\n",
       "<polyline clip-path=\"url(#clip862)\" style=\"stroke:#000000; stroke-linecap:round; stroke-linejoin:round; stroke-width:4; stroke-opacity:1; fill:none\" points=\"1357.44,1423.18 1357.44,1423.18 1748.75,1423.18 1357.44,1423.18 \"/>\n",
       "<path clip-path=\"url(#clip862)\" d=\"M1846.57 1423.18 L1846.57 1423.18 L2237.89 1423.18 L2237.89 1423.18 L1846.57 1423.18 L1846.57 1423.18  Z\" fill=\"#c271d2\" fill-rule=\"evenodd\" fill-opacity=\"1\"/>\n",
       "<polyline clip-path=\"url(#clip862)\" style=\"stroke:#000000; stroke-linecap:round; stroke-linejoin:round; stroke-width:4; stroke-opacity:1; fill:none\" points=\"1846.57,1423.18 1846.57,1423.18 2237.89,1423.18 1846.57,1423.18 \"/>\n",
       "<circle clip-path=\"url(#clip862)\" style=\"fill:#c271d2; stroke:none; fill-opacity:0\" cx=\"574.813\" cy=\"1423.18\" r=\"2\"/>\n",
       "<circle clip-path=\"url(#clip862)\" style=\"fill:#c271d2; stroke:none; fill-opacity:0\" cx=\"1063.95\" cy=\"1410.57\" r=\"2\"/>\n",
       "<circle clip-path=\"url(#clip862)\" style=\"fill:#c271d2; stroke:none; fill-opacity:0\" cx=\"1553.09\" cy=\"1423.18\" r=\"2\"/>\n",
       "<circle clip-path=\"url(#clip862)\" style=\"fill:#c271d2; stroke:none; fill-opacity:0\" cx=\"2042.23\" cy=\"1423.18\" r=\"2\"/>\n",
       "</svg>\n"
      ]
     },
     "metadata": {},
     "output_type": "display_data"
    }
   ],
   "source": [
    "xs = 1:2^7\n",
    "f(x) = sum(abs2, rand() for _ in 1:(2^14*x)) # computational cost is increasing as a function of x (non-uniform)\n",
    "\n",
    "result, tracker = tmap_tracking(f, xs; ntasks=length(xs))   # create a task for each element of `a`\n",
    "# result, tracker = tmap_tracking(f, xs; ntasks=8*nthreads()) # create 8*nthreads() tasks, each handling a chunk of `a`\n",
    "# result, tracker = tmap_tracking(f, xs; ntasks=4*nthreads()) # create 4*nthreads() tasks, each handling a chunk of `a`\n",
    "# result, tracker = tmap_tracking(f, xs; ntasks=2*nthreads()) # create 2*nthreads() tasks, each handling a chunk of `a`\n",
    "# result, tracker = tmap_tracking(f, xs; ntasks=1)            # create a single task, handling all of `a`\n",
    "# result, tracker = tmap_tracking(f, xs; ntasks=nthreads())   # create nthreads() tasks, each handling a chunk of `a`\n",
    "\n",
    "# plotting\n",
    "thread_workloads = zeros(Int, nthreads(), maximum(length, tracker))\n",
    "for th in eachindex(tracker)\n",
    "    for (i, ws) in enumerate(tracker[th])\n",
    "        thread_workloads[th, i] = sum(ws)\n",
    "    end\n",
    "end\n",
    "b = groupedbar(thread_workloads, xlab=\"threadid\", ylab=\"workload\", title=\"@spawn\", legend=false, bar_position=:stack)\n",
    "display(b)"
   ]
  },
  {
   "cell_type": "markdown",
   "metadata": {},
   "source": [
    "Note: Since `@threads` divides the iteration range into `nthreads()` chunks there is no load balancing: Each thread gets a single task and that's it."
   ]
  },
  {
   "cell_type": "markdown",
   "metadata": {
    "tags": []
   },
   "source": [
    "### Nestable multithreading"
   ]
  },
  {
   "cell_type": "markdown",
   "metadata": {},
   "source": [
    "#### Example: Recursive Fibonacci series"
   ]
  },
  {
   "cell_type": "markdown",
   "metadata": {},
   "source": [
    "$$ F(n) = F(n-1) + F(n-2), \\qquad F(1) = F(2) = 1$$"
   ]
  },
  {
   "cell_type": "markdown",
   "metadata": {},
   "source": [
    "We can nest `@spawn` calls freely!"
   ]
  },
  {
   "cell_type": "code",
   "execution_count": 189,
   "metadata": {
    "tags": []
   },
   "outputs": [
    {
     "data": {
      "text/plain": [
       "fib (generic function with 1 method)"
      ]
     },
     "execution_count": 189,
     "metadata": {},
     "output_type": "execute_result"
    }
   ],
   "source": [
    "function fib(n)\n",
    "    n < 2 && return n\n",
    "    t = @spawn fib(n-2)\n",
    "    return fib(n-1) + fetch(t)\n",
    "end"
   ]
  },
  {
   "cell_type": "code",
   "execution_count": 190,
   "metadata": {
    "tags": []
   },
   "outputs": [
    {
     "data": {
      "text/plain": [
       "6765"
      ]
     },
     "execution_count": 190,
     "metadata": {},
     "output_type": "execute_result"
    }
   ],
   "source": [
    "fib(20)"
   ]
  },
  {
   "cell_type": "markdown",
   "metadata": {},
   "source": [
    "(Note: Algorithmically, this is a highly inefficient implementation of the Fibonacci series, of course!)"
   ]
  },
  {
   "cell_type": "markdown",
   "metadata": {
    "tags": []
   },
   "source": [
    "## Opting out of dynamic scheduling"
   ]
  },
  {
   "cell_type": "markdown",
   "metadata": {
    "tags": []
   },
   "source": [
    "For \"traditional HPC\", where you tell each thread what to do, you might want to opt out of dynamic scheduling and task migration. \n",
    "\n",
    "**Advantages:**\n",
    "\n",
    "* guaranteed task-thread mapping (\"task pinning\")\n",
    "* lower overhead\n",
    "\n",
    "**Disadvantages:**\n",
    "\n",
    "* often less portable code (e.g. hardcoded assumptions about the system)\n",
    "* no (or at least bad) nestability"
   ]
  },
  {
   "cell_type": "markdown",
   "metadata": {},
   "source": [
    "### `@spawnat`"
   ]
  },
  {
   "cell_type": "markdown",
   "metadata": {},
   "source": [
    "Julia doesn't have a built-in macro for spawning **sticky** tasks on specific threads but many packages, including [ThreadPinning.jl](https://github.com/carstenbauer/ThreadPinning.jl) and [OhMyThreads.jl](https://github.com/JuliaFolds2/OhMyThreads.jl), provide `@spawnat`."
   ]
  },
  {
   "cell_type": "code",
   "execution_count": 191,
   "metadata": {
    "tags": []
   },
   "outputs": [],
   "source": [
    "using ThreadPinning: @spawnat"
   ]
  },
  {
   "cell_type": "code",
   "execution_count": 252,
   "metadata": {
    "tags": []
   },
   "outputs": [
    {
     "name": "stdout",
     "output_type": "stream",
     "text": [
      "Task 9147756047189145984 is running on thread 4, and always will be 😉\n"
     ]
    }
   ],
   "source": [
    "@spawnat 4 println(\"Task \", taskid(), \" is running on thread \", threadid(), \", and always will be 😉\");"
   ]
  },
  {
   "cell_type": "markdown",
   "metadata": {
    "tags": []
   },
   "source": [
    "### `@threads :static`"
   ]
  },
  {
   "cell_type": "markdown",
   "metadata": {},
   "source": [
    "For `@threads` there is the `:static` scheduling option to opt-out of Julia's dynamic scheduling.\n",
    "\n",
    "* **statically** maps tasks/chunks to threads, specifically: task 1 → thread 1, task 2 → thread 2, and so on."
   ]
  },
  {
   "cell_type": "code",
   "execution_count": null,
   "metadata": {
    "tags": []
   },
   "outputs": [],
   "source": [
    "@threads :dynamic for i in 1:2*nthreads() # :dynamic is the default\n",
    "    println(\"Task \", taskid(), \" is running iteration \", i, \" on thread \", threadid());\n",
    "end"
   ]
  },
  {
   "cell_type": "code",
   "execution_count": null,
   "metadata": {
    "tags": []
   },
   "outputs": [],
   "source": [
    "@threads :static for i in 1:2*nthreads()\n",
    "    println(\"Task \", taskid(), \" is running iteration \", i, \" on thread \", threadid());\n",
    "end"
   ]
  },
  {
   "cell_type": "markdown",
   "metadata": {},
   "source": [
    "For `@threads :static`, every thread handles precisely two iterations!"
   ]
  },
  {
   "cell_type": "markdown",
   "metadata": {
    "tags": []
   },
   "source": [
    "## Beware of Multithreading: Parallel Summation"
   ]
  },
  {
   "cell_type": "code",
   "execution_count": 239,
   "metadata": {
    "tags": []
   },
   "outputs": [
    {
     "data": {
      "text/plain": [
       "1.9996162856536657e6"
      ]
     },
     "execution_count": 239,
     "metadata": {},
     "output_type": "execute_result"
    }
   ],
   "source": [
    "data = rand(1_000_000 * Threads.nthreads());\n",
    "\n",
    "sum(data) # we want to parallelize this"
   ]
  },
  {
   "cell_type": "markdown",
   "metadata": {},
   "source": [
    "### How you should parallelize it"
   ]
  },
  {
   "cell_type": "markdown",
   "metadata": {},
   "source": [
    "The honest answer is: Simply use a package like, e.g., [OhMyThreads.jl](https://github.com/JuliaFolds2/OhMyThreads.jl). There is no need to roll your own parallel summation (or your own `tmap` 😉)."
   ]
  },
  {
   "cell_type": "code",
   "execution_count": 234,
   "metadata": {},
   "outputs": [
    {
     "data": {
      "text/plain": [
       "1.9997520081494134e6"
      ]
     },
     "execution_count": 234,
     "metadata": {},
     "output_type": "execute_result"
    }
   ],
   "source": [
    "using OhMyThreads: treduce\n",
    "\n",
    "treduce(+, data)"
   ]
  },
  {
   "cell_type": "code",
   "execution_count": 236,
   "metadata": {},
   "outputs": [
    {
     "data": {
      "text/plain": [
       "true"
      ]
     },
     "execution_count": 236,
     "metadata": {},
     "output_type": "execute_result"
    }
   ],
   "source": [
    "treduce(+, data) ≈ sum(data)"
   ]
  },
  {
   "cell_type": "code",
   "execution_count": 238,
   "metadata": {},
   "outputs": [
    {
     "name": "stdout",
     "output_type": "stream",
     "text": [
      "  729.292 μs (0 allocations: 0 bytes)\n",
      "  540.041 μs (94 allocations: 7.47 KiB)\n"
     ]
    }
   ],
   "source": [
    "@btime sum($data);\n",
    "@btime treduce($+, $data);"
   ]
  },
  {
   "cell_type": "markdown",
   "metadata": {},
   "source": [
    "But let's assume we want to write a parallel version ourselves."
   ]
  },
  {
   "cell_type": "markdown",
   "metadata": {},
   "source": [
    "### Task-focused parallel version"
   ]
  },
  {
   "cell_type": "markdown",
   "metadata": {},
   "source": [
    "Key questions for task-based parallelisation:\n",
    "* How to divide the computation into seperate **tasks**?\n",
    "    * Answer: chunk up the data and perform partial sums.\n",
    "* How many **tasks** should we create?\n",
    "    * Answer: since the workload is uniform, `nthreads()` many tasks is a reasonable choice."
   ]
  },
  {
   "cell_type": "code",
   "execution_count": 250,
   "metadata": {},
   "outputs": [
    {
     "data": {
      "text/plain": [
       "sum_loop_spawn (generic function with 1 method)"
      ]
     },
     "execution_count": 250,
     "metadata": {},
     "output_type": "execute_result"
    }
   ],
   "source": [
    "function sum_loop_spawn(data; ntasks=nthreads())\n",
    "    ts = Vector{Task}(undef, ntasks)\n",
    "    for (c, idcs) in enumerate(chunks(data; n=ntasks))\n",
    "        ts[c] = @spawn @views sum(data[idcs])\n",
    "    end\n",
    "    return sum(fetch.(ts))\n",
    "end"
   ]
  },
  {
   "cell_type": "markdown",
   "metadata": {},
   "source": [
    "or a bit nicer"
   ]
  },
  {
   "cell_type": "code",
   "execution_count": 245,
   "metadata": {
    "tags": []
   },
   "outputs": [
    {
     "data": {
      "text/plain": [
       "sum_map_spawn (generic function with 1 method)"
      ]
     },
     "execution_count": 245,
     "metadata": {},
     "output_type": "execute_result"
    }
   ],
   "source": [
    "function sum_map_spawn(data; ntasks=nthreads())\n",
    "    ts = map(chunks(data, n=ntasks)) do idcs\n",
    "        @spawn @views sum(data[idcs])\n",
    "    end\n",
    "    return sum(fetch.(ts))\n",
    "end"
   ]
  },
  {
   "cell_type": "markdown",
   "metadata": {},
   "source": [
    "* Conceptually simple and task-focused\n",
    "  * → We're **explicitly** spawning one task per chunk.\n",
    "  * → No mention of threads, except in `ntasks=nthreads()`.\n",
    "* In the latter form, we don't even need a manual pre-allocation (it is hidden in the map operation)."
   ]
  },
  {
   "cell_type": "code",
   "execution_count": 246,
   "metadata": {
    "tags": []
   },
   "outputs": [
    {
     "data": {
      "text/plain": [
       "true"
      ]
     },
     "execution_count": 246,
     "metadata": {},
     "output_type": "execute_result"
    }
   ],
   "source": [
    "sum_map_spawn(data) ≈ sum(data)"
   ]
  },
  {
   "cell_type": "code",
   "execution_count": 249,
   "metadata": {
    "tags": []
   },
   "outputs": [
    {
     "name": "stdout",
     "output_type": "stream",
     "text": [
      "  530.584 μs (34 allocations: 2.52 KiB)\n",
      "  524.375 μs (34 allocations: 2.52 KiB)\n"
     ]
    }
   ],
   "source": [
    "@btime sum_loop_spawn($data);\n",
    "@btime sum_map_spawn($data);"
   ]
  },
  {
   "cell_type": "markdown",
   "metadata": {},
   "source": [
    "### Mistake 1: Race condition"
   ]
  },
  {
   "cell_type": "code",
   "execution_count": 201,
   "metadata": {
    "tags": []
   },
   "outputs": [
    {
     "data": {
      "text/plain": [
       "sum_threads_naive (generic function with 1 method)"
      ]
     },
     "execution_count": 201,
     "metadata": {},
     "output_type": "execute_result"
    }
   ],
   "source": [
    "function sum_threads_naive(data)\n",
    "    s = zero(eltype(data))\n",
    "    @threads for x in eachindex(data)\n",
    "        s += x\n",
    "    end\n",
    "    return s\n",
    "end"
   ]
  },
  {
   "cell_type": "code",
   "execution_count": 202,
   "metadata": {
    "tags": []
   },
   "outputs": [
    {
     "name": "stdout",
     "output_type": "stream",
     "text": [
      "sum(data) = 1.9997520081494136e6\n",
      "sum_threads_naive(data) = 3.501129653181e12\n",
      "sum_threads_naive(data) = 3.50080858181e12\n"
     ]
    }
   ],
   "source": [
    "@show sum(data);\n",
    "@show sum_threads_naive(data);\n",
    "@show sum_threads_naive(data);"
   ]
  },
  {
   "cell_type": "markdown",
   "metadata": {},
   "source": [
    "**Wrong** result! Even worse, it's **non-deterministic** and different every time!"
   ]
  },
  {
   "cell_type": "markdown",
   "metadata": {},
   "source": [
    "There is a [race condition](https://en.wikipedia.org/wiki/Race_condition) which typically appear when multiple tasks are modifying shared state simultaneously.\n",
    "\n",
    "→ If possible, **don't modify shared (i.e. non task-local) state!**"
   ]
  },
  {
   "cell_type": "markdown",
   "metadata": {},
   "source": [
    "### Mistake 2: Thread-focused rather than task-focused"
   ]
  },
  {
   "cell_type": "markdown",
   "metadata": {},
   "source": [
    "You might be inclined to write something similar to the following (intentionally written in a slightly more verbose form):"
   ]
  },
  {
   "cell_type": "code",
   "execution_count": 203,
   "metadata": {
    "tags": []
   },
   "outputs": [
    {
     "data": {
      "text/plain": [
       "sum_threads_unsafe (generic function with 1 method)"
      ]
     },
     "execution_count": 203,
     "metadata": {},
     "output_type": "execute_result"
    }
   ],
   "source": [
    "function sum_threads_unsafe(data)\n",
    "    psums = zeros(eltype(data), nthreads())\n",
    "    @threads for i in eachindex(data)\n",
    "        current_sum = psums[threadid()] # read\n",
    "        new_sum = current_sum + data[i] # \"work\"\n",
    "        psums[threadid()] = new_sum     # write\n",
    "    end\n",
    "    return sum(psums)\n",
    "end"
   ]
  },
  {
   "cell_type": "markdown",
   "metadata": {},
   "source": [
    "Such an approach is generally **unsafe** because Julia's scheduler may **migrate tasks between threads**!\n",
    "  * For example, a task might start on thread 1, is then paused (say, after \"work\") and migrated to thread 3, where it finishes execution.\n",
    "  * → The output of `threadid()` might change within a task! To be safe, [don't use `threadid()`](https://julialang.org/blog/2023/07/PSA-dont-use-threadid/) at all!\n",
    "  \n",
    "It also goes against the idea of task-based multithreading, as we're **thinking about threads rather than tasks**."
   ]
  },
  {
   "cell_type": "markdown",
   "metadata": {},
   "source": [
    "(Note that, in spite of the comments above, the `threadid()` pattern will often still work correctly. This is because as of Julia 1.10 task migrations are very rare. **You can't rely on it though!**)"
   ]
  },
  {
   "cell_type": "markdown",
   "metadata": {},
   "source": [
    "### (Performance) Mistake 3: False sharing"
   ]
  },
  {
   "cell_type": "code",
   "execution_count": 206,
   "metadata": {
    "tags": []
   },
   "outputs": [
    {
     "data": {
      "text/plain": [
       "sum_threads_chunks (generic function with 1 method)"
      ]
     },
     "execution_count": 206,
     "metadata": {},
     "output_type": "execute_result"
    }
   ],
   "source": [
    "function sum_threads_chunks(data; nchunks=nthreads())\n",
    "    psums = zeros(eltype(data), nchunks)\n",
    "    @threads for (c, idcs) in enumerate(chunks(data; n=nchunks))\n",
    "        for i in idcs\n",
    "            psums[c] += data[i]\n",
    "        end\n",
    "    end\n",
    "    return sum(psums)\n",
    "end"
   ]
  },
  {
   "cell_type": "code",
   "execution_count": 207,
   "metadata": {
    "tags": []
   },
   "outputs": [
    {
     "data": {
      "text/plain": [
       "true"
      ]
     },
     "execution_count": 207,
     "metadata": {},
     "output_type": "execute_result"
    }
   ],
   "source": [
    "sum_threads_chunks(data) ≈ sum(data)"
   ]
  },
  {
   "cell_type": "code",
   "execution_count": 208,
   "metadata": {
    "tags": []
   },
   "outputs": [
    {
     "name": "stdout",
     "output_type": "stream",
     "text": [
      "  729.750 μs (0 allocations: 0 bytes)\n",
      "  3.727 ms (22 allocations: 2.30 KiB)\n"
     ]
    }
   ],
   "source": [
    "@btime sum($data);\n",
    "@btime sum_threads_chunks($data);"
   ]
  },
  {
   "cell_type": "markdown",
   "metadata": {},
   "source": [
    "Safe, but (horribly) slow?! Why?\n",
    "\n",
    "* **False sharing** of `psums`\n",
    "* Also, but less important here: manual loop doesn't SIMD (need to add manual `@simd` + `@inbounds`)"
   ]
  },
  {
   "cell_type": "markdown",
   "metadata": {},
   "source": [
    "##### Performance issue: [False sharing](https://en.wikipedia.org/wiki/False_sharing)\n",
    "\n",
    "Why does `sum_threads_chunks` above have bad performance? Although argubaly subtle, this is because different tasks mutate shared data (`psums`) in parallel. There is no *logical* sharing: Tasks access different slots of `psums` and there is no data race. However, CPU cores work on the basis of **cache lines** instead of single elements leading to *implicit* sharing of cache lines.\n",
    "\n",
    "**Despite its subtlety, false sharing can lead to dramatic slowdown!**"
   ]
  },
  {
   "cell_type": "code",
   "execution_count": 209,
   "metadata": {
    "tags": []
   },
   "outputs": [],
   "source": [
    "using CpuId"
   ]
  },
  {
   "cell_type": "code",
   "execution_count": 210,
   "metadata": {
    "tags": []
   },
   "outputs": [
    {
     "data": {
      "text/plain": [
       "0"
      ]
     },
     "execution_count": 210,
     "metadata": {},
     "output_type": "execute_result"
    }
   ],
   "source": [
    "cachelinesize() ÷ sizeof(Float64)"
   ]
  },
  {
   "cell_type": "markdown",
   "metadata": {},
   "source": [
    "<img src=\"imgs/false_sharing.svg\" width=850px>\n",
    "\n",
    "Different tasks modify the same cache line\n",
    "* need for synchronization to ensure cache coherency\n",
    "* performance decreases (dramatically).\n",
    "\n",
    "Once agin: **The less you modify shared (i.e. non task-local) state, the better!**"
   ]
  },
  {
   "cell_type": "markdown",
   "metadata": {},
   "source": [
    "##### \"Fixed\" version"
   ]
  },
  {
   "cell_type": "code",
   "execution_count": 211,
   "metadata": {
    "tags": []
   },
   "outputs": [
    {
     "data": {
      "text/plain": [
       "sum_threads_chunks_local (generic function with 1 method)"
      ]
     },
     "execution_count": 211,
     "metadata": {},
     "output_type": "execute_result"
    }
   ],
   "source": [
    "function sum_threads_chunks_local(data; nchunks=nthreads())\n",
    "    psums = zeros(eltype(data), nchunks)\n",
    "    @threads for (c, idcs) in enumerate(chunks(data; n=nchunks))\n",
    "        local s = zero(eltype(data))\n",
    "        @simd for i in idcs\n",
    "            @inbounds s += data[i]\n",
    "        end\n",
    "        psums[c] = s\n",
    "    end\n",
    "    return sum(psums)\n",
    "end"
   ]
  },
  {
   "cell_type": "markdown",
   "metadata": {},
   "source": [
    "* each task/iteration computes a local sum (`s`) independently\n",
    "* no *frequent* non-local mutation"
   ]
  },
  {
   "cell_type": "code",
   "execution_count": 212,
   "metadata": {
    "tags": []
   },
   "outputs": [
    {
     "data": {
      "text/plain": [
       "true"
      ]
     },
     "execution_count": 212,
     "metadata": {},
     "output_type": "execute_result"
    }
   ],
   "source": [
    "sum(data) ≈ sum_threads_chunks_local(data)"
   ]
  },
  {
   "cell_type": "code",
   "execution_count": 213,
   "metadata": {
    "tags": []
   },
   "outputs": [
    {
     "name": "stdout",
     "output_type": "stream",
     "text": [
      "  729.542 μs (0 allocations: 0 bytes)\n",
      "  520.083 μs (22 allocations: 2.30 KiB)\n"
     ]
    }
   ],
   "source": [
    "@btime sum($data);\n",
    "@btime sum_threads_chunks_local($data);"
   ]
  },
  {
   "cell_type": "markdown",
   "metadata": {
    "tags": []
   },
   "source": [
    "## Additional comments"
   ]
  },
  {
   "cell_type": "markdown",
   "metadata": {
    "tags": []
   },
   "source": [
    "### Tools for multi-threading\n",
    "\n",
    "* [OhMyThreads.jl](https://github.com/JuliaFolds2/OhMyThreads.jl): Simple tools for basic multithreading.\n",
    "* [ThreadsX.jl](https://github.com/JuliaFolds2/ThreadsX.jl): Parallelized Base functions\n",
    "* [Tullio.jl](https://github.com/mcabbott/Tullio.jl): Tullio is a very flexible einsum macro ([Einstein notation](https://en.wikipedia.org/wiki/Einstein_notation))\n",
    "* [(LoopVectorization.jl)](https://github.com/JuliaSIMD/LoopVectorization.jl): Macro(s) for vectorizing loops.\n",
    "* [(FLoops.jl)](https://github.com/JuliaFolds/FLoops.jl): Fast sequential, threaded, and distributed for-loops for Julia"
   ]
  },
  {
   "cell_type": "markdown",
   "metadata": {},
   "source": [
    "### Pinning Julia threads to CPU threads/cores"
   ]
  },
  {
   "cell_type": "markdown",
   "metadata": {},
   "source": [
    "A compute node has a complex topology (two sockets, multiple memory channels/domains). Placing the Julia threads systematically on CPU-threads matters for\n",
    "\n",
    "* the computation performance of your Julia codes\n",
    "* fluctuations/noises in benchmarks\n",
    "* hardware-level performance monitoring"
   ]
  },
  {
   "cell_type": "markdown",
   "metadata": {},
   "source": [
    "#### ThreadPinning.jl\n",
    "\n",
    "<!-- <br>\n",
    "<img src=\"imgs/threadpinning_pinthreads.svg\" width=600px>\n",
    "</br> -->\n",
    "\n",
    "`pinthreads(strategy)`\n",
    "* `:cputhreads` pin to CPU threads (incl. \"hypterthreads\") one after another\n",
    "* `:cores:` pin to CPU cores one after another\n",
    "* `:numa:` round-robin between NUMA domains\n",
    "* `:sockets:` round-robin between sockets\n",
    "* `:affinitymask`: according to an external affinity mask (e.g. set by SLURM)\n",
    "\n",
    "(More? See my short talk at JuliaCon2023 @ MIT: https://youtu.be/6Whc9XtlCC0)"
   ]
  },
  {
   "cell_type": "code",
   "execution_count": 253,
   "metadata": {
    "tags": []
   },
   "outputs": [
    {
     "name": "stdout",
     "output_type": "stream",
     "text": [
      "Hostname: \tpc2macmini.fritz.box\n",
      "CPU(s): \t1 x Apple M1\n",
      "CPU target: \tapple-m1\n",
      "Cores: \t\t8 (8 CPU-threads)\n",
      "Core kinds: \t4 \"efficiency cores\", 4 \"performance cores\".\n",
      "NUMA domains: \t1 (8 cores each)\n",
      "\n",
      "\u001b[31m\u001b[1mUnsupported OS: Won't be able to highlight Julia threads.\u001b[22m\u001b[39m\n",
      "\n",
      "\u001b[32m\u001b[1mJulia threads: \t4\u001b[22m\u001b[39m\n",
      "\n",
      "\u001b[36m\u001b[1mCPU socket 1\u001b[22m\u001b[39m\n",
      "  \u001b[39m\u001b[4m0\u001b[24m,\u001b[39m\u001b[4m1\u001b[24m,\u001b[39m\u001b[4m2\u001b[24m,\u001b[39m\u001b[4m3\u001b[24m,\u001b[39m4,\u001b[39m5,\u001b[39m6,\u001b[39m7\n",
      "\n",
      "\n",
      "\u001b[33m\u001b[1m#\u001b[22m\u001b[39m = Julia thread, \u001b[31m\u001b[1m#\u001b[22m\u001b[39m = >1 Julia thread, \u001b[0m\u001b[4m#\u001b[24m = Efficiency core\n"
     ]
    }
   ],
   "source": [
    "threadinfo()"
   ]
  },
  {
   "cell_type": "code",
   "execution_count": 254,
   "metadata": {},
   "outputs": [
    {
     "name": "stdout",
     "output_type": "stream",
     "text": [
      "Hostname: \tpc2macmini.fritz.box\n",
      "CPU(s): \t1 x Apple M1\n",
      "CPU target: \tapple-m1\n",
      "Cores: \t\t8 (8 CPU-threads)\n",
      "Core kinds: \t4 \"efficiency cores\", 4 \"performance cores\".\n",
      "NUMA domains: \t1 (8 cores each)\n",
      "\n",
      "\u001b[31m\u001b[1mUnsupported OS: Won't be able to highlight Julia threads.\u001b[22m\u001b[39m\n",
      "\n",
      "\u001b[32m\u001b[1mJulia threads: \t4\u001b[22m\u001b[39m\n",
      "\n",
      "\u001b[36m\u001b[1mCPU socket 1\u001b[22m\u001b[39m\n",
      "  \u001b[39m\u001b[4m0\u001b[24m,\u001b[39m\u001b[4m1\u001b[24m,\u001b[39m\u001b[4m2\u001b[24m,\u001b[39m\u001b[4m3\u001b[24m,\u001b[39m4,\u001b[39m5,\u001b[39m6,\u001b[39m7\n",
      "\n",
      "\n",
      "\u001b[33m\u001b[1m#\u001b[22m\u001b[39m = Julia thread, \u001b[31m\u001b[1m#\u001b[22m\u001b[39m = >1 Julia thread, \u001b[0m\u001b[4m#\u001b[24m = Efficiency core\n"
     ]
    }
   ],
   "source": [
    "pinthreads(:cores)\n",
    "threadinfo()"
   ]
  },
  {
   "cell_type": "markdown",
   "metadata": {},
   "source": [
    "We'll explore the effect of thread pinning on performance in more detail later → **daxpy_cpu exercise**"
   ]
  },
  {
   "cell_type": "markdown",
   "metadata": {},
   "source": [
    "### Garbage collection\n",
    "\n",
    "If it gets triggered, it stops the world (all threads) for clearing up memory.\n",
    "\n",
    "Hence, when using multithreading, it is even more important to **avoid heap allocations!**\n",
    "\n",
    "(If you can't avoid allocations, consider using multiprocessing instead.)"
   ]
  },
  {
   "cell_type": "markdown",
   "metadata": {},
   "source": [
    "### Atomic operations and locks\n",
    "\n",
    "See [Atomic Operations](https://docs.julialang.org/en/v1/manual/multi-threading/#Atomic-Operations) and/or [Data-race freedom](https://docs.julialang.org/en/v1/manual/multi-threading/#Data-race-freedom) in the Julia doc for more information. In general, one should avoid using them as much as possible since they actually limit the parallelization by serialized executions (especially if you don't know what you're doing). That said, locks can be an effective way to use a data structures that themselves aren't thread safe, e.g. `Dict`."
   ]
  }
 ],
 "metadata": {
  "@webio": {
   "lastCommId": null,
   "lastKernelId": null
  },
  "kernelspec": {
   "display_name": "Julia (4 threads) 1.10.4",
   "language": "julia",
   "name": "julia-_4-threads_-1.10"
  },
  "language_info": {
   "file_extension": ".jl",
   "mimetype": "application/julia",
   "name": "julia",
   "version": "1.10.4"
  }
 },
 "nbformat": 4,
 "nbformat_minor": 4
}
